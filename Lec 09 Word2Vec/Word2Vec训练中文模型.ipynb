{
 "cells": [
  {
   "cell_type": "markdown",
   "metadata": {},
   "source": [
    "# Word2Vec训练中文模型"
   ]
  },
  {
   "cell_type": "markdown",
   "metadata": {},
   "source": [
    "## 1.准备数据与预处理"
   ]
  },
  {
   "cell_type": "markdown",
   "metadata": {},
   "source": [
    "首先需要一份比较大的中文语料数据，可以考虑中文的维基百科（也可以试试搜狗的新闻语料库）。中文维基百科的打包文件地址为 https://dumps.wikimedia.org/zhwiki/latest/zhwiki-latest-pages-articles.xml.bz2"
   ]
  },
  {
   "cell_type": "markdown",
   "metadata": {},
   "source": [
    "中文维基百科的数据不是太大，xml的压缩文件大约1G左右。\n",
    "\n",
    "首先用 process_wiki_data.py处理这个XML压缩文件，执行：\n",
    "> python process_wiki_data.py zhwiki-latest-pages-articles.xml.bz2 wiki.zh.text"
   ]
  },
  {
   "cell_type": "markdown",
   "metadata": {},
   "source": [
    "用jieba完成分词，生成分词文件wiki.zh.text.seg\n",
    "> python -m jieba /Users/zoe/Documents/GitHub/July-NLP/Lec\\ 09\\ Word2Vec/files/wiki.zh.text > /Users/zoe/Documents/GitHub/July-NLP/Lec\\ 09\\ Word2Vec/files/wiki.zh.text.seg\n",
    "\n",
    "接着用word2vec工具训练：    \n",
    "> python train_word2vec_model.py wiki.zh.text.seg wiki.zh.text.model wiki.zh.text.vector"
   ]
  },
  {
   "cell_type": "markdown",
   "metadata": {},
   "source": [
    "## 2.测试模型效果："
   ]
  },
  {
   "cell_type": "code",
   "execution_count": 1,
   "metadata": {},
   "outputs": [],
   "source": [
    "import gensim"
   ]
  },
  {
   "cell_type": "code",
   "execution_count": 2,
   "metadata": {},
   "outputs": [],
   "source": [
    "model = gensim.models.Word2Vec.load('./files/wiki.zh.text.model')"
   ]
  },
  {
   "cell_type": "code",
   "execution_count": 3,
   "metadata": {},
   "outputs": [
    {
     "data": {
      "text/plain": [
       "[('足球运动', 0.5982134342193604),\n",
       " ('冰球', 0.5636489987373352),\n",
       " ('排球', 0.5608409643173218),\n",
       " ('板球', 0.5432296991348267),\n",
       " ('手球', 0.5414480566978455),\n",
       " ('英超球', 0.5134667158126831),\n",
       " ('足球联赛', 0.5115091800689697),\n",
       " ('籃球', 0.5071338415145874),\n",
       " ('美式足球', 0.5016480088233948),\n",
       " ('德甲球', 0.5015369653701782)]"
      ]
     },
     "execution_count": 3,
     "metadata": {},
     "output_type": "execute_result"
    }
   ],
   "source": [
    "model.wv.most_similar('足球')"
   ]
  },
  {
   "cell_type": "code",
   "execution_count": 4,
   "metadata": {},
   "outputs": [
    {
     "data": {
      "text/plain": [
       "[('女人', 0.7860022187232971),\n",
       " ('傻瓜', 0.5513915419578552),\n",
       " ('家伙', 0.5501405000686646),\n",
       " ('女孩', 0.5029377341270447),\n",
       " ('女孩子', 0.49964481592178345),\n",
       " ('爸爸', 0.48556721210479736),\n",
       " ('老公', 0.478860080242157),\n",
       " ('小孩', 0.47839421033859253),\n",
       " ('小妹妹', 0.4783257842063904),\n",
       " ('心眼', 0.47733354568481445)]"
      ]
     },
     "execution_count": 4,
     "metadata": {},
     "output_type": "execute_result"
    }
   ],
   "source": [
    "model.wv.most_similar('男人')"
   ]
  },
  {
   "cell_type": "code",
   "execution_count": 5,
   "metadata": {},
   "outputs": [
    {
     "data": {
      "text/plain": [
       "[('男人', 0.7860022783279419),\n",
       " ('女孩', 0.5070950984954834),\n",
       " ('家伙', 0.5007292032241821),\n",
       " ('陌生人', 0.49460887908935547),\n",
       " ('傻瓜', 0.48818522691726685),\n",
       " ('基佬', 0.4780755639076233),\n",
       " ('撒嬌', 0.4745919406414032),\n",
       " ('老公', 0.46539241075515747),\n",
       " ('女明星', 0.4597305357456207),\n",
       " ('老婆', 0.458354651927948)]"
      ]
     },
     "execution_count": 5,
     "metadata": {},
     "output_type": "execute_result"
    }
   ],
   "source": [
    "model.wv.most_similar('女人')"
   ]
  },
  {
   "cell_type": "code",
   "execution_count": 6,
   "metadata": {},
   "outputs": [
    {
     "data": {
      "text/plain": [
       "[('烏龜', 0.6122806668281555),\n",
       " ('猴子', 0.6067733764648438),\n",
       " ('老鼠', 0.6040736436843872),\n",
       " ('螃蟹', 0.5925276875495911),\n",
       " ('章魚', 0.591739296913147),\n",
       " ('巫婆', 0.5903116464614868),\n",
       " ('狐狸', 0.5880568027496338),\n",
       " ('小狗', 0.5866398811340332),\n",
       " ('蟑螂', 0.5739650726318359),\n",
       " ('蚱蜢', 0.5694110989570618)]"
      ]
     },
     "execution_count": 6,
     "metadata": {},
     "output_type": "execute_result"
    }
   ],
   "source": [
    "model.wv.most_similar('青蛙')"
   ]
  },
  {
   "cell_type": "code",
   "execution_count": 7,
   "metadata": {},
   "outputs": [
    {
     "data": {
      "text/plain": [
       "[('侄媳妇', 0.6650698184967041),\n",
       " ('儿媳', 0.6523791551589966),\n",
       " ('外孙女', 0.6358482241630554),\n",
       " ('师兄', 0.6333339214324951),\n",
       " ('伯婆', 0.6228511333465576),\n",
       " ('姑夫', 0.6187611818313599),\n",
       " ('二女儿', 0.6163100600242615),\n",
       " ('郭伊助', 0.6098355054855347),\n",
       " ('嫫', 0.6084852814674377),\n",
       " ('孙女', 0.6060229539871216)]"
      ]
     },
     "execution_count": 7,
     "metadata": {},
     "output_type": "execute_result"
    }
   ],
   "source": [
    "model.wv.most_similar('姨夫')"
   ]
  },
  {
   "cell_type": "code",
   "execution_count": 9,
   "metadata": {},
   "outputs": [
    {
     "data": {
      "text/plain": [
       "[('鞋子', 0.7649213671684265),\n",
       " ('衣物', 0.7573763728141785),\n",
       " ('裙子', 0.7024389505386353),\n",
       " ('大衣', 0.6892093420028687),\n",
       " ('外套', 0.6809908151626587),\n",
       " ('外衣', 0.6697770357131958),\n",
       " ('上衣', 0.6558798551559448),\n",
       " ('內褲', 0.6488358378410339),\n",
       " ('褲子', 0.6458038687705994),\n",
       " ('穿着', 0.6456842422485352)]"
      ]
     },
     "execution_count": 9,
     "metadata": {},
     "output_type": "execute_result"
    }
   ],
   "source": [
    "model.wv.most_similar('衣服')"
   ]
  },
  {
   "cell_type": "code",
   "execution_count": 10,
   "metadata": {},
   "outputs": [
    {
     "data": {
      "text/plain": [
       "[('检察院', 0.7569843530654907),\n",
       " ('纪委', 0.7540599703788757),\n",
       " ('北京市公安局', 0.7502676248550415),\n",
       " ('公安机关', 0.7441784143447876),\n",
       " ('公安分局', 0.7345539331436157),\n",
       " ('财政局', 0.7250583171844482),\n",
       " ('工商局', 0.7201695442199707),\n",
       " ('公安厅', 0.719853937625885),\n",
       " ('司法局', 0.7191680669784546),\n",
       " ('县公安局', 0.7026969790458679)]"
      ]
     },
     "execution_count": 10,
     "metadata": {},
     "output_type": "execute_result"
    }
   ],
   "source": [
    "model.wv.most_similar('公安局')"
   ]
  },
  {
   "cell_type": "code",
   "execution_count": 11,
   "metadata": {},
   "outputs": [
    {
     "data": {
      "text/plain": [
       "[('中国铁道部', 0.779641330242157),\n",
       " ('国家计委', 0.7638068199157715),\n",
       " ('北京市政府', 0.7401143312454224),\n",
       " ('北京市人民政府', 0.6928790807723999),\n",
       " ('柳州铁路局', 0.6867716312408447),\n",
       " ('国家经委', 0.6844226121902466),\n",
       " ('国家教委', 0.6718689203262329),\n",
       " ('批复', 0.6703631281852722),\n",
       " ('广深铁路', 0.6619844436645508),\n",
       " ('国家文物局', 0.6578491926193237)]"
      ]
     },
     "execution_count": 11,
     "metadata": {},
     "output_type": "execute_result"
    }
   ],
   "source": [
    "model.wv.most_similar('铁道部')"
   ]
  },
  {
   "cell_type": "code",
   "execution_count": 12,
   "metadata": {},
   "outputs": [
    {
     "data": {
      "text/plain": [
       "[('北京大学', 0.8454896211624146),\n",
       " ('复旦大学', 0.7984063625335693),\n",
       " ('中国人民大学', 0.7835922241210938),\n",
       " ('武汉大学', 0.7804229259490967),\n",
       " ('同济大学', 0.7738265991210938),\n",
       " ('北京师范大学', 0.7696689367294312),\n",
       " ('南开大学', 0.7650592923164368),\n",
       " ('南京大学', 0.7648913264274597),\n",
       " ('天津大学', 0.7628638744354248),\n",
       " ('浙江大学', 0.7626370191574097)]"
      ]
     },
     "execution_count": 12,
     "metadata": {},
     "output_type": "execute_result"
    }
   ],
   "source": [
    "model.wv.most_similar('清华大学')"
   ]
  },
  {
   "cell_type": "code",
   "execution_count": 13,
   "metadata": {},
   "outputs": [
    {
     "data": {
      "text/plain": [
       "[('衛視', 0.6956472992897034),\n",
       " ('湖南卫视', 0.6864842176437378),\n",
       " ('经视', 0.6304373741149902),\n",
       " ('影视频道', 0.6157732605934143),\n",
       " ('上檔', 0.6006176471710205),\n",
       " ('爱奇艺', 0.5971043705940247),\n",
       " ('金鹰', 0.5911879539489746),\n",
       " ('江蘇衛視', 0.5899255275726318),\n",
       " ('黄金档', 0.583237886428833),\n",
       " ('电影频道', 0.5815383791923523)]"
      ]
     },
     "execution_count": 13,
     "metadata": {},
     "output_type": "execute_result"
    }
   ],
   "source": [
    "model.wv.most_similar('卫视')"
   ]
  },
  {
   "cell_type": "code",
   "execution_count": 14,
   "metadata": {},
   "outputs": [
    {
     "data": {
      "text/plain": [
       "[('江泽民', 0.8337889313697815),\n",
       " ('胡锦涛', 0.8161196708679199),\n",
       " ('邓小平', 0.7476147413253784),\n",
       " ('温家宝', 0.7406492233276367),\n",
       " ('赵紫阳', 0.7238784432411194),\n",
       " ('朱镕基', 0.7178268432617188),\n",
       " ('胡耀邦', 0.7143329381942749),\n",
       " ('李克强', 0.7042862772941589),\n",
       " ('华国锋', 0.703812301158905),\n",
       " ('王岐山', 0.7010064125061035)]"
      ]
     },
     "execution_count": 14,
     "metadata": {},
     "output_type": "execute_result"
    }
   ],
   "source": [
    "model.wv.most_similar('习近平')"
   ]
  },
  {
   "cell_type": "code",
   "execution_count": 15,
   "metadata": {},
   "outputs": [
    {
     "data": {
      "text/plain": [
       "[('谌龙', 0.8853179216384888),\n",
       " ('傅海峰', 0.875369131565094),\n",
       " ('李宗伟', 0.8690844178199768),\n",
       " ('鲍春来', 0.8685038089752197),\n",
       " ('陈金', 0.8660693168640137),\n",
       " ('谢杏芳', 0.8643622994422913),\n",
       " ('李雪芮', 0.8565813302993774),\n",
       " ('张楠', 0.8555790185928345),\n",
       " ('徐晨', 0.851974368095398),\n",
       " ('蔡赟', 0.8502441048622131)]"
      ]
     },
     "execution_count": 15,
     "metadata": {},
     "output_type": "execute_result"
    }
   ],
   "source": [
    "model.wv.most_similar('林丹')"
   ]
  },
  {
   "cell_type": "code",
   "execution_count": 16,
   "metadata": {},
   "outputs": [
    {
     "data": {
      "text/plain": [
       "[('文字学', 0.7880354523658752),\n",
       " ('语音学', 0.7806053161621094),\n",
       " ('逻辑学', 0.7591598629951477),\n",
       " ('语义学', 0.7557202577590942),\n",
       " ('历史学', 0.7536841630935669),\n",
       " ('修辞学', 0.7435493469238281),\n",
       " ('音韵学', 0.7357654571533203),\n",
       " ('人类学', 0.7328830361366272),\n",
       " ('社会学', 0.7232593894004822),\n",
       " ('方法论', 0.7215195894241333)]"
      ]
     },
     "execution_count": 16,
     "metadata": {},
     "output_type": "execute_result"
    }
   ],
   "source": [
    "model.wv.most_similar('语言学')"
   ]
  },
  {
   "cell_type": "code",
   "execution_count": 17,
   "metadata": {},
   "outputs": [
    {
     "data": {
      "text/plain": [
       "[('电脑', 0.7502233386039734),\n",
       " ('电子计算机', 0.7116537094116211),\n",
       " ('图像处理', 0.6950002312660217),\n",
       " ('计算机网络', 0.68513023853302),\n",
       " ('图形学', 0.683332622051239),\n",
       " ('计算器', 0.6828181743621826),\n",
       " ('信号处理', 0.6819606423377991),\n",
       " ('集成电路', 0.677963376045227),\n",
       " ('超级计算机', 0.659066379070282),\n",
       " ('计算机技术', 0.6519860625267029)]"
      ]
     },
     "execution_count": 17,
     "metadata": {},
     "output_type": "execute_result"
    }
   ],
   "source": [
    "model.wv.most_similar('计算机')"
   ]
  },
  {
   "cell_type": "code",
   "execution_count": 18,
   "metadata": {},
   "outputs": [
    {
     "data": {
      "text/plain": [
       "0.6177578890463322"
      ]
     },
     "execution_count": 18,
     "metadata": {},
     "output_type": "execute_result"
    }
   ],
   "source": [
    "model.wv.similarity('计算机','自动化')"
   ]
  },
  {
   "cell_type": "code",
   "execution_count": 19,
   "metadata": {},
   "outputs": [
    {
     "data": {
      "text/plain": [
       "0.7860021825853618"
      ]
     },
     "execution_count": 19,
     "metadata": {},
     "output_type": "execute_result"
    }
   ],
   "source": [
    "model.wv.similarity('女人','男人')"
   ]
  },
  {
   "cell_type": "code",
   "execution_count": 21,
   "metadata": {},
   "outputs": [
    {
     "data": {
      "text/plain": [
       "'中心'"
      ]
     },
     "execution_count": 21,
     "metadata": {},
     "output_type": "execute_result"
    }
   ],
   "source": [
    "model.wv.doesnt_match('早餐 晚餐 午餐 中心'.split())"
   ]
  },
  {
   "cell_type": "markdown",
   "metadata": {},
   "source": [
    "---"
   ]
  },
  {
   "cell_type": "markdown",
   "metadata": {},
   "source": [
    "## 3.总结"
   ]
  },
  {
   "cell_type": "markdown",
   "metadata": {},
   "source": [
    "word2vec模型的三种常见应用：\n",
    "- model.wv.most_similar('w1')  查看最相近的词汇\n",
    "- model.wv.similarity('w1','w2')   查看两个词之间的相似程度\n",
    "- model.wv.doesnt_match('w1 w2 w3'.split())  查看一组词中不符合一组的词"
   ]
  },
  {
   "cell_type": "markdown",
   "metadata": {},
   "source": [
    "#### 读取xml文件，写成txt文件脚本的实际步骤\n",
    "\n",
    "注意，不要执行，仅供查看。"
   ]
  },
  {
   "cell_type": "code",
   "execution_count": 23,
   "metadata": {},
   "outputs": [],
   "source": [
    "\n",
    "from gensim.corpora import WikiCorpus\n",
    "\n",
    "wiki = WikiCorpus('zhwiki-latest-pages-articles.xml.bz2', lemmatize=False, dictionary={})\n",
    "\n",
    "output = WikiCorpus('wiki.zh.text', 'w')\n",
    "for text in wiki.get_texts():\n",
    "    output.write(' '.join(text) + '\\n')\n",
    "\n",
    "output.close()"
   ]
  },
  {
   "cell_type": "markdown",
   "metadata": {},
   "source": [
    "#### jieba命令行分词"
   ]
  },
  {
   "cell_type": "markdown",
   "metadata": {},
   "source": [
    "> python -m jieba /Users/zoe/Documents/GitHub/July-NLP/Lec\\ 09\\ Word2Vec/files/wiki.zh.text > /Users/zoe/Documents/GitHub/July-NLP/Lec\\ 09\\ Word2Vec/files/wiki.zh.text.seg"
   ]
  },
  {
   "cell_type": "markdown",
   "metadata": {},
   "source": [
    "#### word2vec模型训练，读取wiki.zh.text.seg文件"
   ]
  },
  {
   "cell_type": "code",
   "execution_count": 24,
   "metadata": {},
   "outputs": [],
   "source": [
    "from gensim.corpora import WikiCorpus\n",
    "from gensim.models import Word2Vec\n",
    "from gensim.models.word2vec import LineSentence"
   ]
  },
  {
   "cell_type": "code",
   "execution_count": null,
   "metadata": {},
   "outputs": [],
   "source": [
    "model = Word2Vec(LineSentence('wiki.zh.text.seg'), size=400, window=5, min_count=5, \n",
    "                 workers=multiprocessing.cpu_count())\n",
    "\n",
    "model.save('wiki.zh.text.model')\n",
    "model.wv.save_word2vec_format('wiki.zh.text.model.vector')\n"
   ]
  },
  {
   "cell_type": "markdown",
   "metadata": {},
   "source": []
  }
 ],
 "metadata": {
  "kernelspec": {
   "display_name": "Python 3",
   "language": "python",
   "name": "python3"
  },
  "language_info": {
   "codemirror_mode": {
    "name": "ipython",
    "version": 3
   },
   "file_extension": ".py",
   "mimetype": "text/x-python",
   "name": "python",
   "nbconvert_exporter": "python",
   "pygments_lexer": "ipython3",
   "version": "3.6.5"
  }
 },
 "nbformat": 4,
 "nbformat_minor": 2
}
