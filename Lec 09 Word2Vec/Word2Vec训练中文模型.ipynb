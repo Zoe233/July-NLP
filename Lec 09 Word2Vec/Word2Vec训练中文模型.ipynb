{
 "cells": [
  {
   "cell_type": "markdown",
   "metadata": {},
   "source": [
    "# Word2Vec训练中文模型"
   ]
  },
  {
   "cell_type": "markdown",
   "metadata": {},
   "source": [
    "## 1.准备数据与预处理"
   ]
  },
  {
   "cell_type": "markdown",
   "metadata": {},
   "source": [
    "首先需要一份比较大的中文语料数据，可以考虑中文的维基百科（也可以试试搜狗的新闻语料库）。中文维基百科的打包文件地址为 https://dumps.wikimedia.org/zhwiki/latest/zhwiki-latest-pages-articles.xml.bz2"
   ]
  },
  {
   "cell_type": "markdown",
   "metadata": {},
   "source": [
    "中文维基百科的数据不是太大，xml的压缩文件大约1G左右。\n",
    "\n",
    "首先用 process_wiki_data.py处理这个XML压缩文件，执行：\n",
    "> python process_wiki_data.py zhwiki-latest-pages-articles.xml.bz2 wiki.zh.text"
   ]
  },
  {
   "cell_type": "markdown",
   "metadata": {},
   "source": [
    "用jieba完成分词，生成分词文件wiki.zh.text.seg\n",
    "> python -m jieba /Users/zoe/Documents/GitHub/July-NLP/Lec\\ 09\\ Word2Vec/files/wiki.zh.text > /Users/zoe/Documents/GitHub/July-NLP/Lec\\ 09\\ Word2Vec/files/wiki.zh.text.seg\n",
    "\n",
    "接着用word2vec工具训练：    \n",
    "> python train_word2vec_model.py wiki.zh.text.seg wiki.zh.text.model wiki.zh.text.vector"
   ]
  },
  {
   "cell_type": "markdown",
   "metadata": {},
   "source": [
    "测试模型效果："
   ]
  },
  {
   "cell_type": "code",
   "execution_count": 1,
   "metadata": {},
   "outputs": [],
   "source": [
    "import gensim"
   ]
  },
  {
   "cell_type": "code",
   "execution_count": 4,
   "metadata": {},
   "outputs": [],
   "source": [
    "model = gensim.models.Word2Vec.load('./files/wiki.zh.text.model')"
   ]
  },
  {
   "cell_type": "code",
   "execution_count": 6,
   "metadata": {},
   "outputs": [
    {
     "data": {
      "text/plain": [
       "[('足球运动', 0.6057873964309692),\n",
       " ('排球', 0.5661609172821045),\n",
       " ('冰球', 0.561397135257721),\n",
       " ('手球', 0.5506094098091125),\n",
       " ('板球', 0.5369282960891724),\n",
       " ('籃球', 0.5351832509040833),\n",
       " ('英超球', 0.5236208438873291),\n",
       " ('足球联赛', 0.5168726444244385),\n",
       " ('美式足球', 0.5121582746505737),\n",
       " ('德甲球', 0.5040589570999146)]"
      ]
     },
     "execution_count": 6,
     "metadata": {},
     "output_type": "execute_result"
    }
   ],
   "source": [
    "model.wv.most_similar('足球')"
   ]
  },
  {
   "cell_type": "code",
   "execution_count": 7,
   "metadata": {},
   "outputs": [
    {
     "name": "stdout",
     "output_type": "stream",
     "text": [
      "足球运动 0.6057873964309692\n",
      "排球 0.5661609172821045\n",
      "冰球 0.561397135257721\n",
      "手球 0.5506094098091125\n",
      "板球 0.5369282960891724\n",
      "籃球 0.5351832509040833\n",
      "英超球 0.5236208438873291\n",
      "足球联赛 0.5168726444244385\n",
      "美式足球 0.5121582746505737\n",
      "德甲球 0.5040589570999146\n"
     ]
    }
   ],
   "source": [
    "result = model.wv.most_similar('足球')\n",
    "\n",
    "for i in result:\n",
    "    print(i[0], i[1])"
   ]
  },
  {
   "cell_type": "code",
   "execution_count": 8,
   "metadata": {},
   "outputs": [
    {
     "data": {
      "text/plain": [
       "[('女人', 0.7781894207000732),\n",
       " ('傻瓜', 0.5578081607818604),\n",
       " ('家伙', 0.5465435981750488),\n",
       " ('女孩', 0.4990830421447754),\n",
       " ('小孩子', 0.4922296702861786),\n",
       " ('男孩', 0.49065494537353516),\n",
       " ('女孩子', 0.4853995442390442),\n",
       " ('撒嬌', 0.47997456789016724),\n",
       " ('孩子', 0.4786471128463745),\n",
       " ('小孩', 0.478280246257782)]"
      ]
     },
     "execution_count": 8,
     "metadata": {},
     "output_type": "execute_result"
    }
   ],
   "source": [
    "model.wv.most_similar('男人')"
   ]
  },
  {
   "cell_type": "code",
   "execution_count": 9,
   "metadata": {},
   "outputs": [
    {
     "data": {
      "text/plain": [
       "[('男人', 0.7781894207000732),\n",
       " ('家伙', 0.5114428997039795),\n",
       " ('陌生人', 0.49903470277786255),\n",
       " ('撒嬌', 0.4969654083251953),\n",
       " ('傻瓜', 0.49369895458221436),\n",
       " ('女孩', 0.4751523435115814),\n",
       " ('富家女', 0.47468239068984985),\n",
       " ('老公', 0.46486902236938477),\n",
       " ('女明星', 0.46283864974975586),\n",
       " ('孩子', 0.46007901430130005)]"
      ]
     },
     "execution_count": 9,
     "metadata": {},
     "output_type": "execute_result"
    }
   ],
   "source": [
    "model.wv.most_similar('女人')"
   ]
  },
  {
   "cell_type": "code",
   "execution_count": 10,
   "metadata": {},
   "outputs": [
    {
     "data": {
      "text/plain": [
       "[('螃蟹', 0.6338488459587097),\n",
       " ('烏龜', 0.6190999150276184),\n",
       " ('老鼠', 0.6152533292770386),\n",
       " ('小狗', 0.6136671304702759),\n",
       " ('蚱蜢', 0.6121391654014587),\n",
       " ('巫婆', 0.6065689325332642),\n",
       " ('蟑螂', 0.6058346033096313),\n",
       " ('猴子', 0.6033159494400024),\n",
       " ('狐狸', 0.6013343334197998),\n",
       " ('兔子', 0.5972785949707031)]"
      ]
     },
     "execution_count": 10,
     "metadata": {},
     "output_type": "execute_result"
    }
   ],
   "source": [
    "model.wv.most_similar('青蛙')"
   ]
  },
  {
   "cell_type": "code",
   "execution_count": 11,
   "metadata": {},
   "outputs": [
    {
     "data": {
      "text/plain": [
       "[('侄媳妇', 0.68800288438797),\n",
       " ('伯婆', 0.6690514087677002),\n",
       " ('易连恺', 0.6388157606124878),\n",
       " ('儿媳', 0.6386760473251343),\n",
       " ('易连怡', 0.6338592767715454),\n",
       " ('养弟', 0.6333984732627869),\n",
       " ('干妈', 0.632378339767456),\n",
       " ('师兄', 0.6305105686187744),\n",
       " ('姑夫', 0.628511905670166),\n",
       " ('儿媳妇', 0.6273949146270752)]"
      ]
     },
     "execution_count": 11,
     "metadata": {},
     "output_type": "execute_result"
    }
   ],
   "source": [
    "model.wv.most_similar('姨夫')"
   ]
  },
  {
   "cell_type": "code",
   "execution_count": null,
   "metadata": {},
   "outputs": [],
   "source": []
  },
  {
   "cell_type": "markdown",
   "metadata": {},
   "source": []
  },
  {
   "cell_type": "markdown",
   "metadata": {},
   "source": []
  },
  {
   "cell_type": "markdown",
   "metadata": {},
   "source": []
  },
  {
   "cell_type": "markdown",
   "metadata": {},
   "source": []
  },
  {
   "cell_type": "markdown",
   "metadata": {},
   "source": []
  },
  {
   "cell_type": "markdown",
   "metadata": {},
   "source": []
  },
  {
   "cell_type": "markdown",
   "metadata": {},
   "source": []
  },
  {
   "cell_type": "markdown",
   "metadata": {},
   "source": []
  }
 ],
 "metadata": {
  "kernelspec": {
   "display_name": "Python 3",
   "language": "python",
   "name": "python3"
  },
  "language_info": {
   "codemirror_mode": {
    "name": "ipython",
    "version": 3
   },
   "file_extension": ".py",
   "mimetype": "text/x-python",
   "name": "python",
   "nbconvert_exporter": "python",
   "pygments_lexer": "ipython3",
   "version": "3.6.5"
  }
 },
 "nbformat": 4,
 "nbformat_minor": 2
}
