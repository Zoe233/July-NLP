{
 "cells": [
  {
   "cell_type": "markdown",
   "metadata": {},
   "source": [
    "# Word2Vec应用案例 "
   ]
  },
  {
   "cell_type": "markdown",
   "metadata": {},
   "source": [
    "Word2Vec的思想：通过训练将每个词映射成K维的实数特征向量，这样一来，词与词之间的相似度就可以用余弦距离或者欧式距离来衡量了，相比传统的one-hot，进一步挖掘了文本的更深层的含义。\n",
    "\n",
    "通过利用Word2Vec的思想，还能处理更多的内容。"
   ]
  },
  {
   "cell_type": "markdown",
   "metadata": {},
   "source": [
    "在神经网络火热以前，很多NLP的工作都是基于统计的基础在做，如：SMT等。"
   ]
  },
  {
   "cell_type": "markdown",
   "metadata": {},
   "source": [
    "## 1. 文本情感分析（英文和中文）"
   ]
  },
  {
   "cell_type": "markdown",
   "metadata": {},
   "source": [
    "<img src='./images/sentiment01.png' width='70%'/>"
   ]
  },
  {
   "cell_type": "markdown",
   "metadata": {},
   "source": [
    "<img src='./images/sentiment02.png' width='70%'/>"
   ]
  },
  {
   "cell_type": "markdown",
   "metadata": {},
   "source": [
    "1. 基本的文本预处理技术（网页解析，文本抽取，正则表达式等）\n",
    "2. word2vec词向量编码与机器学习建模情感分析\n",
    "3. 深度学习方面的探索，我们用几种方法来使用Word2Vec，而不是一个规定的使用方式。"
   ]
  },
  {
   "cell_type": "markdown",
   "metadata": {},
   "source": [
    "<img src='./images/sentiment03.png' width='70%'/>"
   ]
  },
  {
   "cell_type": "markdown",
   "metadata": {},
   "source": [
    "可以unlabeledTrainData和labeledTrainData用来作为Word2Vec的训练;    \n",
    "用labeledTrainData来做分类器的监督训练。"
   ]
  },
  {
   "cell_type": "markdown",
   "metadata": {},
   "source": [
    "---"
   ]
  },
  {
   "cell_type": "markdown",
   "metadata": {},
   "source": [
    "<h2><a href='./kaggle_movie_sentiment/movie_sentiment.ipynb'>语料处理与模型建构过程</a></h2>"
   ]
  },
  {
   "cell_type": "markdown",
   "metadata": {},
   "source": [
    "- bag of words的构建\n",
    "- word2vec的构建\n",
    "- kmeans聚类的词向量构建"
   ]
  },
  {
   "cell_type": "markdown",
   "metadata": {},
   "source": [
    "---"
   ]
  },
  {
   "cell_type": "markdown",
   "metadata": {},
   "source": [
    "<h2><a href='./chinese_sentiment_analysis/chinese_sentiment_analysis.ipynb'>中文情感分析</a></h2>"
   ]
  },
  {
   "cell_type": "markdown",
   "metadata": {},
   "source": [
    "<img src='./images/sentiment04.png' width='80%'/>"
   ]
  },
  {
   "cell_type": "markdown",
   "metadata": {},
   "source": [
    "有兴趣，可以试试gensim的doc2vec，同时使用LSTM神经网络分类；\n",
    "效果会比SVM更好"
   ]
  },
  {
   "cell_type": "markdown",
   "metadata": {},
   "source": [
    "---"
   ]
  },
  {
   "cell_type": "markdown",
   "metadata": {},
   "source": [
    "<h2><a href=''>2. 文本之外的应用：如何在亚马逊的用户行为和评论数据上构建推荐系统</a></h2>"
   ]
  },
  {
   "cell_type": "markdown",
   "metadata": {},
   "source": [
    "经典的推荐系统算法使用是“协同过滤”，在电商上面的表现非常强。但是有个问题是，个人的用户行为数据是比较有限的，所以无法对这些无法采集到的个人信息和相关的产品做出关联。\n",
    "\n",
    "word2vec：   \n",
    "浏览路径，序列化。   \n",
    "如用户A的某个商品的浏览序列：a b d g h c；   \n",
    "用户B的某个商品的浏览序列：a d b c m；   \n",
    "将这些商品的浏览序列变成300维的向量。    \n",
    "把这些商品的浏览序列，看作一句话，扔到word2vec中去训练。   \n",
    "\n",
    "这个的结果要比协同过滤召回recall的结果要多。   \n",
    "因为每个商品的300维的向量，只是对商品的距离做计算，后续做ranking，相似度之间的阈值是不清楚的，所以获得的结果一定是比协同过滤要多的。"
   ]
  },
  {
   "cell_type": "markdown",
   "metadata": {},
   "source": [
    "### 怎么同时使用浏览和评论数据？\n",
    "<img src='./images/sentiment05.png' width='90%'/>"
   ]
  },
  {
   "cell_type": "markdown",
   "metadata": {},
   "source": [
    "### 同时使用用户浏览行为和评论数据？\n",
    "<img src='./images/sentiment06.png' width='90%'/>"
   ]
  },
  {
   "cell_type": "markdown",
   "metadata": {},
   "source": [
    "构建推荐系统的代码见标题链接。"
   ]
  },
  {
   "cell_type": "markdown",
   "metadata": {},
   "source": [
    "<img src='./images/sentiment07.png' width='90%'/>"
   ]
  },
  {
   "cell_type": "markdown",
   "metadata": {},
   "source": [
    "2016年的india的pycon会议上基础亚马逊的购物数据的推荐系统。"
   ]
  },
  {
   "cell_type": "markdown",
   "metadata": {},
   "source": [
    "### Contextual word embeddings for recommender systems\n",
    "#### GitHub: https://github.com/manasRK/word2vec-recommender"
   ]
  },
  {
   "cell_type": "markdown",
   "metadata": {},
   "source": [
    "#### Goal:  To showcase a methodology to create recommendations using contextual word embeddings\n",
    "#### 目标：基于上下文的词嵌入展示推荐系统的解决方案"
   ]
  },
  {
   "cell_type": "markdown",
   "metadata": {},
   "source": [
    "#### SECRET GOAL: To show that hypothesis/experimental tinkering can lead to real business impact + open source experiments!"
   ]
  },
  {
   "cell_type": "markdown",
   "metadata": {},
   "source": [
    "#### Word2Vec - famous outcomes\n",
    "<img src='./images/recommender01.png' width='90%'/>"
   ]
  },
  {
   "cell_type": "markdown",
   "metadata": {},
   "source": [
    "**word representations: word2vec is not deep learning:**   \n",
    "\n",
    "The whole idea behind word2vec is to demonstrate that **you can get better word representations if you trade the model's complexity for efficiency**, i.e. the ability to learn from much bigger datasets.\n",
    "\n",
    "$$\"A\\ word\\ is\\ know\\ by\\ the\\ company\\ it\\ keeps\"$$"
   ]
  },
  {
   "cell_type": "markdown",
   "metadata": {},
   "source": [
    "**intuition for word2vec: word2vec is a shallow word embedding model.**\n",
    "\n",
    "\n",
    "\n",
    "STEPS: \n",
    "    1. Create word IDs-0 to length of the vocab in the corpus\n",
    "    2. IDs are mapped into vector space, taking their distributional properties into account\n",
    "    3. Training is online-one example at a time\n",
    "    4. Target for CBOW and SKIP respectively - predict the target word(w), given the context (c) i.e. P(w|c) OR predict the context, give the word i.e. P(c|w)\n",
    "    \n",
    "**Thumb Rule:** More data, use SKIP. Less data，use CBOW    \n",
    "数据量大用SKIP-Gram， 数据量不大则用CBOW \n",
    "\n",
    "\n",
    "Or not, decide depending on your experiments. Conflicting views do exist."
   ]
  },
  {
   "cell_type": "markdown",
   "metadata": {},
   "source": [
    "**recommendations can be broken, well sometimes !**\n",
    "\n",
    "<img src='./images/recommender02.png' width='80%'/>"
   ]
  },
  {
   "cell_type": "markdown",
   "metadata": {},
   "source": [
    "**motivations:**  \n",
    "\n",
    "Word representations took the world by storm when it was introduced by Google.   \n",
    "Numerous papers have been written after that in the domain of topic modeling, sentiment analysis and social media user profiling.  \n",
    "\n",
    "This is our attempt to propose and demonstrate a framework that's more rounded and preserves context while generating recommendations."
   ]
  },
  {
   "cell_type": "markdown",
   "metadata": {},
   "source": [
    "**data:**  \n",
    "Amazon Reviews and user browing history for more than 18 years, contains product reviews and metadata from Amazon, including 142.8 million reviews spanning May 1996-July 2014.\n",
    "\n",
    "Digital Music Reviews- 800K+ 评论数据\n",
    "\n",
    "User Browsing History: 9.4 M records  用户浏览数据"
   ]
  },
  {
   "cell_type": "markdown",
   "metadata": {},
   "source": [
    "**models:**  \n",
    "\n",
    "META MODEL:    \n",
    "Created with the user browing history. This contains more than 9.4 million product histories. The attempt is to mimic and improve upon existing product-product systems.\n",
    "\n",
    "USER REVIEW MODEL:   \n",
    "Currently many food reviews or travel sites don't allow us to search on 'context'. This model intakes reviews and attempts to create a framework for a 'contextual search engine'.  \n"
   ]
  },
  {
   "cell_type": "markdown",
   "metadata": {},
   "source": [
    "<img src='./images/recommender03.png' width='90%'/>"
   ]
  },
  {
   "cell_type": "markdown",
   "metadata": {},
   "source": [
    "<img src='./images/recommender04.png' width='90%'/>"
   ]
  },
  {
   "cell_type": "markdown",
   "metadata": {},
   "source": [
    "<img src='./images/recommender05.png' width='90%'/>"
   ]
  },
  {
   "cell_type": "markdown",
   "metadata": {},
   "source": [
    "<img src='./images/recommender06.png' width='90%'/>"
   ]
  },
  {
   "cell_type": "markdown",
   "metadata": {},
   "source": [
    "**in action:**  \n",
    "- Ariticle/product titles re-writes for better SEO\n",
    "- Compact text features during ML- WIP\n",
    "- Validate and refine ontologies for domains\n",
    "- SKU reorganization and genre validation\n",
    "- Sentiment Analysis, with Sentiwordnet\n",
    "- Recommendation engine for Indian resturants"
   ]
  },
  {
   "cell_type": "markdown",
   "metadata": {},
   "source": [
    "**what could we done better:**  \n",
    "- Better processing using DBpedia - currently relies on a NNP parser only\n",
    "- Investigating 'rogue' results and experimenting with more hyper-parameters\n",
    "- Mixing metadata and user reviews into one\n",
    "- Developing metrics and automated techniques for measuring performance"
   ]
  },
  {
   "cell_type": "markdown",
   "metadata": {},
   "source": []
  }
 ],
 "metadata": {
  "kernelspec": {
   "display_name": "Python 3",
   "language": "python",
   "name": "python3"
  },
  "language_info": {
   "codemirror_mode": {
    "name": "ipython",
    "version": 3
   },
   "file_extension": ".py",
   "mimetype": "text/x-python",
   "name": "python",
   "nbconvert_exporter": "python",
   "pygments_lexer": "ipython3",
   "version": "3.6.5"
  }
 },
 "nbformat": 4,
 "nbformat_minor": 2
}
