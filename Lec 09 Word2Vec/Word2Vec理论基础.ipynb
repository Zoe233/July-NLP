{
 "cells": [
  {
   "cell_type": "markdown",
   "metadata": {},
   "source": [
    "# Word2Vec理论基础：词向量到Word2Vec与相关应用"
   ]
  },
  {
   "cell_type": "markdown",
   "metadata": {},
   "source": [
    "## 目录：\n",
    "- <a href='#common_tasks'>1. NLP常见任务</a>\n",
    "- <a href='#methods'>2. NLP处理方法</a>\n",
    "    - <a href='#encoding_similarity'>2.1 词编码需要保证词的相似性</a>\n",
    "\n",
    "\n",
    "\n",
    "\n",
    "<a href='#common_tasks'>1. NLP常见任务</a><a href='#common_tasks'>1. NLP常见任务</a><a href='#common_tasks'>1. NLP常见任务</a><a href='#common_tasks'>1. NLP常见任务</a><a href='#common_tasks'>1. NLP常见任务</a><a href='#common_tasks'>1. NLP常见任务</a><a href='#common_tasks'>1. NLP常见任务</a><a href='#common_tasks'>1. NLP常见任务</a><a href='#common_tasks'>1. NLP常见任务</a><a href='#common_tasks'>1. NLP常见任务</a><a href='#common_tasks'>1. NLP常见任务</a><a href='#common_tasks'>1. NLP常见任务</a><a href='#common_tasks'>1. NLP常见任务</a><a href='#common_tasks'>1. NLP常见任务</a>"
   ]
  },
  {
   "cell_type": "markdown",
   "metadata": {},
   "source": [
    "<h2><a name='common_tasks'>1.NLP常见任务</a></h2>\n",
    "- 自动摘要：百度等搜索引擎，都会做**自动摘要**，获取关键字。\n",
    "- 指代消解：“小明放学了，妈妈去接他”，这个“他”指的是谁。\n",
    "- 机器翻译：小心地滑 ==> Slide carefully\n",
    "- 词性标注：heat(v.) water(n.) in(p.) a(det.) pot(n.)\n",
    "- 分词（中文，日文等）：大水沟/很/难/过\n",
    "- 主题识别\n",
    "- 文本分类：新闻内容自动分类"
   ]
  },
  {
   "cell_type": "markdown",
   "metadata": {},
   "source": [
    "<h2><a name='methods'>2. NLP处理方法</a></h2>\n",
    "- 传统：基于规则\n",
    "    - 国内工业界大厂主要是有大的Dict，可用性很强。\n",
    "- 现代：基于统计机器学习\n",
    "    - HMM, CRF, SVM, LDA, CNN\n",
    "    - “规则”隐含在模型参数里"
   ]
  },
  {
   "cell_type": "markdown",
   "metadata": {},
   "source": [
    "<h3><a name='encoding_similarity'>2.1 词编码需要保证词的相似性</a></h3>\n",
    "Nearest words to **frog**:\n",
    "    1. frogs\n",
    "    2. toad\n",
    "    3. litoria\n",
    "    4. leptodactylidae\n",
    "    5. rana\n",
    "    6. lizard\n",
    "    7. eleutherodactylus"
   ]
  },
  {
   "cell_type": "markdown",
   "metadata": {},
   "source": [
    "<img src='./images/wv01.png' width='50%'/>"
   ]
  },
  {
   "cell_type": "markdown",
   "metadata": {},
   "source": [
    "## 简单 词/短语 翻译\n",
    "\n",
    "<img src='./images/wv02.png' width='80%'/>"
   ]
  },
  {
   "cell_type": "markdown",
   "metadata": {},
   "source": [
    "## 向量空间子结构：\n",
    "$$V_{King}-V_{Queen}+V_{Women}=V_{Man}$$\n",
    "$$V_{Paris}-V_{France}+V_{German}=V_{Berlin}$$"
   ]
  },
  {
   "cell_type": "markdown",
   "metadata": {},
   "source": [
    "**最终目标：词向量表示作为机器学习，特别是深度学习的输入和表示空间。**"
   ]
  },
  {
   "cell_type": "markdown",
   "metadata": {},
   "source": [
    "### 在计算机中表示一个词\n",
    "<img src='./images/wv03.png' width='70%'/>"
   ]
  },
  {
   "cell_type": "markdown",
   "metadata": {},
   "source": [
    "## 离散表示：One-hot 表示\n",
    "语料库：   \n",
    "John likes to watch movies. Mary likes too.    \n",
    "John also likes to watch football games.\n",
    "\n",
    "词典：   \n",
    "{'John':1, 'likes':2, 'to':3, 'watch':4, 'movies':5, 'also':6, 'football':7, 'games':8, 'Mary':9, 'too':10}  \n",
    "\n",
    "One-hot表示：  \n",
    "John: [1, 0, 0, 0, 0, 0, 0, 0, 0, 0]\n",
    "likes: [0, 1, 0, 0, 0, 0, 0, 0, 0, 0]\n",
    "...\n",
    "too : [0, 0, 0, 0, 0, 0, 0, 0, 0, 1]\n",
    "\n",
    "- 词典包含10个单词，每个单词有唯一索引\n",
    "- 在词典中的顺序和在句子中的顺序没有关联"
   ]
  },
  {
   "cell_type": "markdown",
   "metadata": {},
   "source": [
    "## 离散表示：Bag of Words\n",
    "- 文档的向量表示可以直接将各词的词向量表示加和\n",
    "\n",
    "<img src='./images/wv04.png' width='70%'/>\n",
    "\n",
    "- 词权重：词在文档中的顺序没有被考虑\n",
    "    - TF-IDF(Term Frequency - Inverse Document Frequency) \n",
    "        信息检索的词t的IDF weight $\\log(1+\\frac{N}{n_t})$，N: 文档总数，$n_t$：含有词t的文档数。\n",
    "        <img src='./images/wv05.png' width='70%'/>\n",
    "    - Binary weighting 短文本相似性，Bernoulli Naive Bayes\n",
    "        <img src='./images/wv06.png' width='30%'/>\n",
    "    "
   ]
  },
  {
   "cell_type": "markdown",
   "metadata": {},
   "source": [
    "## 离散表示：Bi-gram和N-gram\n",
    "为2-gram建索引：  \n",
    "    {\"John likes”: 1,    \n",
    "    \"likes to”: 2,    \n",
    "    \"to watch”: 3,    \n",
    "    \"watch movies”: 4,    \n",
    "    \"Mary likes”: 5,    \n",
    "    \"likes too”: 6,    \n",
    "    \"John also”: 7,    \n",
    "    \"also likes”: 8,    \n",
    "    “watch football”: 9,  \n",
    "    \"football games\": 10}  \n",
    "  \n",
    "  <img src='./images/wv07.png' width='40%'/>\n",
    "  \n",
    "  - 优点：考虑了词的顺序\n",
    "  - 缺点：词表的膨胀"
   ]
  },
  {
   "cell_type": "markdown",
   "metadata": {},
   "source": [
    "  <img src='./images/wv10.png' width='40%'/>"
   ]
  },
  {
   "cell_type": "markdown",
   "metadata": {},
   "source": [
    "## 语言模型\n",
    "- 一句话（词组合）出现的概率\n",
    "$$P(w_1,w_2,...,w_n) =\\prod_{i=1}^m P(w_i|w_1,...,w_{i-1})$$"
   ]
  },
  {
   "cell_type": "markdown",
   "metadata": {},
   "source": [
    "<img src='./images/wv08.png' width='70%'/>"
   ]
  },
  {
   "cell_type": "markdown",
   "metadata": {},
   "source": [
    "## 离散表示的问题\n",
    "- 无法衡量词向量之间的关系：各种度量（与或非、距离）都不合适\n",
    "酒店  [0, 1, 0, 0, 0, 0, 0, 0, 0, 0]   \n",
    "宾馆  [0, 0, 0, 0, 1, 0, 0, 0, 0, 0]   \n",
    "旅舍  [0, 0, 0, 0, 0, 0, 0, 0, 1, 0]  \n",
    "    - 太系数，很难捕捉文本的含义\n",
    "    \n",
    "- 词表维度随着语料库增长膨胀\n",
    "- n-gram词序列岁语料库膨胀更快\n",
    "- 数据稀疏问题\n",
    "\n",
    "\n"
   ]
  },
  {
   "cell_type": "markdown",
   "metadata": {},
   "source": []
  },
  {
   "cell_type": "markdown",
   "metadata": {},
   "source": []
  },
  {
   "cell_type": "markdown",
   "metadata": {},
   "source": []
  },
  {
   "cell_type": "markdown",
   "metadata": {},
   "source": []
  },
  {
   "cell_type": "markdown",
   "metadata": {},
   "source": []
  },
  {
   "cell_type": "markdown",
   "metadata": {},
   "source": []
  },
  {
   "cell_type": "markdown",
   "metadata": {},
   "source": []
  },
  {
   "cell_type": "markdown",
   "metadata": {},
   "source": []
  },
  {
   "cell_type": "markdown",
   "metadata": {},
   "source": []
  },
  {
   "cell_type": "markdown",
   "metadata": {},
   "source": []
  },
  {
   "cell_type": "markdown",
   "metadata": {},
   "source": []
  },
  {
   "cell_type": "markdown",
   "metadata": {},
   "source": []
  },
  {
   "cell_type": "markdown",
   "metadata": {},
   "source": []
  },
  {
   "cell_type": "markdown",
   "metadata": {},
   "source": []
  },
  {
   "cell_type": "markdown",
   "metadata": {},
   "source": []
  }
 ],
 "metadata": {
  "kernelspec": {
   "display_name": "Python 3",
   "language": "python",
   "name": "python3"
  },
  "language_info": {
   "codemirror_mode": {
    "name": "ipython",
    "version": 3
   },
   "file_extension": ".py",
   "mimetype": "text/x-python",
   "name": "python",
   "nbconvert_exporter": "python",
   "pygments_lexer": "ipython3",
   "version": "3.6.5"
  }
 },
 "nbformat": 4,
 "nbformat_minor": 2
}
