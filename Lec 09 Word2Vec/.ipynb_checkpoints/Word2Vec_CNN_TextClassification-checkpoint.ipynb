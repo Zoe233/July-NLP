{
 "cells": [
  {
   "cell_type": "markdown",
   "metadata": {},
   "source": [
    "# Word2vec+CNN做文本分类"
   ]
  },
  {
   "cell_type": "markdown",
   "metadata": {},
   "source": [
    "论文详见《Convolutional Neural Networks for Sentence Classification》\n",
    "http://arxiv.org/abs/1408.5882\n",
    "\n",
    "Theano完成的代码版本：\n",
    "https://github.com/yoonkim/CNN_sentence\n",
    "\n",
    "TensorFlow改写的代码版本：\n",
    "https://github.com/dennybritz/cnn-text-classification-tf\n",
    "\n",
    "添加分词和中文词向量映射之后，可用于中文文本分类(情感分析)"
   ]
  },
  {
   "cell_type": "markdown",
   "metadata": {},
   "source": [
    "### 本节内容主要记录TensorFlow的版本"
   ]
  },
  {
   "cell_type": "markdown",
   "metadata": {},
   "source": [
    "### TensorFlow版本介绍：\n",
    "本节的代码实现主要基于“<a href='http://www.wildml.com/2015/12/implementing-a-cnn-for-text-classification-in-tensorflow/'>在TensorFlow中实现CNN进行文本分类</a>”的论文。\n",
    "\n",
    "具体的思想和内容，参见论文，此处会酌情提取相关内容。"
   ]
  },
  {
   "cell_type": "markdown",
   "metadata": {},
   "source": [
    "我们将实现一个类似于Kim Yoon的<a href='https://arxiv.org/abs/1408.5882'>用于句子分类</a>的<a href='https://arxiv.org/abs/1408.5882'>卷积神经网络</a>的模型。"
   ]
  },
  {
   "cell_type": "markdown",
   "metadata": {},
   "source": [
    "本文提出的模型在一系列文本分类任务（如情感分析）中实现了良好的分类性能，并已成为新文本分类体系结构的标准基线。"
   ]
  },
  {
   "cell_type": "markdown",
   "metadata": {},
   "source": [
    "我假设您已经熟悉应用于NLP的卷积神经网络的基础知识。如果没有，我建议首先阅读了解<a href='http://www.wildml.com/2015/11/understanding-convolutional-neural-networks-for-nlp/'>NLP的卷积神经网络</a>，以获得必要的背景知识。"
   ]
  },
  {
   "cell_type": "markdown",
   "metadata": {},
   "source": []
  },
  {
   "cell_type": "markdown",
   "metadata": {},
   "source": []
  },
  {
   "cell_type": "markdown",
   "metadata": {},
   "source": []
  },
  {
   "cell_type": "markdown",
   "metadata": {},
   "source": []
  },
  {
   "cell_type": "markdown",
   "metadata": {},
   "source": []
  },
  {
   "cell_type": "markdown",
   "metadata": {},
   "source": []
  }
 ],
 "metadata": {
  "kernelspec": {
   "display_name": "Python 3",
   "language": "python",
   "name": "python3"
  },
  "language_info": {
   "codemirror_mode": {
    "name": "ipython",
    "version": 3
   },
   "file_extension": ".py",
   "mimetype": "text/x-python",
   "name": "python",
   "nbconvert_exporter": "python",
   "pygments_lexer": "ipython3",
   "version": "3.6.5"
  }
 },
 "nbformat": 4,
 "nbformat_minor": 2
}
