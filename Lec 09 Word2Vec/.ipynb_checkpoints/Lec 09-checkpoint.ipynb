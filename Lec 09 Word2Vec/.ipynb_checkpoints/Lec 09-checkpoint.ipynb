{
 "cells": [
  {
   "cell_type": "markdown",
   "metadata": {},
   "source": [
    "# Lec 09 Word2Vec"
   ]
  },
  {
   "cell_type": "markdown",
   "metadata": {},
   "source": [
    "## 大纲：\n",
    "- <a href='../Lec%2009%20Word2Vec/Word2Vec理论基础.ipynb'>Word2Vec理论基础</a>\n",
    "- <a href='../Lec%2001%20Fundamental/py_re.ipynb'>Word2Vec实战案例：Kaggle竞赛案例</a>\n",
    "- <a href='../Lec%2001%20Fundamental/jieba_wordsegments.ipynb'>从Word2Vec到FastText的新发展+案例</a>"
   ]
  },
  {
   "cell_type": "markdown",
   "metadata": {},
   "source": [
    "## Lec 09 文件目录结构\n",
    "- extra_dict jieba的自定义stopwords和tf-idf文库自定义加载文件实例。\n",
    "- files jieba分词示例读取的txt文件\n",
    "- images 笔记中的图片\n",
    "- tmp jieba和whoosh的文本搜索范例生成的倒排索引等文件内容。"
   ]
  },
  {
   "cell_type": "code",
   "execution_count": null,
   "metadata": {},
   "outputs": [],
   "source": []
  }
 ],
 "metadata": {
  "kernelspec": {
   "display_name": "Python 3",
   "language": "python",
   "name": "python3"
  },
  "language_info": {
   "codemirror_mode": {
    "name": "ipython",
    "version": 3
   },
   "file_extension": ".py",
   "mimetype": "text/x-python",
   "name": "python",
   "nbconvert_exporter": "python",
   "pygments_lexer": "ipython3",
   "version": "3.6.5"
  }
 },
 "nbformat": 4,
 "nbformat_minor": 2
}
