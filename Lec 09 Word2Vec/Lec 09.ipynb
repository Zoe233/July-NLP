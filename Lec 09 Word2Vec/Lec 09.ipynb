{
 "cells": [
  {
   "cell_type": "markdown",
   "metadata": {},
   "source": [
    "# Lec 09 Word2Vec"
   ]
  },
  {
   "cell_type": "markdown",
   "metadata": {},
   "source": [
    "## 大纲：\n",
    "- <a href='../Lec%2009%20Word2Vec/Word2Vec理论基础.ipynb'>Word2Vec理论基础</a>\n",
    "- <a href='../Lec%2009%20Word2Vec/霍夫曼树的原理.ipynb'>霍夫曼树的原理</a>\n",
    "- <a href='../Lec%2009%20Word2Vec/Tool_gensim.ipynb'>Tool_gensim(人名的名义演示)</a>\n",
    "- <a href='../Lec%2009%20Word2Vec/Word2Vec训练中文模型.ipynb'> Word2Vec训练中文模型</a>\n",
    "- <a href='../Lec%2009%20Word2Vec/tf实现文本分类的CNN实战/Word2Vec_CNN_TextClassification.ipynb'> Word2Vec_CNN_TextClassification Word2Vec+CNN做文本分类</a>"
   ]
  },
  {
   "cell_type": "markdown",
   "metadata": {},
   "source": [
    "## Lec 09 文件目录结构\n",
    "\n",
    "- Projects\n",
    "    - Kaggle_keywords_search.ipynb Kaggle项目：简单的关键词搜索相关性评分\n",
    "- images 图片\n",
    "- files 文件\n",
    "    - in_the_name_of_people.txt 人民的名义小说原文\n",
    "    - in_the_name_of_people_segment.txt 人民的名义小说分词结果\n",
    "   "
   ]
  }
 ],
 "metadata": {
  "kernelspec": {
   "display_name": "Python 3",
   "language": "python",
   "name": "python3"
  },
  "language_info": {
   "codemirror_mode": {
    "name": "ipython",
    "version": 3
   },
   "file_extension": ".py",
   "mimetype": "text/x-python",
   "name": "python",
   "nbconvert_exporter": "python",
   "pygments_lexer": "ipython3",
   "version": "3.6.5"
  }
 },
 "nbformat": 4,
 "nbformat_minor": 2
}
