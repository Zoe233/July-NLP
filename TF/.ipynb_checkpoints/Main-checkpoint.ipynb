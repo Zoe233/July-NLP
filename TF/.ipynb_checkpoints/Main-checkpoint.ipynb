{
 "cells": [
  {
   "cell_type": "markdown",
   "metadata": {},
   "source": [
    "# TensorFlow教程"
   ]
  },
  {
   "cell_type": "markdown",
   "metadata": {},
   "source": [
    "- 入门基础\n",
    "    - <a href='./教程/TensorFlow介绍.ipynb'>TensorFlow介绍</a>\n",
    "    - <a href='https://www.w3cschool.cn/tensorflow_python/tensorflow_python-9rbt28sr.html'>TensorFlow下载与安装</a>\n",
    "    - <a href='./教程/TensorFlow的基本使用.ipynb'>TensorFlow基本使用</a>"
   ]
  },
  {
   "cell_type": "markdown",
   "metadata": {},
   "source": [
    "- TensorFlow指南\n",
    "    - <a href='./教程/TensorFlow介绍.ipynb'>1. assert 和 布尔值检查函数</a>\n",
    "    - <a href=''>2. 贝叶斯熵(contrib)</a>\n",
    "    - <a href=''>3. 贝叶斯蒙特卡洛(contrib)</a>\n",
    "    - <a href=''>4. 贝叶斯随机图(contrib)</a>\n",
    "    - <a href=''>5. 贝叶斯随机张量(contrib)</a>\n",
    "    - <a href=''>6. 贝叶斯变分推断(contrib)</a>\n",
    "    - <a href='./教程/构建图.ipynb'>7. 构建图(contrib)</a>\n",
    "    - <a href=''>8. 生成常量，序列和随机值</a>\n",
    "    - <a href=''>9. 控制流程</a>\n",
    "    - <a href=''>10. 复制图形元素(contrib)</a>\n",
    "    - <a href=''>11. CRF(contrib)</a>\n",
    "    - <a href=''>12. 数据IO(contrib)</a>\n",
    "    - <a href=''>13. 使用FFmpeg(contrib)</a>\n",
    "    - <a href=''>14. 框架(contrib)</a>\n",
    "    - <a href=''>15. 图形编辑器(contrib)</a>\n",
    "    - <a href=''>16. 高阶函数</a>\n",
    "    - <a href=''>17. 直方图</a>\n",
    "    - <a href=''>18. 图像操作</a>\n",
    "    - <a href=''>19. 输入和读取器</a>\n",
    "    - <a href=''>20. 集成(contrib)</a>\n",
    "    - <a href=''>21. 层(contrib)</a>\n",
    "    - <a href=''>22. 高级API</a>\n",
    "    - <a href=''>23. 线性代数库(contrib)</a>\n",
    "    - <a href=''>24. 损失(contrib)</a>\n",
    "    - <a href=''>25. 数学函数</a>\n",
    "    - <a href=''>26. 指标(contrib)</a>\n",
    "    - <a href=''>27. 神经网络</a>\n",
    "    - <a href=''>28. 优化(contrib)</a>\n",
    "    - <a href=''>29. 随机变量变换（contrib</a>\n",
    "    - <a href=''>30. RNN和单元（contrib)</a>\n",
    "    - <a href=''>31. 运行图</a>\n",
    "    - <a href=''>32. Seq2seq库（contrib）</a>\n",
    "    - <a href=''>33. 稀疏张量</a>\n",
    "    - <a href=''>34. 光谱函数</a>\n",
    "    - <a href=''>35. 统计分布（contrib）</a>\n",
    "    - <a href=''>36. 字符串操作</a>\n",
    "    - <a href=''>37. 摘要操作</a>\n",
    "    - <a href=''>38. 张量处理操作</a>\n",
    "    - <a href=''>39. 张量变换</a>\n",
    "    - <a href=''>40. 调试器</a>\n",
    "    - <a href=''>41. 测试</a>\n",
    "    - <a href=''>42. Training函数（contrib）</a>\n",
    "    - <a href=''>43. Training函数</a>\n",
    "    - <a href=''>44. 实用程序（contrib）</a>\n",
    "    - <a href=''>45. 变量</a>\n",
    "    - <a href=''>46. 包装python函数</a>\n",
    "    - <a href='./教程/47将数据导入tensorflow.ipynb'>47. 将数据导入TensorFlow</a>"
   ]
  },
  {
   "cell_type": "code",
   "execution_count": null,
   "metadata": {},
   "outputs": [],
   "source": []
  }
 ],
 "metadata": {
  "kernelspec": {
   "display_name": "Python 3",
   "language": "python",
   "name": "python3"
  },
  "language_info": {
   "codemirror_mode": {
    "name": "ipython",
    "version": 3
   },
   "file_extension": ".py",
   "mimetype": "text/x-python",
   "name": "python",
   "nbconvert_exporter": "python",
   "pygments_lexer": "ipython3",
   "version": "3.6.5"
  }
 },
 "nbformat": 4,
 "nbformat_minor": 2
}
