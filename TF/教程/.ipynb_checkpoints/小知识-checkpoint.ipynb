{
 "cells": [
  {
   "cell_type": "markdown",
   "metadata": {},
   "source": [
    "# TensorFlow的小知识（随笔）"
   ]
  },
  {
   "cell_type": "markdown",
   "metadata": {},
   "source": [
    "- <a href='#flags'>tf.flags.DEFINE_xxx()</a>\n"
   ]
  },
  {
   "cell_type": "markdown",
   "metadata": {},
   "source": [
    "## <a name='flags'>1. tf.flags.DEFINE_xxx()</a>"
   ]
  },
  {
   "cell_type": "markdown",
   "metadata": {},
   "source": [
    "- tf.flags.DEFINE_xxx() \n",
    "- FLAGS = tf.flags.FLAGS \n",
    "- FLAGS.flag_values_dict()    \n",
    "FLAGS._parse_flags()  这种用法，改成了用FLAGS.flag_values_dict()"
   ]
  },
  {
   "cell_type": "markdown",
   "metadata": {},
   "source": [
    "简单的说：  \n",
    "用于帮助我们添加命令行的可选参数。    \n",
    "也就是说利用该函数我们可以实现在命令行中选择需要设定的参数来运行程序， \n",
    "可以不用反复修改源代码中的参数，直接在命令行中进行参数的设定。"
   ]
  },
  {
   "cell_type": "markdown",
   "metadata": {},
   "source": [
    "### 举个例子:"
   ]
  },
  {
   "cell_type": "code",
   "execution_count": 2,
   "metadata": {},
   "outputs": [],
   "source": [
    "import tensorflow as tf\n",
    "\n",
    "FLAGS = tf.flags.FLAGS\n",
    "\n",
    "tf.flags.DEFINE_string('name', 'default', 'name of the model')\n",
    "tf.flags.DEFINE_integer('num_seqs', 100, 'number of seqs in one batch')\n",
    "tf.flags.DEFINE_integer('num_steps', 100, 'length of one seq')\n",
    "tf.flags.DEFINE_integer('lstm_size', 128, 'size of hidden state of lstm')\n",
    "tf.flags.DEFINE_integer('num_layers', 2, 'number of lstm layers')\n",
    "tf.flags.DEFINE_boolean('use_embedding', False, 'whether to use embedding')\n",
    "tf.flags.DEFINE_integer('embedding_size', 128, 'size of embedding')\n",
    "tf.flags.DEFINE_float('learning_rate', 0.001, 'learning_rate')\n",
    "tf.flags.DEFINE_float('train_keep_prob', 0.5, 'dropout rate during training')\n",
    "tf.flags.DEFINE_string('input_file', '', 'utf8 encoded text file')\n",
    "tf.flags.DEFINE_integer('max_steps', 100000, 'max steps to train')\n",
    "tf.flags.DEFINE_integer('save_every_n', 1000, 'save the model every n steps')\n",
    "tf.flags.DEFINE_integer('log_every_n', 10, 'log to the screen every n steps')\n",
    "tf.flags.DEFINE_integer('max_vocab', 3500, 'max char number')\n",
    "#全局参数设置，显示在命令行"
   ]
  },
  {
   "cell_type": "markdown",
   "metadata": {},
   "source": [
    "在命令行中我们为了执行train.py文件，在命令行中输入："
   ]
  },
  {
   "cell_type": "code",
   "execution_count": null,
   "metadata": {},
   "outputs": [],
   "source": [
    "python train.py \\\n",
    "  --input_file data/shakespeare.txt  \\\n",
    "  --name shakespeare \\\n",
    "  --num_steps 50 \\\n",
    "  --num_seqs 32 \\\n",
    "  --learning_rate 0.01 \\\n",
    "  --max_steps 20000"
   ]
  },
  {
   "cell_type": "markdown",
   "metadata": {},
   "source": [
    "通过输入不同的文件名、参数，可以快速完成程序的调参和更换训练集的操作，不需要进入源码中更改。"
   ]
  },
  {
   "cell_type": "code",
   "execution_count": 1,
   "metadata": {},
   "outputs": [
    {
     "data": {
      "text/plain": [
       "{'num_seqs': 100, 'num_steps': 100, 'lstm_size': 128}"
      ]
     },
     "execution_count": 1,
     "metadata": {},
     "output_type": "execute_result"
    }
   ],
   "source": [
    "import tensorflow as tf\n",
    "\n",
    "#取上述代码中一部分进行实验\n",
    "tf.flags.DEFINE_integer('num_seqs', 100, 'number of seqs in one batch')\n",
    "tf.flags.DEFINE_integer('num_steps', 100, 'length of one seq')\n",
    "tf.flags.DEFINE_integer('lstm_size', 128, 'size of hidden state of lstm')\n",
    "\n",
    "#通过print()确定下面内容的功能\n",
    "FLAGS = tf.flags.FLAGS  # FLAGS保存命令行参数的数据\n",
    "FLAGS.flag_values_dict() #将其解析成字典存储到FLAGS.__flags中"
   ]
  },
  {
   "cell_type": "code",
   "execution_count": null,
   "metadata": {},
   "outputs": [],
   "source": [
    "print(FLAGS.flag_values_dict())\n",
    "\n",
    "# print(FLAGS.num_seqs)\n",
    "\n",
    "print(\"\\nParameters:\")\n",
    "for attr, value in sorted(FLAGS.flag_values_dict().items()):\n",
    "    print(\"{}={}\".format(attr.upper(), value))\n",
    "print(\"\")"
   ]
  },
  {
   "cell_type": "markdown",
   "metadata": {},
   "source": [
    "### Error信息：UnrecognizedFlagError: Unknown command line flag 'f'\n",
    "jupyter 下载cifar数据问题：\n",
    "\n",
    "添加 tf.app.flags.DEFINE_string('f', '', 'kernel') 完美解决！！！"
   ]
  },
  {
   "cell_type": "code",
   "execution_count": 1,
   "metadata": {},
   "outputs": [
    {
     "name": "stdout",
     "output_type": "stream",
     "text": [
      "5\n"
     ]
    }
   ],
   "source": [
    "# -*- coding:utf-8 -*-\n",
    "import os\n",
    "import csv\n",
    "import itertools\n",
    "import functools\n",
    "import tensorflow as tf\n",
    "import numpy as np\n",
    "import pandas as np\n",
    "\n",
    "# tf.flags.DEFINE_xxx\n",
    "# FLAGS=tf.flags.FLAGES\n",
    "# 添加命令行的可选参数\n",
    "tf.flags.DEFINE_integer(\n",
    "    'min_word_frequency', 5, 'Minimum frequency of words in the vocabulary'\n",
    ")\n",
    "\n",
    "tf.flags.DEFINE_integer(\n",
    "    'max_sentence_len', 160, \"Maximum Sentence Length\"\n",
    ")\n",
    "\n",
    "tf.flags.DEFINE_string(\n",
    "    'input_dir', os.path.abspath('../../ubuntu_dataset'),\n",
    "    \"Input directory containing original CSV data files\"\n",
    ")\n",
    "\n",
    "tf.flags.DEFINE_string(\n",
    "    'output_dir', os.path.abspath('../../ubuntu_dataset'),\n",
    "    'Output directory for TFRecord files'\n",
    ")\n",
    "\n",
    "# 仅是在jupyter的时候会出现的报错信息。\n",
    "tf.app.flags.DEFINE_string('f', '', 'kernel')\n",
    "\n",
    "FLAGS = tf.flags.FLAGS\n",
    "\n",
    "TRAIN_PATH = os.path.join(FLAGS.input_dir, 'train.csv')\n",
    "VALIDATION_PATH = os.path.join(FLAGS.input_dir, 'valid.csv')\n",
    "TEST_PATH = os.path.join(FLAGS.input_dir, 'test.csv')\n",
    "\n",
    "\n",
    "print(FLAGS.min_word_frequency)"
   ]
  },
  {
   "cell_type": "markdown",
   "metadata": {},
   "source": [
    "----"
   ]
  },
  {
   "cell_type": "code",
   "execution_count": null,
   "metadata": {},
   "outputs": [],
   "source": []
  }
 ],
 "metadata": {
  "kernelspec": {
   "display_name": "Python 3",
   "language": "python",
   "name": "python3"
  },
  "language_info": {
   "codemirror_mode": {
    "name": "ipython",
    "version": 3
   },
   "file_extension": ".py",
   "mimetype": "text/x-python",
   "name": "python",
   "nbconvert_exporter": "python",
   "pygments_lexer": "ipython3",
   "version": "3.6.5"
  }
 },
 "nbformat": 4,
 "nbformat_minor": 2
}
