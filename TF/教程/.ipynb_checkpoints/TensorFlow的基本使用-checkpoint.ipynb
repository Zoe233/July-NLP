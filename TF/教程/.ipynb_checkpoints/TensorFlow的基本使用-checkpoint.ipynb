{
 "cells": [
  {
   "cell_type": "markdown",
   "metadata": {},
   "source": [
    "# TensorFlow的基本使用"
   ]
  },
  {
   "cell_type": "markdown",
   "metadata": {},
   "source": [
    "TensorFlow 的特点：\n",
    "- 使用**图 (graph)** 来表示计算任务.\n",
    "- 在被称之为 **会话 (Session) 的上下文 (context) **中执行图.\n",
    "- 使用**张量tensor** 表示数据.\n",
    "- 通过 **变量 (Variable) **维护状态.\n",
    "- 使用 **feed** 和 **fetch** 可以**为任意的操作(arbitrary operation) 赋值**或者从其中**获取数据**."
   ]
  },
  {
   "cell_type": "markdown",
   "metadata": {},
   "source": [
    "- <a href='#general'>1. TensorFlow综述</a>\n",
    "- <a href='#graph'>2. TensorFlow 计算图</a>\n",
    "    - <a href='#build_graph'>2.1 TensorFlow 构建图</a>\n",
    "    - <a href='#session'>2.2 在一个会话中其中图</a>\n",
    "- <a href='#inter'>3. 交互式使用</a>\n",
    "- <a href='#tensor'>4. Tensor</a>\n",
    "- <a href='#varible'>5. 变量</a>\n",
    "- <a href='#fetch'>6. Fetch</a>\n",
    "- <a href='#feed'>7. Feed</a>\n"
   ]
  },
  {
   "cell_type": "markdown",
   "metadata": {},
   "source": [
    "\n",
    "## <a name='graph'>2. TensorFlow 计算图</a>\n",
    "    ### <a name='build_graph'>2.1 TensorFlow 构建图</a>\n",
    "    ### <a name='session'>2.2 在一个会话中其中图</a>\n",
    "## <a name='inter'>3. 交互式使用</a>\n",
    "## <a name='tensor'>4. Tensor</a>\n",
    "## <a name='varible'>5. 变量</a>\n",
    "## <a name='fetch'>6. Fetch</a>\n",
    "## <a name='feed'>7. Feed</a>\n",
    "\n"
   ]
  },
  {
   "cell_type": "markdown",
   "metadata": {},
   "source": [
    "## <a name='general'>1. TensorFlow综述</a>"
   ]
  },
  {
   "cell_type": "markdown",
   "metadata": {},
   "source": []
  },
  {
   "cell_type": "markdown",
   "metadata": {},
   "source": []
  },
  {
   "cell_type": "markdown",
   "metadata": {},
   "source": []
  },
  {
   "cell_type": "markdown",
   "metadata": {},
   "source": []
  },
  {
   "cell_type": "markdown",
   "metadata": {},
   "source": []
  },
  {
   "cell_type": "markdown",
   "metadata": {},
   "source": []
  },
  {
   "cell_type": "markdown",
   "metadata": {},
   "source": []
  },
  {
   "cell_type": "markdown",
   "metadata": {},
   "source": []
  },
  {
   "cell_type": "markdown",
   "metadata": {},
   "source": []
  },
  {
   "cell_type": "markdown",
   "metadata": {},
   "source": []
  },
  {
   "cell_type": "markdown",
   "metadata": {},
   "source": []
  },
  {
   "cell_type": "markdown",
   "metadata": {},
   "source": []
  },
  {
   "cell_type": "markdown",
   "metadata": {},
   "source": []
  },
  {
   "cell_type": "markdown",
   "metadata": {},
   "source": []
  },
  {
   "cell_type": "markdown",
   "metadata": {},
   "source": []
  },
  {
   "cell_type": "markdown",
   "metadata": {},
   "source": []
  },
  {
   "cell_type": "markdown",
   "metadata": {},
   "source": []
  },
  {
   "cell_type": "markdown",
   "metadata": {},
   "source": []
  },
  {
   "cell_type": "markdown",
   "metadata": {},
   "source": []
  },
  {
   "cell_type": "markdown",
   "metadata": {},
   "source": []
  }
 ],
 "metadata": {
  "kernelspec": {
   "display_name": "Python 3",
   "language": "python",
   "name": "python3"
  },
  "language_info": {
   "codemirror_mode": {
    "name": "ipython",
    "version": 3
   },
   "file_extension": ".py",
   "mimetype": "text/x-python",
   "name": "python",
   "nbconvert_exporter": "python",
   "pygments_lexer": "ipython3",
   "version": "3.6.5"
  }
 },
 "nbformat": 4,
 "nbformat_minor": 2
}
