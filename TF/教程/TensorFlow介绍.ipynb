{
 "cells": [
  {
   "cell_type": "markdown",
   "metadata": {},
   "source": [
    "# 介绍TensorFlow"
   ]
  },
  {
   "cell_type": "markdown",
   "metadata": {},
   "source": [
    "## 1. 什么是TensorFlow?"
   ]
  },
  {
   "cell_type": "markdown",
   "metadata": {},
   "source": [
    "TensorFlow 表达了高层次的机器学习计算，大幅简化了第一代系统，并且具备更好的灵活性和可延展性。\n",
    "\n",
    "TensorFlow，简单看就是Tensor和Flow，即意味着Tensor和Flow是TensorFlow最为基础的要素；\n",
    "- Tensor意味着data，\n",
    "- Flow意味着流动，意味着计算，意味着映射，   \n",
    "\n",
    "即数据的流动，数据的计算，数据的映射，同时也体现数据是有向的流动、计算和映射。"
   ]
  },
  {
   "cell_type": "markdown",
   "metadata": {},
   "source": [
    "## 2. 从实例开始学习TensorFlow"
   ]
  },
  {
   "cell_type": "markdown",
   "metadata": {},
   "source": [
    "让我们看一段使用 Python API 撰写的 TensorFlow 示例代码，让你对将要学习的内容有初步的印象.\n",
    "\n",
    "这段很短的 Python 程序生成了一些三维数据，然后用一个平面拟合它."
   ]
  },
  {
   "cell_type": "code",
   "execution_count": 1,
   "metadata": {},
   "outputs": [
    {
     "name": "stderr",
     "output_type": "stream",
     "text": [
      "/Users/zoe/anaconda3/lib/python3.6/site-packages/h5py/__init__.py:36: FutureWarning: Conversion of the second argument of issubdtype from `float` to `np.floating` is deprecated. In future, it will be treated as `np.float64 == np.dtype(float).type`.\n",
      "  from ._conv import register_converters as _register_converters\n"
     ]
    }
   ],
   "source": [
    "import tensorflow as tf\n",
    "import numpy as np"
   ]
  },
  {
   "cell_type": "code",
   "execution_count": 2,
   "metadata": {},
   "outputs": [],
   "source": [
    "# 使用NumPy生成假数据phony data，总共100个点\n",
    "x_data = np.float32(np.random.rand(2,100)) # 随机输入\n",
    "y_data = np.dot([0.100, 0.200], x_data) + 0.300"
   ]
  },
  {
   "cell_type": "code",
   "execution_count": 7,
   "metadata": {},
   "outputs": [
    {
     "name": "stdout",
     "output_type": "stream",
     "text": [
      "(2, 100)\n",
      "(100,)\n"
     ]
    }
   ],
   "source": [
    "print(x_data.shape)\n",
    "print(y_data.shape)"
   ]
  },
  {
   "cell_type": "code",
   "execution_count": 8,
   "metadata": {},
   "outputs": [],
   "source": [
    "# 构造线性模型\n",
    "b = tf.Variable(tf.zeros([1]))\n",
    "W = tf.Variable(tf.random_uniform([1, 2], -1.0, 1.0))\n",
    "y = tf.matmul(W, x_data) + b"
   ]
  },
  {
   "cell_type": "code",
   "execution_count": 9,
   "metadata": {},
   "outputs": [
    {
     "data": {
      "text/plain": [
       "<tf.Variable 'Variable:0' shape=(1,) dtype=float32_ref>"
      ]
     },
     "execution_count": 9,
     "metadata": {},
     "output_type": "execute_result"
    }
   ],
   "source": [
    "b"
   ]
  },
  {
   "cell_type": "code",
   "execution_count": 10,
   "metadata": {},
   "outputs": [
    {
     "data": {
      "text/plain": [
       "<tf.Variable 'Variable_1:0' shape=(1, 2) dtype=float32_ref>"
      ]
     },
     "execution_count": 10,
     "metadata": {},
     "output_type": "execute_result"
    }
   ],
   "source": [
    "W"
   ]
  },
  {
   "cell_type": "code",
   "execution_count": 11,
   "metadata": {},
   "outputs": [
    {
     "data": {
      "text/plain": [
       "<tf.Tensor 'add:0' shape=(1, 100) dtype=float32>"
      ]
     },
     "execution_count": 11,
     "metadata": {},
     "output_type": "execute_result"
    }
   ],
   "source": [
    "y"
   ]
  },
  {
   "cell_type": "code",
   "execution_count": 12,
   "metadata": {},
   "outputs": [],
   "source": [
    "# 最小化方差\n",
    "loss = tf.reduce_mean(tf.square(y-y_data))\n",
    "optimizer = tf.train.GradientDescentOptimizer(0.5) # 0.5是learning rate\n",
    "train = optimizer.minimize(loss)"
   ]
  },
  {
   "cell_type": "code",
   "execution_count": 15,
   "metadata": {},
   "outputs": [],
   "source": [
    "# 初始化变量\n",
    "init = tf.global_variables_initializer()"
   ]
  },
  {
   "cell_type": "code",
   "execution_count": 16,
   "metadata": {},
   "outputs": [],
   "source": [
    "# 启动图graph\n",
    "sess = tf.Session()\n",
    "sess.run(init)"
   ]
  },
  {
   "cell_type": "code",
   "execution_count": 19,
   "metadata": {},
   "outputs": [
    {
     "name": "stdout",
     "output_type": "stream",
     "text": [
      "0 [[0.09999347 0.1999913 ]] [0.30000782]\n",
      "20 [[0.09999748 0.19999667]] [0.300003]\n",
      "40 [[0.09999903 0.19999872]] [0.30000114]\n",
      "60 [[0.09999962 0.19999948]] [0.30000046]\n",
      "80 [[0.09999985 0.1999998 ]] [0.3000002]\n",
      "100 [[0.0999999  0.19999985]] [0.30000013]\n",
      "120 [[0.0999999  0.19999985]] [0.30000013]\n",
      "140 [[0.0999999  0.19999985]] [0.30000013]\n",
      "160 [[0.0999999  0.19999985]] [0.30000013]\n",
      "180 [[0.0999999  0.19999985]] [0.30000013]\n",
      "200 [[0.0999999  0.19999985]] [0.30000013]\n",
      "220 [[0.0999999  0.19999985]] [0.30000013]\n",
      "240 [[0.0999999  0.19999985]] [0.30000013]\n",
      "260 [[0.0999999  0.19999985]] [0.30000013]\n",
      "280 [[0.0999999  0.19999985]] [0.30000013]\n",
      "300 [[0.0999999  0.19999985]] [0.30000013]\n"
     ]
    }
   ],
   "source": [
    "# 拟合平面\n",
    "for step in range(0, 301):\n",
    "    sess.run(train)\n",
    "    if step % 20 == 0:\n",
    "        print(step, sess.run(W), sess.run(b))"
   ]
  },
  {
   "cell_type": "code",
   "execution_count": 20,
   "metadata": {},
   "outputs": [],
   "source": [
    "# 得到最佳拟合结果 \n",
    "# W：[[0.0999999  0.19999985]] ，b：[0.30000013]"
   ]
  },
  {
   "cell_type": "markdown",
   "metadata": {},
   "source": [
    "## 3. 利用TensorFlow解决经典机器学习问题"
   ]
  },
  {
   "cell_type": "markdown",
   "metadata": {},
   "source": [
    "我们来看一下 TensorFlow 是如何解决一个经典的机器学习问题的，相信这将激发你的学习兴趣。\n",
    "\n",
    "在神经网络领域, 最为经典的问题莫过于 MNIST 手写数字分类问题，但是考虑到每个人对 TensorFlow 知识掌握的程度不同，我们准备了两篇不同程度的教程，分别面向机器学习领域的初学者和专家。如果你已经使用其它软件训练过许多 MNIST 模型, 请阅读高级教程(红色药丸链接)； 如果你以前从未听说过 MNIST, 请阅读初级教程(蓝色药丸链接)。 如果你的水平介于这两类人之间，我们建议你先快速浏览初级教程，然后再阅读高级教程。"
   ]
  }
 ],
 "metadata": {
  "kernelspec": {
   "display_name": "Python 3",
   "language": "python",
   "name": "python3"
  },
  "language_info": {
   "codemirror_mode": {
    "name": "ipython",
    "version": 3
   },
   "file_extension": ".py",
   "mimetype": "text/x-python",
   "name": "python",
   "nbconvert_exporter": "python",
   "pygments_lexer": "ipython3",
   "version": "3.6.5"
  }
 },
 "nbformat": 4,
 "nbformat_minor": 2
}
