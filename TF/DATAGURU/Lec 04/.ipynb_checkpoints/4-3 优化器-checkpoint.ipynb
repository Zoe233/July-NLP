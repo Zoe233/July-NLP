{
 "cells": [
  {
   "cell_type": "markdown",
   "metadata": {},
   "source": [
    "将GradientDescentOptimizer更换掉，选择AdamOptimizer(), 学习率设置为0.001."
   ]
  },
  {
   "cell_type": "code",
   "execution_count": 3,
   "metadata": {},
   "outputs": [
    {
     "name": "stdout",
     "output_type": "stream",
     "text": [
      "Extracting /Users/zoe/Documents/GitHub/July-NLP/TF/DATAGURU/Lec 04/MNIST_data/train-images-idx3-ubyte.gz\n",
      "Extracting /Users/zoe/Documents/GitHub/July-NLP/TF/DATAGURU/Lec 04/MNIST_data/train-labels-idx1-ubyte.gz\n",
      "Extracting /Users/zoe/Documents/GitHub/July-NLP/TF/DATAGURU/Lec 04/MNIST_data/t10k-images-idx3-ubyte.gz\n",
      "Extracting /Users/zoe/Documents/GitHub/July-NLP/TF/DATAGURU/Lec 04/MNIST_data/t10k-labels-idx1-ubyte.gz\n",
      "Iter 0,Testing Accuracy 0.8983,Training Accuracy0.8909818\n",
      "Iter 1,Testing Accuracy 0.9118,Training Accuracy0.9060909\n",
      "Iter 2,Testing Accuracy 0.9174,Training Accuracy0.91310906\n",
      "Iter 3,Testing Accuracy 0.9186,Training Accuracy0.9171636\n",
      "Iter 4,Testing Accuracy 0.9226,Training Accuracy0.9207091\n",
      "Iter 5,Testing Accuracy 0.9254,Training Accuracy0.9232182\n",
      "Iter 6,Testing Accuracy 0.9256,Training Accuracy0.9259273\n",
      "Iter 7,Testing Accuracy 0.9262,Training Accuracy0.9272\n",
      "Iter 8,Testing Accuracy 0.9276,Training Accuracy0.9285455\n",
      "Iter 9,Testing Accuracy 0.9277,Training Accuracy0.9288909\n",
      "Iter 10,Testing Accuracy 0.9286,Training Accuracy0.93087274\n",
      "Iter 11,Testing Accuracy 0.9297,Training Accuracy0.93174547\n",
      "Iter 12,Testing Accuracy 0.9281,Training Accuracy0.9323273\n",
      "Iter 13,Testing Accuracy 0.9286,Training Accuracy0.93305457\n",
      "Iter 14,Testing Accuracy 0.9302,Training Accuracy0.9339455\n",
      "Iter 15,Testing Accuracy 0.9304,Training Accuracy0.93436366\n",
      "Iter 16,Testing Accuracy 0.9317,Training Accuracy0.93578184\n",
      "Iter 17,Testing Accuracy 0.9321,Training Accuracy0.93618184\n",
      "Iter 18,Testing Accuracy 0.932,Training Accuracy0.93625456\n",
      "Iter 19,Testing Accuracy 0.9313,Training Accuracy0.9373818\n",
      "Iter 20,Testing Accuracy 0.9311,Training Accuracy0.937\n"
     ]
    }
   ],
   "source": [
    "import os\n",
    "import tensorflow as tf\n",
    "from tensorflow.examples.tutorials.mnist import input_data\n",
    "\n",
    "# 载入数据集\n",
    "mnist = input_data.read_data_sets(os.path.join(os.getcwd(), 'MNIST_data'), one_hot=True)\n",
    "\n",
    "# 定义每个批次的大小\n",
    "batch_size = 100\n",
    "# 计算一共有多少个批次\n",
    "n_batch = mnist.train.num_examples // batch_size  # 55000//100=550\n",
    "\n",
    "# 定义两个placeholder\n",
    "x = tf.placeholder(tf.float32, [None, 784])\n",
    "y = tf.placeholder(tf.float32, [None, 10])\n",
    "\n",
    "# 创建一个简单的神经网络\n",
    "W = tf.Variable(tf.zeros([784, 10]))\n",
    "b = tf.Variable(tf.zeros([10]))\n",
    "\n",
    "prediction = tf.nn.softmax(tf.matmul(x, W) + b)\n",
    "\n",
    "# 二次代价函数\n",
    "# loss = tf.reduce_mean(tf.square(prediction - y))\n",
    "# 使用交叉熵代价函数\n",
    "loss = tf.reduce_mean(tf.nn.softmax_cross_entropy_with_logits(labels=y, logits=prediction))\n",
    "\n",
    "# 使用梯度下降法\n",
    "# train_step = tf.train.GradientDescentOptimizer(0.2).minimize(loss)\n",
    "train_step = tf.train.AdamOptimizer(0.001).minimize(loss)  # 或者1e-3 \n",
    "\n",
    "# 初始化变量\n",
    "init = tf.global_variables_initializer()\n",
    "\n",
    "# 结果存放在一个布尔型的列表中\n",
    "# 正确与否的True or False的列表\n",
    "# tf.argmax返回一维张量中最大的值所在的索引位置\n",
    "correct_prediction = tf.equal(tf.argmax(y, 1), tf.argmax(prediction, 1))\n",
    "\n",
    "# 求准确率\n",
    "# 通过tf.cast(x, dtype)将布尔型转换为浮点型\n",
    "accuracy = tf.reduce_mean(tf.cast(correct_prediction, tf.float32))\n",
    "\n",
    "with tf.Session() as sess:\n",
    "    sess.run(init)\n",
    "    \n",
    "    for epoch in range(21):\n",
    "        for batch in range(n_batch):\n",
    "            batch_xs, batch_ys = mnist.train.next_batch(batch_size)\n",
    "            sess.run(train_step, feed_dict={x: batch_xs, y: batch_ys})\n",
    "        \n",
    "        test_acc = sess.run(accuracy,feed_dict={x:mnist.test.images,y:mnist.test.labels})\n",
    "        train_acc = sess.run(accuracy,feed_dict={x:mnist.train.images,y:mnist.train.labels})\n",
    "        print(\"Iter \" + str(epoch) + \",Testing Accuracy \" + str(test_acc) +',Training Accuracy' + str(train_acc))\n",
    "\n",
    "\n"
   ]
  },
  {
   "cell_type": "markdown",
   "metadata": {},
   "source": [
    "想看查看不同的优化器的效果，可以更换不同的优化器。"
   ]
  },
  {
   "cell_type": "code",
   "execution_count": null,
   "metadata": {},
   "outputs": [],
   "source": []
  }
 ],
 "metadata": {
  "kernelspec": {
   "display_name": "Python 3",
   "language": "python",
   "name": "python3"
  },
  "language_info": {
   "codemirror_mode": {
    "name": "ipython",
    "version": 3
   },
   "file_extension": ".py",
   "mimetype": "text/x-python",
   "name": "python",
   "nbconvert_exporter": "python",
   "pygments_lexer": "ipython3",
   "version": "3.6.5"
  }
 },
 "nbformat": 4,
 "nbformat_minor": 2
}
