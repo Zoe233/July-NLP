{
 "cells": [
  {
   "cell_type": "code",
   "execution_count": 1,
   "metadata": {},
   "outputs": [],
   "source": [
    "import os \n",
    "import tensorflow as tf\n",
    "from tensorflow.examples.tutorials.mnist import input_data"
   ]
  },
  {
   "cell_type": "code",
   "execution_count": 2,
   "metadata": {},
   "outputs": [
    {
     "name": "stdout",
     "output_type": "stream",
     "text": [
      "WARNING:tensorflow:From <ipython-input-2-96dd8f1a13d8>:2: read_data_sets (from tensorflow.contrib.learn.python.learn.datasets.mnist) is deprecated and will be removed in a future version.\n",
      "Instructions for updating:\n",
      "Please use alternatives such as official/mnist/dataset.py from tensorflow/models.\n",
      "WARNING:tensorflow:From /Users/zoe/anaconda3/lib/python3.6/site-packages/tensorflow/contrib/learn/python/learn/datasets/mnist.py:260: maybe_download (from tensorflow.contrib.learn.python.learn.datasets.base) is deprecated and will be removed in a future version.\n",
      "Instructions for updating:\n",
      "Please write your own downloading logic.\n",
      "WARNING:tensorflow:From /Users/zoe/anaconda3/lib/python3.6/site-packages/tensorflow/contrib/learn/python/learn/datasets/mnist.py:262: extract_images (from tensorflow.contrib.learn.python.learn.datasets.mnist) is deprecated and will be removed in a future version.\n",
      "Instructions for updating:\n",
      "Please use tf.data to implement this functionality.\n",
      "Extracting /Users/zoe/Documents/GitHub/July-NLP/TF/DATAGURU/Lec 06/MNIST_data/train-images-idx3-ubyte.gz\n",
      "WARNING:tensorflow:From /Users/zoe/anaconda3/lib/python3.6/site-packages/tensorflow/contrib/learn/python/learn/datasets/mnist.py:267: extract_labels (from tensorflow.contrib.learn.python.learn.datasets.mnist) is deprecated and will be removed in a future version.\n",
      "Instructions for updating:\n",
      "Please use tf.data to implement this functionality.\n",
      "Extracting /Users/zoe/Documents/GitHub/July-NLP/TF/DATAGURU/Lec 06/MNIST_data/train-labels-idx1-ubyte.gz\n",
      "WARNING:tensorflow:From /Users/zoe/anaconda3/lib/python3.6/site-packages/tensorflow/contrib/learn/python/learn/datasets/mnist.py:110: dense_to_one_hot (from tensorflow.contrib.learn.python.learn.datasets.mnist) is deprecated and will be removed in a future version.\n",
      "Instructions for updating:\n",
      "Please use tf.one_hot on tensors.\n",
      "Extracting /Users/zoe/Documents/GitHub/July-NLP/TF/DATAGURU/Lec 06/MNIST_data/t10k-images-idx3-ubyte.gz\n",
      "Extracting /Users/zoe/Documents/GitHub/July-NLP/TF/DATAGURU/Lec 06/MNIST_data/t10k-labels-idx1-ubyte.gz\n",
      "WARNING:tensorflow:From /Users/zoe/anaconda3/lib/python3.6/site-packages/tensorflow/contrib/learn/python/learn/datasets/mnist.py:290: DataSet.__init__ (from tensorflow.contrib.learn.python.learn.datasets.mnist) is deprecated and will be removed in a future version.\n",
      "Instructions for updating:\n",
      "Please use alternatives such as official/mnist/dataset.py from tensorflow/models.\n"
     ]
    }
   ],
   "source": [
    "# 加载数据集\n",
    "mnist = input_data.read_data_sets(os.path.join(os.getcwd(), 'MNIST_data'), one_hot=True)"
   ]
  },
  {
   "cell_type": "code",
   "execution_count": 3,
   "metadata": {},
   "outputs": [],
   "source": [
    "# 设置常用参数\n",
    "# 每个批次大小\n",
    "batch_size = 100\n",
    "# 计算一共有多少个批次\n",
    "n_batch = mnist.train.num_examples // batch_size"
   ]
  },
  {
   "cell_type": "code",
   "execution_count": 4,
   "metadata": {},
   "outputs": [],
   "source": [
    "# 初始化权值\n",
    "def weight_variable(shape):\n",
    "    initial = tf.truncated_normal(shape, stddev=0.1)  # 生成一个截断的正态分布\n",
    "    return tf.Variable(initial)"
   ]
  },
  {
   "cell_type": "code",
   "execution_count": 5,
   "metadata": {},
   "outputs": [],
   "source": [
    "# 初始化偏置\n",
    "def bias_variable(shape):\n",
    "    initial = tf.constant(0.1, shape=shape)\n",
    "    return tf.Variable(initial)"
   ]
  },
  {
   "cell_type": "code",
   "execution_count": 6,
   "metadata": {},
   "outputs": [],
   "source": [
    "# 卷积层 conv2d是一个二维的卷积操作。\n",
    "def conv2d(x, W):\n",
    "    # x input tensor of shape [batch, in_height, in_width, in_channels]\n",
    "    # filter/kernel tensor of shape [filter_height, filter_width, in_channels, out_channels]\n",
    "    # strides[0] = strides[3] =1  strides[1]表示x方向的步长，strides[2]表示y方向的步长\n",
    "    # padding: A string from : \"SAME\", \"VALID\"\n",
    "    return tf.nn.conv2d(x, W, strides=[1,1,1,1], padding='SAME')"
   ]
  },
  {
   "cell_type": "markdown",
   "metadata": {},
   "source": [
    "Signature:   \n",
    "**tf.nn.conv2d(input, filter, strides, padding, use_cudnn_on_gpu=True, data_format='NHWC', dilations=[1, 1, 1, 1], name=None)**\n",
    "\n",
    "Docstring:\n",
    "Computes a 2-D convolution given 4-D `input` and `filter` tensors."
   ]
  },
  {
   "cell_type": "code",
   "execution_count": 7,
   "metadata": {},
   "outputs": [],
   "source": [
    "# 池化层\n",
    "def max_pool_2x2(x):\n",
    "    # ksize [1, x, y , 1]\n",
    "    return tf.nn.max_pool(x, ksize=[1,2,2,1], strides=[1,2,2,1], padding='SAME')"
   ]
  },
  {
   "cell_type": "markdown",
   "metadata": {},
   "source": [
    "Signature:     \n",
    "tf.nn.max_pool(value, ksize, strides, padding, data_format='NHWC', name=None)\n",
    "\n",
    "Docstring:\n",
    "Performs the max pooling on the input.\n",
    "\n",
    "参数是四个，和卷积很类似：\n",
    "\n",
    "\n",
    "- 第一个参数value：\n",
    "需要池化的输入，一般池化层接在卷积层后面，所以输入通常是feature map，依然是[batch, height, width, channels]这样的shape。\n",
    "\n",
    "- 第二个参数ksize： \n",
    "池化窗口的大小，取一个四维向量，一般是[1, height, width, 1]，因为我们不想在batch和channels上做池化，所以这两个维度设为了1。\n",
    "\n",
    "- 第三个参数strides：\n",
    "和卷积类似，窗口在每一个维度上滑动的步长，一般也是[1, stride,stride, 1]。\n",
    "\n",
    "- 第四个参数padding：\n",
    "和卷积类似，可以取'VALID' 或者'SAME'。\n",
    "\n",
    "返回一个Tensor，类型不变，shape仍然是[batch, height, width, channels]这种形式。\n",
    "\n"
   ]
  },
  {
   "cell_type": "code",
   "execution_count": 8,
   "metadata": {},
   "outputs": [],
   "source": [
    "# 定义两个placeholder\n",
    "x = tf.placeholder(tf.float32, [None, 784]) # 28x28=784\n",
    "y = tf.placeholder(tf.float32, [None, 10])"
   ]
  },
  {
   "cell_type": "code",
   "execution_count": 9,
   "metadata": {},
   "outputs": [],
   "source": [
    "# 改变x的格式，转化为4D的向量[batch, in_height, in_width, in_channels]\n",
    "x_image = tf.reshape(x, [-1, 28, 28, 1])"
   ]
  },
  {
   "cell_type": "code",
   "execution_count": 10,
   "metadata": {},
   "outputs": [],
   "source": [
    "# 初始化第一个卷积层的权值和偏置\n",
    "W_conv1 = weight_variable([5,5,1,32]) # 5x4的采样窗口，32个卷积核从1个平面中抽取特征。\n",
    "b_conv1 = bias_variable([32]) # 每一个卷积核一个偏置值"
   ]
  },
  {
   "cell_type": "code",
   "execution_count": 11,
   "metadata": {},
   "outputs": [],
   "source": [
    "# 把x_image和权值向量进行卷积，再加上偏置值，然后应用于relu激活函数\n",
    "h_conv1 = tf.nn.relu(conv2d(x_image, W_conv1) + b_conv1)"
   ]
  },
  {
   "cell_type": "markdown",
   "metadata": {},
   "source": [
    "tf.nn.conv2d(input, filter, strides, padding, use_cudnn_on_gpu=None, name=None)\n",
    "除去name参数用以指定该操作的name，与方法有关的一共五个参数：\n",
    "\n",
    "- 第一个参数input：\n",
    "指需要做卷积的输入图像，它要求是一个Tensor，\n",
    "具有[batch, in_height, in_width, in_channels]这样的shape，\n",
    "具体含义是[训练时一个batch的图片数量, 图片高度, 图片宽度, 图像通道数]，\n",
    "注意这是一个4维的Tensor，要求类型为float32和float64其中之一\n",
    "\n",
    "- 第二个参数filter：\n",
    "相当于CNN中的卷积核，它要求是一个Tensor，\n",
    "具有[filter_height, filter_width, in_channels, out_channels]这样的shape，\n",
    "具体含义是[卷积核的高度，卷积核的宽度，图像通道数，卷积核个数]，\n",
    "要求类型与参数input相同，有一个地方需要注意，第三维in_channels，就是参数input的第四维\n",
    "\n",
    "- 第三个参数strides：\n",
    "卷积时在图像每一维的步长，这是一个一维的向量，长度4\n",
    "\n",
    "- 第四个参数padding：\n",
    "string类型的量，只能是\"SAME\",\"VALID\"其中之一，这个值决定了不同的卷积方式。\n",
    "\n",
    "- 第五个参数：use_cudnn_on_gpu:\n",
    "bool类型，是否使用cudnn加速，默认为true\n",
    "\n",
    "结果返回一个Tensor，这个输出，就是我们常说的feature map，shape仍然是[batch, height, width, channels]这种形式。"
   ]
  },
  {
   "cell_type": "code",
   "execution_count": 12,
   "metadata": {},
   "outputs": [],
   "source": [
    "h_pool1 = max_pool_2x2(h_conv1) # 进行max-pooling"
   ]
  },
  {
   "cell_type": "code",
   "execution_count": 13,
   "metadata": {},
   "outputs": [],
   "source": [
    "# 初始化第二个卷积层的权值和偏置\n",
    "W_conv2 = weight_variable([5,5,32,64]) # 5x5的采样窗口，64个卷积核从32个平面抽取特征\n",
    "b_conv2 = bias_variable([64]) # 每一个卷积核一个偏置值\n",
    "\n",
    "# 将h_pool1和权值向量进行军啊即，再加上偏置值，然后应用于relu激活函数\n",
    "h_conv2 = tf.nn.relu(conv2d(h_pool1, W_conv2) + b_conv2)\n",
    "h_pool2 = max_pool_2x2(h_conv2)\n"
   ]
  },
  {
   "cell_type": "markdown",
   "metadata": {},
   "source": [
    "#### 28x28的图片第一次卷积后还是28x28，第一次池化后变成了14x14\n",
    "#### 第二次卷积后是14x14，第二次池化变为了7x7\n",
    "#### 经过上面操作后得到64张7x7的平面。"
   ]
  },
  {
   "cell_type": "code",
   "execution_count": 14,
   "metadata": {},
   "outputs": [],
   "source": [
    "# 初始化第一个全连接层的权值\n",
    "W_fc1 = weight_variable([7*7*64, 1024])    # 上一层有7x7x64个神经元，全连接层有1024个神经元\n",
    "b_fc1 = bias_variable([1024]) # 1024个节点"
   ]
  },
  {
   "cell_type": "code",
   "execution_count": 15,
   "metadata": {},
   "outputs": [],
   "source": [
    "# 把池化层2的输出flatten 展开为1维\n",
    "h_pool2_flat = tf.reshape(h_pool2, [-1, 7*7*64])"
   ]
  },
  {
   "cell_type": "code",
   "execution_count": 16,
   "metadata": {},
   "outputs": [],
   "source": [
    "# 求第一个全连接层的数据\n",
    "h_fc1 = tf.nn.relu(tf.matmul(h_pool2_flat, W_fc1) + b_fc1)"
   ]
  },
  {
   "cell_type": "code",
   "execution_count": 17,
   "metadata": {},
   "outputs": [],
   "source": [
    "# keep_prob用来表示神经元的输出概率\n",
    "keep_prob = tf.placeholder(tf.float32)\n",
    "h_fc1_drop = tf.nn.dropout(h_fc1, keep_prob)"
   ]
  },
  {
   "cell_type": "code",
   "execution_count": 18,
   "metadata": {},
   "outputs": [],
   "source": [
    "# 初始化第二个全连接层\n",
    "W_fc2 = weight_variable([1024,10])\n",
    "b_fc2 = bias_variable([10])\n",
    "\n",
    "# 输出\n",
    "prediction = tf.nn.softmax(tf.matmul(h_fc1_drop, W_fc2) + b_fc2)"
   ]
  },
  {
   "cell_type": "code",
   "execution_count": 19,
   "metadata": {},
   "outputs": [],
   "source": [
    "# 交叉熵代价函数\n",
    "cross_entropy = tf.reduce_mean(tf.nn.softmax_cross_entropy_with_logits_v2(labels=y, logits=prediction))"
   ]
  },
  {
   "cell_type": "code",
   "execution_count": 20,
   "metadata": {},
   "outputs": [],
   "source": [
    "# 使用AdamOptimizer进行优化\n",
    "train_step = tf.train.AdamOptimizer(1e-4).minimize(cross_entropy)"
   ]
  },
  {
   "cell_type": "code",
   "execution_count": 21,
   "metadata": {},
   "outputs": [],
   "source": [
    "# 结果存放在一个布尔型列表中\n",
    "correct_prediction = tf.equal(tf.argmax(y,1), tf.argmax(prediction,1))\n",
    "# 准确率\n",
    "accuracy = tf.reduce_mean(tf.cast(correct_prediction, tf.float32))"
   ]
  },
  {
   "cell_type": "code",
   "execution_count": 22,
   "metadata": {},
   "outputs": [
    {
     "name": "stdout",
     "output_type": "stream",
     "text": [
      "Iter0, Testing Accuracy=0.8646\n",
      "Iter1, Testing Accuracy=0.877\n",
      "Iter2, Testing Accuracy=0.9749\n",
      "Iter3, Testing Accuracy=0.9802\n",
      "Iter4, Testing Accuracy=0.9812\n",
      "Iter5, Testing Accuracy=0.9824\n",
      "Iter6, Testing Accuracy=0.9866\n",
      "Iter7, Testing Accuracy=0.9855\n",
      "Iter8, Testing Accuracy=0.9873\n",
      "Iter9, Testing Accuracy=0.9882\n",
      "Iter10, Testing Accuracy=0.9885\n",
      "Iter11, Testing Accuracy=0.989\n",
      "Iter12, Testing Accuracy=0.9895\n",
      "Iter13, Testing Accuracy=0.9902\n",
      "Iter14, Testing Accuracy=0.9893\n",
      "Iter15, Testing Accuracy=0.9895\n",
      "Iter16, Testing Accuracy=0.9898\n",
      "Iter17, Testing Accuracy=0.9907\n",
      "Iter18, Testing Accuracy=0.9904\n",
      "Iter19, Testing Accuracy=0.9907\n",
      "Iter20, Testing Accuracy=0.9901\n"
     ]
    }
   ],
   "source": [
    "with tf.Session() as sess:\n",
    "    sess.run(tf.global_variables_initializer())\n",
    "    \n",
    "    for epoch in range(21):\n",
    "        for batch in range(n_batch):\n",
    "            batch_xs, batch_ys = mnist.train.next_batch(batch_size)\n",
    "            sess.run(train_step, feed_dict={x: batch_xs, y: batch_ys, keep_prob: 0.7})\n",
    "            \n",
    "        acc = sess.run(accuracy, feed_dict={x: mnist.test.images, y: mnist.test.labels, keep_prob: 1.0})\n",
    "        print('Iter' + str(epoch) + ', Testing Accuracy=' + str(acc))"
   ]
  }
 ],
 "metadata": {
  "kernelspec": {
   "display_name": "Python 3",
   "language": "python",
   "name": "python3"
  },
  "language_info": {
   "codemirror_mode": {
    "name": "ipython",
    "version": 3
   },
   "file_extension": ".py",
   "mimetype": "text/x-python",
   "name": "python",
   "nbconvert_exporter": "python",
   "pygments_lexer": "ipython3",
   "version": "3.6.5"
  }
 },
 "nbformat": 4,
 "nbformat_minor": 2
}
