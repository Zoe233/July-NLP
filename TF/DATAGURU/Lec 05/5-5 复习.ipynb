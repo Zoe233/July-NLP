{
 "cells": [
  {
   "cell_type": "markdown",
   "metadata": {},
   "source": [
    "针对第4周作业：准确率提升到98%"
   ]
  },
  {
   "cell_type": "code",
   "execution_count": 1,
   "metadata": {},
   "outputs": [],
   "source": [
    "import os\n",
    "import tensorflow as tf\n",
    "from tensorflow.examples.tutorials.mnist import input_data"
   ]
  },
  {
   "cell_type": "code",
   "execution_count": 3,
   "metadata": {},
   "outputs": [
    {
     "name": "stdout",
     "output_type": "stream",
     "text": [
      "Extracting /Users/zoe/Documents/GitHub/July-NLP/TF/DATAGURU/Lec 05/MNIST_data/train-images-idx3-ubyte.gz\n",
      "Extracting /Users/zoe/Documents/GitHub/July-NLP/TF/DATAGURU/Lec 05/MNIST_data/train-labels-idx1-ubyte.gz\n",
      "Extracting /Users/zoe/Documents/GitHub/July-NLP/TF/DATAGURU/Lec 05/MNIST_data/t10k-images-idx3-ubyte.gz\n",
      "Extracting /Users/zoe/Documents/GitHub/July-NLP/TF/DATAGURU/Lec 05/MNIST_data/t10k-labels-idx1-ubyte.gz\n"
     ]
    }
   ],
   "source": [
    "# 载入数据集\n",
    "mnist = input_data.read_data_sets(os.path.join(os.getcwd(), 'MNIST_data'), one_hot=True)"
   ]
  },
  {
   "cell_type": "code",
   "execution_count": 4,
   "metadata": {},
   "outputs": [],
   "source": [
    "# 定义批次大小\n",
    "batch_size = 100\n",
    "#  计算一共有多少个批次\n",
    "n_batch = mnist.train.num_examples // batch_size"
   ]
  },
  {
   "cell_type": "code",
   "execution_count": 5,
   "metadata": {},
   "outputs": [],
   "source": [
    "# 定义两个placeholder\n",
    "x = tf.placeholder(tf.float32, [None, 784])\n",
    "y = tf.placeholder(tf.float32, [None, 10])"
   ]
  },
  {
   "cell_type": "code",
   "execution_count": 6,
   "metadata": {},
   "outputs": [],
   "source": [
    "# 定义Dropout的保留比例占位符\n",
    "keep_prob = tf.placeholder(tf.float32)"
   ]
  },
  {
   "cell_type": "code",
   "execution_count": 7,
   "metadata": {},
   "outputs": [],
   "source": [
    "# 定义一个lr的变量，初始值为0.01\n",
    "lr = tf.Variable(0.001, dtype=tf.float32)"
   ]
  },
  {
   "cell_type": "code",
   "execution_count": 9,
   "metadata": {},
   "outputs": [],
   "source": [
    "# 创建一个简单的神经网络\n",
    "W1 = tf.Variable(tf.truncated_normal([784, 500], stddev=0.1))\n",
    "b1 = tf.Variable(tf.zeros([500]) + 0.1)\n",
    "L1 = tf.nn.tanh(tf.matmul(x, W1) + b1)\n",
    "L1_drop = tf.nn.dropout(L1, keep_prob)"
   ]
  },
  {
   "cell_type": "code",
   "execution_count": 10,
   "metadata": {},
   "outputs": [],
   "source": [
    "W2 = tf.Variable(tf.truncated_normal([500, 300], stddev=0.1))\n",
    "b2 = tf.Variable(tf.zeros([300]) + 0.1)\n",
    "L2 = tf.nn.tanh(tf.matmul(L1_drop, W2) + b2)\n",
    "L2_drop = tf.nn.dropout(L2, keep_prob)"
   ]
  },
  {
   "cell_type": "code",
   "execution_count": 11,
   "metadata": {},
   "outputs": [],
   "source": [
    "W3 = tf.Variable(tf.truncated_normal([300, 10], stddev=0.1))\n",
    "b3 = tf.Variable(tf.zeros([10]) + 0.1)\n",
    "prediction = tf.nn.softmax(tf.matmul(L2_drop, W3) + b3)"
   ]
  },
  {
   "cell_type": "code",
   "execution_count": 15,
   "metadata": {},
   "outputs": [],
   "source": [
    "# 交叉熵代价函数\n",
    "loss = tf.reduce_mean(tf.nn.softmax_cross_entropy_with_logits_v2(labels=y, logits=prediction))"
   ]
  },
  {
   "cell_type": "code",
   "execution_count": 16,
   "metadata": {},
   "outputs": [],
   "source": [
    "# 训练\n",
    "train_step = tf.train.AdamOptimizer(lr).minimize(loss)"
   ]
  },
  {
   "cell_type": "code",
   "execution_count": 17,
   "metadata": {},
   "outputs": [],
   "source": [
    "# 初始化变量\n",
    "init = tf.global_variables_initializer()"
   ]
  },
  {
   "cell_type": "code",
   "execution_count": 18,
   "metadata": {},
   "outputs": [],
   "source": [
    "# 结果存放在一个布尔型列表中\n",
    "accuracy = tf.reduce_mean(tf.cast(tf.equal(tf.argmax(y,1), tf.argmax(prediction,1)), tf.float32))"
   ]
  },
  {
   "cell_type": "code",
   "execution_count": 21,
   "metadata": {},
   "outputs": [
    {
     "name": "stdout",
     "output_type": "stream",
     "text": [
      "Learning Rate: 0.001, Iter: 0,Testing Accuracy: 0.9516,Training Accuracy:0.9572727\n",
      "Learning Rate: 0.00095, Iter: 1,Testing Accuracy: 0.9621,Training Accuracy:0.9692364\n",
      "Learning Rate: 0.0009025, Iter: 2,Testing Accuracy: 0.9666,Training Accuracy:0.9748909\n",
      "Learning Rate: 0.000857375, Iter: 3,Testing Accuracy: 0.9718,Training Accuracy:0.98147273\n",
      "Learning Rate: 0.00081450626, Iter: 4,Testing Accuracy: 0.9735,Training Accuracy:0.9859818\n",
      "Learning Rate: 0.0007737809, Iter: 5,Testing Accuracy: 0.9721,Training Accuracy:0.9876909\n",
      "Learning Rate: 0.0007350919, Iter: 6,Testing Accuracy: 0.9751,Training Accuracy:0.9886909\n",
      "Learning Rate: 0.0006983373, Iter: 7,Testing Accuracy: 0.9777,Training Accuracy:0.99112725\n",
      "Learning Rate: 0.0006634204, Iter: 8,Testing Accuracy: 0.9749,Training Accuracy:0.9903273\n",
      "Learning Rate: 0.0006302494, Iter: 9,Testing Accuracy: 0.9758,Training Accuracy:0.99241817\n",
      "Learning Rate: 0.0005987369, Iter: 10,Testing Accuracy: 0.9774,Training Accuracy:0.9939091\n",
      "Learning Rate: 0.0005688001, Iter: 11,Testing Accuracy: 0.9762,Training Accuracy:0.9940182\n",
      "Learning Rate: 0.0005403601, Iter: 12,Testing Accuracy: 0.9789,Training Accuracy:0.9946909\n",
      "Learning Rate: 0.0005133421, Iter: 13,Testing Accuracy: 0.9774,Training Accuracy:0.995\n",
      "Learning Rate: 0.000487675, Iter: 14,Testing Accuracy: 0.9796,Training Accuracy:0.9951818\n",
      "Learning Rate: 0.00046329122, Iter: 15,Testing Accuracy: 0.9791,Training Accuracy:0.99536365\n",
      "Learning Rate: 0.00044012666, Iter: 16,Testing Accuracy: 0.9785,Training Accuracy:0.9955091\n",
      "Learning Rate: 0.00041812033, Iter: 17,Testing Accuracy: 0.9793,Training Accuracy:0.9958364\n",
      "Learning Rate: 0.00039721432, Iter: 18,Testing Accuracy: 0.9786,Training Accuracy:0.99585456\n",
      "Learning Rate: 0.0003773536, Iter: 19,Testing Accuracy: 0.9785,Training Accuracy:0.99596363\n",
      "Learning Rate: 0.00035848594, Iter: 20,Testing Accuracy: 0.9805,Training Accuracy:0.99634546\n",
      "Learning Rate: 0.00034056162, Iter: 21,Testing Accuracy: 0.9793,Training Accuracy:0.9963273\n",
      "Learning Rate: 0.00032353355, Iter: 22,Testing Accuracy: 0.9793,Training Accuracy:0.9964\n",
      "Learning Rate: 0.00030735688, Iter: 23,Testing Accuracy: 0.9802,Training Accuracy:0.99667275\n",
      "Learning Rate: 0.000291989, Iter: 24,Testing Accuracy: 0.9805,Training Accuracy:0.9967091\n",
      "Learning Rate: 0.00027738957, Iter: 25,Testing Accuracy: 0.9806,Training Accuracy:0.99676365\n",
      "Learning Rate: 0.0002635201, Iter: 26,Testing Accuracy: 0.9803,Training Accuracy:0.99685454\n",
      "Learning Rate: 0.00025034408, Iter: 27,Testing Accuracy: 0.9797,Training Accuracy:0.9969636\n",
      "Learning Rate: 0.00023782688, Iter: 28,Testing Accuracy: 0.981,Training Accuracy:0.9969818\n",
      "Learning Rate: 0.00022593554, Iter: 29,Testing Accuracy: 0.9803,Training Accuracy:0.99703634\n",
      "Learning Rate: 0.00021463877, Iter: 30,Testing Accuracy: 0.9809,Training Accuracy:0.9971091\n",
      "Learning Rate: 0.00020390682, Iter: 31,Testing Accuracy: 0.9809,Training Accuracy:0.99716365\n",
      "Learning Rate: 0.00019371149, Iter: 32,Testing Accuracy: 0.9808,Training Accuracy:0.99725455\n",
      "Learning Rate: 0.0001840259, Iter: 33,Testing Accuracy: 0.9803,Training Accuracy:0.99732727\n",
      "Learning Rate: 0.00017482461, Iter: 34,Testing Accuracy: 0.98,Training Accuracy:0.9973636\n",
      "Learning Rate: 0.00016608338, Iter: 35,Testing Accuracy: 0.9802,Training Accuracy:0.9973818\n",
      "Learning Rate: 0.00015777921, Iter: 36,Testing Accuracy: 0.9816,Training Accuracy:0.9973818\n",
      "Learning Rate: 0.00014989026, Iter: 37,Testing Accuracy: 0.9803,Training Accuracy:0.9974\n",
      "Learning Rate: 0.00014239574, Iter: 38,Testing Accuracy: 0.9809,Training Accuracy:0.9974\n",
      "Learning Rate: 0.00013527596, Iter: 39,Testing Accuracy: 0.9805,Training Accuracy:0.99743634\n",
      "Learning Rate: 0.00012851215, Iter: 40,Testing Accuracy: 0.9806,Training Accuracy:0.9974545\n",
      "Learning Rate: 0.00012208655, Iter: 41,Testing Accuracy: 0.9802,Training Accuracy:0.9974909\n",
      "Learning Rate: 0.00011598222, Iter: 42,Testing Accuracy: 0.9803,Training Accuracy:0.99750906\n",
      "Learning Rate: 0.00011018311, Iter: 43,Testing Accuracy: 0.9805,Training Accuracy:0.9975455\n",
      "Learning Rate: 0.000104673956, Iter: 44,Testing Accuracy: 0.9807,Training Accuracy:0.99756366\n",
      "Learning Rate: 9.944026e-05, Iter: 45,Testing Accuracy: 0.9812,Training Accuracy:0.99758184\n",
      "Learning Rate: 9.446825e-05, Iter: 46,Testing Accuracy: 0.9814,Training Accuracy:0.9976182\n",
      "Learning Rate: 8.974483e-05, Iter: 47,Testing Accuracy: 0.981,Training Accuracy:0.9976182\n",
      "Learning Rate: 8.525759e-05, Iter: 48,Testing Accuracy: 0.9813,Training Accuracy:0.99765456\n",
      "Learning Rate: 8.099471e-05, Iter: 49,Testing Accuracy: 0.9813,Training Accuracy:0.99765456\n"
     ]
    }
   ],
   "source": [
    "with tf.Session() as sess:\n",
    "    sess.run(init)\n",
    "    \n",
    "    for epoch in range(50):\n",
    "        sess.run(tf.assign(lr, 0.001 * (0.95 ** epoch)))\n",
    "        \n",
    "        for batch in range(n_batch):\n",
    "            batch_xs, batch_ys = mnist.train.next_batch(batch_size)\n",
    "            sess.run(train_step, feed_dict={x:batch_xs, y: batch_ys, keep_prob:1.0})\n",
    "        \n",
    "        learning_rate = sess.run(lr)\n",
    "        test_acc = sess.run(accuracy, feed_dict={x:mnist.test.images, y: mnist.test.labels, keep_prob:1.0})\n",
    "        train_acc = sess.run(accuracy, feed_dict={x:mnist.train.images, y: mnist.train.labels, keep_prob:1.0})\n",
    "        \n",
    "        print('Learning Rate: '+ str(learning_rate)+\", Iter: \" + str(epoch) + \",Testing Accuracy: \" + str(test_acc) +',Training Accuracy:' + str(train_acc))\n",
    "\n"
   ]
  },
  {
   "cell_type": "markdown",
   "metadata": {},
   "source": [
    "---"
   ]
  },
  {
   "cell_type": "markdown",
   "metadata": {},
   "source": [
    "tensorboard 网络结构复习"
   ]
  },
  {
   "cell_type": "code",
   "execution_count": 2,
   "metadata": {},
   "outputs": [],
   "source": [
    "import os\n",
    "import tensorflow as tf\n",
    "from tensorflow.examples.tutorials.mnist import input_data"
   ]
  },
  {
   "cell_type": "code",
   "execution_count": 4,
   "metadata": {},
   "outputs": [
    {
     "name": "stdout",
     "output_type": "stream",
     "text": [
      "Extracting /Users/zoe/Documents/GitHub/July-NLP/TF/DATAGURU/Lec 05/MNIst_data/train-images-idx3-ubyte.gz\n",
      "Extracting /Users/zoe/Documents/GitHub/July-NLP/TF/DATAGURU/Lec 05/MNIst_data/train-labels-idx1-ubyte.gz\n",
      "Extracting /Users/zoe/Documents/GitHub/July-NLP/TF/DATAGURU/Lec 05/MNIst_data/t10k-images-idx3-ubyte.gz\n",
      "Extracting /Users/zoe/Documents/GitHub/July-NLP/TF/DATAGURU/Lec 05/MNIst_data/t10k-labels-idx1-ubyte.gz\n"
     ]
    }
   ],
   "source": [
    "# 载入数据集\n",
    "mnist = input_data.read_data_sets(os.path.join(os.getcwd(), 'MNIst_data'), one_hot=True)"
   ]
  },
  {
   "cell_type": "code",
   "execution_count": 5,
   "metadata": {},
   "outputs": [],
   "source": [
    "# 定义每个批次的大小\n",
    "batch_size = 100\n",
    "# 计算一共有多少个批次\n",
    "n_batch = mnist.train.num_examples // batch_size"
   ]
  },
  {
   "cell_type": "code",
   "execution_count": 6,
   "metadata": {},
   "outputs": [],
   "source": [
    "# 为了可视化神经网络结构\n",
    "# 先要定义一个命名空间\n",
    "with tf.name_scope('input'):\n",
    "    # 定义两个占位符\n",
    "    x = tf.placeholder(tf.float32, [None, 784], name='x-input')\n",
    "    y = tf.placeholder(tf.float32, [None, 10], name='y-input')\n",
    "    "
   ]
  },
  {
   "cell_type": "code",
   "execution_count": 7,
   "metadata": {},
   "outputs": [],
   "source": [
    "# 在定义layer层的命名空间\n",
    "with tf.name_scope('layer'):\n",
    "    \n",
    "    # 在命名空间layer下面还可以再定义 命名空间。\n",
    "    with tf.name_scope('Weights'):\n",
    "        W = tf.Variable(tf.truncated_normal([784, 10], stddev=0.1), name='W')\n",
    "    with tf.name_scope('Biases'):\n",
    "        b = tf.Variable(tf.zeros([10])+0.1)\n",
    "    with tf.name_scope('wx_plus_b'):\n",
    "        wx_plus_b = tf.matmul(x, W)  + b\n",
    "    with tf.name_scope('softmax'):\n",
    "        prediction = tf.nn.softmax(wx_plus_b)\n",
    "        "
   ]
  },
  {
   "cell_type": "code",
   "execution_count": 8,
   "metadata": {},
   "outputs": [],
   "source": [
    "with tf.name_scope('loss'):\n",
    "    loss = tf.reduce_mean(tf.nn.softmax_cross_entropy_with_logits_v2(labels=y, logits=prediction))"
   ]
  },
  {
   "cell_type": "code",
   "execution_count": 9,
   "metadata": {},
   "outputs": [],
   "source": [
    "with tf.name_scope('train'):\n",
    "    train_step = tf.train.GradientDescentOptimizer(0.2).minimize(loss)"
   ]
  },
  {
   "cell_type": "code",
   "execution_count": 10,
   "metadata": {},
   "outputs": [],
   "source": [
    "init = tf.global_variables_initializer()"
   ]
  },
  {
   "cell_type": "code",
   "execution_count": 11,
   "metadata": {},
   "outputs": [],
   "source": [
    "with tf.name_scope('accuracy'):\n",
    "    with tf.name_scope('correct_prediction'):\n",
    "        correct_prediction = tf.equal(tf.argmax(y,1), tf.argmax(prediction, 1))\n",
    "    with tf.name_scope('accuracy'):\n",
    "        accuracy = tf.reduce_mean(tf.cast(correct_prediction, tf.float32))"
   ]
  },
  {
   "cell_type": "code",
   "execution_count": 12,
   "metadata": {},
   "outputs": [
    {
     "name": "stdout",
     "output_type": "stream",
     "text": [
      "Iter 0,Testing Accuracy 0.8112\n"
     ]
    }
   ],
   "source": [
    "with tf.Session() as sess:\n",
    "    sess.run(init)\n",
    "    \n",
    "    # 存放图结构\n",
    "    writer = tf.summary.FileWriter('logs/', sess.graph)\n",
    "\n",
    "    for epoch in range(1):\n",
    "        for batch in range(n_batch):\n",
    "            batch_xs, batch_ys = mnist.train.next_batch(batch_size)\n",
    "            sess.run(train_step, feed_dict={x: batch_xs, y: batch_ys})\n",
    "        \n",
    "        acc = sess.run(accuracy, feed_dict ={x:mnist.test.images, y: mnist.test.labels})\n",
    "        print(\"Iter \" + str(epoch) + \",Testing Accuracy \" + str(acc))\n",
    "\n"
   ]
  },
  {
   "cell_type": "code",
   "execution_count": null,
   "metadata": {},
   "outputs": [],
   "source": []
  }
 ],
 "metadata": {
  "kernelspec": {
   "display_name": "Python 3",
   "language": "python",
   "name": "python3"
  },
  "language_info": {
   "codemirror_mode": {
    "name": "ipython",
    "version": 3
   },
   "file_extension": ".py",
   "mimetype": "text/x-python",
   "name": "python",
   "nbconvert_exporter": "python",
   "pygments_lexer": "ipython3",
   "version": "3.6.5"
  }
 },
 "nbformat": 4,
 "nbformat_minor": 2
}
