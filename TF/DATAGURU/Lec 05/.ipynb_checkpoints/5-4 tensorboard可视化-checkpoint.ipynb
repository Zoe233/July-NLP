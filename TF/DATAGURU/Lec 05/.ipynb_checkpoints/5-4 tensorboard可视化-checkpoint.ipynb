{
 "cells": [
  {
   "cell_type": "code",
   "execution_count": 1,
   "metadata": {},
   "outputs": [],
   "source": [
    "import os\n",
    "import tensorflow as tf\n",
    "from tensorflow.examples.tutorials.mnist import input_data\n",
    "from tensorflow.contrib.tensorboard.plugins import projector  # 用于可视化"
   ]
  },
  {
   "cell_type": "code",
   "execution_count": 2,
   "metadata": {},
   "outputs": [
    {
     "name": "stdout",
     "output_type": "stream",
     "text": [
      "WARNING:tensorflow:From <ipython-input-2-9a4321f5351b>:2: read_data_sets (from tensorflow.contrib.learn.python.learn.datasets.mnist) is deprecated and will be removed in a future version.\n",
      "Instructions for updating:\n",
      "Please use alternatives such as official/mnist/dataset.py from tensorflow/models.\n",
      "WARNING:tensorflow:From /Users/zoe/anaconda3/lib/python3.6/site-packages/tensorflow/contrib/learn/python/learn/datasets/mnist.py:260: maybe_download (from tensorflow.contrib.learn.python.learn.datasets.base) is deprecated and will be removed in a future version.\n",
      "Instructions for updating:\n",
      "Please write your own downloading logic.\n",
      "WARNING:tensorflow:From /Users/zoe/anaconda3/lib/python3.6/site-packages/tensorflow/contrib/learn/python/learn/datasets/mnist.py:262: extract_images (from tensorflow.contrib.learn.python.learn.datasets.mnist) is deprecated and will be removed in a future version.\n",
      "Instructions for updating:\n",
      "Please use tf.data to implement this functionality.\n",
      "Extracting /Users/zoe/Documents/GitHub/July-NLP/TF/DATAGURU/Lec 05/MNIST_data/train-images-idx3-ubyte.gz\n",
      "WARNING:tensorflow:From /Users/zoe/anaconda3/lib/python3.6/site-packages/tensorflow/contrib/learn/python/learn/datasets/mnist.py:267: extract_labels (from tensorflow.contrib.learn.python.learn.datasets.mnist) is deprecated and will be removed in a future version.\n",
      "Instructions for updating:\n",
      "Please use tf.data to implement this functionality.\n",
      "Extracting /Users/zoe/Documents/GitHub/July-NLP/TF/DATAGURU/Lec 05/MNIST_data/train-labels-idx1-ubyte.gz\n",
      "WARNING:tensorflow:From /Users/zoe/anaconda3/lib/python3.6/site-packages/tensorflow/contrib/learn/python/learn/datasets/mnist.py:110: dense_to_one_hot (from tensorflow.contrib.learn.python.learn.datasets.mnist) is deprecated and will be removed in a future version.\n",
      "Instructions for updating:\n",
      "Please use tf.one_hot on tensors.\n",
      "Extracting /Users/zoe/Documents/GitHub/July-NLP/TF/DATAGURU/Lec 05/MNIST_data/t10k-images-idx3-ubyte.gz\n",
      "Extracting /Users/zoe/Documents/GitHub/July-NLP/TF/DATAGURU/Lec 05/MNIST_data/t10k-labels-idx1-ubyte.gz\n",
      "WARNING:tensorflow:From /Users/zoe/anaconda3/lib/python3.6/site-packages/tensorflow/contrib/learn/python/learn/datasets/mnist.py:290: DataSet.__init__ (from tensorflow.contrib.learn.python.learn.datasets.mnist) is deprecated and will be removed in a future version.\n",
      "Instructions for updating:\n",
      "Please use alternatives such as official/mnist/dataset.py from tensorflow/models.\n"
     ]
    }
   ],
   "source": [
    "# 载入数据集\n",
    "mnist = input_data.read_data_sets(os.path.join(os.getcwd(), 'MNIST_data'), one_hot=True)"
   ]
  },
  {
   "cell_type": "code",
   "execution_count": 3,
   "metadata": {},
   "outputs": [],
   "source": [
    "# 运行次数\n",
    "max_steps = 1001\n",
    "# 图片数量\n",
    "image_num = 3000\n",
    "# 文件路径\n",
    "DIR = os.getcwd()"
   ]
  },
  {
   "cell_type": "code",
   "execution_count": 4,
   "metadata": {},
   "outputs": [],
   "source": [
    "# 定义会话\n",
    "sess = tf.Session()"
   ]
  },
  {
   "cell_type": "code",
   "execution_count": 5,
   "metadata": {},
   "outputs": [],
   "source": [
    "# 载入图片\n",
    "embedding = tf.Variable(tf.stack(mnist.test.images[:image_num]), trainable=False, name='embedding')"
   ]
  },
  {
   "cell_type": "code",
   "execution_count": 6,
   "metadata": {},
   "outputs": [],
   "source": [
    "# 参数概要\n",
    "def variable_summaries(var):\n",
    "    with tf.name_scope('summaries'):\n",
    "        mean = tf.reduce_mean(var)\n",
    "        tf.summary.scalar('mean', mean)\n",
    "        \n",
    "        with tf.name_scope('stddev'):\n",
    "            stddev = tf.sqrt(tf.reduce_mean(tf.square(var-mean)))\n",
    "        tf.summary.scalar('stddev', stddev)\n",
    "        \n",
    "        tf.summary.scalar('max', tf.reduce_max(var))\n",
    "        tf.summary.scalar('min', tf.reduce_min(var))\n",
    "        tf.summary.histogram('histogram', var)"
   ]
  },
  {
   "cell_type": "code",
   "execution_count": 7,
   "metadata": {},
   "outputs": [],
   "source": [
    "with tf.name_scope('input'):\n",
    "    x = tf.placeholder(tf.float32, [None, 784], name='x-input')\n",
    "    y = tf.placeholder(tf.float32, [None, 10], name='y-input')"
   ]
  },
  {
   "cell_type": "code",
   "execution_count": 8,
   "metadata": {},
   "outputs": [],
   "source": [
    "# 显示图片\n",
    "with tf.name_scope('input_reshape'):\n",
    "    image_shaped_input = tf.reshape(x, [-1, 28, 28, 1])\n",
    "    # tf.reshape的shape的参数，第一个-1对应None，不知道多少个的向量实例\n",
    "    # 28，28 表示将784的图片重新分成28*28的矩阵\n",
    "    # 1 表示 维度是1，这里的图片是黑白图片\n",
    "    # 如果是三原色的彩色图片，那这里的维度就是3\n",
    "    \n",
    "    tf.summary.image('input', image_shaped_input, 10)\n",
    "    "
   ]
  },
  {
   "cell_type": "markdown",
   "metadata": {},
   "source": [
    "tf.summary.image(\n",
    "\n",
    "    name,\n",
    "    tensor,\n",
    "    max_outputs=3,\n",
    "    collections=None,\n",
    "    family=None\n",
    ")\n",
    "\n",
    "定义于：tensorflow/python/summary/summary.py\n",
    "\n",
    "输出Summary带有图像的协议缓冲区。\n",
    "\n",
    "构建的图像的Tensor必须是4-D形状[batch_size, height, width, channels], 其中channels可以是：\n",
    "\n",
    "1： tensor被解析成灰度图像。\n",
    "\n",
    "3：tensor被解析成RGB图像。\n",
    "\n",
    "4：tensor被解析成RGBA图像\n",
    "\n",
    "图像具有与输入张量相同的通道数。对于浮点输入，将值一次标准化为一个在[0, 255], uint8值不变。op使用两种不同的规范化算法：\n",
    "\n",
    "\n",
    "\t如果输入值都是正数，则重新调整它们，因此最大值为255。\n",
    "\t\n",
    "\t\n",
    "\t如果任何输入值为负，则移动值，使输入值0.0为127.然后重新调整它们，使得最小值为0，或者最大值为255。\n",
    "\t\n",
    "参数：\n",
    "\n",
    "name：生成的节点的名称。也将作为TensorBoard中的系列名称。\n",
    "\n",
    "tensor：uint8或者float32型的4-D Tensor[batch_size, height, width, channels]，其中channels为1， 3 或者4。\n",
    "\n",
    "max_outpus：要生成图像的最大批处理元素数。\n",
    "\n",
    "collections：ops.GraphKeys的可选列表。要添加摘要的集合。默认为[_ops.GraphKeys.SUMMARIES]。\n",
    "\n",
    "family：可选的; 如果提供，则用作摘要标记名称的前缀，该名称控制用于在Tensorboard上显示的选项卡名称。\n",
    "\n",
    "返回值：\n",
    "\n",
    "Tensor：string类型的序列化Summary协议缓冲区。\n",
    "\n",
    "tf.summary.image('images_with_distorted_bounding_box',image_with_distorted_box)"
   ]
  },
  {
   "cell_type": "code",
   "execution_count": 9,
   "metadata": {},
   "outputs": [],
   "source": [
    "with tf.name_scope('layer'):\n",
    "    with tf.name_scope('weights'):\n",
    "        # W = tf.Variable(tf.truncated_normal([784,10]), name='W')\n",
    "        W = tf.Variable(tf.zeros([784,10]), name='W')\n",
    "        variable_summaries(W)\n",
    "    with tf.name_scope(\"biases\"):\n",
    "        # b = tf.Variable(tf.zeros([10])+0.1, name='b')\n",
    "        b = tf.Variable(tf.zeros([10]), name='b')\n",
    "        variable_summaries(b)\n",
    "    with tf.name_scope('wx_plus_b'):\n",
    "        wx_plus_b = tf.matmul(x,W) + b\n",
    "    with tf.name_scope('softmax'):\n",
    "        prediction = tf.nn.softmax(wx_plus_b)"
   ]
  },
  {
   "cell_type": "code",
   "execution_count": 10,
   "metadata": {},
   "outputs": [],
   "source": [
    "with tf.name_scope('loss'):\n",
    "    loss = tf.reduce_mean(tf.nn.softmax_cross_entropy_with_logits_v2(labels=y, logits=prediction))\n",
    "    tf.summary.scalar('loss', loss)"
   ]
  },
  {
   "cell_type": "code",
   "execution_count": 11,
   "metadata": {},
   "outputs": [],
   "source": [
    "with tf.name_scope('train'):\n",
    "    train_step = tf.train.GradientDescentOptimizer(0.5).minimize(loss)"
   ]
  },
  {
   "cell_type": "code",
   "execution_count": 12,
   "metadata": {},
   "outputs": [],
   "source": [
    "sess.run(tf.global_variables_initializer())"
   ]
  },
  {
   "cell_type": "code",
   "execution_count": 13,
   "metadata": {},
   "outputs": [],
   "source": [
    "with tf.name_scope('accuracy'):\n",
    "    with tf.name_scope('correct_prediction'):\n",
    "        correct_prediction = tf.equal(tf.argmax(y,1), tf.argmax(prediction, 1))\n",
    "    with tf.name_scope('accuracy'):\n",
    "        accuracy = tf.reduce_mean(tf.cast(correct_prediction, tf.float32))\n",
    "        tf.summary.scalar('accuracy', accuracy)"
   ]
  },
  {
   "cell_type": "code",
   "execution_count": 14,
   "metadata": {},
   "outputs": [],
   "source": [
    "# 产生metadata文件\n",
    "if tf.gfile.Exists(DIR + '/projector/projectpr/metadata.tsv'):\n",
    "    tf.gfile.DeleteRecursively(DIR + '/projector/projectpr/metadata.tsv')\n",
    "\n",
    "with open(DIR + '/projector/projector/metadata.tsv', 'w') as f:\n",
    "    labels = sess.run(tf.argmax(mnist.test.labels[:], 1))\n",
    "    for i in range(image_num):\n",
    "        f.write(str(labels[i]) + '\\n')"
   ]
  },
  {
   "cell_type": "code",
   "execution_count": 15,
   "metadata": {},
   "outputs": [],
   "source": [
    "# 合并所有的summary\n",
    "merged = tf.summary.merge_all()"
   ]
  },
  {
   "cell_type": "markdown",
   "metadata": {},
   "source": [
    "tf.summary.merge_all()的坑\n",
    "- 1. 自动管理模式    \n",
    "注意：自动管理模式下，导入已保存的模型继续训练时，会抛异常，该种场景下建议使用手动模式\n",
    "\n",
    "summary_writer = tf.summary.FileWriter('./result/',  flush_secs=60)       \n",
    "summary_writer.add_graph(sess.graph)  #添加graph图     \n",
    "tf.summary.scalar('loss', loss)      \n",
    "tf.summary.scalar('accuracy', accuracy)   \n",
    "sum_ops = tf.summary.merge_all() #自动管理    \n",
    "metall = sess.run(sum_ops, feed_dict={X: batch_x_test, Y: batch_y_test, keep_prob: 1.})    \n",
    "\n",
    "summary_writer.add_summary(metall, global_step=step)  # 写入文件</code>  \n",
    "\n",
    "- 2. 手动管理模式    \n",
    "\n",
    "summary_writer = tf.summary.FileWriter(path, flush_secs=60)     \n",
    "summary_writer.add_graph(sess.graph)   \n",
    "loss_scalar = tf.summary.scalar('loss', loss)    \n",
    "accuracy_sacalar = tf.summary.scalar('accuracy', accuracy)    \n",
    "loss_metall, accuracy_metall, = sess.run([loss_scalar, accuracy_scalar], feed_dict={X: batch_x_test, Y: batch_y_test, keep_prob: 1.})     \n",
    "\n",
    "summary_writer.add_summary(loss_metall, global_step=step)    \n",
    "summary_writer.add_summary(accuracy_metall, global_step = step)  "
   ]
  },
  {
   "cell_type": "code",
   "execution_count": 16,
   "metadata": {},
   "outputs": [],
   "source": [
    "# embeddings可视化的主要所需文件\n",
    "\n",
    "# 图结构\n",
    "projector_writer = tf.summary.FileWriter(DIR + '/projector/projector', sess.graph)\n",
    "\n",
    "saver = tf.train.Saver()\n",
    "\n",
    "# 定义配置项\n",
    "config = projector.ProjectorConfig()\n",
    "embed = config.embeddings.add()\n",
    "embed.tensor_name = embedding.name\n",
    "embed.metadata_path = DIR + '/projector/projector/metadata.tsv'\n",
    "embed.sprite.image_path = DIR + '/projector/data/mnist_10k_sprite.png'\n",
    "embed.sprite.single_image_dim.extend([28,28])\n",
    "projector.visualize_embeddings(projector_writer, config)\n"
   ]
  },
  {
   "cell_type": "code",
   "execution_count": 17,
   "metadata": {},
   "outputs": [
    {
     "name": "stdout",
     "output_type": "stream",
     "text": [
      "Iter 0, Testing Accuracy= 0.3346\n",
      "Iter 100, Testing Accuracy= 0.8061\n",
      "Iter 200, Testing Accuracy= 0.8198\n",
      "Iter 300, Testing Accuracy= 0.8299\n",
      "Iter 400, Testing Accuracy= 0.8802\n",
      "Iter 500, Testing Accuracy= 0.8921\n",
      "Iter 600, Testing Accuracy= 0.8971\n",
      "Iter 700, Testing Accuracy= 0.9019\n",
      "Iter 800, Testing Accuracy= 0.9035\n",
      "Iter 900, Testing Accuracy= 0.9067\n",
      "Iter 1000, Testing Accuracy= 0.9062\n"
     ]
    }
   ],
   "source": [
    "for i in range(max_steps):\n",
    "    batch_xs, batch_ys = mnist.train.next_batch(100)\n",
    "    \n",
    "    run_options = tf.RunOptions(trace_level=tf.RunOptions.FULL_TRACE)\n",
    "    run_metadata = tf.RunMetadata()\n",
    "    summary, _ = sess.run([merged, train_step] , feed_dict={x:batch_xs, y: batch_ys}, \n",
    "                          options=run_options, run_metadata=run_metadata)\n",
    "    projector_writer.add_run_metadata(run_metadata, 'step%03d' % i)\n",
    "    projector_writer.add_summary(summary, i)\n",
    "    \n",
    "    if i %100 ==0:\n",
    "        acc = sess.run(accuracy, feed_dict={x:mnist.test.images, y:mnist.test.labels})\n",
    "        print (\"Iter \" + str(i) + \", Testing Accuracy= \" + str(acc))\n",
    "    \n",
    "saver.save(sess, DIR+'/projector/projector/a_model.ckpt', global_step=max_steps)\n",
    "projector_writer.close()\n",
    "sess.close()"
   ]
  },
  {
   "cell_type": "markdown",
   "metadata": {},
   "source": [
    "官方embeddings可视化示例：\n",
    "https://www.tensorflow.org/guide/embedding\n",
    "\n",
    "https://www.tensorflow.org/guide/summaries_and_tensorboard"
   ]
  },
  {
   "cell_type": "code",
   "execution_count": null,
   "metadata": {},
   "outputs": [],
   "source": []
  }
 ],
 "metadata": {
  "kernelspec": {
   "display_name": "Python 3",
   "language": "python",
   "name": "python3"
  },
  "language_info": {
   "codemirror_mode": {
    "name": "ipython",
    "version": 3
   },
   "file_extension": ".py",
   "mimetype": "text/x-python",
   "name": "python",
   "nbconvert_exporter": "python",
   "pygments_lexer": "ipython3",
   "version": "3.6.5"
  }
 },
 "nbformat": 4,
 "nbformat_minor": 2
}
