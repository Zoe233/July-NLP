{
 "cells": [
  {
   "cell_type": "code",
   "execution_count": 2,
   "metadata": {},
   "outputs": [],
   "source": [
    "import tensorflow as tf"
   ]
  },
  {
   "cell_type": "code",
   "execution_count": 6,
   "metadata": {},
   "outputs": [
    {
     "name": "stdout",
     "output_type": "stream",
     "text": [
      "没有开始tf.Session(): Tensor(\"MatMul_2:0\", shape=(1, 1), dtype=int32)\n"
     ]
    }
   ],
   "source": [
    "# 创建一个常量op\n",
    "m1 = tf.constant([[3, 3]])\n",
    "# 创建一个常量op\n",
    "m2 = tf.constant([[2], [3]])\n",
    "\n",
    "# 创建一个矩阵乘法op, 把m1和m2传入\n",
    "product = tf.matmul(m1, m2)\n",
    "\n",
    "print('没有开始tf.Session():', product)"
   ]
  },
  {
   "cell_type": "code",
   "execution_count": 8,
   "metadata": {},
   "outputs": [
    {
     "name": "stdout",
     "output_type": "stream",
     "text": [
      "[[15]]\n"
     ]
    }
   ],
   "source": [
    "# 定义一个会话，启动默认图\n",
    "sess = tf.Session()\n",
    "\n",
    "# 调用sess的run方法来执行矩阵乘法op\n",
    "# run(product)触发了图中的3个op\n",
    "result = sess.run(product)\n",
    "print(result)\n",
    "sess.close()\n"
   ]
  },
  {
   "cell_type": "code",
   "execution_count": 9,
   "metadata": {},
   "outputs": [
    {
     "name": "stdout",
     "output_type": "stream",
     "text": [
      "[[15]]\n"
     ]
    }
   ],
   "source": [
    "# 定义一个会话，启动默认图\n",
    "with tf.Session() as sess:\n",
    "    # 调用sess的run方法来执行矩阵乘法op\n",
    "    # run(product)触发了图中的3个op\n",
    "    result = sess.run(product)\n",
    "    print(result)"
   ]
  },
  {
   "cell_type": "code",
   "execution_count": null,
   "metadata": {},
   "outputs": [],
   "source": []
  }
 ],
 "metadata": {
  "kernelspec": {
   "display_name": "Python 3",
   "language": "python",
   "name": "python3"
  },
  "language_info": {
   "codemirror_mode": {
    "name": "ipython",
    "version": 3
   },
   "file_extension": ".py",
   "mimetype": "text/x-python",
   "name": "python",
   "nbconvert_exporter": "python",
   "pygments_lexer": "ipython3",
   "version": "3.6.5"
  }
 },
 "nbformat": 4,
 "nbformat_minor": 2
}
