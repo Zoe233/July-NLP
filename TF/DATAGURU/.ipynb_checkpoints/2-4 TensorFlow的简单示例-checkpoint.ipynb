{
 "cells": [
  {
   "cell_type": "code",
   "execution_count": null,
   "metadata": {},
   "outputs": [],
   "source": [
    "import tensorflow as tf\n",
    "import numpy as np"
   ]
  },
  {
   "cell_type": "code",
   "execution_count": null,
   "metadata": {},
   "outputs": [],
   "source": [
    "# 样本：\n",
    "# 使用numpy生成100个随机点，[0, 1) 均匀分布uniform distribution\n",
    "x_data = np.random.rand(100)\n",
    "y_data = x_data*0.1 + 0.2 \n",
    "\n",
    "# 构造一个线性模型\n",
    "# 这里k和b的变量的初始值随机，相当于算法在迭代获得最小化损失函数时的参数初始化\n",
    "# 目标，y 和 样本的线性模型近似，损失函数极小化\n",
    "b = tf.Variable(1.)\n",
    "k = tf.Variable(0.)\n",
    "y = k*x_data + b \n",
    "\n",
    "\n",
    "# 二次代价函数：均方差MSE\n",
    "# （预测值-真实值）的平方和 最后求平均值\n",
    "# tf.reduce_mean 给出的axis在input_tensor上求平均值\n",
    "loss = tf.reduce_mean(tf.square(y_data - y))\n",
    "\n",
    "# 定义一个梯度下降法来进行训练的优化器\n",
    "# 0.2是学习率\n",
    "optimizer = tf.train.GradientDescentOptimizer(0.2)\n",
    "\n",
    "# 训练目标：最小化代价函数\n",
    "train = optimizer.minimize(loss)\n",
    "\n",
    "init = tf.global_variables_initializer()\n",
    "\n",
    "with tf.Session() as sess:\n",
    "    sess.run(init)\n",
    "    for step in range(201):\n",
    "        sess.run(train)\n",
    "        if step % 20 == 0:\n",
    "            print(step, sess.run([k,b]))"
   ]
  },
  {
   "cell_type": "code",
   "execution_count": null,
   "metadata": {},
   "outputs": [],
   "source": []
  }
 ],
 "metadata": {
  "kernelspec": {
   "display_name": "Python 3",
   "language": "python",
   "name": "python3"
  },
  "language_info": {
   "codemirror_mode": {
    "name": "ipython",
    "version": 3
   },
   "file_extension": ".py",
   "mimetype": "text/x-python",
   "name": "python",
   "nbconvert_exporter": "python",
   "pygments_lexer": "ipython3",
   "version": "3.6.5"
  }
 },
 "nbformat": 4,
 "nbformat_minor": 2
}
