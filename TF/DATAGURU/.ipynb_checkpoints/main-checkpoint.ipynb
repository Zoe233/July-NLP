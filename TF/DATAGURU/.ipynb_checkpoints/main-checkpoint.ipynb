{
 "cells": [
  {
   "cell_type": "markdown",
   "metadata": {},
   "source": [
    "# 课程大纲"
   ]
  },
  {
   "cell_type": "markdown",
   "metadata": {},
   "source": [
    "## 第一周\n",
    "截图安装anaconda和tensorflow的过程，以及安装成功的结果。\n"
   ]
  },
  {
   "cell_type": "markdown",
   "metadata": {},
   "source": [
    "### 安装：\n",
    "- CPU 版本：\n",
    "pip install tensorflow\n",
    "\n",
    "- GPU 版本：\n",
    "pip install tensorflow-gpu"
   ]
  },
  {
   "cell_type": "markdown",
   "metadata": {},
   "source": [
    "### 更新：\n",
    "pip uninstall tensorflow   \n",
    "pip install tensorflow   \n",
    "\n",
    "pip install --upgrade tensorflow\n"
   ]
  },
  {
   "cell_type": "markdown",
   "metadata": {},
   "source": [
    "----"
   ]
  },
  {
   "cell_type": "markdown",
   "metadata": {},
   "source": [
    "## 第二周\n",
    "把视频中的程序都自己写一遍。把程序和运行结果截图上传。"
   ]
  },
  {
   "cell_type": "markdown",
   "metadata": {},
   "source": [
    "TensorFlow 的特点：\n",
    "- 使用**图 (graph)** 来表示计算任务.\n",
    "- 在被称之为 **会话 (Session) 的上下文 (context) **中执行图.\n",
    "- 使用**张量tensor** 表示数据.\n",
    "- 通过 **变量 (Variable) **维护状态.\n",
    "- 使用 **feed** 和 **fetch** 可以**为任意的操作(arbitrary operation) 赋值**或者从其中**获取数据**."
   ]
  },
  {
   "cell_type": "markdown",
   "metadata": {},
   "source": [
    "TensorFlow 是一个编程系统, 使用**图graphs**来表示计算任务。\n",
    "\n",
    "图grahs中的节点被称之为 **op (operation 的缩写)**。  \n",
    "一个 op 获得 0 个或多个Tensor, 执行计算, 产生 0 个或多个 Tensor. \n",
    "\n",
    "每个 Tensor 是一个类型化的多维数组。\n",
    "例如：  \n",
    "你可以将一小组图像集表示为一个四维浮点数数组, 这四个维度分别是\n",
    "[batch, height, width, channels]\n",
    "\n",
    "图必须在会话Session里被启动。"
   ]
  },
  {
   "cell_type": "markdown",
   "metadata": {},
   "source": [
    "### TensorFlow结构：图graphs\n",
    "\n",
    "<img src='./images/graphs1.png' width='70%'/>"
   ]
  },
  {
   "cell_type": "markdown",
   "metadata": {},
   "source": [
    "---"
   ]
  },
  {
   "cell_type": "markdown",
   "metadata": {},
   "source": [
    "## 第三周\n",
    "优化mnist分类的程序，把测试准确率提升到95%。把程序和运行结果截图上传。\n"
   ]
  },
  {
   "cell_type": "markdown",
   "metadata": {},
   "source": [
    "本节课主要讲解线性回归和分类的问题。"
   ]
  },
  {
   "cell_type": "markdown",
   "metadata": {},
   "source": [
    "还有MNIST手写数据集的实现。  "
   ]
  },
  {
   "cell_type": "markdown",
   "metadata": {},
   "source": [
    "---"
   ]
  },
  {
   "cell_type": "markdown",
   "metadata": {},
   "source": [
    "## 第四周\n",
    "继续优化手写数字分类程序，把Testing Accuracy提升到98%以上。\n"
   ]
  },
  {
   "cell_type": "markdown",
   "metadata": {},
   "source": [
    "## 第五周\n",
    "根据课程代码，自己动手使用tensorboard绘制网络结构，各种参数的曲线，以及模型运行的可视化。截图上传。\n"
   ]
  },
  {
   "cell_type": "markdown",
   "metadata": {},
   "source": [
    "## 第六周\n",
    "1.完成卷积神经网络的程序。\n",
    "2.定义卷积神经网络的结构，训练网络，记录accuracy和loss值的变化。\n",
    "\n"
   ]
  },
  {
   "cell_type": "markdown",
   "metadata": {},
   "source": [
    "## 第七周\n",
    "1.解释outputs和final_state有多少个维度，每个维度是代表什么。\n",
    "2.根据ppt中的公式，解释lstm网络的运行。\n",
    "\n",
    "\n",
    "\n",
    "\n"
   ]
  },
  {
   "cell_type": "markdown",
   "metadata": {},
   "source": [
    "## 第八周\n",
    "讨论inception模型的特点和优点。\n",
    "\n"
   ]
  },
  {
   "cell_type": "markdown",
   "metadata": {},
   "source": [
    "## 第九周\n",
    "自己收集图片，完成图片分类模型。整个过程截图上传。\n"
   ]
  },
  {
   "cell_type": "markdown",
   "metadata": {},
   "source": [
    "## 第十周\n",
    "使用课程中提到的验证码识别方法一来训练验证码模型，并测试。上传程序和结果。\n",
    "\n",
    "\n"
   ]
  },
  {
   "cell_type": "markdown",
   "metadata": {},
   "source": [
    "## 第十一周\n",
    "使用训练好的Word2vec初始化词汇表，用于文本分类。\n",
    "\n"
   ]
  },
  {
   "cell_type": "markdown",
   "metadata": {},
   "source": [
    "## 第十二周\n",
    "考虑一个人工智能的产品。\n",
    "\n",
    "\n",
    "\n"
   ]
  },
  {
   "cell_type": "code",
   "execution_count": null,
   "metadata": {},
   "outputs": [],
   "source": []
  }
 ],
 "metadata": {
  "kernelspec": {
   "display_name": "Python 3",
   "language": "python",
   "name": "python3"
  },
  "language_info": {
   "codemirror_mode": {
    "name": "ipython",
    "version": 3
   },
   "file_extension": ".py",
   "mimetype": "text/x-python",
   "name": "python",
   "nbconvert_exporter": "python",
   "pygments_lexer": "ipython3",
   "version": "3.6.5"
  }
 },
 "nbformat": 4,
 "nbformat_minor": 2
}
