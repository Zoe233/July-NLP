{
 "cells": [
  {
   "cell_type": "markdown",
   "metadata": {},
   "source": [
    "## 神经网络结构介绍\n",
    "x数据集为(200,1)，200个案例，1个feature;    \n",
    "y为(200, 1)， 200个对应的输出。  \n",
    "\n",
    "搭建的网络总共有三层。   \n",
    "第一层是input_layer；  \n",
    "第二层是hidden_layer；  \n",
    "第三层是output_layer；  \n",
    " \n",
    "激活函数都是使用的tf.nn.tanh，双曲正切函数。 \n",
    "\n",
    "第一层有一个神经元，因为x数据集的feature只有1个；   \n",
    "第二层隐层自我设定为10个神经元，所以对应的W的形状为1x10，bias的形状也是1x10；     \n",
    "第三层是输出层，有一个神经元，所以对应的W的形状为10x1，bias的形状为1x1。  \n"
   ]
  },
  {
   "cell_type": "code",
   "execution_count": 1,
   "metadata": {},
   "outputs": [],
   "source": [
    "import tensorflow as tf\n",
    "import numpy as np\n",
    "import matplotlib.pyplot as plt"
   ]
  },
  {
   "cell_type": "code",
   "execution_count": 2,
   "metadata": {},
   "outputs": [],
   "source": [
    "# 使用numpy生成200个随机点作为样本\n",
    "# np.linspace(start, stop, num_size) 生成200个点，在区间[-0.5,0.5]之间，并且等间距的向量\n",
    "# [:, np.newaxis] 将生成的一维向量，变成了二维的矩阵，维度shape为200*1\n",
    "# np.newaxis 为 numpy.ndarray（多维数组）增加一个轴\n",
    "x_data = np.linspace(-0.5, 0.5, 200) [:, np.newaxis]\n",
    "\n",
    "# 生成干扰项 normal(loc=0.0, scale=1.0, size=None) 符合正态分布（高斯分布）\n",
    "# loc 概率分布的均值\n",
    "# scale 概率分布的标准差\n",
    "noise = np.random.normal(0, 0.02, x_data.shape)\n",
    "\n",
    "y_data = np.square(x_data) + noise"
   ]
  },
  {
   "cell_type": "code",
   "execution_count": 3,
   "metadata": {},
   "outputs": [],
   "source": [
    "# 定义两个placeholder占位符\n",
    "# 类型为tf.float32，shape为[任意多行，1列]\n",
    "x = tf.placeholder(tf.float32, [None, 1])\n",
    "y = tf.placeholder(tf.float32, [None, 1])\n",
    "\n",
    "# placeholder的定义，是根据准备填充进来的数据的类型和形状定义的"
   ]
  },
  {
   "cell_type": "markdown",
   "metadata": {},
   "source": [
    "下面开始定义神经网络    \n",
    "input Layer  x  shape: (1,)   \n",
    "\n",
    "L1:    \n",
    "Weights_L1   1x10     \n",
    "biases_L1    1x10     \n",
    "Wx_plus_b_L1    1 x (1x10)  + (1 x 10)     \n",
    "\n"
   ]
  },
  {
   "cell_type": "code",
   "execution_count": 4,
   "metadata": {},
   "outputs": [],
   "source": [
    "# 定义神经网络中间层\n",
    "# Weights_L1的形状是1x10\n",
    "Weights_L1 = tf.Variable(tf.random_normal([1, 10]))\n",
    "biases_L1 = tf.Variable(tf.zeros([1, 10]))\n",
    "Wx_plus_b_L1 = tf.matmul(x, Weights_L1) + biases_L1\n",
    "# 激活函数使用tanh 双曲正切[-1,1]\n",
    "L1 = tf.nn.tanh(Wx_plus_b_L1)"
   ]
  },
  {
   "cell_type": "code",
   "execution_count": 5,
   "metadata": {},
   "outputs": [],
   "source": [
    "# 定义神经网络输出层\n",
    "Weights_L2 = tf.Variable(tf.random_normal([10, 1]))\n",
    "biases_L2 = tf.Variable(tf.zeros([1,1]))\n",
    "Wx_plus_b_L2 = tf.matmul(L1, Weights_L2) + biases_L2\n",
    "\n",
    "prediction = tf.nn.tanh(Wx_plus_b_L2)"
   ]
  },
  {
   "cell_type": "code",
   "execution_count": 6,
   "metadata": {},
   "outputs": [],
   "source": [
    "# 二次代价函数\n",
    "# MSE: (真实值-预测值)的平方和 求平均\n",
    "loss = tf.reduce_mean(tf.square(y - prediction))"
   ]
  },
  {
   "cell_type": "code",
   "execution_count": 7,
   "metadata": {},
   "outputs": [],
   "source": [
    "# 使用梯度下降法\n",
    "optimizer = tf.train.GradientDescentOptimizer(0.1)\n",
    "# 目标：最小化loss\n",
    "train = optimizer.minimize(loss)"
   ]
  },
  {
   "cell_type": "code",
   "execution_count": 8,
   "metadata": {},
   "outputs": [
    {
     "name": "stdout",
     "output_type": "stream",
     "text": [
      "0.00041760184\n"
     ]
    },
    {
     "data": {
      "image/png": "[encoded data removed]",
      "text/plain": [
       "<Figure size 432x288 with 1 Axes>"
      ]
     },
     "metadata": {},
     "output_type": "display_data"
    }
   ],
   "source": [
    "with tf.Session() as sess:\n",
    "    # 变量初始化\n",
    "    sess.run(tf.global_variables_initializer())\n",
    "    \n",
    "    # 开始迭代\n",
    "    for _ in range(20001):\n",
    "        sess.run(train, feed_dict={x:x_data, y: y_data})\n",
    "        \n",
    "    print(sess.run(loss, feed_dict={x: x_data, y: y_data, }))\n",
    "    \n",
    "    # 获得预测值\n",
    "    prediction_value = sess.run(prediction, feed_dict={x: x_data})\n",
    "    # 用画图的方式查看预测的结果\n",
    "    plt.figure()\n",
    "    plt.scatter(x_data, y_data)\n",
    "    plt.plot(x_data, prediction_value, 'r-', lw=5) # 'r'代表线条色是红色,'-'表示线条类型, 线宽为5"
   ]
  },
  {
   "cell_type": "code",
   "execution_count": null,
   "metadata": {},
   "outputs": [],
   "source": []
  }
 ],
 "metadata": {
  "kernelspec": {
   "display_name": "Python 3",
   "language": "python",
   "name": "python3"
  },
  "language_info": {
   "codemirror_mode": {
    "name": "ipython",
    "version": 3
   },
   "file_extension": ".py",
   "mimetype": "text/x-python",
   "name": "python",
   "nbconvert_exporter": "python",
   "pygments_lexer": "ipython3",
   "version": "3.6.5"
  }
 },
 "nbformat": 4,
 "nbformat_minor": 2
}
