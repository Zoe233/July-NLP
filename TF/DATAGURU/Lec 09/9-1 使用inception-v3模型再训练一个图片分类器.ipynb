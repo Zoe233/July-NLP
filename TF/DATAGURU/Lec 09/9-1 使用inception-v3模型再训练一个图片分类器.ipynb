{
 "cells": [
  {
   "cell_type": "markdown",
   "metadata": {},
   "source": [
    "**如何为新类别重新划分图像分类器：**\n",
    "\n",
    "现代图像识别模型具有数百万个参数。   \n",
    "从头开始训练需要大量标记的训练数据和大量计算能力（数百小时GPU或更多）。   \n",
    "**转移学习**是一种通过采用已经在相关任务上训练并在新模型中重复使用的模型的一部分来快速实现这一目标的技术。   \n",
    "在本教程中，我们将**重用ImageNet上训练的强大图像分类器的特征提取功能**，并**简单地在顶部训练新的分类层。**      \n",
    "有关该方法的更多信息，您可以在Decaf上看到这篇论文。\n",
    "\n",
    "虽然它不如训练整个模型那么好，但对于许多应用来说这是非常有效的，适用于适量的训练数据（数千，而不是数百万标记的图像），并且可以在笔记本电脑上运行30分钟而不需要一个GPU。\n",
    "\n",
    "本教程将向您展示如何在您自己的图像上运行示例脚本，并将解释您有助于控制培训过程的一些选项。"
   ]
  },
  {
   "cell_type": "markdown",
   "metadata": {},
   "source": [
    "### 数据集下载(VGG)：\n",
    "http://www.robots.ox.ac.uk/~vgg/data/\n",
    "\n",
    "可以在上面选择性地下载目标需要分类的图片，注意数据分布最好是均匀的。\n"
   ]
  },
  {
   "cell_type": "markdown",
   "metadata": {},
   "source": [
    "本节使用的是下载的http://www.robots.ox.ac.uk/~vgg/data/bicos/ 页面下的数据集，将不同种类的图片放在当前目录../retrain/data/train/image_class_xx下面。\n",
    "\n",
    "此次的文件夹下面是：\n",
    "- birds 6034张图片\n",
    "- faces 436张图片\n",
    "- flower 8190张图片\n",
    "- horse 329张图片\n"
   ]
  },
  {
   "cell_type": "markdown",
   "metadata": {},
   "source": [
    "下面开始训练，直接使用google提供的retrain.py脚本文件进行训练。"
   ]
  },
  {
   "cell_type": "markdown",
   "metadata": {},
   "source": [
    "各个layer之间的参数是固定的，每个图片的像素矩阵和参数进行计算变换后，在最后的pool_3的得到的结果，每张图片跑完这些layer之间的数据结果是固定的。\n",
    "\n",
    "所以只要从pool_3之后开始训练即可。"
   ]
  },
  {
   "cell_type": "raw",
   "metadata": {},
   "source": [
    "image_retrain.sh批处理文件内容：\n",
    "\n",
    "cd /Users/zoe/Documents/GitHub/July-NLP/TF/DATAGURU/Lec\\ 09\n",
    "\n",
    "python retrain.py \\\n",
    "--bottleneck_dir bottleneck \\  # 指的就是inception-v3的graph结构中pool_3（包含）之前的所有的卷积和池化层。 bottleneck 就是指的是pool_3\n",
    "# 所有的图片经过网络结构后，预处理阶段将每个图片和所有卷积池化层的处理结果存在bottleneck目录下面，用于之后的训练。\n",
    "\n",
    "--how_many_training_steps 200 \\ # 训练周期\n",
    "--model_dir ../Lec\\ 08/inception_model \\ # 模型文件路径，这里使用的是inception-v3的模型，它使用的是.tgz的压缩文件，这里使用的是“inception-2015-12-05.tgz\"\n",
    "--output_graph output_graph.pb \\ # 输出训练好的模型，直接输出到当前目录\n",
    "--output_labels output_labels.txt \\  # 输出标签\n",
    "--image_dir retrain/data/train \\  # 要传入训练的图片数据集所在目录\n",
    "pause"
   ]
  },
  {
   "cell_type": "markdown",
   "metadata": {},
   "source": [
    "执行image_retrain.sh文件，\n",
    "<img src='../images/retrain_start.png' width='70%'/>"
   ]
  },
  {
   "cell_type": "markdown",
   "metadata": {},
   "source": [
    "用GPU加速的tensorflow速度会更快，效果会更好。"
   ]
  },
  {
   "cell_type": "markdown",
   "metadata": {},
   "source": []
  },
  {
   "cell_type": "markdown",
   "metadata": {},
   "source": []
  },
  {
   "cell_type": "markdown",
   "metadata": {},
   "source": []
  },
  {
   "cell_type": "markdown",
   "metadata": {},
   "source": []
  },
  {
   "cell_type": "markdown",
   "metadata": {},
   "source": []
  },
  {
   "cell_type": "markdown",
   "metadata": {},
   "source": []
  }
 ],
 "metadata": {
  "kernelspec": {
   "display_name": "Python 3",
   "language": "python",
   "name": "python3"
  },
  "language_info": {
   "codemirror_mode": {
    "name": "ipython",
    "version": 3
   },
   "file_extension": ".py",
   "mimetype": "text/x-python",
   "name": "python",
   "nbconvert_exporter": "python",
   "pygments_lexer": "ipython3",
   "version": "3.6.5"
  }
 },
 "nbformat": 4,
 "nbformat_minor": 2
}
