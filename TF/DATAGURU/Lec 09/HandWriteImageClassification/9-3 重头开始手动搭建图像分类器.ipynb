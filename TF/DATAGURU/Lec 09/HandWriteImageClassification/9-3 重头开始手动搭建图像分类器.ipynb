{
 "cells": [
  {
   "cell_type": "markdown",
   "metadata": {},
   "source": [
    "# 1. 准备"
   ]
  },
  {
   "cell_type": "markdown",
   "metadata": {},
   "source": [
    "下载https://github.com/tensorflow/models"
   ]
  },
  {
   "cell_type": "markdown",
   "metadata": {},
   "source": [
    "models里面提供了很多模型，本节要使用的是slim模型。"
   ]
  },
  {
   "cell_type": "markdown",
   "metadata": {},
   "source": [
    "将slim文件夹拷贝到当前目录下，并使用其中的一些脚本文件。"
   ]
  },
  {
   "cell_type": "markdown",
   "metadata": {},
   "source": [
    "## 1.1 生成tfrecord文件"
   ]
  },
  {
   "cell_type": "markdown",
   "metadata": {},
   "source": [
    "想要自己训练一个模型，要对图像进行处理，转换成tensorflow使用的文件格式（tfrecord）。"
   ]
  },
  {
   "cell_type": "markdown",
   "metadata": {},
   "source": [
    "tfrecord是tensorflow官方提供的文件格式，其底层是protobuf，是二进制文件的存储，数据传输的时候速度快。"
   ]
  },
  {
   "cell_type": "markdown",
   "metadata": {},
   "source": []
  },
  {
   "cell_type": "markdown",
   "metadata": {},
   "source": []
  }
 ],
 "metadata": {
  "kernelspec": {
   "display_name": "Python 3",
   "language": "python",
   "name": "python3"
  },
  "language_info": {
   "codemirror_mode": {
    "name": "ipython",
    "version": 3
   },
   "file_extension": ".py",
   "mimetype": "text/x-python",
   "name": "python",
   "nbconvert_exporter": "python",
   "pygments_lexer": "ipython3",
   "version": "3.6.5"
  }
 },
 "nbformat": 4,
 "nbformat_minor": 2
}
