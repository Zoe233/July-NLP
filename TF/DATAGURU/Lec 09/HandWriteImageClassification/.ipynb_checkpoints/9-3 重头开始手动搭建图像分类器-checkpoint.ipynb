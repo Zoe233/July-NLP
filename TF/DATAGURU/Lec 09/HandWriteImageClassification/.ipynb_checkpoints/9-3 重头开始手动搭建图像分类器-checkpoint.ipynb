{
 "cells": [
  {
   "cell_type": "markdown",
   "metadata": {},
   "source": [
    "# 1. 准备"
   ]
  },
  {
   "cell_type": "markdown",
   "metadata": {},
   "source": [
    "下载https://github.com/tensorflow/models"
   ]
  },
  {
   "cell_type": "markdown",
   "metadata": {},
   "source": [
    "models里面提供了很多模型，本节要使用的是slim模型。"
   ]
  },
  {
   "cell_type": "markdown",
   "metadata": {},
   "source": [
    "将slim文件夹拷贝到当前目录下，并使用其中的一些脚本文件。"
   ]
  },
  {
   "cell_type": "markdown",
   "metadata": {},
   "source": [
    "## 1.1 生成tfrecord文件"
   ]
  },
  {
   "cell_type": "markdown",
   "metadata": {},
   "source": [
    "想要自己训练一个模型，要对图像进行处理，转换成tensorflow使用的文件格式（tfrecord）。"
   ]
  },
  {
   "cell_type": "markdown",
   "metadata": {},
   "source": [
    "tfrecord是tensorflow官方提供的文件格式，其底层是protobuf，是二进制文件的存储，数据传输的时候速度快。"
   ]
  },
  {
   "cell_type": "markdown",
   "metadata": {},
   "source": [
    "在目录HandWriteImageClassification中，9-4 生成tfrecord文件，执行得到的tfrecord文件存储在slim文件夹下面新建的images图片文件夹下面，还有一个labels.txt存放图片的分类。\n",
    "\n",
    "注意：\n",
    "slim/images/**image_class_picture_folder 是手动新建的。\n",
    "\n",
    "<img src='../../images/folder1.png' width='50%'/>"
   ]
  },
  {
   "cell_type": "markdown",
   "metadata": {},
   "source": [
    "### 1.2 新建slim/model文件夹，用于存储训练好的模型"
   ]
  },
  {
   "cell_type": "markdown",
   "metadata": {},
   "source": [
    "### 1.3 在slim/datasets文件夹下面新建myimages.py文件"
   ]
  },
  {
   "cell_type": "markdown",
   "metadata": {},
   "source": [
    "因为slim/datasets中存放的都是官方提供的数据集的相关文件。  \n",
    "\n",
    "想要基于tensorflow官方提供的图像处理网络结构重新重头到尾训练自己的模型，需要将自己的数据集的处理的脚本文件放置在slim/datasets/下面。"
   ]
  },
  {
   "cell_type": "markdown",
   "metadata": {},
   "source": [
    "myimages.py文件的主要作用就是读取tfrecord文件。"
   ]
  },
  {
   "cell_type": "raw",
   "metadata": {},
   "source": [
    "\"\"\"Provides data for the flowers dataset.\n",
    "\n",
    "The dataset scripts used to create the dataset can be found at:\n",
    "tensorflow/models/slim/datasets/download_and_convert_flowers.py\n",
    "\"\"\"\n",
    "\n",
    "from __future__ import absolute_import\n",
    "from __future__ import division\n",
    "from __future__ import print_function\n",
    "\n",
    "import os\n",
    "import tensorflow as tf\n",
    "\n",
    "from datasets import dataset_utils\n",
    "\n",
    "slim = tf.contrib.slim\n",
    "\n",
    "_FILE_PATTERN = 'image_%s_*.tfrecord'\n",
    "\n",
    "SPLITS_TO_SIZES = {'train': 1000, 'test': 500}\n",
    "\n",
    "_NUM_CLASSES = 4 \n",
    "\n",
    "_ITEMS_TO_DESCRIPTIONS = {\n",
    "    'image': 'A color image of varying size.',\n",
    "    'label': 'A single integer between 0 and 3',\n",
    "}\n",
    "\n",
    "\n",
    "def get_split(split_name, dataset_dir, file_pattern=None, reader=None):\n",
    "  \"\"\"Gets a dataset tuple with instructions for reading flowers.\n",
    "\n",
    "  Args:\n",
    "    split_name: A train/validation split name.\n",
    "    dataset_dir: The base directory of the dataset sources.\n",
    "    file_pattern: The file pattern to use when matching the dataset sources.\n",
    "      It is assumed that the pattern contains a '%s' string so that the split\n",
    "      name can be inserted.\n",
    "    reader: The TensorFlow reader type.\n",
    "\n",
    "  Returns:\n",
    "    A `Dataset` namedtuple.\n",
    "\n",
    "  Raises:\n",
    "    ValueError: if `split_name` is not a valid train/validation split.\n",
    "  \"\"\"\n",
    "  if split_name not in SPLITS_TO_SIZES:\n",
    "    raise ValueError('split name %s was not recognized.' % split_name)\n",
    "\n",
    "  if not file_pattern:\n",
    "    file_pattern = _FILE_PATTERN\n",
    "  file_pattern = os.path.join(dataset_dir, file_pattern % split_name)\n",
    "\n",
    "  # Allowing None in the signature so that dataset_factory can use the default.\n",
    "  if reader is None:\n",
    "    reader = tf.TFRecordReader\n",
    "\n",
    "##\n",
    "  keys_to_features = {\n",
    "      'image/encoded': tf.FixedLenFeature((), tf.string, default_value=''),\n",
    "      'image/format': tf.FixedLenFeature((), tf.string, default_value='png'),\n",
    "      'image/class/label': tf.FixedLenFeature(\n",
    "          [], tf.int64, default_value=tf.zeros([], dtype=tf.int64)),\n",
    "  }\n",
    "\n",
    "  items_to_handlers = {\n",
    "      'image': slim.tfexample_decoder.Image(),\n",
    "      'label': slim.tfexample_decoder.Tensor('image/class/label'),\n",
    "  }\n",
    "\n",
    "  decoder = slim.tfexample_decoder.TFExampleDecoder(\n",
    "      keys_to_features, items_to_handlers)\n",
    "\n",
    "  labels_to_names = None\n",
    "  if dataset_utils.has_labels(dataset_dir):\n",
    "    labels_to_names = dataset_utils.read_label_file(dataset_dir)\n",
    "\n",
    "  return slim.dataset.Dataset(\n",
    "      data_sources=file_pattern,\n",
    "      reader=reader,\n",
    "      decoder=decoder,\n",
    "      num_samples=SPLITS_TO_SIZES[split_name],\n",
    "      items_to_descriptions=_ITEMS_TO_DESCRIPTIONS,\n",
    "      num_classes=_NUM_CLASSES,\n",
    "      labels_to_names=labels_to_names)\n"
   ]
  },
  {
   "cell_type": "markdown",
   "metadata": {},
   "source": [
    "### 1.4 查看slim/train_image_classifier.py文件"
   ]
  },
  {
   "cell_type": "markdown",
   "metadata": {},
   "source": [
    "slim/train_image_classifier.py文件中："
   ]
  },
  {
   "cell_type": "raw",
   "metadata": {},
   "source": [
    "from datasets import dataset_factory\n",
    "from deployment import model_deploy\n",
    "from nets import nets_factory\n",
    "from preprocessing import preprocessing_factory"
   ]
  },
  {
   "cell_type": "markdown",
   "metadata": {},
   "source": [
    "- 从slim/datasets/文件夹下面调用dataset_factory.py文件；\n",
    "    - dataset_factory.py文件中整合了tensorflow常用的数据集的例子，这些数据集是官方提供的。如\n",
    "            datasets_map = {\n",
    "            'cifar10': cifar10,\n",
    "            'flowers': flowers,\n",
    "            'imagenet': imagenet,\n",
    "            'mnist': mnist,}\n",
    "       \n",
    "- 从slim/datasets/文件夹下面调用nets_factory.py文件。\n",
    "    - nets_factory.py文件中整合了tensorflow常用的图像处理的网络结构。\n",
    "        networks_map = {'alexnet_v2': alexnet.alexnet_v2,\n",
    "                'cifarnet': cifarnet.cifarnet,\n",
    "                'overfeat': overfeat.overfeat,\n",
    "                'vgg_a': vgg.vgg_a,\n",
    "                'vgg_16': vgg.vgg_16,\n",
    "                'vgg_19': vgg.vgg_19,\n",
    "                'inception_v1': inception.inception_v1,\n",
    "                'inception_v2': inception.inception_v2,\n",
    "                'inception_v3': inception.inception_v3,\n",
    "                'inception_v4': inception.inception_v4,\n",
    "                'inception_resnet_v2': inception.inception_resnet_v2,\n",
    "                'lenet': lenet.lenet,\n",
    "                'resnet_v1_50': resnet_v1.resnet_v1_50,\n",
    "                'resnet_v1_101': resnet_v1.resnet_v1_101,\n",
    "                'resnet_v1_152': resnet_v1.resnet_v1_152,\n",
    "                'resnet_v1_200': resnet_v1.resnet_v1_200,\n",
    "                'resnet_v2_50': resnet_v2.resnet_v2_50,\n",
    "                'resnet_v2_101': resnet_v2.resnet_v2_101,\n",
    "                'resnet_v2_152': resnet_v2.resnet_v2_152,\n",
    "                'resnet_v2_200': resnet_v2.resnet_v2_200,\n",
    "                'mobilenet_v1': mobilenet_v1.mobilenet_v1,\n",
    "                'mobilenet_v1_075': mobilenet_v1.mobilenet_v1_075,\n",
    "                'mobilenet_v1_050': mobilenet_v1.mobilenet_v1_050,\n",
    "                'mobilenet_v1_025': mobilenet_v1.mobilenet_v1_025,\n",
    "                'mobilenet_v2': mobilenet_v2.mobilenet,\n",
    "                'mobilenet_v2_140': mobilenet_v2.mobilenet_v2_140,\n",
    "                'mobilenet_v2_035': mobilenet_v2.mobilenet_v2_035,\n",
    "                'nasnet_cifar': nasnet.build_nasnet_cifar,\n",
    "                'nasnet_mobile': nasnet.build_nasnet_mobile,\n",
    "                'nasnet_large': nasnet.build_nasnet_large,\n",
    "                'pnasnet_large': pnasnet.build_pnasnet_large,\n",
    "                'pnasnet_mobile': pnasnet.build_pnasnet_mobile,\n",
    "               }"
   ]
  },
  {
   "cell_type": "markdown",
   "metadata": {},
   "source": [
    "### 1.5 修改slim/train_image_classifier.py文件中的datasets部分"
   ]
  },
  {
   "cell_type": "markdown",
   "metadata": {},
   "source": [
    "想要将自己的图片数据集加入处理工厂，需要在slim/datasets/dataset_factory.py文件中，"
   ]
  },
  {
   "cell_type": "markdown",
   "metadata": {},
   "source": [
    "from datasets import cifar10\n",
    "from datasets import flowers\n",
    "from datasets import imagenet\n",
    "from datasets import mnist\n",
    "\n",
    "datasets_map = {\n",
    "    'cifar10': cifar10,\n",
    "    'flowers': flowers,\n",
    "    'imagenet': imagenet,\n",
    "    'mnist': mnist,\n",
    "}\n",
    "\n",
    "\n",
    "#### 将myimage.py添加进来：\n",
    "from datasets import cifar10\n",
    "from datasets import flowers\n",
    "from datasets import imagenet\n",
    "from datasets import mnist\n",
    "from datasets import myimages\n",
    "\n",
    "datasets_map = {\n",
    "    'cifar10': cifar10,\n",
    "    'flowers': flowers,\n",
    "    'imagenet': imagenet,\n",
    "    'mnist': mnist,\n",
    "    'myimage': myimages\n",
    "}"
   ]
  },
  {
   "cell_type": "markdown",
   "metadata": {},
   "source": [
    "### 1.6 新建训练脚本文件"
   ]
  },
  {
   "cell_type": "markdown",
   "metadata": {},
   "source": [
    "cd /Users/zoe/Documents/GitHub/July-NLP/TF/DATAGURU/Lec\\ 09/HandWriteImageClassification/slim\n",
    "python train_image_classifier.py \\\n",
    "--train_dir model \\\n",
    "--dataset_name myimages \\\n",
    "--dataset_split_name train \\\n",
    "--dataset_dir images \\\n",
    "--batch_size 10 \\\n",
    "--max_number_of_steps 10000 \\\n",
    "--model_name inception_v3 \\\n",
    "pause"
   ]
  }
 ],
 "metadata": {
  "kernelspec": {
   "display_name": "Python 3",
   "language": "python",
   "name": "python3"
  },
  "language_info": {
   "codemirror_mode": {
    "name": "ipython",
    "version": 3
   },
   "file_extension": ".py",
   "mimetype": "text/x-python",
   "name": "python",
   "nbconvert_exporter": "python",
   "pygments_lexer": "ipython3",
   "version": "3.6.5"
  }
 },
 "nbformat": 4,
 "nbformat_minor": 2
}
