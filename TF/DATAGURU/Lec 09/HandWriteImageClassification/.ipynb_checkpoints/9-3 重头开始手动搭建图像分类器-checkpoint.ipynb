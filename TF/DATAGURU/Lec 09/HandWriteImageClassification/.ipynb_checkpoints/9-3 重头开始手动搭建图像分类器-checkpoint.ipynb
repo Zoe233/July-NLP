{
 "cells": [
  {
   "cell_type": "markdown",
   "metadata": {},
   "source": [
    "# 1. 准备"
   ]
  },
  {
   "cell_type": "markdown",
   "metadata": {},
   "source": [
    "下载https://github.com/tensorflow/models"
   ]
  },
  {
   "cell_type": "markdown",
   "metadata": {},
   "source": [
    "models里面提供了很多模型，本节要使用的是slim模型。"
   ]
  },
  {
   "cell_type": "markdown",
   "metadata": {},
   "source": [
    "将slim文件夹拷贝到当前目录下，并使用其中的一些脚本文件。"
   ]
  },
  {
   "cell_type": "markdown",
   "metadata": {},
   "source": [
    "## 1.1 生成tfrecord文件"
   ]
  },
  {
   "cell_type": "markdown",
   "metadata": {},
   "source": [
    "想要自己训练一个模型，要对图像进行处理，转换成tensorflow使用的文件格式（tfrecord）。"
   ]
  },
  {
   "cell_type": "markdown",
   "metadata": {},
   "source": [
    "tfrecord是tensorflow官方提供的文件格式，其底层是protobuf，是二进制文件的存储，数据传输的时候速度快。"
   ]
  },
  {
   "cell_type": "markdown",
   "metadata": {},
   "source": [
    "在目录HandWriteImageClassification中，9-4 生成tfrecord文件，执行得到的tfrecord文件存储在slim文件夹下面新建的images图片文件夹下面，还有一个labels.txt存放图片的分类。\n",
    "\n",
    "注意：\n",
    "slim/images/**image_class_picture_folder 是手动新建的。\n",
    "\n",
    "<img src='../../images/folder1.png' width='50%'/>"
   ]
  },
  {
   "cell_type": "markdown",
   "metadata": {},
   "source": [
    "### 1.2 新建slim/model文件夹，用于存储训练好的模型"
   ]
  },
  {
   "cell_type": "markdown",
   "metadata": {},
   "source": [
    "### 1.3 修改slim/train_image_classifier.py文件"
   ]
  },
  {
   "cell_type": "markdown",
   "metadata": {},
   "source": [
    "slim/train_image_classifier.py文件中："
   ]
  },
  {
   "cell_type": "raw",
   "metadata": {},
   "source": [
    "from datasets import dataset_factory\n",
    "from deployment import model_deploy\n",
    "from nets import nets_factory\n",
    "from preprocessing import preprocessing_factory"
   ]
  },
  {
   "cell_type": "markdown",
   "metadata": {},
   "source": [
    "- 从slim/datasets/文件夹下面调用dataset_factory.py文件；\n",
    "    - dataset_factory.py文件中整合了tensorflow常用的数据集的例子，如\n",
    "            datasets_map = {\n",
    "            'cifar10': cifar10,\n",
    "            'flowers': flowers,\n",
    "            'imagenet': imagenet,\n",
    "            'mnist': mnist,}\n",
    "- 从slim/datasets/文件夹下面调用nets_factory.py文件。\n",
    "    - nets_factory.py文件中整合了tensorflow常用的图像处理的网络结构。\n",
    "        networks_map = {'alexnet_v2': alexnet.alexnet_v2,\n",
    "                'cifarnet': cifarnet.cifarnet,\n",
    "                'overfeat': overfeat.overfeat,\n",
    "                'vgg_a': vgg.vgg_a,\n",
    "                'vgg_16': vgg.vgg_16,\n",
    "                'vgg_19': vgg.vgg_19,\n",
    "                'inception_v1': inception.inception_v1,\n",
    "                'inception_v2': inception.inception_v2,\n",
    "                'inception_v3': inception.inception_v3,\n",
    "                'inception_v4': inception.inception_v4,\n",
    "                'inception_resnet_v2': inception.inception_resnet_v2,\n",
    "                'lenet': lenet.lenet,\n",
    "                'resnet_v1_50': resnet_v1.resnet_v1_50,\n",
    "                'resnet_v1_101': resnet_v1.resnet_v1_101,\n",
    "                'resnet_v1_152': resnet_v1.resnet_v1_152,\n",
    "                'resnet_v1_200': resnet_v1.resnet_v1_200,\n",
    "                'resnet_v2_50': resnet_v2.resnet_v2_50,\n",
    "                'resnet_v2_101': resnet_v2.resnet_v2_101,\n",
    "                'resnet_v2_152': resnet_v2.resnet_v2_152,\n",
    "                'resnet_v2_200': resnet_v2.resnet_v2_200,\n",
    "                'mobilenet_v1': mobilenet_v1.mobilenet_v1,\n",
    "                'mobilenet_v1_075': mobilenet_v1.mobilenet_v1_075,\n",
    "                'mobilenet_v1_050': mobilenet_v1.mobilenet_v1_050,\n",
    "                'mobilenet_v1_025': mobilenet_v1.mobilenet_v1_025,\n",
    "                'mobilenet_v2': mobilenet_v2.mobilenet,\n",
    "                'mobilenet_v2_140': mobilenet_v2.mobilenet_v2_140,\n",
    "                'mobilenet_v2_035': mobilenet_v2.mobilenet_v2_035,\n",
    "                'nasnet_cifar': nasnet.build_nasnet_cifar,\n",
    "                'nasnet_mobile': nasnet.build_nasnet_mobile,\n",
    "                'nasnet_large': nasnet.build_nasnet_large,\n",
    "                'pnasnet_large': pnasnet.build_pnasnet_large,\n",
    "                'pnasnet_mobile': pnasnet.build_pnasnet_mobile,\n",
    "               }"
   ]
  },
  {
   "cell_type": "code",
   "execution_count": null,
   "metadata": {},
   "outputs": [],
   "source": []
  }
 ],
 "metadata": {
  "kernelspec": {
   "display_name": "Python 3",
   "language": "python",
   "name": "python3"
  },
  "language_info": {
   "codemirror_mode": {
    "name": "ipython",
    "version": 3
   },
   "file_extension": ".py",
   "mimetype": "text/x-python",
   "name": "python",
   "nbconvert_exporter": "python",
   "pygments_lexer": "ipython3",
   "version": "3.6.5"
  }
 },
 "nbformat": 4,
 "nbformat_minor": 2
}
