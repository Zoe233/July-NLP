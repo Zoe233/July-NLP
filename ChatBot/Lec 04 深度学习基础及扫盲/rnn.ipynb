{
 "cells": [
  {
   "cell_type": "markdown",
   "metadata": {},
   "source": [
    "# 循环神经网络RNN模型"
   ]
  },
  {
   "cell_type": "markdown",
   "metadata": {},
   "source": [
    "<a href='#rnn'>一、RNN与前向反向传播算法</a>\n",
    "- <a href='#rnn1'>1. RNN概述</a>\n",
    "- <a href='#rnn2'>2. RNN模型</a>\n",
    "- <a href='#rnn3'>3. RNN前向传播算法</a>\n",
    "- <a href='#rnn4'>4. RNN反向传播算法推导</a>\n",
    "- <a href='#rnn5'>5. RNN小结</a>"
   ]
  },
  {
   "cell_type": "markdown",
   "metadata": {},
   "source": [
    "<a href='#lstm'>一、LSTM与前向反向算法</a>\n",
    "- <a href='#lstm1'>1. 从RNN到LSTM</a>\n",
    "- <a href='#lstm2'>2. LSTM模型结构剖析</a>\n",
    "- <a href='#lstm3'>3. LSTM之遗忘门</a>\n",
    "- <a href='#lstm4'>4. LSTM之输入门</a>\n",
    "- <a href='#lstm5'>5. LSTM之细胞状态更新</a>\n",
    "- <a href='#lstm6'>6. LSTM之输出门</a>\n",
    "- <a href='#lstm7'>7. LSTM前向传播算法</a>\n",
    "- <a href='#lstm8'>8. LSTM反向传播算法推导关键点</a>\n",
    "- <a href='#lstm9'>9. LSTM小结</a>"
   ]
  },
  {
   "cell_type": "markdown",
   "metadata": {},
   "source": [
    "---"
   ]
  },
  {
   "cell_type": "markdown",
   "metadata": {},
   "source": [
    "# <a name='rnn'>一、RNN与前向反向传播算法</a>\n"
   ]
  },
  {
   "cell_type": "markdown",
   "metadata": {},
   "source": [
    "在前面我们讲到了DNN，以及DNN的特例CNN的模型和前向反向传播算法，这些算法都是前向反馈的，模型的输出和模型本身没有关联关系。\n",
    "\n",
    "今天我们就讨论另一类**输出和模型间有反馈的神经网络**：\n",
    "循环神经网络(Recurrent Neural Networks ，以下简称RNN)，它广泛的用于自然语言处理中的语音识别，手写书别以及机器翻译等领域。\n",
    "\n"
   ]
  },
  {
   "cell_type": "markdown",
   "metadata": {},
   "source": [
    "## <a name='rnn1'>1. RNN概述</a>\n"
   ]
  },
  {
   "cell_type": "markdown",
   "metadata": {},
   "source": [
    "在前面讲到的DNN和CNN中，训练样本的输入和输出是比较的确定的。但是有一类问题DNN和CNN不好解决，就是训练样本输入是连续的序列,且序列的长短不一，比如基于时间的序列：一段段连续的语音，一段段连续的手写文字。这些序列比较长，且长度不一，比较难直接的拆分成一个个独立的样本来通过DNN/CNN进行训练。"
   ]
  },
  {
   "cell_type": "markdown",
   "metadata": {},
   "source": []
  },
  {
   "cell_type": "markdown",
   "metadata": {},
   "source": []
  },
  {
   "cell_type": "markdown",
   "metadata": {},
   "source": [
    "## <a name='rnn2'>2. RNN模型</a>\n"
   ]
  },
  {
   "cell_type": "markdown",
   "metadata": {},
   "source": [
    "## <a name='rnn3'>3. RNN前向传播算法</a>\n"
   ]
  },
  {
   "cell_type": "markdown",
   "metadata": {},
   "source": [
    "## <a name='rnn4'>4. RNN反向传播算法推导</a>\n"
   ]
  },
  {
   "cell_type": "markdown",
   "metadata": {},
   "source": []
  },
  {
   "cell_type": "markdown",
   "metadata": {},
   "source": [
    "## <a name='rnn5'>5. RNN小结</a>"
   ]
  },
  {
   "cell_type": "code",
   "execution_count": null,
   "metadata": {},
   "outputs": [],
   "source": []
  },
  {
   "cell_type": "code",
   "execution_count": null,
   "metadata": {},
   "outputs": [],
   "source": []
  },
  {
   "cell_type": "code",
   "execution_count": null,
   "metadata": {},
   "outputs": [],
   "source": []
  },
  {
   "cell_type": "code",
   "execution_count": null,
   "metadata": {},
   "outputs": [],
   "source": []
  }
 ],
 "metadata": {
  "kernelspec": {
   "display_name": "Python 3",
   "language": "python",
   "name": "python3"
  },
  "language_info": {
   "codemirror_mode": {
    "name": "ipython",
    "version": 3
   },
   "file_extension": ".py",
   "mimetype": "text/x-python",
   "name": "python",
   "nbconvert_exporter": "python",
   "pygments_lexer": "ipython3",
   "version": "3.6.5"
  }
 },
 "nbformat": 4,
 "nbformat_minor": 2
}
