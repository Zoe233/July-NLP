{
 "cells": [
  {
   "cell_type": "markdown",
   "metadata": {},
   "source": [
    "# 循环神经网络RNN模型"
   ]
  },
  {
   "cell_type": "markdown",
   "metadata": {},
   "source": [
    "<a href='#rnn'>一、RNN与前向反向传播算法</a>\n",
    "- <a href='#rnn1'>1. RNN概述</a>\n",
    "- <a href='#rnn2'>2. RNN模型</a>\n",
    "- <a href='#rnn3'>3. RNN前向传播算法</a>\n",
    "- <a href='#rnn4'>4. RNN反向传播算法推导</a>\n",
    "- <a href='#rnn5'>5. RNN小结</a>"
   ]
  },
  {
   "cell_type": "markdown",
   "metadata": {},
   "source": [
    "<a href='#lstm'>一、LSTM与前向反向算法</a>\n",
    "- <a href='#lstm1'>1. 从RNN到LSTM</a>\n",
    "- <a href='#lstm2'>2. LSTM模型结构剖析</a>\n",
    "- <a href='#lstm3'>3. LSTM之遗忘门</a>\n",
    "- <a href='#lstm4'>4. LSTM之输入门</a>\n",
    "- <a href='#lstm5'>5. LSTM之细胞状态更新</a>\n",
    "- <a href='#lstm6'>6. LSTM之输出门</a>\n",
    "- <a href='#lstm7'>7. LSTM前向传播算法</a>\n",
    "- <a href='#lstm8'>8. LSTM反向传播算法推导关键点</a>\n",
    "- <a href='#lstm9'>9. LSTM小结</a>"
   ]
  },
  {
   "cell_type": "markdown",
   "metadata": {},
   "source": [
    "---"
   ]
  },
  {
   "cell_type": "markdown",
   "metadata": {},
   "source": [
    "# <a name='rnn'>一、RNN与前向反向传播算法</a>\n"
   ]
  },
  {
   "cell_type": "markdown",
   "metadata": {},
   "source": [
    "## <a name='rnn1'>1. RNN概述</a>\n"
   ]
  },
  {
   "cell_type": "markdown",
   "metadata": {},
   "source": []
  },
  {
   "cell_type": "markdown",
   "metadata": {},
   "source": []
  },
  {
   "cell_type": "markdown",
   "metadata": {},
   "source": []
  },
  {
   "cell_type": "markdown",
   "metadata": {},
   "source": [
    "## <a name='rnn2'>2. RNN模型</a>\n"
   ]
  },
  {
   "cell_type": "markdown",
   "metadata": {},
   "source": [
    "## <a name='rnn3'>3. RNN前向传播算法</a>\n"
   ]
  },
  {
   "cell_type": "markdown",
   "metadata": {},
   "source": [
    "## <a name='rnn4'>4. RNN反向传播算法推导</a>\n"
   ]
  },
  {
   "cell_type": "markdown",
   "metadata": {},
   "source": []
  },
  {
   "cell_type": "markdown",
   "metadata": {},
   "source": [
    "## <a name='rnn5'>5. RNN小结</a>"
   ]
  },
  {
   "cell_type": "code",
   "execution_count": null,
   "metadata": {},
   "outputs": [],
   "source": []
  }
 ],
 "metadata": {
  "kernelspec": {
   "display_name": "Python 3",
   "language": "python",
   "name": "python3"
  },
  "language_info": {
   "codemirror_mode": {
    "name": "ipython",
    "version": 3
   },
   "file_extension": ".py",
   "mimetype": "text/x-python",
   "name": "python",
   "nbconvert_exporter": "python",
   "pygments_lexer": "ipython3",
   "version": "3.6.5"
  }
 },
 "nbformat": 4,
 "nbformat_minor": 2
}
