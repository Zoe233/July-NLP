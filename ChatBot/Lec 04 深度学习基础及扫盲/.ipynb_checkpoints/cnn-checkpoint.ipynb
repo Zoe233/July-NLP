{
 "cells": [
  {
   "cell_type": "markdown",
   "metadata": {},
   "source": [
    "# 卷积神经网络CNN"
   ]
  },
  {
   "cell_type": "markdown",
   "metadata": {},
   "source": [
    "<a href='#cnn'>一、卷积神经网络CNN的模型结构</a>\n",
    "- <a href='#cnn1'>1. CNN的基本结构</a>\n",
    "- <a href='#cnn2'>2. 初识卷积</a>\n",
    "- <a href='#cnn3'>3. CNN中的卷积层</a>\n",
    "- <a href='#cnn4'>4. CNN中的池化层</a>\n",
    "- <a href='#cnn5'>5. CNN模型结构小结</a>"
   ]
  },
  {
   "cell_type": "markdown",
   "metadata": {},
   "source": [
    "<a href='#fp'>一、卷积神经网络CNN前向传播算法</a>\n",
    "- <a href='#fp1'>1. 回顾CNN的结构</a>\n",
    "- <a href='#fp2'>2. CNN输入层前向传播到卷积层</a>\n",
    "- <a href='#fp3'>3. 隐藏层前向传播到卷积层</a>\n",
    "- <a href='#fp4'>4. 隐藏层前向传播到池化层</a>\n",
    "- <a href='#fp5'>5. 影藏层前向传播到全连接层</a>\n",
    "- <a href='#fp6'>6. CNN前向传播算法小结</a>"
   ]
  },
  {
   "cell_type": "markdown",
   "metadata": {},
   "source": [
    "<a href='#bp'>一、卷积神经网络CNN反向传播算法</a>\n",
    "- <a href='#bp1'>1. 回顾DNN的反向传播算法</a>\n",
    "- <a href='#bp2'>2. CNN的反向传播算法思想</a>\n",
    "- <a href='#bp3'>3. 已知池化层的$\\delta^l$，推导上一隐藏层的$\\delta^{l-1}$</a>\n",
    "- <a href='#bp4'>4. 已知卷积层的$\\delta^l$，推导上一隐藏层的$\\delta^{l-1}$</a>\n",
    "- <a href='#bp5'>5. 已知卷积层的$\\delta^l$，推导该层的W,b的梯度</a>\n",
    "- <a href='#bp6'>6. CNN反向传播算法总结</a>"
   ]
  },
  {
   "cell_type": "markdown",
   "metadata": {},
   "source": [
    "---"
   ]
  },
  {
   "cell_type": "markdown",
   "metadata": {},
   "source": [
    "# <a name='cnn'>一、卷积神经网络CNN的模型结构</a>"
   ]
  },
  {
   "cell_type": "markdown",
   "metadata": {},
   "source": [
    "在前面我们讲述了DNN的模型与前向反向传播算法。\n",
    "\n",
    "而在DNN大类中，**卷积神经网络(Convolutional Neural Networks，以下简称CNN)是最为成功的DNN特例之一。**\n",
    "\n",
    "CNN广泛的应用于**图像识别**，当然现在也应用于**NLP等其他领域**，本文我们就对CNN的模型结构做一个总结。"
   ]
  },
  {
   "cell_type": "markdown",
   "metadata": {},
   "source": [
    "## <a name='cnn1'>1. CNN的基本结构</a>\n"
   ]
  },
  {
   "cell_type": "markdown",
   "metadata": {},
   "source": []
  },
  {
   "cell_type": "markdown",
   "metadata": {},
   "source": []
  },
  {
   "cell_type": "markdown",
   "metadata": {},
   "source": []
  },
  {
   "cell_type": "markdown",
   "metadata": {},
   "source": []
  },
  {
   "cell_type": "markdown",
   "metadata": {},
   "source": [
    "## <a name='cnn2'>2. 初识卷积</a>\n"
   ]
  },
  {
   "cell_type": "markdown",
   "metadata": {},
   "source": []
  },
  {
   "cell_type": "markdown",
   "metadata": {},
   "source": []
  },
  {
   "cell_type": "markdown",
   "metadata": {},
   "source": [
    "## <a name='cnn3'>3. CNN中的卷积层</a>\n"
   ]
  },
  {
   "cell_type": "markdown",
   "metadata": {},
   "source": []
  },
  {
   "cell_type": "markdown",
   "metadata": {},
   "source": []
  },
  {
   "cell_type": "markdown",
   "metadata": {},
   "source": [
    "## <a name='cnn4'>4. CNN中的池化层</a>\n"
   ]
  },
  {
   "cell_type": "markdown",
   "metadata": {},
   "source": [
    "## <a name='cnn5'>5. CNN模型结构小结</a>"
   ]
  },
  {
   "cell_type": "markdown",
   "metadata": {},
   "source": [
    "<a name='fp'>一、卷积神经网络CNN前向传播算法</a>\n",
    "- <a name='fp1'>1. 回顾CNN的结构</a>\n",
    "- <a name='fp2'>2. CNN输入层前向传播到卷积层</a>\n",
    "- <a name='fp3'>3. 隐藏层前向传播到卷积层</a>\n",
    "- <a name='fp4'>4. 隐藏层前向传播到池化层</a>\n",
    "- <a name='fp5'>5. 影藏层前向传播到全连接层</a>\n",
    "- <a name='fp6'>6. CNN前向传播算法小结</a>"
   ]
  },
  {
   "cell_type": "markdown",
   "metadata": {},
   "source": []
  },
  {
   "cell_type": "markdown",
   "metadata": {},
   "source": []
  },
  {
   "cell_type": "markdown",
   "metadata": {},
   "source": []
  },
  {
   "cell_type": "markdown",
   "metadata": {},
   "source": []
  },
  {
   "cell_type": "markdown",
   "metadata": {},
   "source": []
  },
  {
   "cell_type": "markdown",
   "metadata": {},
   "source": []
  },
  {
   "cell_type": "markdown",
   "metadata": {},
   "source": []
  },
  {
   "cell_type": "markdown",
   "metadata": {},
   "source": []
  },
  {
   "cell_type": "markdown",
   "metadata": {},
   "source": []
  },
  {
   "cell_type": "markdown",
   "metadata": {},
   "source": []
  },
  {
   "cell_type": "markdown",
   "metadata": {},
   "source": []
  },
  {
   "cell_type": "markdown",
   "metadata": {},
   "source": []
  },
  {
   "cell_type": "markdown",
   "metadata": {},
   "source": []
  },
  {
   "cell_type": "markdown",
   "metadata": {},
   "source": []
  },
  {
   "cell_type": "markdown",
   "metadata": {},
   "source": []
  },
  {
   "cell_type": "markdown",
   "metadata": {},
   "source": []
  },
  {
   "cell_type": "markdown",
   "metadata": {},
   "source": []
  },
  {
   "cell_type": "markdown",
   "metadata": {},
   "source": []
  },
  {
   "cell_type": "markdown",
   "metadata": {},
   "source": []
  },
  {
   "cell_type": "markdown",
   "metadata": {},
   "source": []
  },
  {
   "cell_type": "markdown",
   "metadata": {},
   "source": [
    "<a name='bp'>一、卷积神经网络CNN反向传播算法</a>\n",
    "- <a name='bp1'>1. 回顾DNN的反向传播算法</a>\n",
    "- <a name='bp2'>2. CNN的反向传播算法思想</a>\n",
    "- <a name='bp3'>3. 已知池化层的$\\delta^l$，推导上一隐藏层的$\\delta^{l-1}$</a>\n",
    "- <a name='bp4'>4. 已知卷积层的$\\delta^l$，推导上一隐藏层的$\\delta^{l-1}$</a>\n",
    "- <a name='bp5'>5. 已知卷积层的$\\delta^l$，推导该层的W,b的梯度</a>\n",
    "- <a name='bp6'>6. CNN反向传播算法总结</a>"
   ]
  },
  {
   "cell_type": "markdown",
   "metadata": {},
   "source": []
  },
  {
   "cell_type": "markdown",
   "metadata": {},
   "source": []
  },
  {
   "cell_type": "markdown",
   "metadata": {},
   "source": []
  }
 ],
 "metadata": {
  "kernelspec": {
   "display_name": "Python 3",
   "language": "python",
   "name": "python3"
  },
  "language_info": {
   "codemirror_mode": {
    "name": "ipython",
    "version": 3
   },
   "file_extension": ".py",
   "mimetype": "text/x-python",
   "name": "python",
   "nbconvert_exporter": "python",
   "pygments_lexer": "ipython3",
   "version": "3.6.5"
  }
 },
 "nbformat": 4,
 "nbformat_minor": 2
}
