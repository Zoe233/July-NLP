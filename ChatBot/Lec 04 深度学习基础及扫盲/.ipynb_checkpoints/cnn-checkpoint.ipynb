{
 "cells": [
  {
   "cell_type": "markdown",
   "metadata": {},
   "source": [
    "# 卷积神经网络CNN"
   ]
  },
  {
   "cell_type": "markdown",
   "metadata": {},
   "source": [
    "<a href='#cnn'>一、卷积神经网络CNN的模型结构</a>\n",
    "- <a href='#cnn1'>1. CNN的基本结构</a>\n",
    "- <a href='#cnn2'>2. 初识卷积</a>\n",
    "- <a href='#cnn3'>3. CNN中的卷积层</a>\n",
    "- <a href='#cnn4'>4. CNN中的池化层</a>\n",
    "- <a href='#cnn5'>5. CNN模型结构小结</a>"
   ]
  },
  {
   "cell_type": "markdown",
   "metadata": {},
   "source": [
    "<a href='#fp'>一、卷积神经网络CNN前向传播算法</a>\n",
    "- <a href='#fp1'>1. 回顾CNN的结构</a>\n",
    "- <a href='#fp2'>2. CNN输入层前向传播到卷积层</a>\n",
    "- <a href='#fp3'>3. 隐藏层前向传播到卷积层</a>\n",
    "- <a href='#fp4'>4. 隐藏层前向传播到池化层</a>\n",
    "- <a href='#fp5'>5. 影藏层前向传播到全连接层</a>\n",
    "- <a href='#fp6'>6. CNN前向传播算法小结</a>"
   ]
  },
  {
   "cell_type": "markdown",
   "metadata": {},
   "source": [
    "<a href='#bp'>一、卷积神经网络CNN反向传播算法</a>\n",
    "- <a href='#bp1'>1. 回顾DNN的反向传播算法</a>\n",
    "- <a href='#bp2'>2. CNN的反向传播算法思想</a>\n",
    "- <a href='#bp3'>3. 已知池化层的$\\delta^l$，推导上一隐藏层的$\\delta^{l-1}$</a>\n",
    "- <a href='#bp4'>4. 已知卷积层的$\\delta^l$，推导上一隐藏层的$\\delta^{l-1}$</a>\n",
    "- <a href='#bp5'>5. 已知卷积层的$\\delta^l$，推导该层的W,b的梯度</a>\n",
    "- <a href='#bp6'>6. CNN反向传播算法总结</a>"
   ]
  },
  {
   "cell_type": "markdown",
   "metadata": {},
   "source": [
    "---"
   ]
  },
  {
   "cell_type": "markdown",
   "metadata": {},
   "source": [
    "# <a name='cnn'>一、卷积神经网络CNN的模型结构</a>"
   ]
  },
  {
   "cell_type": "markdown",
   "metadata": {},
   "source": [
    "在前面我们讲述了DNN的模型与前向反向传播算法。\n",
    "\n",
    "而在DNN大类中，**卷积神经网络(Convolutional Neural Networks，以下简称CNN)是最为成功的DNN特例之一。**\n",
    "\n",
    "CNN广泛的应用于**图像识别**，当然现在也应用于**NLP等其他领域**，本文我们就对CNN的模型结构做一个总结。"
   ]
  },
  {
   "cell_type": "markdown",
   "metadata": {},
   "source": [
    "## <a name='cnn1'>1. CNN的基本结构</a>\n"
   ]
  },
  {
   "cell_type": "markdown",
   "metadata": {},
   "source": [
    "首先我们来看看CNN的基本结构。"
   ]
  },
  {
   "cell_type": "markdown",
   "metadata": {},
   "source": [
    "一个常见的CNN例子如下图：\n",
    "\n",
    "<img src='./images/cnn_basic.png' width='90%'/>"
   ]
  },
  {
   "cell_type": "markdown",
   "metadata": {},
   "source": [
    "图中是一个图形识别的CNN模型。\n",
    "\n",
    "可以看出最左边的船的图像就是我们的**输入层**，计算机理解为**输入若干个矩阵**，这点和DNN基本相同。\n",
    "\n"
   ]
  },
  {
   "cell_type": "markdown",
   "metadata": {},
   "source": [
    "接着是**卷积层（Convolution Layer）**，这个是CNN特有的，我们后面专门来讲。\n",
    "卷积层的激活函数使用的是ReLU。我们在DNN中介绍过ReLU的激活函数，它其实很简单，就是ReLU(x)=max(0,x)。"
   ]
  },
  {
   "cell_type": "markdown",
   "metadata": {},
   "source": [
    "在卷积层后面是**池化层(Pooling layer)**，这个也是CNN特有的，我们后面也会专门来讲。\n",
    "需要注意的是，**池化层没有激活函数**。"
   ]
  },
  {
   "cell_type": "markdown",
   "metadata": {},
   "source": [
    "**卷积层+池化层的组合**可以**在隐藏层出现很多次**，上图中出现两次。\n",
    "\n",
    "而实际上这个次数是根据模型的需要而来的。\n",
    "\n",
    "当然我们也可以灵活使用使用**卷积层+卷积层**，或者**卷积层+卷积层+池化层**的组合，这些在构建模型的时候没有限制。\n",
    "\n",
    "但是最常见的CNN都是**若干卷积层+池化层的组合**，如上图中的CNN结构。"
   ]
  },
  {
   "cell_type": "markdown",
   "metadata": {},
   "source": [
    "在若干卷积层+池化层后面是**全连接层（Fully Connected Layer, 简称FC）**，全连接层其实就是我们前面讲的DNN结构，只是**输出层使用了Softmax激活函数来做图像识别的分类**，这点我们在DNN中也有讲述。"
   ]
  },
  {
   "cell_type": "markdown",
   "metadata": {},
   "source": [
    "从上面CNN的模型描述可以看出，CNN相对于DNN，**比较特殊的是卷积层和池化层**，如果我们熟悉DNN，只要把卷积层和池化层的原理搞清楚了，那么搞清楚CNN就容易很多了。"
   ]
  },
  {
   "cell_type": "markdown",
   "metadata": {},
   "source": [
    "## <a name='cnn2'>2. 初识卷积</a>\n"
   ]
  },
  {
   "cell_type": "markdown",
   "metadata": {},
   "source": []
  },
  {
   "cell_type": "markdown",
   "metadata": {},
   "source": []
  },
  {
   "cell_type": "markdown",
   "metadata": {},
   "source": []
  },
  {
   "cell_type": "markdown",
   "metadata": {},
   "source": []
  },
  {
   "cell_type": "markdown",
   "metadata": {},
   "source": []
  },
  {
   "cell_type": "markdown",
   "metadata": {},
   "source": []
  },
  {
   "cell_type": "markdown",
   "metadata": {},
   "source": []
  },
  {
   "cell_type": "markdown",
   "metadata": {},
   "source": [
    "## <a name='cnn3'>3. CNN中的卷积层</a>\n"
   ]
  },
  {
   "cell_type": "markdown",
   "metadata": {},
   "source": []
  },
  {
   "cell_type": "markdown",
   "metadata": {},
   "source": []
  },
  {
   "cell_type": "markdown",
   "metadata": {},
   "source": [
    "## <a name='cnn4'>4. CNN中的池化层</a>\n"
   ]
  },
  {
   "cell_type": "markdown",
   "metadata": {},
   "source": [
    "## <a name='cnn5'>5. CNN模型结构小结</a>"
   ]
  },
  {
   "cell_type": "markdown",
   "metadata": {},
   "source": [
    "<a name='fp'>一、卷积神经网络CNN前向传播算法</a>\n",
    "- <a name='fp1'>1. 回顾CNN的结构</a>\n",
    "- <a name='fp2'>2. CNN输入层前向传播到卷积层</a>\n",
    "- <a name='fp3'>3. 隐藏层前向传播到卷积层</a>\n",
    "- <a name='fp4'>4. 隐藏层前向传播到池化层</a>\n",
    "- <a name='fp5'>5. 影藏层前向传播到全连接层</a>\n",
    "- <a name='fp6'>6. CNN前向传播算法小结</a>"
   ]
  },
  {
   "cell_type": "markdown",
   "metadata": {},
   "source": []
  },
  {
   "cell_type": "markdown",
   "metadata": {},
   "source": []
  },
  {
   "cell_type": "markdown",
   "metadata": {},
   "source": []
  },
  {
   "cell_type": "markdown",
   "metadata": {},
   "source": []
  },
  {
   "cell_type": "markdown",
   "metadata": {},
   "source": []
  },
  {
   "cell_type": "markdown",
   "metadata": {},
   "source": []
  },
  {
   "cell_type": "markdown",
   "metadata": {},
   "source": []
  },
  {
   "cell_type": "markdown",
   "metadata": {},
   "source": []
  },
  {
   "cell_type": "markdown",
   "metadata": {},
   "source": []
  },
  {
   "cell_type": "markdown",
   "metadata": {},
   "source": []
  },
  {
   "cell_type": "markdown",
   "metadata": {},
   "source": []
  },
  {
   "cell_type": "markdown",
   "metadata": {},
   "source": []
  },
  {
   "cell_type": "markdown",
   "metadata": {},
   "source": []
  },
  {
   "cell_type": "markdown",
   "metadata": {},
   "source": []
  },
  {
   "cell_type": "markdown",
   "metadata": {},
   "source": []
  },
  {
   "cell_type": "markdown",
   "metadata": {},
   "source": []
  },
  {
   "cell_type": "markdown",
   "metadata": {},
   "source": []
  },
  {
   "cell_type": "markdown",
   "metadata": {},
   "source": []
  },
  {
   "cell_type": "markdown",
   "metadata": {},
   "source": []
  },
  {
   "cell_type": "markdown",
   "metadata": {},
   "source": []
  },
  {
   "cell_type": "markdown",
   "metadata": {},
   "source": [
    "<a name='bp'>一、卷积神经网络CNN反向传播算法</a>\n",
    "- <a name='bp1'>1. 回顾DNN的反向传播算法</a>\n",
    "- <a name='bp2'>2. CNN的反向传播算法思想</a>\n",
    "- <a name='bp3'>3. 已知池化层的$\\delta^l$，推导上一隐藏层的$\\delta^{l-1}$</a>\n",
    "- <a name='bp4'>4. 已知卷积层的$\\delta^l$，推导上一隐藏层的$\\delta^{l-1}$</a>\n",
    "- <a name='bp5'>5. 已知卷积层的$\\delta^l$，推导该层的W,b的梯度</a>\n",
    "- <a name='bp6'>6. CNN反向传播算法总结</a>"
   ]
  },
  {
   "cell_type": "markdown",
   "metadata": {},
   "source": []
  },
  {
   "cell_type": "markdown",
   "metadata": {},
   "source": []
  },
  {
   "cell_type": "markdown",
   "metadata": {},
   "source": []
  }
 ],
 "metadata": {
  "kernelspec": {
   "display_name": "Python 3",
   "language": "python",
   "name": "python3"
  },
  "language_info": {
   "codemirror_mode": {
    "name": "ipython",
    "version": 3
   },
   "file_extension": ".py",
   "mimetype": "text/x-python",
   "name": "python",
   "nbconvert_exporter": "python",
   "pygments_lexer": "ipython3",
   "version": "3.6.5"
  }
 },
 "nbformat": 4,
 "nbformat_minor": 2
}
