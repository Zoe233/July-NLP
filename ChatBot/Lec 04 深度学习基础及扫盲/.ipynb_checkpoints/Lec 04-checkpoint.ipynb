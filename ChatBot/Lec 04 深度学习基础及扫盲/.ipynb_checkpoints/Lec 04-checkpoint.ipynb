{
 "cells": [
  {
   "cell_type": "markdown",
   "metadata": {},
   "source": [
    "# Lec 04 深度学习基础及扫盲"
   ]
  },
  {
   "cell_type": "markdown",
   "metadata": {},
   "source": [
    "## 主要内容：\n",
    "- <a href='#rnn'>1. 循环神经网络RNN</a>\n",
    "    - <a href='#rnn1'>1.1 场景与多种引用</a>\n",
    "    - <a href='#dnn_rnn'>1.2 神经网络到循环神经网络RNN</a>\n",
    "    - <a href='#rnn2'>1.3 NLP文字序列最爱的RNN</a>\n",
    "        - 双向RNN\n",
    "        - 深度RNN\n",
    "    - <a href='#rnn3'>1.4 BPTT算法</a>\n",
    "    - <a href='#pic'>1.5 看图说话</a>"
   ]
  },
  {
   "cell_type": "markdown",
   "metadata": {},
   "source": [
    "- <a href='#lstm'>2. LSTM</a>\n",
    "    - <a href='#lstm1'>2.1 长时依赖问题</a>\n",
    "    - <a href='#lstm2'>2.2 “记忆细胞”与状态</a>\n",
    "    - <a href='#lstm3'>2.3 LSTM的变体</a>\n",
    "    - <a href='#gru'>2.4 GRU</a>\n"
   ]
  },
  {
   "cell_type": "markdown",
   "metadata": {},
   "source": [
    "- <a href='#application'>3.NLP的应用</a>\n",
    "    - <a href='#application1'>3.1 各式各样的生成模型</a>\n",
    "    - <a href='#application2'>3.2 看图说话基础版与高级版</a>\n",
    "    - <a href='#application3'>3.3 序列到序列学习（机器翻译等）</a>"
   ]
  },
  {
   "cell_type": "markdown",
   "metadata": {},
   "source": [
    "<h2><a name='rnn'>1. 循环神经网络RNN</a></h2>\n"
   ]
  },
  {
   "cell_type": "markdown",
   "metadata": {},
   "source": [
    "<h3><a name='rnn1'>1.1 场景与多种引用</a></h3>"
   ]
  },
  {
   "cell_type": "markdown",
   "metadata": {},
   "source": [
    "在自然语言处理中，另外一个重要的应用领域，就是**文本的自动撰写**。\n",
    "\n",
    "关键词、关键短语、自动摘要提取都属于这个领域中的一种应用。\n",
    "不过这些应用，都是**由多到少的生成**。\n",
    "\n",
    "这里我们介绍其另外一种应用：**由少到多的生成**，包括句子的复写，由关键词、主题生成文章或者段落等。\n"
   ]
  },
  {
   "cell_type": "markdown",
   "metadata": {},
   "source": [
    "- 由多到少的生成：\n",
    "    - 关键词\n",
    "    - 关键短语\n",
    "    - 自动摘要\n",
    "\n",
    "- 又少到多的生成：\n",
    "    - 句子的复写\n",
    "    - 由关键词、主题生成文章或者段落"
   ]
  },
  {
   "cell_type": "markdown",
   "metadata": {},
   "source": [
    "如MarkDown，Latex等这种有模式pattern的语言，都可以通过RNN（循环神经网络）的生成模型，学习到如何生成相应的符合其pattern的产物，如：Markdown格式的笔记，Latex格式的数学公式等。"
   ]
  },
  {
   "cell_type": "markdown",
   "metadata": {},
   "source": [
    "下面介绍循环神经网络的应用：\n",
    "- 模仿论文（连公式的格式都是正确的）\n",
    "- 模仿Linux内核代码“写程序”\n",
    "- 模仿小四的作品\n",
    "- 机器翻译（Seq2Seq）\n",
    "- 看图说话"
   ]
  },
  {
   "cell_type": "markdown",
   "metadata": {},
   "source": [
    "<img src='./images/rnn1.png' width='30%'/>"
   ]
  },
  {
   "cell_type": "markdown",
   "metadata": {},
   "source": [
    "这篇生成的论文，在样式上是符合人类的论文的书写习惯，可能内容上没有什么实际的研究意义。"
   ]
  },
  {
   "cell_type": "markdown",
   "metadata": {},
   "source": [
    "<img src='./images/rnn2.png' width='30%'/>"
   ]
  },
  {
   "cell_type": "markdown",
   "metadata": {},
   "source": [
    "不同的语言在做编码的时候，语法是不一样的，如java和c需要标记变量的类型，而python则是东岱语言，不需要预先定义变量的类型，而是根据赋值的类型而变化。\n",
    "\n",
    "学习到编码方式和风格，RNN将序列的模式学会，前后组合在一起，有具体的实际意义。然后RNN可以通过这样的序列，生成相应的序列。如：论文和代码都不一定有实际意义，但是至少都是符合相关的语法和模式的。"
   ]
  },
  {
   "cell_type": "markdown",
   "metadata": {},
   "source": [
    "<img src='./images/rnn3.png' width='30%'/>"
   ]
  },
  {
   "cell_type": "markdown",
   "metadata": {},
   "source": [
    "如果序列对应的是中文，那么生成的就是中文。\n",
    "\n",
    "模型的参数如何；  \n",
    "给定的数据如何（丰富度，准确性等）。"
   ]
  },
  {
   "cell_type": "markdown",
   "metadata": {},
   "source": [
    "<img src='./images/rnn4.png' width='30%'/>"
   ]
  },
  {
   "cell_type": "markdown",
   "metadata": {},
   "source": [
    "序列到序列，Seq2Seq的应用。\n",
    "\n",
    "对于计算机而言，喂给的是向量，生成的向量，只是向量相应的映射的值。"
   ]
  },
  {
   "cell_type": "markdown",
   "metadata": {},
   "source": [
    "<img src='./images/rnn5.png' width='30%'/>"
   ]
  },
  {
   "cell_type": "markdown",
   "metadata": {},
   "source": [
    "这个任务，在后续会讲解。 \n",
    "\n",
    "中间的一副图：问和答，是更高级的一种。"
   ]
  },
  {
   "cell_type": "markdown",
   "metadata": {},
   "source": [
    "<h3><a name='dnn_rnn'>1.2 神经网络到循环神经网络RNN</a></h3>"
   ]
  },
  {
   "cell_type": "markdown",
   "metadata": {},
   "source": [
    "<img src='./images/nn1.png' width='70%'/>\n"
   ]
  },
  {
   "cell_type": "markdown",
   "metadata": {},
   "source": [
    "在神经网络中，我们有很多种的结构和名称。\n",
    "\n",
    "如：\n",
    "- MLP/DNN： 一般的神经网络结构比较简单，input layer, n * hidden layer , output layer\n",
    "- CNN卷积神经网络，主要用于处理图像，也可以应用于自然语言处理等多方面\n",
    "- RNN( LSTM, GRU)： 自然语言处理很多的处理序列"
   ]
  },
  {
   "cell_type": "markdown",
   "metadata": {},
   "source": [
    "#### 循环神经网络RNN\n",
    "\n",
    "为什么有BP神经网络，CNN，还要RNN?\n",
    "- 传统神经网络（包括CNN），输入和输出都是相互独立的。\n",
    "    - 图像上的猫和狗是分隔开的，但有些任务，后续的输出和之前的内容是相关的。\n",
    "    - 如：“我是中国人，我的母语是__”\n",
    "- RNN引入“记忆”的概念\n",
    "    - 循环2字 来源于其每个元素都执行相同的任务。\n",
    "    - 但是输出依赖于 “输入”和“记忆”。"
   ]
  },
  {
   "cell_type": "markdown",
   "metadata": {},
   "source": [
    "传统的MLP/DNN，都是输入和输出相互独立的。\n",
    "\n",
    "但在，文本的序列问题，前后是有关联的。 这种依赖于上下文，在RNN中引入了“记忆”的概念。\n",
    "\n",
    "如上面的应用中的看图提问并回答，那么提问的就要存在“记忆”中，然后基于问题去回答。\n",
    "\n",
    "“循环”相当于一个“回路”，就是一遍一遍地去做。\n"
   ]
  },
  {
   "cell_type": "markdown",
   "metadata": {},
   "source": [
    "<img src='./images/rnn6.png' width='70%'/>"
   ]
  },
  {
   "cell_type": "markdown",
   "metadata": {},
   "source": [
    "- $x_t$是时间t处的输入\n",
    "- $S_t$是时间t处的“记忆”，$S_t = f(UX_t +WS_{t-1})$，f可以是tanh等\n",
    "- $O_t$是时间t处的输出，比如：是预测下个词的话，可能是softmax输出的属于每个候选词的概率，$O_t = softmax(VS_t)$"
   ]
  },
  {
   "cell_type": "markdown",
   "metadata": {},
   "source": [
    "<img src='./images/rnn_e1.png' width='50%'/>"
   ]
  },
  {
   "cell_type": "markdown",
   "metadata": {},
   "source": [
    "**循环神经网络之 结构细节 **\n",
    "- 可以把隐状态$S_t$视作“记忆体”，捕捉了之前时间点上的信息。\n",
    "- 输出$O_t$由当前时间及之前所有的“记忆“共同计算得到。\n",
    "- 很可惜，实际应用中，$S_t$并不能捕捉和保留之前所有信息（记忆有限？）\n",
    "    - LSTM可以解决这个问题，长短时记忆网络\n",
    "- 不同于CNN，这里的RNN其实整个神经网络都共享一组参数（U,V,W），极大减小了需要训练和预估的参数量。\n",
    "- 图中的$O_t$在有些任务下是不存在的，比如：文本情感分析，其实只需要最后的output结果就行。"
   ]
  },
  {
   "cell_type": "markdown",
   "metadata": {},
   "source": [
    "<h3><a name='rnn2'>1.3 NLP文字序列最爱的RNN</a></h3>"
   ]
  },
  {
   "cell_type": "markdown",
   "metadata": {},
   "source": [
    "#### RNN与生成模型"
   ]
  },
  {
   "cell_type": "markdown",
   "metadata": {},
   "source": [
    "<img src='./images/rnn7.png' width='70%'/>"
   ]
  },
  {
   "cell_type": "markdown",
   "metadata": {},
   "source": [
    "#### RNN生成模型模仿语言风格例子：\n",
    "\n",
    "<img src='./images/rnn8.png' width='30%'/>"
   ]
  },
  {
   "cell_type": "markdown",
   "metadata": {},
   "source": [
    "<img src='./images/rnn_hand.png' width='40%'/>"
   ]
  },
  {
   "cell_type": "markdown",
   "metadata": {},
   "source": [
    "在所有的RNN或LSTM的模型中，一个点不代表一个neuron，而是代表相对应的维度大小的所有的值。\n",
    "\n",
    "如：\n",
    "上图中的$s_{t}$就代表了100x100维的矩阵。"
   ]
  },
  {
   "cell_type": "markdown",
   "metadata": {},
   "source": [
    "#### 不同类型的RNN\n",
    "- 双向RNN\n",
    "    - 有些情况下，当前的输出不知依赖于之前的序列元素，还可能依赖之后的序列元素\n",
    "    - 比如： 从一段话中踢掉部分词，让你补全。如：完形填空。\n",
    "    - 直观理解：双向RNN叠加\n",
    "    <img src='./images/birnn1.png' width='70%'/>\n"
   ]
  },
  {
   "cell_type": "markdown",
   "metadata": {},
   "source": [
    "双向RNN（BiRNN)：  \n",
    "- $\\overrightarrow h_t$一个向量捕获了从前往后的信息，$h_t$受时刻t-1的$h_{t-1}$的影响；\n",
    "- $\\overleftarrow h_t$一个向量捕获了从后往前的信息，$h_t$受时刻t+1的$h_{t+1}$的影响；\n",
    "\n",
    "\n",
    "$U[\\overrightarrow h_t;\\overleftarrow h_t]$ 将这两个维度一样的向量做一个拼接，拼成一个矩阵U，再拿到最后的结果$y_t$.\n",
    "\n"
   ]
  },
  {
   "cell_type": "markdown",
   "metadata": {},
   "source": [
    "在经典的循环神经网络中，状态的传输是从前往后单向的。  \n",
    "然而，在有些问题中，当前时刻的输出不仅和之前的状态有关系，也和之后的状态相关。  \n",
    "这时就需要双向RNN（BiRNN）来解决这类问题。\n",
    "\n",
    "例如：预测一个语句中缺失的单词不仅需要根据前文来判断，也需要根据后面的内容，这时双向RNN就可以发挥它的作用。\n",
    "\n",
    "双向RNN是由两个RNN上下叠加在一起组成的。输出由这两个RNN的状态共同决定。"
   ]
  },
  {
   "cell_type": "markdown",
   "metadata": {},
   "source": [
    "从上图可以看出，双向RNN的主题结构就是两个单向RNN的结合。在每一个时刻t，输入会同时提供给这两个方向相反的RNN，而输出则是由这两个单向RNN共同决定（可以拼接或者求和等）。\n",
    "\n",
    "同样地，将双向RNN中的RNN替换成LSTM或者GRU结构，则组成了BiLSTM和BiGRU。"
   ]
  },
  {
   "cell_type": "markdown",
   "metadata": {},
   "source": [
    "- 深层双向RNN\n",
    "    - 和双向RNN的区别是每一步/每个时间点我们设定多层结构\n",
    "    <img src='./images/birnn2.png' width='70%'/>"
   ]
  },
  {
   "cell_type": "markdown",
   "metadata": {},
   "source": [
    "在同一个时间点上，反复学习了好几遍之后，得到的$y_t$。\n",
    "\n",
    "上图就是在同一时间点，学习了3遍之后得到的输出，会反复的消化知识。"
   ]
  },
  {
   "cell_type": "markdown",
   "metadata": {},
   "source": [
    "深层双向RNN中的W，V可能是共享的，也可能在不同层次之间不是共享的。"
   ]
  },
  {
   "cell_type": "markdown",
   "metadata": {},
   "source": [
    "<h3><a name='rnn3'>1.4 BPTT算法</a></h3>"
   ]
  },
  {
   "cell_type": "markdown",
   "metadata": {},
   "source": [
    "- MLP(DNN)与CNN用BP算法求偏导\n",
    "- BPTT和BP是一个思路，只不过既然有step，就和时间t有关系\n",
    "\n",
    "<img src='./images/bptt1.png' width='70%'/>"
   ]
  },
  {
   "cell_type": "markdown",
   "metadata": {},
   "source": [
    "<img src='./images/bptt2.png' width='70%'/>"
   ]
  },
  {
   "cell_type": "markdown",
   "metadata": {},
   "source": [
    "假定上面的$x_0$表示“我”，$x_1$表示“爱”，$x_2$表示“北京”，$x_3$表示“天安门”，$x_4$表示“广场”。\n",
    "\n",
    "希望预测的的output是$y_0$为“爱”的对应的向量值最大，同理，$y_1$为“北京”，$y_2$为“天安门”，$y_3$为“广场”，$y_4$为“。”\n",
    "\n",
    "假设这里的输入$x_i$是一个1x4w大小的one-hot向量，那么对应的输出的$y_i$也是1x4w的softmax的概率向量。其中$\\sum y_i=1$。\n",
    "\n",
    "想要衡量实际的$y_i$的输出和$\\hat y_i$的softmax的概率向量的差异，度量模型输出的结果和实际的结果之间的差异的**损失函数**，此处用的是**交叉熵**。\n",
    "\n",
    "$$E_t(y_t,\\hat y_t) = -y_t \\log \\hat y_t$$"
   ]
  },
  {
   "cell_type": "markdown",
   "metadata": {},
   "source": [
    "序列的预测，每个位置的损失都需要纳入考量。  \n",
    "所以，每个位置上的损失最后需要相加。\n",
    "$$E(y,\\hat y)=\\sum_{t} E_t(y_t,\\hat y_t)$$\n",
    "$$=-\\sum_t y_t \\log \\hat y_t$$\n",
    "最终这个才是预测值和标准答案之间的差距。"
   ]
  },
  {
   "cell_type": "markdown",
   "metadata": {},
   "source": [
    "<img src='./images/bptt3.png' width='70%'/>"
   ]
  },
  {
   "cell_type": "markdown",
   "metadata": {},
   "source": [
    "沿着时间轴，继续往前（begin)求偏导数。"
   ]
  },
  {
   "cell_type": "markdown",
   "metadata": {},
   "source": [
    "### <a name='pic'>1.5 看图说话</a>\n",
    "这个是基于相关的Paper的实际的项目“看图说话”的简单介绍"
   ]
  },
  {
   "cell_type": "markdown",
   "metadata": {},
   "source": [
    "#### RNN与图片描述输出："
   ]
  },
  {
   "cell_type": "markdown",
   "metadata": {},
   "source": [
    "<img src='./images/rnnandpic.png' width='70%'/>"
   ]
  },
  {
   "cell_type": "markdown",
   "metadata": {},
   "source": [
    "看图说话，我们可能希望能够生成一句话“人带草帽”。\n",
    "\n",
    "这个网络结构是一个AlexNet的CNN，由卷积层+池化层+卷积层+池化层+卷积层+池化层+卷积层+池化层+2个全连接层FC构成。\n",
    "\n",
    "全连接层的时候，把最上面输入的图表示成 4096x1的一个向量。\n",
    "\n",
    "这个向量表示的是图像的内容。\n",
    "\n",
    "上图任务中，针对图像的内容，去表述生成一句话。如果没有图像4096x1的向量的信息的介入，可以随机生成话语。  \n",
    "\n",
    "把图像的向量灌进来这个RNN结构中，V只在Start的时候灌进来，后面就不会再添加进来。\n",
    "在论文里面，这样的效果是最好的。"
   ]
  },
  {
   "cell_type": "markdown",
   "metadata": {},
   "source": [
    "<img src='./images/rnnandpic2.png' width='70%'/>"
   ]
  },
  {
   "cell_type": "markdown",
   "metadata": {},
   "source": [
    "#### 图片描述数据集\n"
   ]
  },
  {
   "cell_type": "markdown",
   "metadata": {},
   "source": [
    "<img src='./images/coco.png' width='80%'/>"
   ]
  },
  {
   "cell_type": "markdown",
   "metadata": {},
   "source": [
    "<img src='./images/coco2.png' width='80%'/>"
   ]
  },
  {
   "cell_type": "markdown",
   "metadata": {},
   "source": [
    "-----"
   ]
  },
  {
   "cell_type": "markdown",
   "metadata": {},
   "source": [
    "## <a name='lstm'>2. LSTM</a>\n"
   ]
  },
  {
   "cell_type": "markdown",
   "metadata": {},
   "source": [
    "前面提到的RNN的解决了，对之前的信息保存的问题。"
   ]
  },
  {
   "cell_type": "markdown",
   "metadata": {},
   "source": [
    "### <a name='lstm1'>2.1 长时依赖问题</a>"
   ]
  },
  {
   "cell_type": "markdown",
   "metadata": {},
   "source": [
    "但是！存在长期依赖的问题。\n",
    "- 看电影的时候，某些情节的推断需要依赖很久以前的一些细节。\n",
    "- 很多其他的任务也一样。\n",
    "- 很可惜随着时间间隔不断增大时，RNN会丧失学习到连接如此远的信息的能力。\n",
    "- 也就是说，记忆容量有限，一本书从头到尾一字不漏的去记，肯定离得越远的东西忘得越多。\n",
    "- 怎么办：LSTM"
   ]
  },
  {
   "cell_type": "markdown",
   "metadata": {},
   "source": [
    "在RNN中，梯度下降法中，因为是链式的梯度相乘，只要里面有一个梯度为0，那结果就是0，还有连乘的量大，每个梯度都小于1的话，就会出现梯度弥散的问题。\n",
    "\n",
    "为什么会有梯度弥散？  \n",
    "因为梯度下降法求解的时候，用了一堆的连乘。\n",
    "\n",
    "在LSTM中，将其变成了加法，解决了RNN中出现的梯度弥散的问题。"
   ]
  },
  {
   "cell_type": "markdown",
   "metadata": {},
   "source": [
    "LSTM是RNN的一种，大体结构几乎一样。 \n",
    "\n",
    "区别是：\n",
    "- 它的“记忆细胞”改造过。\n",
    "- 该记的信息会一直传递，不该记的会被“门”截断。"
   ]
  },
  {
   "cell_type": "markdown",
   "metadata": {},
   "source": [
    "### <a name='lstm2'>2.2 “记忆细胞”与状态</a>"
   ]
  },
  {
   "cell_type": "markdown",
   "metadata": {},
   "source": [
    "之前提到的RNN结构如下：\n",
    "\n",
    "<img src='./images/rnn_p.png' width='80%'/>"
   ]
  },
  {
   "cell_type": "markdown",
   "metadata": {},
   "source": [
    "咱们把“记忆细胞”表示得酷炫有点：\n",
    "<img src='./images/lstm_ku.png' width='80%'/>"
   ]
  },
  {
   "cell_type": "markdown",
   "metadata": {},
   "source": [
    "LSTM呢？\n",
    "- “记忆细胞”变得稍微复杂了一点点\n",
    "<img src='./images/lstm_memory.png' width='80%'/>"
   ]
  },
  {
   "cell_type": "markdown",
   "metadata": {},
   "source": [
    "图太复杂，细节看不懂？别着急，我们解释解释。\n",
    "\n",
    "<img src='./images/lstm_detail.png' width='80%'/>"
   ]
  },
  {
   "cell_type": "markdown",
   "metadata": {},
   "source": [
    "- Neural Network Layer: 逐个元素去取sigmoid  \n",
    "- Pointwise Operation：逐点的元素的乘法  \n",
    "- Vector Transfer: 向量的传播  \n",
    "- Concatenate: 拼接  \n",
    "- Copy: 复制  "
   ]
  },
  {
   "cell_type": "markdown",
   "metadata": {},
   "source": [
    "LSTM关键：“记忆细胞”\n",
    "- 细胞状态类似于**传送带**。直接在整个链上面运行，只有一些少量的线性交互。 信息在上面流传保持不变会很容易。"
   ]
  },
  {
   "cell_type": "markdown",
   "metadata": {},
   "source": [
    "<img src='./images/lstm_cell.png' width='60%'/>"
   ]
  },
  {
   "cell_type": "markdown",
   "metadata": {},
   "source": [
    "LSMT怎么控制“细胞状态”?\n",
    "- 通过“门”让信息选择性通过，来去除或者增加信息到细胞状态。\n",
    "- 包含一个sigmoid神经网络层 和 一个pointwise乘法操作\n",
    "- Sigmoid层输出0-1之间的概率值，描述每个部分有多少量可以通过。\n",
    "    - 0 表示“不许任何量通过”，\n",
    "    - 1 表示“允许任意量通过”"
   ]
  },
  {
   "cell_type": "markdown",
   "metadata": {},
   "source": [
    "<img src='./images/cell_state.png' width='15%'/>"
   ]
  },
  {
   "cell_type": "markdown",
   "metadata": {},
   "source": [
    "#### LSTM的几个关键“门”与操作：\n",
    "第1步：决定从“细胞状态”中丢弃什么信息 ==>“遗忘门（forget gate）”\n",
    "    \n",
    "    比如：\n",
    "        完形填空中填“他”或者“她”的问题，细胞状态可能包含当前主语的类别，当我们看到新的代词，我们希望忘记旧的代词。\n",
    "        \n",
    "<img src='./images/gate_forget.png' width='80%'/>"
   ]
  },
  {
   "cell_type": "markdown",
   "metadata": {},
   "source": [
    "上面介绍的Sigmoid层输出0-1之间的概率值，描述每个部分有多少量可以通过。\n",
    "\n",
    "在“遗忘门”中，由当前时刻的输入$x_t$，上个时刻的输出$h_{t-1}$，通过Sigmoid得到的$f_t$，决定了多大程度地让之前的信息通过。"
   ]
  },
  {
   "cell_type": "markdown",
   "metadata": {},
   "source": [
    "第2步：决定放什么新信息到“细胞状态”中 ==>“输入门（input gate）”\n",
    "- Sigmoid层决定什么值需要更新\n",
    "- Tanh层创建一个新的候选值向量$\\overline C_t$\n",
    "\n",
    "上述2步是为状态更新做准备。\n",
    "\n",
    "<img src='./images/gate_input.png' width='80%'/>"
   ]
  },
  {
   "cell_type": "markdown",
   "metadata": {},
   "source": [
    "第3步：更新“细胞状态”==> 更新“细胞状态(Cell State)”\n",
    "- 更新$C_{t-1}$为$C_t$\n",
    "- 把旧状态与$f_t$相乘，丢弃掉我们确定需要丢弃的信息\n",
    "- 加上$i_t * \\overline C_t$。这就是新的后选址，根据我们决定更新每个状态的程序进行变化。\n",
    "\n",
    "\n",
    "<img src='./images/gate_update.png' width='80%'/>"
   ]
  },
  {
   "cell_type": "markdown",
   "metadata": {},
   "source": [
    "$\\overline C_t$表示的当前时候学到的全部信息；  \n",
    "$C_{t-1}$表示上一时刻的记忆；  \n",
    "$f_t$是一个0-1的概率向量；    \n",
    "$i_t$是一个0-1的概率向量；   \n",
    "\n",
    "新来的全部的信息，根据$i_t$判断抽取需要的信息；  \n",
    "上一时刻的信息，根据$f_t$来判断需要抽取的记忆。\n",
    "\n",
    "两部分的信息相加，用以更新“细胞状态”。\n"
   ]
  },
  {
   "cell_type": "markdown",
   "metadata": {},
   "source": [
    "第4步：基于“细胞状态”得到输出 ==> “输出门（output gate）”\n",
    "- 首先运行一个sigmoid层来确定细胞状态的哪个部分将输出\n",
    "- 接着用tanh处理细胞状态（得到一个在-1到1之间的值），再将它和sigmoid门的输出相乘，输出我们确定输出的那部分。\n",
    "\n",
    "比如：我们可能需要单复数信息来确定输出“他”还是“他们”\n",
    "\n",
    "<img src='./images/gate_output.png' width='80%'/>"
   ]
  },
  {
   "cell_type": "markdown",
   "metadata": {},
   "source": [
    "一般情况下，在LSTM里面的激活函数sigmoid和tanh都是这样的。 \n",
    "\n",
    "这样的结构，保证了迭代过程中的保证了一定的范围。如果有别的，可以实现稳定的迭代效果，就可以变。"
   ]
  },
  {
   "cell_type": "markdown",
   "metadata": {},
   "source": [
    "### <a name='lstm3'>2.3 LSTM的变体</a>"
   ]
  },
  {
   "cell_type": "markdown",
   "metadata": {},
   "source": [
    "- 变种1：\n",
    "    - 增加“peephole connection”\n",
    "    - 让 门层 也会接受细胞状态的输入\n",
    "    \n",
    "    <img src='./images/peephole.png' width='80%'/>"
   ]
  },
  {
   "cell_type": "markdown",
   "metadata": {},
   "source": [
    "- 变种2：\n",
    "    - 通过使用 coupled 忘记和输入门\n",
    "    - 之前是分开确定需要忘记和添加的信息，这里是一同做出决定。\n",
    "    \n",
    "<img src='./images/coupled.png' width='80%'/>"
   ]
  },
  {
   "cell_type": "markdown",
   "metadata": {},
   "source": [
    "### <a name='gru'>2.4 GRU</a>\n"
   ]
  },
  {
   "cell_type": "markdown",
   "metadata": {},
   "source": [
    "Gated Recurrent Unit(GRU)，2014年提出。\n",
    "\n",
    "- 将遗忘门 和 输入门 合并成了一个单一的 更新门\n",
    "- 同样还混合了细胞状态和隐藏状态，和其他一些改动\n",
    "- 比标准LSTM简单。"
   ]
  },
  {
   "cell_type": "markdown",
   "metadata": {},
   "source": [
    "<img src='./images/gru.png' width='80%'/>"
   ]
  },
  {
   "cell_type": "markdown",
   "metadata": {},
   "source": [
    "LSTM好像很好用？   \n",
    "但是参数特别多。  \n",
    "\n",
    "GRU做了一部分简化，思想是：“丢掉了多少，我就补充多少信息”。\n",
    "$$h_t = (1-z_t) * h_{t-1} + z_t * \\overline h_t$$"
   ]
  },
  {
   "cell_type": "markdown",
   "metadata": {},
   "source": [
    "从性能上讲，GRU和LSTM的效果是差不多的。\n",
    "\n",
    "GRU和LSTM也是共享权重的，每一个cell中都是共享权重的。"
   ]
  },
  {
   "cell_type": "markdown",
   "metadata": {},
   "source": [
    "## <a name='application'>3.NLP的应用</a>\n"
   ]
  },
  {
   "cell_type": "markdown",
   "metadata": {},
   "source": [
    "### <a name='application1'>3.1 各式各样的生成模型</a>\n"
   ]
  },
  {
   "cell_type": "markdown",
   "metadata": {},
   "source": [
    "#### RNN生成模型仿照维基百科\n",
    "数据：https://cs.stanford.edu/people/karpathy/char-rnn/wiki.txt"
   ]
  },
  {
   "cell_type": "markdown",
   "metadata": {},
   "source": [
    "数据集是结构化的文本序列：\n",
    "<img src='./images/wiki1.png' width='70%'/>\n",
    "<img src='./images/wiki2.png' width='70%'/>"
   ]
  },
  {
   "cell_type": "markdown",
   "metadata": {},
   "source": [
    "RNN生成模型：到底发生了什么？ \n",
    "\n",
    "依旧是：https://gist.github.com/karpathy/d4dee566867f8291f086"
   ]
  },
  {
   "cell_type": "markdown",
   "metadata": {},
   "source": [
    "<img src='./images/rnn_generative.png' width='70%'/>"
   ]
  },
  {
   "cell_type": "markdown",
   "metadata": {},
   "source": [
    "<img src='./images/rnn_generative2.png' width='70%'/>"
   ]
  },
  {
   "cell_type": "markdown",
   "metadata": {},
   "source": []
  },
  {
   "cell_type": "markdown",
   "metadata": {},
   "source": []
  },
  {
   "cell_type": "markdown",
   "metadata": {},
   "source": []
  },
  {
   "cell_type": "markdown",
   "metadata": {},
   "source": []
  },
  {
   "cell_type": "markdown",
   "metadata": {},
   "source": []
  },
  {
   "cell_type": "markdown",
   "metadata": {},
   "source": []
  },
  {
   "cell_type": "markdown",
   "metadata": {},
   "source": [
    "### <a name='application2'>3.2 看图说话基础版与高级版</a>\n"
   ]
  },
  {
   "cell_type": "markdown",
   "metadata": {},
   "source": [
    "### <a name='application3'>3.3 序列到序列学习（机器翻译等）</a>"
   ]
  },
  {
   "cell_type": "markdown",
   "metadata": {},
   "source": []
  },
  {
   "cell_type": "markdown",
   "metadata": {},
   "source": []
  },
  {
   "cell_type": "markdown",
   "metadata": {},
   "source": []
  },
  {
   "cell_type": "markdown",
   "metadata": {},
   "source": []
  },
  {
   "cell_type": "markdown",
   "metadata": {},
   "source": []
  }
 ],
 "metadata": {
  "kernelspec": {
   "display_name": "Python 3",
   "language": "python",
   "name": "python3"
  },
  "language_info": {
   "codemirror_mode": {
    "name": "ipython",
    "version": 3
   },
   "file_extension": ".py",
   "mimetype": "text/x-python",
   "name": "python",
   "nbconvert_exporter": "python",
   "pygments_lexer": "ipython3",
   "version": "3.6.5"
  }
 },
 "nbformat": 4,
 "nbformat_minor": 2
}
