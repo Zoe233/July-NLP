{
 "cells": [
  {
   "cell_type": "markdown",
   "metadata": {},
   "source": [
    "# Lec 01 聊天机器人的基础模型与综述"
   ]
  },
  {
   "cell_type": "markdown",
   "metadata": {},
   "source": [
    "# 0.大纲\n",
    "- <a href='#definition'>Bot的定义</a>\n",
    "- <a href='#applications'>ChatBot的玩法</a>\n",
    "- <a href='#challenges'>ChatBot⽬目前的Challenges</a>\n",
    "- <a href='#general'>⼯工业应⽤用综述</a>\n",
    "- <a href='#dis'>⼯工业上⼀一些坑</a>\n",
    "- <a href='#rule_based'>Rule-based 机器器⼈人</a>\n",
    "- <a href='#update'>升级I：knowledge base</a>\n",
    "- <a href='#update2'>升级II：intents</a>"
   ]
  },
  {
   "cell_type": "markdown",
   "metadata": {},
   "source": [
    "---"
   ]
  },
  {
   "cell_type": "markdown",
   "metadata": {},
   "source": [
    "<h2><a name='definition'>1.Bot的定义</a></h2>"
   ]
  },
  {
   "cell_type": "markdown",
   "metadata": {},
   "source": [
    "维基百科中的机器人是指主要用于协作者编者执行**大量自动化、高速或机械式、繁琐的编辑工作的计算机程序或脚本及其所登录的账户**。"
   ]
  },
  {
   "cell_type": "markdown",
   "metadata": {},
   "source": [
    "<h2><a name='applications'>2.ChatBot的玩法</a></h2>"
   ]
  },
  {
   "cell_type": "markdown",
   "metadata": {},
   "source": [
    "<h3>第一种称为：Retrieval-based</h3>\n",
    "\n",
    "Bot的知识来自于Retrieval提取这个动作。\n",
    "\n",
    "<img src='./images/bot01.png' width='50%'/>\n",
    "\n",
    "整个知识网络，通过提取这个动作实现。\n",
    "\n",
    "在做这样一个知识的检索时，要做一些检索方式来实现检索的精确度和速度的问题。"
   ]
  },
  {
   "cell_type": "markdown",
   "metadata": {},
   "source": [
    "想要让这个Bot聪明一点，加入了**intent(意图)**的判断。\n",
    "\n",
    "<img src='./images/bot02.png' width='50%'/>"
   ]
  },
  {
   "cell_type": "markdown",
   "metadata": {},
   "source": [
    "更直观点讲，其实就是在Bot的前端加了一个文本分类器，通过文本分类器来告诉机器人，用户说的第一句话到底属于分类中的哪一种意图。  "
   ]
  },
  {
   "cell_type": "markdown",
   "metadata": {},
   "source": [
    "<h3>第二种称为：Generative</h3>"
   ]
  },
  {
   "cell_type": "markdown",
   "metadata": {},
   "source": []
  },
  {
   "cell_type": "code",
   "execution_count": null,
   "metadata": {},
   "outputs": [],
   "source": []
  },
  {
   "cell_type": "code",
   "execution_count": null,
   "metadata": {},
   "outputs": [],
   "source": []
  },
  {
   "cell_type": "markdown",
   "metadata": {},
   "source": [
    "<a name='challenges'>ChatBot⽬目前的Challenges</a>"
   ]
  },
  {
   "cell_type": "code",
   "execution_count": null,
   "metadata": {},
   "outputs": [],
   "source": []
  },
  {
   "cell_type": "markdown",
   "metadata": {},
   "source": [
    "<a name='general'>⼯工业应⽤用综述</a>"
   ]
  },
  {
   "cell_type": "markdown",
   "metadata": {},
   "source": [
    "<a name='dis'>⼯工业上⼀一些坑</a>"
   ]
  },
  {
   "cell_type": "markdown",
   "metadata": {},
   "source": [
    "<a name='rule_based'>Rule-based 机器器⼈人</a>"
   ]
  },
  {
   "cell_type": "markdown",
   "metadata": {},
   "source": [
    "<a name='update'>升级I：knowledge base</a>"
   ]
  },
  {
   "cell_type": "markdown",
   "metadata": {},
   "source": [
    "<a name='update2'>升级II：intents</a>"
   ]
  },
  {
   "cell_type": "markdown",
   "metadata": {},
   "source": []
  },
  {
   "cell_type": "markdown",
   "metadata": {},
   "source": []
  },
  {
   "cell_type": "markdown",
   "metadata": {},
   "source": []
  },
  {
   "cell_type": "markdown",
   "metadata": {},
   "source": []
  },
  {
   "cell_type": "markdown",
   "metadata": {},
   "source": []
  }
 ],
 "metadata": {
  "kernelspec": {
   "display_name": "Python 3",
   "language": "python",
   "name": "python3"
  },
  "language_info": {
   "codemirror_mode": {
    "name": "ipython",
    "version": 3
   },
   "file_extension": ".py",
   "mimetype": "text/x-python",
   "name": "python",
   "nbconvert_exporter": "python",
   "pygments_lexer": "ipython3",
   "version": "3.6.5"
  }
 },
 "nbformat": 4,
 "nbformat_minor": 2
}
