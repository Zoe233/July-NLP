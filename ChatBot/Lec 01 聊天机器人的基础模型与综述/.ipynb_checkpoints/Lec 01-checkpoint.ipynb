{
 "cells": [
  {
   "cell_type": "markdown",
   "metadata": {},
   "source": [
    "# Lec 01 聊天机器人的基础模型与综述"
   ]
  },
  {
   "cell_type": "markdown",
   "metadata": {},
   "source": [
    "# 0.大纲\n",
    "- <a href='#definition'>Bot的定义</a>\n",
    "- <a href='#applications'>ChatBot的玩法</a>\n",
    "- <a href='#challenges'>ChatBot⽬目前的Challenges</a>\n",
    "- <a href='#general'>⼯工业应⽤用综述</a>\n",
    "- <a href='#dis'>⼯工业上⼀一些坑</a>\n",
    "- <a href='#rule_based'>Rule-based 机器器⼈人</a>\n",
    "- <a href='#update'>升级I：knowledge base</a>\n",
    "- <a href='#update2'>升级II：intents</a>"
   ]
  },
  {
   "cell_type": "markdown",
   "metadata": {},
   "source": [
    "---"
   ]
  },
  {
   "cell_type": "markdown",
   "metadata": {},
   "source": [
    "<h2><a name='definition'>1.Bot的定义</a></h2>"
   ]
  },
  {
   "cell_type": "markdown",
   "metadata": {},
   "source": [
    "维基百科中的机器人是指主要用于协作者编者执行**大量自动化、高速或机械式、繁琐的编辑工作的计算机程序或脚本及其所登录的账户**。"
   ]
  },
  {
   "cell_type": "markdown",
   "metadata": {},
   "source": [
    "<h2><a name='applications'>2.ChatBot的玩法</a></h2>"
   ]
  },
  {
   "cell_type": "markdown",
   "metadata": {},
   "source": [
    "<h3>第一种称为：Retrieval-based</h3>\n",
    "\n",
    "Bot的知识来自于Retrieval提取这个动作。\n",
    "\n",
    "<img src='./images/bot01.png' width='50%'/>\n",
    "\n",
    "整个知识网络，通过提取这个动作实现。\n",
    "\n",
    "在做这样一个知识的检索时，要做一些检索方式来实现检索的精确度和速度的问题。"
   ]
  },
  {
   "cell_type": "markdown",
   "metadata": {},
   "source": [
    "想要让这个Bot聪明一点，加入了**intent(意图)**的判断。\n",
    "\n",
    "<img src='./images/bot02.png' width='50%'/>"
   ]
  },
  {
   "cell_type": "markdown",
   "metadata": {},
   "source": [
    "更直观点讲，其实就是在Bot的前端加了一个文本分类器，通过文本分类器来告诉机器人，用户说的第一句话到底属于分类中的哪一种意图。  "
   ]
  },
  {
   "cell_type": "markdown",
   "metadata": {},
   "source": [
    "<h3>第二种称为：Generative</h3>"
   ]
  },
  {
   "cell_type": "markdown",
   "metadata": {},
   "source": [
    "随着深层模型的发展，如RNN等。\n",
    "\n",
    "用Generative Model可以生成人没有设置好的回答。\n",
    "\n",
    "必读论文：\n",
    "<img src='./images/bot03.png' width='70%'/>\n",
    "\n",
    "用了神经网络，训练了两组对话：“film dialog”，“IT Support”。\n",
    "\n",
    "单纯的用“film dialog”，只能实现聊天。加上了“IT Support”，加上了专业领域domain的内容。这个Bot不光光能解决IT问题，还能聊天。   \n",
    "通过两套对白的内容，驱动ChatBot可以让机器人的对话更加平滑，也能解决一些问题。"
   ]
  },
  {
   "cell_type": "markdown",
   "metadata": {},
   "source": [
    "简单易用的库：\n",
    "<img src='./images/bot04.png' width='50%'/>"
   ]
  },
  {
   "cell_type": "markdown",
   "metadata": {},
   "source": [
    "知识框架：\n",
    "<img src='./images/bot05.png' width='50%'/>"
   ]
  },
  {
   "cell_type": "markdown",
   "metadata": {},
   "source": []
  },
  {
   "cell_type": "code",
   "execution_count": null,
   "metadata": {},
   "outputs": [],
   "source": []
  },
  {
   "cell_type": "markdown",
   "metadata": {},
   "source": [
    "<h2><a name='challenges'>3.ChatBot⽬目前的Challenges</a></h2>"
   ]
  },
  {
   "cell_type": "markdown",
   "metadata": {},
   "source": []
  },
  {
   "cell_type": "markdown",
   "metadata": {},
   "source": [
    "<h2><a name='general'>4.⼯工业应⽤用综述</a></h2>"
   ]
  },
  {
   "cell_type": "markdown",
   "metadata": {},
   "source": []
  },
  {
   "cell_type": "markdown",
   "metadata": {},
   "source": [
    "<h2><a name='dis'>5.⼯工业上⼀一些坑</a></h2>"
   ]
  },
  {
   "cell_type": "markdown",
   "metadata": {},
   "source": []
  },
  {
   "cell_type": "markdown",
   "metadata": {},
   "source": [
    "<h2><a name='rule_based'>6.Rule-based 机器器⼈人</a></h2>"
   ]
  },
  {
   "cell_type": "markdown",
   "metadata": {},
   "source": [
    "<h2><a name='update'>7.升级I：knowledge base</a></h2>"
   ]
  },
  {
   "cell_type": "markdown",
   "metadata": {},
   "source": [
    "<h2><a name='update2'>8.升级II：intents</a></h2>"
   ]
  },
  {
   "cell_type": "markdown",
   "metadata": {},
   "source": []
  },
  {
   "cell_type": "markdown",
   "metadata": {},
   "source": []
  },
  {
   "cell_type": "markdown",
   "metadata": {},
   "source": []
  },
  {
   "cell_type": "markdown",
   "metadata": {},
   "source": []
  },
  {
   "cell_type": "markdown",
   "metadata": {},
   "source": []
  }
 ],
 "metadata": {
  "kernelspec": {
   "display_name": "Python 3",
   "language": "python",
   "name": "python3"
  },
  "language_info": {
   "codemirror_mode": {
    "name": "ipython",
    "version": 3
   },
   "file_extension": ".py",
   "mimetype": "text/x-python",
   "name": "python",
   "nbconvert_exporter": "python",
   "pygments_lexer": "ipython3",
   "version": "3.6.5"
  }
 },
 "nbformat": 4,
 "nbformat_minor": 2
}
