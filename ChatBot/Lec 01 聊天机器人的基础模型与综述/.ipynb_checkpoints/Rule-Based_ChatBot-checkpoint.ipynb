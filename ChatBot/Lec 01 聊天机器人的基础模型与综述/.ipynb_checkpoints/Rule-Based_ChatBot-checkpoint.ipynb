{
 "cells": [
  {
   "cell_type": "markdown",
   "metadata": {},
   "source": [
    "# rule-based机器人"
   ]
  },
  {
   "cell_type": "markdown",
   "metadata": {},
   "source": [
    "本节的代码内容非常的简单，就是给大家展示一下rule-based的玩法，以及几个角度的升级。"
   ]
  },
  {
   "cell_type": "markdown",
   "metadata": {},
   "source": [
    "## 版本1：最基础版本的rule-based机器人\n",
    "基本上就是小学生级别的，问什么，答什么。"
   ]
  },
  {
   "cell_type": "code",
   "execution_count": 1,
   "metadata": {},
   "outputs": [
    {
     "name": "stdout",
     "output_type": "stream",
     "text": [
      ">>> hi\n",
      "hello\n",
      ">>> how are you\n",
      "I did not uderstand what you said\n",
      ">>> how are you!\n",
      "I did not uderstand what you said\n",
      ">>> how are you?\n",
      "I did not uderstand what you said\n",
      ">>> How are you?\n",
      "Okay\n",
      ">>> How are you?\n",
      "Okay\n",
      ">>> bye\n"
     ]
    }
   ],
   "source": [
    "import random\n",
    "\n",
    "# 打招呼\n",
    "greetings = ['hola', 'hello', 'hi', 'Hi', 'Hey!', 'hey']\n",
    "# 回复打招呼\n",
    "random_greeting = random.choice(greetings)\n",
    "\n",
    "# 对于“你怎么样？”这个问题的回复\n",
    "question = ['How are you?', 'How are you doing?']\n",
    "responses = ['Okay', \"I'm fine\"]\n",
    "#随机选择一个回复\n",
    "random_response = random.choice(responses)\n",
    "\n",
    "# 机器人跑起来\n",
    "while True:\n",
    "    userInput = input('>>> ')\n",
    "    if userInput in greetings:\n",
    "        print(random_greeting)\n",
    "    elif userInput in question:\n",
    "        print(random_response)\n",
    "    elif userInput == 'bye':\n",
    "        break\n",
    "    else:\n",
    "        print('I did not uderstand what you said')"
   ]
  },
  {
   "cell_type": "markdown",
   "metadata": {},
   "source": [
    "## 升级I\n",
    "显然，这样的rule太弱智了，我们需要更好一点的“精准对答”。\n",
    "\n",
    "比如：透过**关键词**来判断这句话的意图是什么？（intents）"
   ]
  },
  {
   "cell_type": "code",
   "execution_count": 16,
   "metadata": {},
   "outputs": [
    {
     "name": "stdout",
     "output_type": "stream",
     "text": [
      ">>> hi\n",
      "Hi\n",
      ">>> how was your holiday?\n",
      "It was nice! I went to Paris\n",
      ">>> bye\n"
     ]
    }
   ],
   "source": [
    "from nltk import word_tokenize\n",
    "import random\n",
    "\n",
    "# 打招呼\n",
    "greetings = ['hola', 'hello', 'hi', 'Hi', 'hey!','hey']\n",
    "# 回复打招呼\n",
    "random_greeting = random.choice(greetings)\n",
    "\n",
    "# 对于“假期”的话题关键词\n",
    "question = ['break','holiday','vacation','weekend']\n",
    "# 回复假期话题\n",
    "responses = ['It was nice! I went to Paris',\"Sadly, I just stayed at home\"]\n",
    "# 随机选一个回\n",
    "random_response = random.choice(responses)\n",
    "\n",
    "# 机器人跑起来\n",
    "while True:\n",
    "    userInput = input('>>> ')\n",
    "    # 验证用户输入，看看都有哪些词，提取关键词\n",
    "    cleaned_input = word_tokenize(userInput)\n",
    "    \n",
    "    if not set(cleaned_input).isdisjoint(greetings): # set.isdisjoint 判断是否有交集，如果有则返回False，如无，返回True\n",
    "        print(random_greeting)\n",
    "    elif not set(cleaned_input).isdisjoint(question):\n",
    "        print(random_response)\n",
    "    elif userInput == 'bye':\n",
    "        break\n",
    "    else:\n",
    "        print('I did not understand what you said.')"
   ]
  },
  {
   "cell_type": "markdown",
   "metadata": {},
   "source": [
    "大家仍能发现，这依旧是文字层面的“精准对应”。 \n",
    "\n",
    "现在主流的研究方向，是做到语义层面的对应。\n",
    "\n",
    "比如：\n",
    "- “肚子好饿哦”，“饭点到了”\n",
    "都应该表示的是“要吃饭了”的意思。\n",
    "\n",
    "在语义层面的对应上，就需要用到word vector之类的embedding方法。"
   ]
  },
  {
   "cell_type": "markdown",
   "metadata": {},
   "source": []
  }
 ],
 "metadata": {
  "kernelspec": {
   "display_name": "Python 3",
   "language": "python",
   "name": "python3"
  },
  "language_info": {
   "codemirror_mode": {
    "name": "ipython",
    "version": 3
   },
   "file_extension": ".py",
   "mimetype": "text/x-python",
   "name": "python",
   "nbconvert_exporter": "python",
   "pygments_lexer": "ipython3",
   "version": "3.6.5"
  }
 },
 "nbformat": 4,
 "nbformat_minor": 2
}
