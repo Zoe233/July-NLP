{
 "cells": [
  {
   "cell_type": "markdown",
   "metadata": {},
   "source": [
    "# rule-based机器人"
   ]
  },
  {
   "cell_type": "markdown",
   "metadata": {},
   "source": [
    "本节的代码内容非常的简单，就是给大家展示一下rule-based的玩法，以及几个角度的升级。"
   ]
  },
  {
   "cell_type": "markdown",
   "metadata": {},
   "source": [
    "## 版本1：最基础版本的rule-based机器人\n",
    "基本上就是小学生级别的，问什么，答什么。"
   ]
  },
  {
   "cell_type": "code",
   "execution_count": 1,
   "metadata": {},
   "outputs": [
    {
     "name": "stdout",
     "output_type": "stream",
     "text": [
      ">>> \n",
      "I did not uderstand what you said\n",
      ">>> hi\n",
      "hello\n",
      ">>> how are you\n",
      "I did not uderstand what you said\n",
      ">>> How are you?\n",
      "Okay\n",
      ">>> bye\n"
     ]
    }
   ],
   "source": [
    "import random\n",
    "\n",
    "# 打招呼\n",
    "greetings = ['hola', 'hello', 'hi', 'Hi', 'Hey!', 'hey']\n",
    "# 回复打招呼\n",
    "random_greeting = random.choice(greetings)\n",
    "\n",
    "# 对于“你怎么样？”这个问题的回复\n",
    "question = ['How are you?', 'How are you doing?']\n",
    "responses = ['Okay', \"I'm fine\"]\n",
    "#随机选择一个回复\n",
    "random_response = random.choice(responses)\n",
    "\n",
    "# 机器人跑起来\n",
    "while True:\n",
    "    userInput = input('>>> ')\n",
    "    if userInput in greetings:\n",
    "        print(random_greeting)\n",
    "    elif userInput in question:\n",
    "        print(random_response)\n",
    "    elif userInput == 'bye':\n",
    "        break\n",
    "    else:\n",
    "        print('I did not uderstand what you said')"
   ]
  },
  {
   "cell_type": "markdown",
   "metadata": {},
   "source": [
    "## 升级I: intents意图\n",
    "显然，这样的rule太弱智了，我们需要更好一点的“精准对答”。\n",
    "\n",
    "比如：透过**关键词**来判断这句话的意图是什么？（intents）"
   ]
  },
  {
   "cell_type": "code",
   "execution_count": 2,
   "metadata": {},
   "outputs": [
    {
     "name": "stdout",
     "output_type": "stream",
     "text": [
      ">>> hi\n",
      "hey!\n",
      ">>> how is your holiday?\n",
      "Sadly, I just stayed at home\n",
      ">>> bye\n"
     ]
    }
   ],
   "source": [
    "from nltk import word_tokenize\n",
    "import random\n",
    "\n",
    "# 打招呼\n",
    "greetings = ['hola', 'hello', 'hi', 'Hi', 'hey!','hey']\n",
    "# 回复打招呼\n",
    "random_greeting = random.choice(greetings)\n",
    "\n",
    "# 对于“假期”的话题关键词\n",
    "question = ['break','holiday','vacation','weekend']\n",
    "# 回复假期话题\n",
    "responses = ['It was nice! I went to Paris',\"Sadly, I just stayed at home\"]\n",
    "# 随机选一个回\n",
    "random_response = random.choice(responses)\n",
    "\n",
    "# 机器人跑起来\n",
    "while True:\n",
    "    userInput = input('>>> ')\n",
    "    # 验证用户输入，看看都有哪些词，提取关键词\n",
    "    cleaned_input = word_tokenize(userInput)\n",
    "    \n",
    "    if not set(cleaned_input).isdisjoint(greetings): # set.isdisjoint 判断是否有交集，如果有则返回False，如无，返回True\n",
    "        print(random_greeting)\n",
    "    elif not set(cleaned_input).isdisjoint(question):\n",
    "        print(random_response)\n",
    "    elif userInput == 'bye':\n",
    "        break\n",
    "    else:\n",
    "        print('I did not understand what you said.')"
   ]
  },
  {
   "cell_type": "markdown",
   "metadata": {},
   "source": [
    "大家仍能发现，这依旧是文字层面的“精准对应”。 \n",
    "\n",
    "现在主流的研究方向，是做到语义层面的对应。\n",
    "\n",
    "比如：\n",
    "- “肚子好饿哦”，“饭点到了”\n",
    "都应该表示的是“要吃饭了”的意思。\n",
    "\n",
    "在语义层面的对应上，就需要用到word vector之类的embedding方法。"
   ]
  },
  {
   "cell_type": "markdown",
   "metadata": {},
   "source": [
    "## 升级II: 知识体系\n",
    "有了知识体系，才能解决用户的问题。\n",
    "\n",
    "我们可以用各种数据库，建立起一套体系，然后通过搜索的方式，来查找答案。\n",
    "\n",
    "比如：   \n",
    "最简单的就是用Python自己的graph数据结构来搭建一个“地图”，依据这个地图，我们可以清楚地找寻从一个地方到另一个地方的路径，然后作为回答， 反馈给用户。"
   ]
  },
  {
   "cell_type": "code",
   "execution_count": 3,
   "metadata": {},
   "outputs": [],
   "source": [
    "# 建立一个机遇目标行业的database\n",
    "# 比如：这里我们用的Python自带的graph\n",
    "\n",
    "graph = {'上海': ['苏州', '常州'],\n",
    "         '苏州': ['常州', '镇江'],\n",
    "         '常州': ['镇江'],\n",
    "         '镇江': ['常州'],\n",
    "         '盐城': ['南通'],\n",
    "         '南通': ['常州']}\n",
    "\n",
    "# 明确如何找到从A到B的路径\n",
    "def find_path(start, end, path=[]):\n",
    "    path = path + [start]\n",
    "    if start == end:\n",
    "        return path\n",
    "    if start not in graph:\n",
    "        return None\n",
    "    for node in graph[start]:\n",
    "        if node not in path:\n",
    "            newpath = find_path(node, end, path)\n",
    "            if newpath:\n",
    "                return newpath\n",
    "    return None"
   ]
  },
  {
   "cell_type": "code",
   "execution_count": 4,
   "metadata": {},
   "outputs": [
    {
     "name": "stdout",
     "output_type": "stream",
     "text": [
      "['上海', '苏州', '常州', '镇江']\n"
     ]
    }
   ],
   "source": [
    "print(find_path('上海','镇江'))"
   ]
  },
  {
   "cell_type": "markdown",
   "metadata": {},
   "source": [
    "同样的构建**知识图谱**的玩法，也可以使用一些Logic Programming，比如上个世纪学AI的同学都会学的Prolog，或者比如：python版本的prolog：PyKE。\n",
    "\n",
    "他们可以构建一种复杂的逻辑网络，让你方便提取信息，而不至于需要你亲手code所有的信息：\n",
    "\n",
    "son_of(bruce, thomas, norma)   \n",
    "son_of(fred_a, thomas, norma)   \n",
    "son_of(tim, thomas, norma)  \n",
    "daughter_of(vicki, thomas, norma)  \n",
    "daughter_of(jill, thomas, norma)    \n"
   ]
  },
  {
   "cell_type": "markdown",
   "metadata": {},
   "source": [
    "## 升级III: 设计前端\n",
    "任何行业，都分个前端和后端。\n",
    "AI也不例外，我们这里讲的算法，都是在后端跑的。\n",
    "那么，为了做一个靠谱的前端，很多项目往往也需要一个简单易用，靠谱的前端。\n",
    "\n",
    "这里，利用Google的API，写一个类似钢铁侠Tony的语音小秘书Jarvis:"
   ]
  },
  {
   "cell_type": "markdown",
   "metadata": {},
   "source": [
    "### 下面先来看一个最简单的说话版本\n",
    "利用gTTS(Google Text-to-Speech API), 把文本转化为音频。"
   ]
  },
  {
   "cell_type": "code",
   "execution_count": null,
   "metadata": {},
   "outputs": [],
   "source": [
    "from gtts import gTTS\n",
    "import os \n",
    "tts = gTTS(text='你好，我是您的私人助手，我叫小辣椒', lang='zh-tw')\n",
    "tts.save('hello.mp3')\n",
    "os.system('mpg321 hello.mp3')"
   ]
  },
  {
   "cell_type": "markdown",
   "metadata": {},
   "source": [
    "百度的助手API"
   ]
  },
  {
   "cell_type": "markdown",
   "metadata": {},
   "source": [
    "科大讯飞的文字转语音的API"
   ]
  },
  {
   "cell_type": "markdown",
   "metadata": {},
   "source": [
    "同理，有了文本到语音的功能，我们还可以运用Google API读出的Jarvis的回复：\n",
    "（注意：这里需要你的机器安装几个库 SpeechRecognition, PyAudio和PySpeech）"
   ]
  },
  {
   "cell_type": "markdown",
   "metadata": {},
   "source": [
    "pip install SpeechRecognition   \n",
    "On OS X, install PortAudio using Homebrew: \n",
    "> brew install portaudio. \n",
    "\n",
    "Then, install PyAudio using Pip: \n",
    "> pip install pyaudio"
   ]
  },
  {
   "cell_type": "code",
   "execution_count": 4,
   "metadata": {},
   "outputs": [
    {
     "ename": "ModuleNotFoundError",
     "evalue": "No module named 'speech_recognition'",
     "output_type": "error",
     "traceback": [
      "\u001b[0;31m---------------------------------------------------------------------------\u001b[0m",
      "\u001b[0;31mModuleNotFoundError\u001b[0m                       Traceback (most recent call last)",
      "\u001b[0;32m<ipython-input-4-a4d5c9aae5d0>\u001b[0m in \u001b[0;36m<module>\u001b[0;34m()\u001b[0m\n\u001b[0;32m----> 1\u001b[0;31m \u001b[0;32mimport\u001b[0m \u001b[0mspeech_recognition\u001b[0m \u001b[0;32mas\u001b[0m \u001b[0msr\u001b[0m\u001b[0;34m\u001b[0m\u001b[0m\n\u001b[0m",
      "\u001b[0;31mModuleNotFoundError\u001b[0m: No module named 'speech_recognition'"
     ]
    }
   ],
   "source": [
    "import speech_recognition as sr"
   ]
  },
  {
   "cell_type": "code",
   "execution_count": null,
   "metadata": {},
   "outputs": [],
   "source": []
  },
  {
   "cell_type": "markdown",
   "metadata": {},
   "source": [
    "不仅仅是语音前端。  \n",
    "\n",
    "包括应用场景：微信、slack、Facebook Messager，等等，都可以把我们的ChatBot给Integrate进去。"
   ]
  }
 ],
 "metadata": {
  "kernelspec": {
   "display_name": "Python 3",
   "language": "python",
   "name": "python3"
  }
 },
 "nbformat": 4,
 "nbformat_minor": 2
}
