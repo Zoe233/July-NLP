{
 "cells": [
  {
   "cell_type": "markdown",
   "metadata": {},
   "source": [
    "<h1>本系列课程的知识体系：</h1>\n",
    "\n",
    "<h2>第⼀阶段：打造传统NLP聊天机器⼈</h2>\n",
    "\n",
    "<h3><a href='#lec01'>第1课 聊天机器人的基础模型与综述</a></h3>\n",
    "- 行业与业界综述\n",
    "- <a href='./Rule-Based_ChatBot.ipynb#升级II'>实战：最简单的Rule-Base聊天机器人</a>\n",
    "<h3><a href='../Lec%2002%20NLP基础与扫盲/Lec%2002.ipynb#3.1-情感分析'>第2课 NLP基础及扫盲</a></h3>\n",
    "- NLP基本算法\n",
    "- 实战：经典NLP问题与解法\n",
    "<h3><a>第3课 用基础机器学习⽅法制作聊天机器⼈</a></h3>\n",
    "- 神经网络与基础\n",
    "- 说学逗唱的基础机器人\n",
    "\n",
    "\n",
    "<h2>第二阶段 打造深度学习聊天机器⼈</h2>\n",
    "<h3><a>第4课 深度学习基础及扫盲</a></h3>\n",
    "- 深度学习基础算法\n",
    "- 实战：经典深度学习问题与解法\n",
    "<h3><a>第5课 深度学习聊天机器⼈原理</a></h3>\n",
    "- seq2seq⽣成模型\n",
    "- user modeling 与 reinforcement learning模型\n",
    "<h3><a>第6课 用深度学习方法制作聊天机器人</a></h3>\n",
    "- 制作Seq2Seq聊天机器人\n",
    "<h3><a>第7课 图像与文本的完美结合：看图回答VQA</a></h3>\n",
    "- 深度学习图⽚处理基础\n",
    "- VQA机器人\n",
    "\n",
    "<h2>第三阶段 打造可⽤的聊天机器人平台</h2>\n",
    "<h3><a>第8课 简单易用的聊天机器人开发平台与展望</a></h3>\n",
    "- 简介Wit.ai, BotFramework等框架\n",
    "- 实战：打造真实场景中的deploy聊天机器人"
   ]
  },
  {
   "cell_type": "markdown",
   "metadata": {},
   "source": [
    "<h1><a name='lec01'>Lec 01 聊天机器人的基础模型与综述</a></h1>"
   ]
  },
  {
   "cell_type": "markdown",
   "metadata": {},
   "source": [
    "# 0.大纲\n",
    "- <a href='#definition'>Bot的定义</a>\n",
    "- <a href='#applications'>ChatBot的玩法</a>\n",
    "- <a href='#challenges'>ChatBot⽬目前的Challenges</a>\n",
    "- <a href='#general'>⼯工业应⽤用综述</a>\n",
    "- <a href='#dis'>⼯工业上⼀一些坑</a>\n",
    "- <a href='#rule_based'>Rule-based 机器器⼈人</a>\n",
    "- <a href='#update'>升级I：knowledge base</a>\n",
    "- <a href='#update2'>升级II：intents</a>"
   ]
  },
  {
   "cell_type": "markdown",
   "metadata": {},
   "source": [
    "---"
   ]
  },
  {
   "cell_type": "markdown",
   "metadata": {},
   "source": [
    "<h2><a name='definition'>1.Bot的定义</a></h2>"
   ]
  },
  {
   "cell_type": "markdown",
   "metadata": {},
   "source": [
    "维基百科中的机器人是指主要用于协作者编者执行**大量自动化、高速或机械式、繁琐的编辑工作的计算机程序或脚本及其所登录的账户**。"
   ]
  },
  {
   "cell_type": "markdown",
   "metadata": {},
   "source": [
    "<h2><a name='applications'>2.ChatBot的玩法</a></h2>"
   ]
  },
  {
   "cell_type": "markdown",
   "metadata": {},
   "source": [
    "<h3>第一种称为：Retrieval-based</h3>\n",
    "\n",
    "Bot的知识来自于Retrieval提取这个动作。\n",
    "\n",
    "<img src='./images/bot01.png' width='50%'/>\n",
    "\n",
    "整个知识网络，通过提取这个动作实现。\n",
    "\n",
    "在做这样一个知识的检索时，要做一些检索方式来实现检索的精确度和速度的问题。"
   ]
  },
  {
   "cell_type": "markdown",
   "metadata": {},
   "source": [
    "想要让这个Bot聪明一点，加入了**intent(意图)**的判断。\n",
    "\n",
    "<img src='./images/bot02.png' width='50%'/>"
   ]
  },
  {
   "cell_type": "markdown",
   "metadata": {},
   "source": [
    "更直观点讲，其实就是在Bot的前端加了一个文本分类器，通过文本分类器来告诉机器人，用户说的第一句话到底属于分类中的哪一种意图。  "
   ]
  },
  {
   "cell_type": "markdown",
   "metadata": {},
   "source": [
    "<h3>第二种称为：Generative</h3>"
   ]
  },
  {
   "cell_type": "markdown",
   "metadata": {},
   "source": [
    "随着深层模型的发展，如RNN等。\n",
    "\n",
    "用Generative Model可以生成人没有设置好的回答。\n",
    "\n",
    "必读论文：\n",
    "<img src='./images/bot03.png' width='70%'/>\n",
    "\n",
    "用了神经网络，训练了两组对话：“film dialog”，“IT Support”。\n",
    "\n",
    "单纯的用“film dialog”，只能实现聊天。加上了“IT Support”，加上了专业领域domain的内容。这个Bot不光光能解决IT问题，还能聊天。   \n",
    "通过两套对白的内容，驱动ChatBot可以让机器人的对话更加平滑，也能解决一些问题。"
   ]
  },
  {
   "cell_type": "markdown",
   "metadata": {},
   "source": [
    "<h3>简单易用的库：</h3>\n",
    "<img src='./images/bot04.png' width='50%'/>"
   ]
  },
  {
   "cell_type": "markdown",
   "metadata": {},
   "source": [
    "<h3>知识框架：</h3>\n",
    "<img src='./images/bot05.png' width='50%'/>"
   ]
  },
  {
   "cell_type": "markdown",
   "metadata": {},
   "source": [
    "- Open Domain: 广域\n",
    "- Closed Domain: 专业，专注于某个领域。\n",
    "\n",
    "- Retrieval-Based: 人设，知识点\n",
    "- Generative-Based: 数据驱动\n",
    "\n",
    "General AI(hardest)：数据缺失的情况，通过利用google的搜索，search结果再返回。这样可以增加广域的范围，也可以减少训练数据的缺失的问题。如：siri就是这样做的，利用多家的搜索引擎的搜索。"
   ]
  },
  {
   "cell_type": "markdown",
   "metadata": {},
   "source": [
    "<h3>ChatBot的玩法：Long vs. Short</h3>"
   ]
  },
  {
   "cell_type": "markdown",
   "metadata": {},
   "source": [
    "<h4>Long vs. Short</h4>\n",
    "有两重意思：\n",
    "- 回答文本的长度 Long or Short：回复长文本还是短文本？\n",
    "- 范围Scope：\n",
    "    - short:只记得上一句话，不会记得之前的会话内容。\n",
    "    - long: 记得之前的会话。\n",
    "        - 用LSTM来记忆之前的内容，如：输入法提示\n",
    "    \n",
    "<img src='./images/bot06.png' width='40%'/>\n",
    "\n"
   ]
  },
  {
   "cell_type": "markdown",
   "metadata": {},
   "source": [
    "如果回复是短文本，那么就是Yes或No，简单，通过Rules就可以实现；  \n",
    "但如果回复是长文本，因为回复是生成文本Generative，要符合Grammar语法。但是如果训练不好，那么生成的文本就会不符合Grammar。 \n",
    "\n",
    "所以，解决这个长文本的回复要符合语法的问题，要么用人写好的语句，要么就需要特别大的数据训练，让生成的回复能够是人听得懂的。 "
   ]
  },
  {
   "cell_type": "markdown",
   "metadata": {},
   "source": [
    "<h2><a name='challenges'>3.ChatBot⽬目前的Challenges</a></h2>"
   ]
  },
  {
   "cell_type": "markdown",
   "metadata": {},
   "source": [
    "- 语境\n",
    "- 统一的语言个性\n",
    "- 模型验证\n",
    "- 多样性"
   ]
  },
  {
   "cell_type": "markdown",
   "metadata": {},
   "source": [
    "### 3.1 语境\n",
    "**语言语境**：这句话在说什么内容？（涉及到对语言的embed，比如word vector)\n",
    "\n",
    "**物理语境**：这句话在哪里说的？（涉及到物理环境，比如在哪里，现在几点）\n"
   ]
  },
  {
   "cell_type": "markdown",
   "metadata": {},
   "source": [
    "相关paper：  \n",
    "Building End-To-End Dialogue Systems Using Generative Hierarchical Neural Network\n",
    "Models（Lulian et al., 2015）https://arxiv.org/abs/1507.04808\n",
    "\n",
    "Attention with Intention for a Neural Network Conversation Model\n",
    "(Yao, 2015) https://arxiv.org/abs/1510.08565"
   ]
  },
  {
   "cell_type": "markdown",
   "metadata": {},
   "source": [
    "### 3.2 统一的语言个性"
   ]
  },
  {
   "cell_type": "markdown",
   "metadata": {},
   "source": [
    "训练时的对话，是很多人的对白，每个人的语言个性风格是不同的。  \n",
    "这样会导致机器人的语言个性就很难保持一致。\n",
    "\n",
    "冰山属性、话痨属性、文青、脏话,...\n",
    "\n",
    "解决方案：\n",
    "- 高质量的会话数据：人力清洗：耗时耗力，性价比低\n",
    "- persona: 以人的性格为基石，做Neural Conversation Model。做的时候多加一个object function目标函数 （训练模型时，object function用来告诉loss function训练的好不好），是关于性格色彩的评分。\n",
    "    即：如何通过文本判断个人性格\n",
    "    - 可以关注IBM的一项研究：Alchamy。 基于BIG5心理学，推断个人性格是什么？"
   ]
  },
  {
   "cell_type": "markdown",
   "metadata": {},
   "source": [
    "message: Where do you live now?    \n",
    "response: I live in Los Angeles.    \n",
    "\n",
    "message: In which city do you live now?   \n",
    "response: I live in Madrid.   \n",
    "\n",
    "message: In which country do you live now?   \n",
    "response: England, you?   "
   ]
  },
  {
   "cell_type": "markdown",
   "metadata": {},
   "source": [
    "相关paper：   \n",
    "A Persona-Based Neural Conversation Model (Li et al., 2016) https://\n",
    "arxiv.org/abs/1603.06155"
   ]
  },
  {
   "cell_type": "markdown",
   "metadata": {},
   "source": [
    "### 3.3 模型验证"
   ]
  },
  {
   "cell_type": "markdown",
   "metadata": {},
   "source": [
    "在Rule-Based机器人中，要验证这样一个机器人，比较简单。\n",
    "\n",
    "如：  \n",
    "问：我要去打车？验证：看是不是从某地打车到某地的行为发生即可。   \n",
    "问：猫和老虎是不是同属于虎科？ 回答是。验证：验证猫和老虎是不是同属于虎科即可。"
   ]
  },
  {
   "cell_type": "markdown",
   "metadata": {},
   "source": [
    "在Generative-Based机器人中，本身是生成的，无法验证开头的寒暄是否合法。——需要不同的人的情况来解读Label。"
   ]
  },
  {
   "cell_type": "markdown",
   "metadata": {},
   "source": [
    "几种难缠的情况：\n",
    "    1. 我们自己对模型的正误判断需要人类智慧的解读；\n",
    "        比如：你跟Amazon的Alexa说，我想睡了，这时候，alexa帮你调整灯光。\n",
    "    2. 不存在完美主义【完成task与否】的方案：\n",
    "        比如：跟微软小冰瞎逼逼\n",
    "        \n",
    "机器翻译自动评估-**BLEU算法**\n",
    "\n",
    "BLEU的全名为：bilingual evaluation understudy，即：双语互译质量评估辅助工具。它是用来评估机器翻译质量的工具。当然评估翻译质量这种事本应该由人来做，机器现在是无论如何也做不到像人类一样思考判断的（我想这就是自然语言处理现在遇到的瓶颈吧，随便某个方面都有牵扯上人类思维的地方，真难），但是人工处理过于耗时费力，所以才有了BLEU算法。\n",
    "\n",
    "　　BLEU的设计思想与评判机器翻译好坏的思想是一致的：机器翻译结果越接近专业人工翻译的结果，则越好。BLEU算法实际上在做的事：判断两个句子的相似程度。我想知道一个句子翻译前后的表示是否意思一致，显然没法直接比较，那我就拿这个句子的标准人工翻译与我的机器翻译的结果作比较，如果它们是很相似的，说明我的翻译很成功。因此，BLUE去做判断：一句机器翻译的话与其相对应的几个参考翻译作比较，算出一个综合分数。这个分数越高说明机器翻译得越好。（注：BLEU算法是句子之间的比较，不是词组，也不是段落）   \n",
    "　　 \n",
    "BLEU是做不到百分百的准确的，它只能做到个大概判断，它的目标也只是给出一个快且不差自动评估解决方案。"
   ]
  },
  {
   "cell_type": "markdown",
   "metadata": {},
   "source": [
    "相关paper：   \n",
    "How NOT To Evaluate Your Dialogue System: An Empirical Study of\n",
    "Unsupervised Evaluation Metrics for Dialogue Response Generation（Liu,\n",
    "2016）https://arxiv.org/abs/1603.08023"
   ]
  },
  {
   "cell_type": "markdown",
   "metadata": {},
   "source": [
    "### 3.4 多样性\n",
    "- 吃了吗？\n",
    "- 嗯\n",
    "- 今天天气好吗？\n",
    "- 嗯\n",
    "- 明天去哪儿玩？\n",
    "- 嗯\n",
    "- 你没病吧？\n",
    "- 嗯"
   ]
  },
  {
   "cell_type": "markdown",
   "metadata": {},
   "source": [
    "这种例子就属于没有多样性。\n",
    "\n",
    "这种情况是训练的数据集中数据不均匀，训练的模型不好。  \n",
    "比如：一个训练集中有99%的1，1%的0值。训练出来的模型不好，则会训练出一个只会回复1的模型。"
   ]
  },
  {
   "cell_type": "markdown",
   "metadata": {},
   "source": [
    "相关paper：   \n",
    "A Diversity-Promoting Objective Function for Neural Conversation\n",
    "Models（Li et al. 2015） https://arxiv.org/abs/1510.03055"
   ]
  },
  {
   "cell_type": "markdown",
   "metadata": {},
   "source": [
    "<h2><a name='general'>4.工业应⽤用综述</a></h2>"
   ]
  },
  {
   "cell_type": "markdown",
   "metadata": {},
   "source": [
    "- 语音助手：siri, google Now    \n",
    "    依托强大的搜索引擎，不需要构造庞大的知识系统。\n",
    "    - Siri是**被动**，需要按Home键启动；\n",
    "    - Now是**主动**，全程监控，自动添加，记录\n",
    "- 餐饮\n",
    "    - ChatBotter的API: FBM 建造自己的个人ChatBot\n",
    "- 旅游\n",
    "- 医疗   \n",
    "    一般作为前台咨询的功能，不会用作全自动化的咨询，避免责任方的事宜。\n",
    "- 新闻：Quartz\n",
    "- 财经：Meet Cleo\n",
    "- 健身：Keep"
   ]
  },
  {
   "cell_type": "markdown",
   "metadata": {},
   "source": [
    "<h2><a name='dis'>5.工业上的⼀些坑</a></h2>"
   ]
  },
  {
   "cell_type": "markdown",
   "metadata": {},
   "source": [
    "<img src='./images/bot07.png' width='70%'/>"
   ]
  },
  {
   "cell_type": "markdown",
   "metadata": {},
   "source": [
    "- “查找-基于知识库-基于规则”：Rule-Based 还是更稳定，更可控。\n",
    "- “发现-基于检索-基于数据”：未来转变发现。"
   ]
  },
  {
   "cell_type": "markdown",
   "metadata": {},
   "source": [
    "智能对话？ 没有太大的出路，目前只有Siri和Now存活下来了。\n",
    "\n",
    "自动化？  是主要的方向，工业界的需求。\n"
   ]
  },
  {
   "cell_type": "markdown",
   "metadata": {},
   "source": [
    "<h2><a name='rule_based'>6.Rule-based 机器人</a></h2>"
   ]
  },
  {
   "cell_type": "markdown",
   "metadata": {},
   "source": [
    "<img src='./images/bot08.png' width='30%'/>"
   ]
  },
  {
   "cell_type": "markdown",
   "metadata": {},
   "source": [
    "<a href=''>最基础版版本的rule-based机器人</a>"
   ]
  }
 ],
 "metadata": {
  "kernelspec": {
   "display_name": "Python 3",
   "language": "python",
   "name": "python3"
  },
  "language_info": {
   "codemirror_mode": {
    "name": "ipython",
    "version": 3
   },
   "file_extension": ".py",
   "mimetype": "text/x-python",
   "name": "python",
   "nbconvert_exporter": "python",
   "pygments_lexer": "ipython3",
   "version": "3.6.5"
  }
 },
 "nbformat": 4,
 "nbformat_minor": 2
}
