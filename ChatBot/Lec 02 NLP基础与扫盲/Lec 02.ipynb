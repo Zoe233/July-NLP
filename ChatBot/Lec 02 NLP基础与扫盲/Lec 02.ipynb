{
 "cells": [
  {
   "cell_type": "markdown",
   "metadata": {},
   "source": [
    "<h1><a>Lec 02 NLP基础与扫盲</a></h1>"
   ]
  },
  {
   "cell_type": "markdown",
   "metadata": {},
   "source": [
    "本节以NLTK为基础配合讲解自然语言处理的原理。"
   ]
  },
  {
   "cell_type": "markdown",
   "metadata": {},
   "source": [
    "## 目录：\n",
    "- <a href='#nltk'>NLTK</a>\n",
    "- <a href='#textprocessing'>文本处理流程</a>\n",
    "    - <a href='#tokenize'>分词</a>\n",
    "    - <a href='#standard'>归一化</a>\n",
    "    - <a href='#stopwords'>停止词</a>\n",
    "- <a href='#3examples'>NLP经典三案例</a>\n",
    "    - <a href='#sentiment'>情感分析</a>\n",
    "    - <a href='#similarity'>文本相似度</a>\n",
    "    - <a href='#classification'>文本分类</a>\n",
    "- <a href='#deeplearning'>深度学习加持</a>\n",
    "    - <a herf='#autoencoder'>Autoencoder</a>\n",
    "    - <a herf='#word2vec'>Word2Vec</a>"
   ]
  },
  {
   "cell_type": "code",
   "execution_count": null,
   "metadata": {},
   "outputs": [],
   "source": []
  }
 ],
 "metadata": {
  "kernelspec": {
   "display_name": "Python 3",
   "language": "python",
   "name": "python3"
  },
  "language_info": {
   "codemirror_mode": {
    "name": "ipython",
    "version": 3
   },
   "file_extension": ".py",
   "mimetype": "text/x-python",
   "name": "python",
   "nbconvert_exporter": "python",
   "pygments_lexer": "ipython3",
   "version": "3.6.5"
  }
 },
 "nbformat": 4,
 "nbformat_minor": 2
}
