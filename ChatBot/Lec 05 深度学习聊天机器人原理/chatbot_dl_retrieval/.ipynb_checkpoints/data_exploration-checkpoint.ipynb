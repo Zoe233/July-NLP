{
 "cells": [
  {
   "cell_type": "markdown",
   "metadata": {},
   "source": [
    "# Ubuntu数据集的Data Exploration"
   ]
  },
  {
   "cell_type": "code",
   "execution_count": 1,
   "metadata": {},
   "outputs": [],
   "source": [
    "%matplotlib inline\n",
    "\n",
    "import pandas as pd\n",
    "import matplotlib.pyplot as plt\n",
    "import matplotlib\n",
    "matplotlib.style.use('ggplot')"
   ]
  },
  {
   "cell_type": "markdown",
   "metadata": {},
   "source": [
    "## 读取数据"
   ]
  },
  {
   "cell_type": "code",
   "execution_count": 3,
   "metadata": {},
   "outputs": [],
   "source": [
    "train_df = pd.read_csv('./ubuntu_dataset/train.csv')\n",
    "train_df.Label = train_df.Label.astype('category')"
   ]
  },
  {
   "cell_type": "code",
   "execution_count": 5,
   "metadata": {},
   "outputs": [],
   "source": [
    "test_df = pd.read_csv('./ubuntu_dataset/test.csv')\n",
    "validation_df = pd.read_csv('./ubuntu_dataset/valid.csv')"
   ]
  },
  {
   "cell_type": "code",
   "execution_count": 8,
   "metadata": {},
   "outputs": [
    {
     "data": {
      "text/html": [
       "<div>\n",
       "<style scoped>\n",
       "    .dataframe tbody tr th:only-of-type {\n",
       "        vertical-align: middle;\n",
       "    }\n",
       "\n",
       "    .dataframe tbody tr th {\n",
       "        vertical-align: top;\n",
       "    }\n",
       "\n",
       "    .dataframe thead th {\n",
       "        text-align: right;\n",
       "    }\n",
       "</style>\n",
       "<table border=\"1\" class=\"dataframe\">\n",
       "  <thead>\n",
       "    <tr style=\"text-align: right;\">\n",
       "      <th></th>\n",
       "      <th>Context</th>\n",
       "      <th>Utterance</th>\n",
       "      <th>Label</th>\n",
       "    </tr>\n",
       "  </thead>\n",
       "  <tbody>\n",
       "    <tr>\n",
       "      <th>0</th>\n",
       "      <td>i think we could import the old comments via r...</td>\n",
       "      <td>basically each xfree86 upload will NOT force u...</td>\n",
       "      <td>1.0</td>\n",
       "    </tr>\n",
       "    <tr>\n",
       "      <th>1</th>\n",
       "      <td>I'm not suggesting all - only the ones you mod...</td>\n",
       "      <td>sorry __eou__ i thought it was ubuntu related....</td>\n",
       "      <td>0.0</td>\n",
       "    </tr>\n",
       "    <tr>\n",
       "      <th>2</th>\n",
       "      <td>afternoon all __eou__ not entirely related to ...</td>\n",
       "      <td>Yep. __eou__ oh, okay. I wondered what happene...</td>\n",
       "      <td>0.0</td>\n",
       "    </tr>\n",
       "    <tr>\n",
       "      <th>3</th>\n",
       "      <td>interesting __eou__ grub-install worked with /...</td>\n",
       "      <td>thats the one __eou__</td>\n",
       "      <td>1.0</td>\n",
       "    </tr>\n",
       "    <tr>\n",
       "      <th>4</th>\n",
       "      <td>and because Python gives Mark a woody __eou__ ...</td>\n",
       "      <td>(i thought someone was going to make a joke ab...</td>\n",
       "      <td>1.0</td>\n",
       "    </tr>\n",
       "  </tbody>\n",
       "</table>\n",
       "</div>"
      ],
      "text/plain": [
       "                                             Context  \\\n",
       "0  i think we could import the old comments via r...   \n",
       "1  I'm not suggesting all - only the ones you mod...   \n",
       "2  afternoon all __eou__ not entirely related to ...   \n",
       "3  interesting __eou__ grub-install worked with /...   \n",
       "4  and because Python gives Mark a woody __eou__ ...   \n",
       "\n",
       "                                           Utterance Label  \n",
       "0  basically each xfree86 upload will NOT force u...   1.0  \n",
       "1  sorry __eou__ i thought it was ubuntu related....   0.0  \n",
       "2  Yep. __eou__ oh, okay. I wondered what happene...   0.0  \n",
       "3                              thats the one __eou__   1.0  \n",
       "4  (i thought someone was going to make a joke ab...   1.0  "
      ]
     },
     "execution_count": 8,
     "metadata": {},
     "output_type": "execute_result"
    }
   ],
   "source": [
    "train_df.head()"
   ]
  },
  {
   "cell_type": "code",
   "execution_count": 6,
   "metadata": {},
   "outputs": [
    {
     "data": {
      "text/html": [
       "<div>\n",
       "<style scoped>\n",
       "    .dataframe tbody tr th:only-of-type {\n",
       "        vertical-align: middle;\n",
       "    }\n",
       "\n",
       "    .dataframe tbody tr th {\n",
       "        vertical-align: top;\n",
       "    }\n",
       "\n",
       "    .dataframe thead th {\n",
       "        text-align: right;\n",
       "    }\n",
       "</style>\n",
       "<table border=\"1\" class=\"dataframe\">\n",
       "  <thead>\n",
       "    <tr style=\"text-align: right;\">\n",
       "      <th></th>\n",
       "      <th>Context</th>\n",
       "      <th>Utterance</th>\n",
       "      <th>Label</th>\n",
       "    </tr>\n",
       "  </thead>\n",
       "  <tbody>\n",
       "    <tr>\n",
       "      <th>count</th>\n",
       "      <td>1000000</td>\n",
       "      <td>1000000</td>\n",
       "      <td>1000000.0</td>\n",
       "    </tr>\n",
       "    <tr>\n",
       "      <th>unique</th>\n",
       "      <td>957130</td>\n",
       "      <td>744457</td>\n",
       "      <td>2.0</td>\n",
       "    </tr>\n",
       "    <tr>\n",
       "      <th>top</th>\n",
       "      <td>!ops __eou__ __eot__ ? __eou__ __eot__</td>\n",
       "      <td>thanks __eou__</td>\n",
       "      <td>0.0</td>\n",
       "    </tr>\n",
       "    <tr>\n",
       "      <th>freq</th>\n",
       "      <td>13</td>\n",
       "      <td>11024</td>\n",
       "      <td>500127.0</td>\n",
       "    </tr>\n",
       "  </tbody>\n",
       "</table>\n",
       "</div>"
      ],
      "text/plain": [
       "                                        Context       Utterance      Label\n",
       "count                                   1000000         1000000  1000000.0\n",
       "unique                                   957130          744457        2.0\n",
       "top     !ops __eou__ __eot__ ? __eou__ __eot__   thanks __eou__        0.0\n",
       "freq                                         13           11024   500127.0"
      ]
     },
     "execution_count": 6,
     "metadata": {},
     "output_type": "execute_result"
    }
   ],
   "source": [
    "train_df.describe()"
   ]
  },
  {
   "cell_type": "markdown",
   "metadata": {},
   "source": [
    "100万的数据，近96万的数据都是不同的。"
   ]
  },
  {
   "cell_type": "markdown",
   "metadata": {},
   "source": [
    "- Ubuntu对话语料库\n",
    "    - 训练集：\n",
    "        - Ubuntu对话数据集，来自Ubuntu的IRC网络上的对话日志\n",
    "        - 训练集1000000条实例，一般是正例(label为1），一半是负例(label为0，负例为随机生成）\n",
    "        - 样本包括上下文信息（context，即Query）和一段可能的回复内容，即Response; Label为1表示Response和Query的匹配，Label为0则表示不匹配。\n",
    "        - query的平均长度为86个word，而response的平均长度为17个word"
   ]
  },
  {
   "cell_type": "code",
   "execution_count": 9,
   "metadata": {},
   "outputs": [
    {
     "data": {
      "text/plain": [
       "Text(0.5,1,'Training Label Distribution')"
      ]
     },
     "execution_count": 9,
     "metadata": {},
     "output_type": "execute_result"
    },
    {
     "data": {
      "image/png": "[encoded data removed]",
      "text/plain": [
       "<Figure size 432x288 with 1 Axes>"
      ]
     },
     "metadata": {},
     "output_type": "display_data"
    }
   ],
   "source": [
    "train_df.Label.hist()\n",
    "plt.title('Training Label Distribution')"
   ]
  },
  {
   "cell_type": "code",
   "execution_count": 11,
   "metadata": {},
   "outputs": [
    {
     "data": {
      "text/html": [
       "<div>\n",
       "<style scoped>\n",
       "    .dataframe tbody tr th:only-of-type {\n",
       "        vertical-align: middle;\n",
       "    }\n",
       "\n",
       "    .dataframe tbody tr th {\n",
       "        vertical-align: top;\n",
       "    }\n",
       "\n",
       "    .dataframe thead th {\n",
       "        text-align: right;\n",
       "    }\n",
       "</style>\n",
       "<table border=\"1\" class=\"dataframe\">\n",
       "  <thead>\n",
       "    <tr style=\"text-align: right;\">\n",
       "      <th></th>\n",
       "      <th>Context</th>\n",
       "      <th>Utterance</th>\n",
       "      <th>Label</th>\n",
       "    </tr>\n",
       "  </thead>\n",
       "  <tbody>\n",
       "    <tr>\n",
       "      <th>0</th>\n",
       "      <td>i think we could import the old comments via rsync, but from there we need to go via email. I think it is easier than caching the status on each bug and than import bits here and there __eou__ __eot__ it would be very easy to keep a hash db of message-ids  __eou__ sounds good __eou__ __eot__ ok __eou__ perhaps we can ship an ad-hoc apt_prefereces __eou__ __eot__ version? __eou__ __eot__ thanks __eou__ __eot__ not yet __eou__ it is covered by your insurance? __eou__ __eot__ yes __eou__ but it...</td>\n",
       "      <td>basically each xfree86 upload will NOT force users to upgrade 100Mb of fonts for nothing __eou__ no something i did in my spare time. __eou__</td>\n",
       "      <td>1.0</td>\n",
       "    </tr>\n",
       "    <tr>\n",
       "      <th>1</th>\n",
       "      <td>I'm not suggesting all - only the ones you modify. __eou__ __eot__ ok, it sounds like you're agreeing with me, then __eou__ though rather than \"the ones we modify\", my idea is \"the ones we need to merge\" __eou__ __eot__</td>\n",
       "      <td>sorry __eou__ i thought it was ubuntu related. __eou__</td>\n",
       "      <td>0.0</td>\n",
       "    </tr>\n",
       "    <tr>\n",
       "      <th>2</th>\n",
       "      <td>afternoon all __eou__ not entirely related to warty, but if grub-install takes 5 minutes to install, is this a sign that i should just retry the install :) __eou__ __eot__ here  __eou__ __eot__ you might want to know that thinice in warty is buggy compared to that in sid __eou__ __eot__ and apparently GNOME is suddently almost perfect (out of the thinice problem), nobody report bugs :-P __eou__ I don't get your question, where do you want to paste ? __eou__ __eot__ can i file the panel not l...</td>\n",
       "      <td>Yep. __eou__ oh, okay. I wondered what happened to you __eou__ what distro do you need? __eou__ yes __eou__</td>\n",
       "      <td>0.0</td>\n",
       "    </tr>\n",
       "    <tr>\n",
       "      <th>3</th>\n",
       "      <td>interesting __eou__ grub-install worked with / being ext3, failed when it was xfs __eou__ i thought d-i installed the relevant kernel for your machine. i have a p4 and its installed the 386 kernel __eou__ holy crap a lot of stuff gets installed by default :) __eou__ YOU ARE INSTALLING VIM ON A BOX OF MINE __eou__ ;) __eou__ __eot__ more like osx than debian ;) __eou__ we have a selection of python modules available for great justice (and python development) __eou__ __eot__ 2.8 is fixing them...</td>\n",
       "      <td>thats the one __eou__</td>\n",
       "      <td>1.0</td>\n",
       "    </tr>\n",
       "    <tr>\n",
       "      <th>4</th>\n",
       "      <td>and because Python gives Mark a woody __eou__ __eot__ i'm not sure if we're meant to talk about that publically yet. __eou__ __eot__ and I thought we were a \"pants off\" kind of company ... :p __eou__ you need new glasses __eou__ __eot__ mono 1.0? dude, that's going to be a barrel of laughs for totally non-release related reasons during hoary __eou__ read bryan clark's entry about NetworkManager? __eou__ __eot__ there was an accompanying IRC conversation to that one &lt;g&gt; __eou__ explain ? __eo...</td>\n",
       "      <td>(i thought someone was going to make a joke about .au bandwidth...) __eou__ especially not if you're using screen ;) __eou__</td>\n",
       "      <td>1.0</td>\n",
       "    </tr>\n",
       "  </tbody>\n",
       "</table>\n",
       "</div>"
      ],
      "text/plain": [
       "                                                                                                                                                                                                                                                                                                                                                                                                                                                                                                               Context  \\\n",
       "0  i think we could import the old comments via rsync, but from there we need to go via email. I think it is easier than caching the status on each bug and than import bits here and there __eou__ __eot__ it would be very easy to keep a hash db of message-ids  __eou__ sounds good __eou__ __eot__ ok __eou__ perhaps we can ship an ad-hoc apt_prefereces __eou__ __eot__ version? __eou__ __eot__ thanks __eou__ __eot__ not yet __eou__ it is covered by your insurance? __eou__ __eot__ yes __eou__ but it...   \n",
       "1                                                                                                                                                                                                                                                                                         I'm not suggesting all - only the ones you modify. __eou__ __eot__ ok, it sounds like you're agreeing with me, then __eou__ though rather than \"the ones we modify\", my idea is \"the ones we need to merge\" __eou__ __eot__    \n",
       "2  afternoon all __eou__ not entirely related to warty, but if grub-install takes 5 minutes to install, is this a sign that i should just retry the install :) __eou__ __eot__ here  __eou__ __eot__ you might want to know that thinice in warty is buggy compared to that in sid __eou__ __eot__ and apparently GNOME is suddently almost perfect (out of the thinice problem), nobody report bugs :-P __eou__ I don't get your question, where do you want to paste ? __eou__ __eot__ can i file the panel not l...   \n",
       "3  interesting __eou__ grub-install worked with / being ext3, failed when it was xfs __eou__ i thought d-i installed the relevant kernel for your machine. i have a p4 and its installed the 386 kernel __eou__ holy crap a lot of stuff gets installed by default :) __eou__ YOU ARE INSTALLING VIM ON A BOX OF MINE __eou__ ;) __eou__ __eot__ more like osx than debian ;) __eou__ we have a selection of python modules available for great justice (and python development) __eou__ __eot__ 2.8 is fixing them...   \n",
       "4  and because Python gives Mark a woody __eou__ __eot__ i'm not sure if we're meant to talk about that publically yet. __eou__ __eot__ and I thought we were a \"pants off\" kind of company ... :p __eou__ you need new glasses __eou__ __eot__ mono 1.0? dude, that's going to be a barrel of laughs for totally non-release related reasons during hoary __eou__ read bryan clark's entry about NetworkManager? __eou__ __eot__ there was an accompanying IRC conversation to that one <g> __eou__ explain ? __eo...   \n",
       "\n",
       "                                                                                                                                       Utterance  \\\n",
       "0  basically each xfree86 upload will NOT force users to upgrade 100Mb of fonts for nothing __eou__ no something i did in my spare time. __eou__   \n",
       "1                                                                                         sorry __eou__ i thought it was ubuntu related. __eou__   \n",
       "2                                    Yep. __eou__ oh, okay. I wondered what happened to you __eou__ what distro do you need? __eou__ yes __eou__   \n",
       "3                                                                                                                          thats the one __eou__   \n",
       "4                   (i thought someone was going to make a joke about .au bandwidth...) __eou__ especially not if you're using screen ;) __eou__   \n",
       "\n",
       "  Label  \n",
       "0   1.0  \n",
       "1   0.0  \n",
       "2   0.0  \n",
       "3   1.0  \n",
       "4   1.0  "
      ]
     },
     "execution_count": 11,
     "metadata": {},
     "output_type": "execute_result"
    }
   ],
   "source": [
    "pd.options.display.max_colwidth=500  # 列文本最大长度为500\n",
    "train_df.head()"
   ]
  },
  {
   "cell_type": "code",
   "execution_count": 13,
   "metadata": {},
   "outputs": [
    {
     "name": "stdout",
     "output_type": "stream",
     "text": [
      "count    1000000.000000\n",
      "mean          77.877830\n",
      "std           66.837906\n",
      "min            7.000000\n",
      "25%           34.000000\n",
      "50%           57.000000\n",
      "75%           97.000000\n",
      "max         2034.000000\n",
      "Name: Context, dtype: float64\n"
     ]
    },
    {
     "data": {
      "image/png": "[encoded data removed]",
      "text/plain": [
       "<Figure size 432x288 with 1 Axes>"
      ]
     },
     "metadata": {},
     "output_type": "display_data"
    }
   ],
   "source": [
    "plt.figure(1)\n",
    "train_df_context_len = train_df.Context.str.split(' ').apply(len)\n",
    "train_df_context_len.hist(bins=40)\n",
    "plt.title('Training Context Length Statistics')\n",
    "print(train_df_context_len.describe())"
   ]
  },
  {
   "cell_type": "code",
   "execution_count": 16,
   "metadata": {},
   "outputs": [
    {
     "name": "stdout",
     "output_type": "stream",
     "text": [
      "count    1000000.000000\n",
      "mean          15.204147\n",
      "std           14.642695\n",
      "min            2.000000\n",
      "25%            6.000000\n",
      "50%           11.000000\n",
      "75%           20.000000\n",
      "max          584.000000\n",
      "Name: Utterance, dtype: float64\n"
     ]
    },
    {
     "data": {
      "image/png": "[encoded data removed]",
      "text/plain": [
       "<Figure size 432x288 with 1 Axes>"
      ]
     },
     "metadata": {},
     "output_type": "display_data"
    }
   ],
   "source": [
    "plt.figure(2)\n",
    "train_df_utterance_len = train_df.Utterance.str.split(' ').apply(len)\n",
    "train_df_utterance_len.hist(bins=40)\n",
    "plt.title('Training Utterance Length Statistics')\n",
    "print(train_df_utterance_len.describe())"
   ]
  },
  {
   "cell_type": "markdown",
   "metadata": {},
   "source": [
    "- 验证/测试集：\n",
    "    - 每个样本，有一个正例和九个负例数据（也称为干扰数据）。\n",
    "    - 建模的目标在于给正例的得分尽可能的高，而给负例的得到尽可能的低。（有点类似分类任务）。\n",
    "    - 语料做过分词、stemmed、lemmatized等文本预处理。\n",
    "    - 用NER(命名实体识别)将文本中的实体，如：姓名、地点、组织、URL等替换成特殊字符。"
   ]
  },
  {
   "cell_type": "code",
   "execution_count": 17,
   "metadata": {},
   "outputs": [
    {
     "data": {
      "text/html": [
       "<div>\n",
       "<style scoped>\n",
       "    .dataframe tbody tr th:only-of-type {\n",
       "        vertical-align: middle;\n",
       "    }\n",
       "\n",
       "    .dataframe tbody tr th {\n",
       "        vertical-align: top;\n",
       "    }\n",
       "\n",
       "    .dataframe thead th {\n",
       "        text-align: right;\n",
       "    }\n",
       "</style>\n",
       "<table border=\"1\" class=\"dataframe\">\n",
       "  <thead>\n",
       "    <tr style=\"text-align: right;\">\n",
       "      <th></th>\n",
       "      <th>Context</th>\n",
       "      <th>Ground Truth Utterance</th>\n",
       "      <th>Distractor_0</th>\n",
       "      <th>Distractor_1</th>\n",
       "      <th>Distractor_2</th>\n",
       "      <th>Distractor_3</th>\n",
       "      <th>Distractor_4</th>\n",
       "      <th>Distractor_5</th>\n",
       "      <th>Distractor_6</th>\n",
       "      <th>Distractor_7</th>\n",
       "      <th>Distractor_8</th>\n",
       "    </tr>\n",
       "  </thead>\n",
       "  <tbody>\n",
       "    <tr>\n",
       "      <th>0</th>\n",
       "      <td>anyone knows why my stock oneiric exports env var 'USERNAME'?  I mean what is that used for?  I know of $USER but not $USERNAME .  My precise install doesn't export USERNAME __eou__ __eot__ looks like it used to be exported by lightdm, but the line had the comment \"// FIXME: Is this required?\" so I guess it isn't surprising it is gone __eou__ __eot__ thanks!  How the heck did you figure that out? __eou__ __eot__ https://bugs.launchpad.net/lightdm/+bug/864109/comments/3 __eou__ __eot__</td>\n",
       "      <td>nice thanks! __eou__</td>\n",
       "      <td>wrong channel for it, but check efnet.org, unofficial page. __eou__</td>\n",
       "      <td>every time the kernel changes, you will lose video __eou__ yep __eou__</td>\n",
       "      <td>ok __eou__</td>\n",
       "      <td>!nomodeset &gt; acer __eou__ I'm assuming it is a driver issue. __eou__ !pm &gt; acer __eou__ i DON'T pm. ;) __eou__ OOPS SORRY FOR THE CAPS __eou__</td>\n",
       "      <td>http://www.ubuntu.com/project/about-ubuntu/derivatives  (some call them derivatives, others call them flavors, same difference) __eou__</td>\n",
       "      <td>thx __eou__ unfortunately the program isn't installed from the repositories __eou__</td>\n",
       "      <td>how can I check? By doing a recovery for testing? __eou__</td>\n",
       "      <td>my humble apologies __eou__</td>\n",
       "      <td>#ubuntu-offtopic __eou__</td>\n",
       "    </tr>\n",
       "    <tr>\n",
       "      <th>1</th>\n",
       "      <td>i set up my hd such that i have to type a passphrase to access it at boot. how can i remove that passwrd, and just boot up normal. i did this at install, it works fine, just tired of having reboots where i need to be at terminal to type passwd in. help? __eou__ __eot__ backup your data, and re-install without encryption \"might\" be the easiest method __eou__ __eot__</td>\n",
       "      <td>so you dont know, ok, anyone else? __eou__ you are like, yah my mouse doesnt work, reinstall your os lolol what a joke __eou__</td>\n",
       "      <td>nmap is nice, but it wasn't what I was looking for.  I finally found it again: mtr (my traceroute) is what I was looking for.  I'll be keeping nmap handy though. __eou__</td>\n",
       "      <td>ok __eou__</td>\n",
       "      <td>cdrom worked fine on windows. __eou__ i dont think it has anything to do with the buring process, cds work fine on my desktop and my other ubuntu lap __eou__</td>\n",
       "      <td>ah yes, i have read return as rerun __eou__</td>\n",
       "      <td>hm? __eou__</td>\n",
       "      <td>not the case, LTS is every other .04 release. The .04 isn't always more stable __eou__ I would reinstall with Precise __eou__ you can restore user data and such from backup __eou__</td>\n",
       "      <td>Pretty much __eou__</td>\n",
       "      <td>I used the one I downloaded from AMD __eou__</td>\n",
       "      <td>ffmpeg is part of the package , quixotedon , at least I'm quite sure it still is __eou__ if not just install ffmpeg __eou__</td>\n",
       "    </tr>\n",
       "    <tr>\n",
       "      <th>2</th>\n",
       "      <td>im trying to use ubuntu on my macbook pro retina __eou__ i read in the forums that ubuntu has a apple version now? __eou__ __eot__  not that ive ever heard of..  normal ubutnu should work on an intel based mac. there is the PPC version also. __eou__  you want total control? or what are you wanting exactly? __eou__ __eot__</td>\n",
       "      <td>just wondering how it runs __eou__</td>\n",
       "      <td>yes, that's what I did, exported it to a \"id_dsa\" file, then back to Ubuntu copied it into ~/.ssh/ __eou__</td>\n",
       "      <td>nothing - i am talking about the question of myhero __eou__</td>\n",
       "      <td>that should fix the fonts being too large __eou__</td>\n",
       "      <td>okay, so hcitool echos back hci0 &lt;mac address of controller&gt; but the bluetooth devices panel keeps disconnecting and reconnecting the device (or so it seems) any idea why that would be? __eou__</td>\n",
       "      <td>I get to the menu with options such as 'try ubuntu', 'install ubuntu', 'check disc' __eou__</td>\n",
       "      <td>why do u need analyzer __eou__ it is a toy __eou__ ok msp301 __eou__ but y, i mean it is the same ubunut, only with older programs __eou__ ubuntu 804 or 1204 __eou__ no i dont use 804 __eou__ i am asking hypo qs __eou__</td>\n",
       "      <td>Cntrl-C may stop the command but it doesn't fix my HDD problem. __eou__</td>\n",
       "      <td>if you're only going to run Ubuntu, just get a normal PC rather than a mac __eou__ that said, I'm running it on a macbook, because I got one relatively cheaply __eou__</td>\n",
       "      <td>the ones which are not picked up at the moment are on STDERR and not STDOUT and &gt; is only covering STDOUT __eou__</td>\n",
       "    </tr>\n",
       "    <tr>\n",
       "      <th>3</th>\n",
       "      <td>no suggestions? __eou__ links? __eou__ how can i remove luks passphrase at boot. i dont want to use feature anymore... __eou__ __eot__ you may need to create a new volume __eou__ __eot__ that leads me to the next question lol... i dont know how to create new volumes exactly in cmdline, usually i use a gui. im just trying to access this server via usb loaded with next os im going to load, the luks pw is stopping me __eou__ __eot__ for something like that I would likely use something like a li...</td>\n",
       "      <td>you cant load anything via usb or cd when luks is running __eou__ it wont allow usb boot, i tried with 2 diff usb drives __eou__</td>\n",
       "      <td>-p  sorry... __eou__  nmap -p22 __eou__ It doesn't say:  22/tcp open  ssh  ? __eou__</td>\n",
       "      <td>i guess so i can't even launch it. __eou__</td>\n",
       "      <td>noted __eou__</td>\n",
       "      <td>rxvt-unicode is one __eou__</td>\n",
       "      <td>I tarred all of ~ __eou__</td>\n",
       "      <td>I tarred all of ~ __eou__</td>\n",
       "      <td>I don't really know if I can help, but I was curious. lol __eou__ That's cool. I'll look into it. Now, we better stop talking about this since it's offtopic. :P __eou__</td>\n",
       "      <td>that works just fine, thanks! __eou__</td>\n",
       "      <td>thank you __eou__</td>\n",
       "    </tr>\n",
       "    <tr>\n",
       "      <th>4</th>\n",
       "      <td>I just added a second usb printer but not sure what the uri should read - can anyone help with usb printers? __eou__ __eot__ firefox localhost:631 __eou__ __eot__ firefox? __eou__ __eot__ yes __eou__ firefox localhost:631 __eou__ firefox http://localhost:631 __eou__ cups has a web based interface __eou__ __eot__</td>\n",
       "      <td>i was setting it up under the printer configuration __eou__ thanks! __eou__</td>\n",
       "      <td>i'd say the most commonly venue would be via Launchpad. check out the factoid !bug as well __eou__</td>\n",
       "      <td>the old hardy man page, http://manpages.ubuntu.com/manpages/hardy/man1/gcalctool.1.html says \"delete\" clears the screen, but it doesn't __eou__ because LTS are good __eou__</td>\n",
       "      <td>i'll give a try __eou__</td>\n",
       "      <td>by the way, the url you posted for davfs is from dapper... that's 5.xx iirc __eou__</td>\n",
       "      <td>http://ubuntuforums.org/showthread.php?t=1549847 __eou__</td>\n",
       "      <td>So I load up putty gui, then what do I do? __eou__</td>\n",
       "      <td>you should read error messages, it says 'are you root?' __eou__</td>\n",
       "      <td>waiting the college semester to close just to make sure I will not need to reconfigure my environment again __eou__</td>\n",
       "      <td>I was calling myself a jerk. All I know is that you downloaded a game successfully. __eou__</td>\n",
       "    </tr>\n",
       "  </tbody>\n",
       "</table>\n",
       "</div>"
      ],
      "text/plain": [
       "                                                                                                                                                                                                                                                                                                                                                                                                                                                                                                               Context  \\\n",
       "0           anyone knows why my stock oneiric exports env var 'USERNAME'?  I mean what is that used for?  I know of $USER but not $USERNAME .  My precise install doesn't export USERNAME __eou__ __eot__ looks like it used to be exported by lightdm, but the line had the comment \"// FIXME: Is this required?\" so I guess it isn't surprising it is gone __eou__ __eot__ thanks!  How the heck did you figure that out? __eou__ __eot__ https://bugs.launchpad.net/lightdm/+bug/864109/comments/3 __eou__ __eot__    \n",
       "1                                                                                                                                     i set up my hd such that i have to type a passphrase to access it at boot. how can i remove that passwrd, and just boot up normal. i did this at install, it works fine, just tired of having reboots where i need to be at terminal to type passwd in. help? __eou__ __eot__ backup your data, and re-install without encryption \"might\" be the easiest method __eou__ __eot__    \n",
       "2                                                                                                                                                                                 im trying to use ubuntu on my macbook pro retina __eou__ i read in the forums that ubuntu has a apple version now? __eou__ __eot__  not that ive ever heard of..  normal ubutnu should work on an intel based mac. there is the PPC version also. __eou__  you want total control? or what are you wanting exactly? __eou__ __eot__    \n",
       "3  no suggestions? __eou__ links? __eou__ how can i remove luks passphrase at boot. i dont want to use feature anymore... __eou__ __eot__ you may need to create a new volume __eou__ __eot__ that leads me to the next question lol... i dont know how to create new volumes exactly in cmdline, usually i use a gui. im just trying to access this server via usb loaded with next os im going to load, the luks pw is stopping me __eou__ __eot__ for something like that I would likely use something like a li...   \n",
       "4                                                                                                                                                                                           I just added a second usb printer but not sure what the uri should read - can anyone help with usb printers? __eou__ __eot__ firefox localhost:631 __eou__ __eot__ firefox? __eou__ __eot__ yes __eou__ firefox localhost:631 __eou__ firefox http://localhost:631 __eou__ cups has a web based interface __eou__ __eot__    \n",
       "\n",
       "                                                                                                             Ground Truth Utterance  \\\n",
       "0                                                                                                              nice thanks! __eou__   \n",
       "1    so you dont know, ok, anyone else? __eou__ you are like, yah my mouse doesnt work, reinstall your os lolol what a joke __eou__   \n",
       "2                                                                                                just wondering how it runs __eou__   \n",
       "3  you cant load anything via usb or cd when luks is running __eou__ it wont allow usb boot, i tried with 2 diff usb drives __eou__   \n",
       "4                                                       i was setting it up under the printer configuration __eou__ thanks! __eou__   \n",
       "\n",
       "                                                                                                                                                                Distractor_0  \\\n",
       "0                                                                                                        wrong channel for it, but check efnet.org, unofficial page. __eou__   \n",
       "1  nmap is nice, but it wasn't what I was looking for.  I finally found it again: mtr (my traceroute) is what I was looking for.  I'll be keeping nmap handy though. __eou__   \n",
       "2                                                                 yes, that's what I did, exported it to a \"id_dsa\" file, then back to Ubuntu copied it into ~/.ssh/ __eou__   \n",
       "3                                                                                       -p  sorry... __eou__  nmap -p22 __eou__ It doesn't say:  22/tcp open  ssh  ? __eou__   \n",
       "4                                                                         i'd say the most commonly venue would be via Launchpad. check out the factoid !bug as well __eou__   \n",
       "\n",
       "                                                                                                                                                                   Distractor_1  \\\n",
       "0                                                                                                        every time the kernel changes, you will lose video __eou__ yep __eou__   \n",
       "1                                                                                                                                                                    ok __eou__   \n",
       "2                                                                                                                   nothing - i am talking about the question of myhero __eou__   \n",
       "3                                                                                                                                    i guess so i can't even launch it. __eou__   \n",
       "4  the old hardy man page, http://manpages.ubuntu.com/manpages/hardy/man1/gcalctool.1.html says \"delete\" clears the screen, but it doesn't __eou__ because LTS are good __eou__   \n",
       "\n",
       "                                                                                                                                                     Distractor_2  \\\n",
       "0                                                                                                                                                      ok __eou__   \n",
       "1   cdrom worked fine on windows. __eou__ i dont think it has anything to do with the buring process, cds work fine on my desktop and my other ubuntu lap __eou__   \n",
       "2                                                                                                               that should fix the fonts being too large __eou__   \n",
       "3                                                                                                                                                   noted __eou__   \n",
       "4                                                                                                                                         i'll give a try __eou__   \n",
       "\n",
       "                                                                                                                                                                                        Distractor_3  \\\n",
       "0                                                     !nomodeset > acer __eou__ I'm assuming it is a driver issue. __eou__ !pm > acer __eou__ i DON'T pm. ;) __eou__ OOPS SORRY FOR THE CAPS __eou__   \n",
       "1                                                                                                                                                        ah yes, i have read return as rerun __eou__   \n",
       "2  okay, so hcitool echos back hci0 <mac address of controller> but the bluetooth devices panel keeps disconnecting and reconnecting the device (or so it seems) any idea why that would be? __eou__   \n",
       "3                                                                                                                                                                        rxvt-unicode is one __eou__   \n",
       "4                                                                                                                by the way, the url you posted for davfs is from dapper... that's 5.xx iirc __eou__   \n",
       "\n",
       "                                                                                                                              Distractor_4  \\\n",
       "0  http://www.ubuntu.com/project/about-ubuntu/derivatives  (some call them derivatives, others call them flavors, same difference) __eou__   \n",
       "1                                                                                                                              hm? __eou__   \n",
       "2                                              I get to the menu with options such as 'try ubuntu', 'install ubuntu', 'check disc' __eou__   \n",
       "3                                                                                                                I tarred all of ~ __eou__   \n",
       "4                                                                                 http://ubuntuforums.org/showthread.php?t=1549847 __eou__   \n",
       "\n",
       "                                                                                                                                                                                                                  Distractor_5  \\\n",
       "0                                                                                                                                          thx __eou__ unfortunately the program isn't installed from the repositories __eou__   \n",
       "1                                         not the case, LTS is every other .04 release. The .04 isn't always more stable __eou__ I would reinstall with Precise __eou__ you can restore user data and such from backup __eou__   \n",
       "2  why do u need analyzer __eou__ it is a toy __eou__ ok msp301 __eou__ but y, i mean it is the same ubunut, only with older programs __eou__ ubuntu 804 or 1204 __eou__ no i dont use 804 __eou__ i am asking hypo qs __eou__   \n",
       "3                                                                                                                                                                                                    I tarred all of ~ __eou__   \n",
       "4                                                                                                                                                                           So I load up putty gui, then what do I do? __eou__   \n",
       "\n",
       "                                                                                                                                                               Distractor_6  \\\n",
       "0                                                                                                                 how can I check? By doing a recovery for testing? __eou__   \n",
       "1                                                                                                                                                       Pretty much __eou__   \n",
       "2                                                                                                   Cntrl-C may stop the command but it doesn't fix my HDD problem. __eou__   \n",
       "3  I don't really know if I can help, but I was curious. lol __eou__ That's cool. I'll look into it. Now, we better stop talking about this since it's offtopic. :P __eou__   \n",
       "4                                                                                                           you should read error messages, it says 'are you root?' __eou__   \n",
       "\n",
       "                                                                                                                                                              Distractor_7  \\\n",
       "0                                                                                                                                              my humble apologies __eou__   \n",
       "1                                                                                                                             I used the one I downloaded from AMD __eou__   \n",
       "2  if you're only going to run Ubuntu, just get a normal PC rather than a mac __eou__ that said, I'm running it on a macbook, because I got one relatively cheaply __eou__   \n",
       "3                                                                                                                                    that works just fine, thanks! __eou__   \n",
       "4                                                      waiting the college semester to close just to make sure I will not need to reconfigure my environment again __eou__   \n",
       "\n",
       "                                                                                                                  Distractor_8  \n",
       "0                                                                                                     #ubuntu-offtopic __eou__  \n",
       "1  ffmpeg is part of the package , quixotedon , at least I'm quite sure it still is __eou__ if not just install ffmpeg __eou__  \n",
       "2            the ones which are not picked up at the moment are on STDERR and not STDOUT and > is only covering STDOUT __eou__  \n",
       "3                                                                                                            thank you __eou__  \n",
       "4                                  I was calling myself a jerk. All I know is that you downloaded a game successfully. __eou__  "
      ]
     },
     "execution_count": 17,
     "metadata": {},
     "output_type": "execute_result"
    }
   ],
   "source": [
    "pd.options.display.max_colwidth=500\n",
    "test_df.head()"
   ]
  },
  {
   "cell_type": "code",
   "execution_count": 18,
   "metadata": {},
   "outputs": [
    {
     "data": {
      "text/html": [
       "<div>\n",
       "<style scoped>\n",
       "    .dataframe tbody tr th:only-of-type {\n",
       "        vertical-align: middle;\n",
       "    }\n",
       "\n",
       "    .dataframe tbody tr th {\n",
       "        vertical-align: top;\n",
       "    }\n",
       "\n",
       "    .dataframe thead th {\n",
       "        text-align: right;\n",
       "    }\n",
       "</style>\n",
       "<table border=\"1\" class=\"dataframe\">\n",
       "  <thead>\n",
       "    <tr style=\"text-align: right;\">\n",
       "      <th></th>\n",
       "      <th>Context</th>\n",
       "      <th>Ground Truth Utterance</th>\n",
       "      <th>Distractor_0</th>\n",
       "      <th>Distractor_1</th>\n",
       "      <th>Distractor_2</th>\n",
       "      <th>Distractor_3</th>\n",
       "      <th>Distractor_4</th>\n",
       "      <th>Distractor_5</th>\n",
       "      <th>Distractor_6</th>\n",
       "      <th>Distractor_7</th>\n",
       "      <th>Distractor_8</th>\n",
       "    </tr>\n",
       "  </thead>\n",
       "  <tbody>\n",
       "    <tr>\n",
       "      <th>count</th>\n",
       "      <td>18920</td>\n",
       "      <td>18920</td>\n",
       "      <td>18920</td>\n",
       "      <td>18920</td>\n",
       "      <td>18920</td>\n",
       "      <td>18920</td>\n",
       "      <td>18920</td>\n",
       "      <td>18920</td>\n",
       "      <td>18920</td>\n",
       "      <td>18920</td>\n",
       "      <td>18920</td>\n",
       "    </tr>\n",
       "    <tr>\n",
       "      <th>unique</th>\n",
       "      <td>18920</td>\n",
       "      <td>18026</td>\n",
       "      <td>14066</td>\n",
       "      <td>13998</td>\n",
       "      <td>14162</td>\n",
       "      <td>14116</td>\n",
       "      <td>14200</td>\n",
       "      <td>14149</td>\n",
       "      <td>14064</td>\n",
       "      <td>14068</td>\n",
       "      <td>14202</td>\n",
       "    </tr>\n",
       "    <tr>\n",
       "      <th>top</th>\n",
       "      <td>Any one can help ? __eou__ __eot__ ?? __eou__ __eot__</td>\n",
       "      <td>thanks __eou__</td>\n",
       "      <td>thanks __eou__</td>\n",
       "      <td>thanks __eou__</td>\n",
       "      <td>thanks __eou__</td>\n",
       "      <td>thanks __eou__</td>\n",
       "      <td>thanks __eou__</td>\n",
       "      <td>thanks __eou__</td>\n",
       "      <td>thanks __eou__</td>\n",
       "      <td>thanks __eou__</td>\n",
       "      <td>thanks __eou__</td>\n",
       "    </tr>\n",
       "    <tr>\n",
       "      <th>freq</th>\n",
       "      <td>1</td>\n",
       "      <td>152</td>\n",
       "      <td>133</td>\n",
       "      <td>142</td>\n",
       "      <td>163</td>\n",
       "      <td>148</td>\n",
       "      <td>130</td>\n",
       "      <td>164</td>\n",
       "      <td>155</td>\n",
       "      <td>151</td>\n",
       "      <td>156</td>\n",
       "    </tr>\n",
       "  </tbody>\n",
       "</table>\n",
       "</div>"
      ],
      "text/plain": [
       "                                                       Context  \\\n",
       "count                                                    18920   \n",
       "unique                                                   18920   \n",
       "top     Any one can help ? __eou__ __eot__ ?? __eou__ __eot__    \n",
       "freq                                                         1   \n",
       "\n",
       "       Ground Truth Utterance    Distractor_0    Distractor_1    Distractor_2  \\\n",
       "count                   18920           18920           18920           18920   \n",
       "unique                  18026           14066           13998           14162   \n",
       "top            thanks __eou__  thanks __eou__  thanks __eou__  thanks __eou__   \n",
       "freq                      152             133             142             163   \n",
       "\n",
       "          Distractor_3    Distractor_4    Distractor_5    Distractor_6  \\\n",
       "count            18920           18920           18920           18920   \n",
       "unique           14116           14200           14149           14064   \n",
       "top     thanks __eou__  thanks __eou__  thanks __eou__  thanks __eou__   \n",
       "freq               148             130             164             155   \n",
       "\n",
       "          Distractor_7    Distractor_8  \n",
       "count            18920           18920  \n",
       "unique           14068           14202  \n",
       "top     thanks __eou__  thanks __eou__  \n",
       "freq               151             156  "
      ]
     },
     "execution_count": 18,
     "metadata": {},
     "output_type": "execute_result"
    }
   ],
   "source": [
    "test_df.describe()"
   ]
  },
  {
   "cell_type": "code",
   "execution_count": null,
   "metadata": {},
   "outputs": [],
   "source": []
  }
 ],
 "metadata": {
  "kernelspec": {
   "display_name": "Python 3",
   "language": "python",
   "name": "python3"
  },
  "language_info": {
   "codemirror_mode": {
    "name": "ipython",
    "version": 3
   },
   "file_extension": ".py",
   "mimetype": "text/x-python",
   "name": "python",
   "nbconvert_exporter": "python",
   "pygments_lexer": "ipython3",
   "version": "3.6.5"
  }
 },
 "nbformat": 4,
 "nbformat_minor": 2
}
