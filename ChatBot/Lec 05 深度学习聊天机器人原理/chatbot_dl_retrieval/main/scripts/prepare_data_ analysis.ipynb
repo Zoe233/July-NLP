{
 "cells": [
  {
   "cell_type": "markdown",
   "metadata": {},
   "source": [
    "# 针对prepare_data.py脚本文件的解析\n",
    "prepare_data.py用于将csv文件转换为TFRecords文件。\n",
    "\n",
    "内部的步骤清晰，是个完整的工程项目的写法。除了调试TensorFlow版本之间的变化外，还将完整的步骤的注解，在本文件内完整的说明。  \n",
    "\n",
    "具体的调用还是使用prepare_data.py即可。"
   ]
  },
  {
   "cell_type": "markdown",
   "metadata": {},
   "source": [
    "## Step 1: 加载库"
   ]
  },
  {
   "cell_type": "code",
   "execution_count": null,
   "metadata": {},
   "outputs": [],
   "source": [
    "# -*- coding:utf-8 -*-\n",
    "import os\n",
    "import csv\n",
    "import itertools\n",
    "import functools\n",
    "import tensorflow as tf\n",
    "import numpy as np\n",
    "import pandas as np"
   ]
  },
  {
   "cell_type": "markdown",
   "metadata": {},
   "source": [
    "Python的内建模块**itertools**提供了非常有用的用于操作迭代对象的函数。\n",
    "<a href='https://www.liaoxuefeng.com/wiki/001374738125095c955c1e6d8bb493182103fac9270762a000/001415616001996f6b32d80b6454caca3d33c965a07611f000'>使用参见链接</a>\n",
    "\n",
    "**functools**该模块为**高阶函数**提供支持——作用于或返回函数的函数被称为高阶函数。在该模块看来，一切可调用的对象均可视为本模块中所说的“函数”。\n",
    "<a href='https://www.cnblogs.com/Security-Darren/p/4168310.html'>使用参见链接</a>\n"
   ]
  },
  {
   "cell_type": "markdown",
   "metadata": {},
   "source": [
    "## Step 2: 通过tf.flags.DEFINE_xxx()设置 命令行可选参数"
   ]
  },
  {
   "cell_type": "code",
   "execution_count": null,
   "metadata": {},
   "outputs": [],
   "source": [
    "# tf.flags.DEFINE_xxx\n",
    "# FLAGS=tf.flags.FLAGES\n",
    "# 添加命令行的可选参数\n",
    "tf.flags.DEFINE_integer(\n",
    "    'min_word_frequency', 5, 'Minimum frequency of words in the vocabulary'\n",
    ")\n",
    "\n",
    "tf.flags.DEFINE_integer(\n",
    "    'max_sentence_len', 160, \"Maximum Sentence Length\"\n",
    ")\n",
    "\n",
    "tf.flags.DEFINE_string(\n",
    "    'input_dir', os.path.abspath('../../ubuntu_dataset'),\n",
    "    \"Input directory containing original CSV data files\"\n",
    ")\n",
    "\n",
    "tf.flags.DEFINE_string(\n",
    "    'output_dir', os.path.abspath('../../ubuntu_dataset'),\n",
    "    'Output directory for TFRecord files'\n",
    ")\n",
    "\n",
    "# 仅是在jupyter的时候会出现的报错信息。\n",
    "tf.app.flags.DEFINE_string('f', '', 'kernel')\n",
    "\n",
    "FLAGS = tf.flags.FLAGS"
   ]
  },
  {
   "cell_type": "markdown",
   "metadata": {},
   "source": [
    "有关tf.flags的知识注解，可见<a href='../../../../../TF/教程/小知识.ipynb#flags'>链接</a>"
   ]
  },
  {
   "cell_type": "markdown",
   "metadata": {},
   "source": [
    "## Step 3:"
   ]
  },
  {
   "cell_type": "code",
   "execution_count": null,
   "metadata": {},
   "outputs": [],
   "source": [
    "TRAIN_PATH = os.path.join(FLAGS.input_dir, 'train.csv')\n",
    "VALIDATION_PATH = os.path.join(FLAGS.input_dir, 'valid.csv')\n",
    "TEST_PATH = os.path.join(FLAGS.input_dir, 'test.csv')"
   ]
  },
  {
   "cell_type": "code",
   "execution_count": null,
   "metadata": {},
   "outputs": [],
   "source": []
  }
 ],
 "metadata": {
  "kernelspec": {
   "display_name": "Python 3",
   "language": "python",
   "name": "python3"
  },
  "language_info": {
   "codemirror_mode": {
    "name": "ipython",
    "version": 3
   },
   "file_extension": ".py",
   "mimetype": "text/x-python",
   "name": "python",
   "nbconvert_exporter": "python",
   "pygments_lexer": "ipython3",
   "version": "3.6.5"
  }
 },
 "nbformat": 4,
 "nbformat_minor": 2
}
