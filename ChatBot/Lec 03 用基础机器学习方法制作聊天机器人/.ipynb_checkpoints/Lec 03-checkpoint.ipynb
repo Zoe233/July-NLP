{
 "cells": [
  {
   "cell_type": "markdown",
   "metadata": {},
   "source": [
    "# Lec 03: 机器学习构建chatbot"
   ]
  },
  {
   "cell_type": "markdown",
   "metadata": {},
   "source": [
    "## 目录\n",
    "- <a href='#basic'>关于聊天机器人的思考</a>\n",
    "    - <a href='#basic1'>1. 工程考量</a>\n",
    "    - <a href='#basic2'>2. 机器学习角度考虑</a>\n",
    "- <a href='#pre'>预备知识</a>\n",
    "    - <a href='#pre1'>1. 检索与分配</a>\n",
    "    - <a href='#pre2'>2. 分类与朴素贝叶斯</a>\n",
    "- <a href='#chatter'>chatterbot</a>\n",
    "    - <a href='#chatter1'>1. 架构与使用方法</a>\n",
    "    - <a href='#chatter2'>2. 源码分析</a>\n",
    "- <a href='#traditonal'>传统聊天机器人</a>\n",
    "    - NLP 基础知识\n",
    "        - 基本分词\n",
    "        - 关键词抽取（tf-idf等）\n",
    "        - 正则表达式模式匹配\n",
    "        - ...\n",
    "\n",
    "    - Machine Learning 相关知识\n",
    "        - 文本表示与匹配\n",
    "        - 分类（文本场景分析）\n",
    "        - 数据驱动（特征工程）\n",
    "        - ...\n",
    "\n"
   ]
  },
  {
   "cell_type": "markdown",
   "metadata": {},
   "source": [
    "\n",
    "    "
   ]
  },
  {
   "cell_type": "markdown",
   "metadata": {},
   "source": [
    "## 聊天机器人的一些思考\n",
    "- 工程考量\n",
    "    - 架构设计清晰、模块化\n",
    "    - 功能分拆，解耦，部件可插拔与拓展\n",
    "    \n",
    "    <img src='./images/frame01.png' width='70%'/>\n",
    "    \n",
    "    \n",
    "- 算法与机器学习角度考量\n",
    "    - 算法简单，数据（特征）驱动\n",
    "    - 场景化与垂直领域"
   ]
  },
  {
   "cell_type": "markdown",
   "metadata": {},
   "source": [
    "## 预备知识：检索与匹配\n",
    "- 基于检索与匹配\n",
    "    - 知识库（存储了问题与回复内容）\n",
    "    - 检索：搜寻相关问题\n",
    "    - 匹配：对结果进行排序\n"
   ]
  },
  {
   "cell_type": "markdown",
   "metadata": {},
   "source": [
    "## 预备知识：编辑距离\n",
    "- 编辑距离\n",
    "    - 编辑距离/Levenshtein 距离，是指两个字符串之间，由一个转成另一个所需要的最少编辑操作次数。\n",
    "    - 允许的编辑操作包括：\n",
    "        - 将一个字符替换成另一个字符\n",
    "        - 插入一个字符\n",
    "        - 删除一个字符\n",
    "<img src='./images/levenshtein_distance.png' width='80%'/>\n",
    "    - Python在string类型中，默认的utf-8编码下，一个中文字符是用三个字节来表示的。\n",
    "    用unicode。 \n",
    "   "
   ]
  },
  {
   "cell_type": "markdown",
   "metadata": {},
   "source": [
    "Levenshtein包安装：\n",
    "> pip install python-Levenshtein"
   ]
  },
  {
   "cell_type": "code",
   "execution_count": 3,
   "metadata": {},
   "outputs": [
    {
     "name": "stdout",
     "output_type": "stream",
     "text": [
      "1\n"
     ]
    }
   ],
   "source": [
    "# -*- coding:utf-8 -*-\n",
    "import Levenshtein\n",
    "texta = '七月在线'\n",
    "textb = '七月 在线'\n",
    "print(Levenshtein.distance(texta, textb))"
   ]
  },
  {
   "cell_type": "markdown",
   "metadata": {},
   "source": [
    "## 预备知识：场景分类与NB\n",
    "$$P(B|A) = \\frac{P(A|B)P(B)}{P(A)}$$\n",
    "\n",
    "<img src='./images/nb.png' width='60%'/>"
   ]
  },
  {
   "cell_type": "markdown",
   "metadata": {},
   "source": [
    "## Chatterbot聊天机器人\n",
    "<img src='./images/chatterbot01.png' width='70%'/>"
   ]
  },
  {
   "cell_type": "markdown",
   "metadata": {},
   "source": [
    "ChatterBot是一个基于机器学习的聊天机器人引擎，构建在python上，主要特点是可以从已有的对话中进行学（记忆）习（匹配）。"
   ]
  },
  {
   "cell_type": "markdown",
   "metadata": {},
   "source": [
    "- 每个部分都设计了不同的“适配器”（Adapter）\n",
    "    - 机器人应答逻辑 => Logic Adapters\n",
    "        - Closest Match Adapter\n",
    "            - 字符串模糊匹配（编辑距离）\n",
    "        - Closest Meaning Adapter\n",
    "            - 借助nltk的WordNet，近义词评估\n",
    "        - Time Logic Adapter\n",
    "            - 处理涉及时间的提问\n",
    "        - Mathematical Evaluation Adapter\n",
    "            - 涉及数学运算"
   ]
  },
  {
   "cell_type": "markdown",
   "metadata": {},
   "source": [
    "- 存储器后端 => Storage Adapters\n",
    "    - Read Only Mode\n",
    "        - 只读模式，当有输入数据到chatterbot的时候，数据库并不会发生改变。\n",
    "    - Json Database Adapter\n",
    "        - 用于存储对话数据的接口，对话对数以Json格式进行存储\n",
    "    - Mongo Database Adapter\n",
    "        - 以MongoDB database方式来存储对话数据"
   ]
  },
  {
   "cell_type": "markdown",
   "metadata": {},
   "source": [
    "- 输入形式 => Input Adapters\n",
    "    - Variable innput type adapter\n",
    "        - 允许chatter bot 接收不同类型的输入的，如：strings, dictionaries和Statements\n",
    "    - Terminal adapter\n",
    "        - 使得ChatterBot可以通过终端进行对话\n",
    "    - HipChat Adapter\n",
    "        - 使得ChatterBot可以从HipChat聊天室获取输入语句，通过HipChat和ChatterBot进行对话\n",
    "    - Speech recognition\n",
    "        - 语音识别输入，详见<a href=''>chatterbot-voice</a>"
   ]
  },
  {
   "cell_type": "markdown",
   "metadata": {},
   "source": [
    "- 输出形式 => Output Adapters\n",
    "    - Output format adapter \n",
    "        - 支持text, json和object格式的输出\n",
    "    - Terminal adapter\n",
    "    - HipChat Adapter\n",
    "    - Mailgun adapter\n",
    "        - 允许chat bot基于Mailgun API进行邮件的发送\n",
    "    - Speech synthesis\n",
    "        - TTS(Text to speech) 部分，详见<a href=''>chatterbot-voice</a>"
   ]
  },
  {
   "cell_type": "markdown",
   "metadata": {},
   "source": [
    "<h4><a href=''>聊天机器人应答逻辑代码实现</a></h4>\n",
    "<h4><a href=''>聊天机器人存储适配器代码实现</a></h4>\n",
    "<h4><a href=''>聊天机器人输入适配器代码实现</a></h4>"
   ]
  },
  {
   "cell_type": "code",
   "execution_count": null,
   "metadata": {},
   "outputs": [],
   "source": []
  },
  {
   "cell_type": "code",
   "execution_count": null,
   "metadata": {},
   "outputs": [],
   "source": []
  },
  {
   "cell_type": "code",
   "execution_count": null,
   "metadata": {},
   "outputs": [],
   "source": []
  },
  {
   "cell_type": "code",
   "execution_count": null,
   "metadata": {},
   "outputs": [],
   "source": []
  }
 ],
 "metadata": {
  "kernelspec": {
   "display_name": "Python 3",
   "language": "python",
   "name": "python3"
  },
  "language_info": {
   "codemirror_mode": {
    "name": "ipython",
    "version": 3
   },
   "file_extension": ".py",
   "mimetype": "text/x-python",
   "name": "python",
   "nbconvert_exporter": "python",
   "pygments_lexer": "ipython3",
   "version": "3.6.5"
  }
 },
 "nbformat": 4,
 "nbformat_minor": 2
}
