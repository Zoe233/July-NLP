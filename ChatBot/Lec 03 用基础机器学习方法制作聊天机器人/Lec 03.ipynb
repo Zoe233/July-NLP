{
 "cells": [
  {
   "cell_type": "markdown",
   "metadata": {},
   "source": [
    "# Lec 03: 机器学习构建chatbot"
   ]
  },
  {
   "cell_type": "markdown",
   "metadata": {},
   "source": [
    "## 目录\n",
    "- <a href='#basic'>1. 关于聊天机器人的思考</a>\n",
    "    - <a href='#basic1'>1.1 工程考量</a>\n",
    "    - <a href='#basic2'>1.2 机器学习角度考虑</a>\n",
    "- <a href='#pre'>2. 预备知识</a>\n",
    "    - <a href='#pre1'>2.1 检索与分配</a>\n",
    "    - <a href='#pre2'>2.2 编辑距离</a>\n",
    "    - <a href='#pre3'>2.3 TF-IDF</a>\n",
    "    - <a href='#pre4'>2.4 相似度匹配</a>\n",
    "    - <a href='#pre5'>2.5 分类与朴素贝叶斯</a>\n",
    "- <a href='#chatter'>3. chatterbot框架</a>\n",
    "    - <a href='#chatter1'>3.1 架构与使用方法</a>\n",
    "    - <a href='#chatter2'>3.2 源码分析</a>\n",
    "- <a href='#traditonal'>4. 传统聊天机器人</a>\n",
    "    - NLP 基础知识\n",
    "        - 基本分词: jieba, nltk, pynlpir\n",
    "        - 关键词抽取（tf-idf等）\n",
    "        - 正则表达式模式匹配\n",
    "        - ...\n",
    "\n",
    "    - Machine Learning 相关知识\n",
    "        - 文本表示与匹配：向量化（one-hot, tf-idf, word2vec, nnlm, co-currence+SVD等）\n",
    "        - 分类（文本场景分析）：Closed Domain\n",
    "        - 数据驱动（特征工程）: Generative-Based\n",
    "        - ...\n",
    "\n"
   ]
  },
  {
   "cell_type": "markdown",
   "metadata": {},
   "source": [
    "---"
   ]
  },
  {
   "cell_type": "markdown",
   "metadata": {},
   "source": [
    "\n",
    "    "
   ]
  },
  {
   "cell_type": "markdown",
   "metadata": {},
   "source": [
    "<h2><a name='basic'>1. 聊天机器人的一些思考</a></h2>"
   ]
  },
  {
   "cell_type": "markdown",
   "metadata": {},
   "source": [
    "<a name='basic1'>1.1 工程考量</a>\n",
    "- 架构设计清晰、模块化\n",
    "- 功能分拆，解耦，部件可插拔与拓展\n",
    "    \n",
    "<img src='./images/frame01.png' width='60%'/>\n",
    "    "
   ]
  },
  {
   "cell_type": "markdown",
   "metadata": {},
   "source": [
    "Closed Domain: 分到不同的体系下，就可以有比较高的准确率。\n",
    "\n"
   ]
  },
  {
   "cell_type": "markdown",
   "metadata": {},
   "source": [
    "<a name='basic2'>1.2 算法与机器学习角度考量</a>\n",
    "- 算法简单，数据（特征）驱动\n",
    "- 场景化与垂直领域"
   ]
  },
  {
   "cell_type": "markdown",
   "metadata": {},
   "source": [
    "常见的电商的机器人，一跳进页面，就会出现一些用户常见的问题，\n",
    "\n",
    "用户常见的问题，是呈现“长尾的分布”。 \n",
    "<img src='./images/long_tail.png' width='50%'/>\n"
   ]
  },
  {
   "cell_type": "markdown",
   "metadata": {},
   "source": [
    "<h2><a name='pre'>2. 预备知识</a></h2>"
   ]
  },
  {
   "cell_type": "markdown",
   "metadata": {},
   "source": [
    "<h3><a name='pre1'>2.1 预备知识：检索与匹配</a></h3>\n",
    "- 基于**检索**与**匹配**\n",
    "    - 知识库（存储了问题与回复内容）\n",
    "    - 检索：搜寻相关问题\n",
    "    - 匹配：对结果进行排序\n"
   ]
  },
  {
   "cell_type": "markdown",
   "metadata": {},
   "source": [
    "<h3><a name='pre2'>2.2 预备知识：编辑距离</a></h3>\n",
    "- 编辑距离\n",
    "    - 编辑距离/Levenshtein 距离，是指两个字符串之间，由一个转成另一个所需要的最少编辑操作次数。\n",
    "    - 允许的编辑操作包括：\n",
    "        - 将一个字符替换成另一个字符 s: substitute\n",
    "        - 插入一个字符 i: insert \n",
    "        - 删除一个字符 d: delete\n",
    "<img src='./images/levenshtein_distance.png' width='80%'/>\n",
    "    - Python在string类型中，默认的utf-8编码下，一个中文字符是用三个字节来表示的。\n",
    "    在Python2下，中文字符串一定要用unicode，在Python3下则都可以。\n",
    "   "
   ]
  },
  {
   "cell_type": "markdown",
   "metadata": {},
   "source": [
    "上面图上介绍了由\"INTE NTION\"==> \" EXECUTION\"的最小编辑距离，和操作方式。\n"
   ]
  },
  {
   "cell_type": "markdown",
   "metadata": {},
   "source": [
    "经常在互联网上面试小算法，会用递归的方式去实现。  \n",
    "<a href='./编辑距离思想和代码实现.ipynb'>编辑距离和代码实现的思想</a>"
   ]
  },
  {
   "cell_type": "markdown",
   "metadata": {},
   "source": [
    "Levenshtein包安装：\n",
    "> pip install python-Levenshtein"
   ]
  },
  {
   "cell_type": "code",
   "execution_count": 3,
   "metadata": {},
   "outputs": [
    {
     "name": "stdout",
     "output_type": "stream",
     "text": [
      "1\n"
     ]
    }
   ],
   "source": [
    "# -*- coding:utf-8 -*-\n",
    "import Levenshtein\n",
    "texta = '七月在线'\n",
    "textb = '七月 在线'\n",
    "print(Levenshtein.distance(texta, textb))"
   ]
  },
  {
   "cell_type": "code",
   "execution_count": 4,
   "metadata": {},
   "outputs": [
    {
     "name": "stdout",
     "output_type": "stream",
     "text": [
      "1\n"
     ]
    }
   ],
   "source": [
    "textc = u'七月在线'\n",
    "textd = u'七月 在线'\n",
    "print(Levenshtein.distance(textc, textd))"
   ]
  },
  {
   "cell_type": "markdown",
   "metadata": {},
   "source": [
    "<h3><a name='pre3'>2.3 预备知识：TD-IDF</a></h3>"
   ]
  },
  {
   "cell_type": "markdown",
   "metadata": {},
   "source": [
    "编辑距离可以用于评估predict的问题与知识库中的问题的相似程度。\n",
    "\n",
    "如：   \n",
    "“你喜欢什么书”“你喜欢什么电影”\n",
    "从编辑距离来看，这两个问题的编辑距离非常小，但是这两句话实际上问询的问题的方面差非常多。\n",
    "\n",
    "问题：  \n",
    "在这个问题中，我们对待每个字（词）的权重是相同的。“书”和“电影”在问题中所占的权重应该更高才对。 \n",
    "\n",
    "优化思路：   \n",
    "将里面的关键词先提取出来，比如用：TF-IDF。 \n",
    "将核心词进行比对，而不是直接像上面那样，去比对每个词（字）。  \n",
    "\n",
    "\n",
    "实例：  \n",
    "百度的检索是怎么做的呢？   \n",
    "倒排索引等各种索引，利用关键词去做。\n",
    "\n"
   ]
  },
  {
   "cell_type": "markdown",
   "metadata": {},
   "source": [
    "<h3><a name='pre4'>2.4 预备知识：相似度匹配</a></h3>"
   ]
  },
  {
   "cell_type": "markdown",
   "metadata": {},
   "source": [
    "Closest Match Adapter：\n",
    "- 字符串模糊匹配（编辑距离）\n",
    "\n",
    "关键词提取：\n",
    "- tf-idf，text-Rank等常用算法\n",
    "\n",
    "Closest Meaning Adpater:\n",
    "- “含义”的匹配\n",
    "- nltk中有近义词，关联词，WordNet\n",
    "    - 缺点：需要专家，人工构造，耗时费力维护\n",
    "    - 好处：稳定性强，有实际语义的支撑，而不是word2vec通过语料训练出来的近似。\n",
    "\n",
    "Word2Vec:\n",
    "    - 近义词来自哪里？ word2vec从大量的语料中学习出“语义”。\n",
    "    - 可更新\n",
    "    "
   ]
  },
  {
   "cell_type": "markdown",
   "metadata": {},
   "source": [
    "<h3><a name='pre5'>2.5 预备知识：场景分类与NB</a></h3>"
   ]
  },
  {
   "cell_type": "markdown",
   "metadata": {},
   "source": [
    "最简单的场景分类是用朴素贝叶斯。  \n",
    "\n",
    "通过判断给定的Query，判断出具体的场景后，减少调用全局的知识库。"
   ]
  },
  {
   "cell_type": "markdown",
   "metadata": {},
   "source": [
    "\n",
    "$$P(B|A) = \\frac{P(A|B)P(B)}{P(A)}$$\n",
    "\n",
    "<img src='./images/nb.png' width='50%'/>"
   ]
  },
  {
   "cell_type": "markdown",
   "metadata": {},
   "source": [
    "<h2><a name='chatter'>3. chatterbot框架</a></h2>"
   ]
  },
  {
   "cell_type": "markdown",
   "metadata": {},
   "source": [
    "## Chatterbot聊天机器人\n",
    "<img src='./images/chatterbot01.png' width='70%'/>"
   ]
  },
  {
   "cell_type": "markdown",
   "metadata": {},
   "source": [
    "ChatterBot是一个基于机器学习的聊天机器人引擎，构建在python上，主要特点是可以从已有的对话中进行学（记忆）习（匹配）。"
   ]
  },
  {
   "cell_type": "markdown",
   "metadata": {},
   "source": [
    "<h3><a name='chatter1'>3.1 架构与使用方法</a></h3>"
   ]
  },
  {
   "cell_type": "markdown",
   "metadata": {},
   "source": [
    "- 架构：可用性，可拓展性。\n",
    "\n",
    "- 数据驱动Data-Driving：算法越精简，算法就越具有解释性。当数据量足够大的时候，覆盖的情况足够多的时候，数据的分布会和真实世界的大部分场景非常相似。  \n",
    "\n",
    "- 场景化：特定领域的知识的场景，如：售前，售后等。  \n",
    "open domain 开放域，理想的机器人，但是很难；  \n",
    "task-oriented 工程领域还是专注于这种机器人。  "
   ]
  },
  {
   "cell_type": "markdown",
   "metadata": {},
   "source": [
    "**下面的各个适配器的介绍是chatterbot的实现方式，实际还可以使用更多的选择：**"
   ]
  },
  {
   "cell_type": "markdown",
   "metadata": {},
   "source": [
    "- 每个部分都设计了不同的“适配器”（Adapter）\n",
    "    - 机器人应答逻辑 => Logic Adapters\n",
    "        - Closest Match Adapter\n",
    "            - 字符串模糊匹配（编辑距离）    置信度confidence，用threshold阈值大小判断是否回答。\n",
    "        - Closest Meaning Adapter\n",
    "            - 借助nltk的WordNet，近义词评估\n",
    "        - Time Logic Adapter\n",
    "            - 处理涉及时间的提问\n",
    "        - Mathematical Evaluation Adapter\n",
    "            - 涉及数学运算"
   ]
  },
  {
   "cell_type": "markdown",
   "metadata": {},
   "source": [
    "这里应答逻辑需要区分不同的场景，就可以用朴素贝叶斯。   \n",
    "比如：问题里面有加减乘除等数学相关符号或术语，则调用Mathematical Evalution Adapter。\n",
    "\n"
   ]
  },
  {
   "cell_type": "markdown",
   "metadata": {},
   "source": [
    "- 存储器后端 => Storage Adapters\n",
    "    - Read Only Mode\n",
    "        - 只读模式，当有输入数据到chatterbot的时候，数据库并不会发生改变。\n",
    "    - Json Database Adapter\n",
    "        - 用于存储对话数据的接口，对话对数以Json格式进行存储\n",
    "    - Mongo Database Adapter\n",
    "        - 以MongoDB database方式来存储对话数据"
   ]
  },
  {
   "cell_type": "markdown",
   "metadata": {},
   "source": [
    "存储器后端，其实就是知识库的设计。  \n",
    "\n",
    "如Siri，微软小冰这些机器人，根据用户的提问再学习。\n",
    "上面的Read Only Mode模式，是不存储用户的问题到知识库。\n",
    "\n",
    "Json的载入耗时，生产环境下千万不能用Json。\n",
    "\n",
    "Key-Value这种数据，可以存在redis, memcache这种缓存数据库中。\n",
    "\n"
   ]
  },
  {
   "cell_type": "markdown",
   "metadata": {},
   "source": [
    "- 输入形式 => Input Adapters\n",
    "    - Variable innput type adapter\n",
    "        - 允许chatter bot 接收不同类型的输入的，如：strings, dictionaries和Statements\n",
    "    - Terminal adapter\n",
    "        - 使得ChatterBot可以通过终端进行对话\n",
    "    - HipChat Adapter（微信、QQ等社交媒体软件的入口）\n",
    "        - 使得ChatterBot可以从HipChat聊天室获取输入语句，通过HipChat和ChatterBot进行对话\n",
    "    - Speech recognition\n",
    "        - 语音识别输入，详见chatterbot-voice库"
   ]
  },
  {
   "cell_type": "markdown",
   "metadata": {},
   "source": [
    "chatterbot-voice里面是完成了一套语音识别的框架，GitHub：https://github.com/gunthercox/chatterbot-voice\n",
    "\n",
    "可以接入到chatterbot里面。\n",
    "\n",
    "在输出里面，可以通过TTS生成语音回复。"
   ]
  },
  {
   "cell_type": "markdown",
   "metadata": {},
   "source": [
    "- 输出形式 => Output Adapters\n",
    "    - Output format adapter \n",
    "        - 支持text, json和object格式的输出\n",
    "    - Terminal adapter\n",
    "    - HipChat Adapter\n",
    "    - Mailgun adapter\n",
    "        - 允许chat bot基于Mailgun API进行邮件的发送\n",
    "    - Speech synthesis\n",
    "        - TTS(Text to speech) 部分，详见<a href='https://github.com/gunthercox/chatterbot-voice'>chatterbot-voice</a>"
   ]
  },
  {
   "cell_type": "markdown",
   "metadata": {},
   "source": [
    "<h4><a href='./chatterbot机器人简单调用示例.ipynb'>chatterbot机器人简单调用示例</a></h4>"
   ]
  },
  {
   "cell_type": "markdown",
   "metadata": {},
   "source": [
    "<h3><a name='chatter2'>3.2 源码分析</a></h3>"
   ]
  },
  {
   "cell_type": "markdown",
   "metadata": {},
   "source": [
    "<h4><a href=''>聊天机器人应答逻辑代码实现</a></h4>\n",
    "<h4><a href=''>聊天机器人存储适配器代码实现</a></h4>\n",
    "<h4><a href=''>聊天机器人输入适配器代码实现</a></h4>"
   ]
  },
  {
   "cell_type": "code",
   "execution_count": null,
   "metadata": {},
   "outputs": [],
   "source": []
  }
 ],
 "metadata": {
  "kernelspec": {
   "display_name": "Python 3",
   "language": "python",
   "name": "python3"
  },
  "language_info": {
   "codemirror_mode": {
    "name": "ipython",
    "version": 3
   },
   "file_extension": ".py",
   "mimetype": "text/x-python",
   "name": "python",
   "nbconvert_exporter": "python",
   "pygments_lexer": "ipython3",
   "version": "3.6.5"
  }
 },
 "nbformat": 4,
 "nbformat_minor": 2
}
