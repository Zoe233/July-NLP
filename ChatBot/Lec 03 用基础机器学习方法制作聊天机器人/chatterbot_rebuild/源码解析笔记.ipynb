{
 "cells": [
  {
   "cell_type": "markdown",
   "metadata": {},
   "source": [
    "# chatterbot源码解析"
   ]
  },
  {
   "cell_type": "markdown",
   "metadata": {},
   "source": [
    "## 第一步：目录结构"
   ]
  },
  {
   "cell_type": "markdown",
   "metadata": {},
   "source": [
    "### 文件夹\n",
    "- chatterbot 主程序\n",
    "    - ext\n",
    "    - input\n",
    "    - output\n",
    "    - storage\n",
    "    \n",
    "    - \\__init__.py\n",
    "    - \\__main__.py\n",
    "    - adapters.py\n",
    "    - chatterbot.py\n",
    "    - comparisons.py\n",
    "    - constants.py\n",
    "    - conversation.py\n",
    "    - corpus.py\n",
    "    - filters.py\n",
    "    - parsing.py\n",
    "    - preprocessors.py\n",
    "    - response_selection.py\n",
    "    - trainers.py\n",
    "    - utils.py\n",
    "- docs 各类文档说明\n",
    "- examples 示例\n",
    "- graphics 图像\n",
    "- tests 测试\n",
    "- tests_django django测试\n",
    "\n",
    "### 文件\n",
    "- .codeclimate.yml\n",
    "- .gitignore\n",
    "- .travis.yml\n",
    "- LICENSE \n",
    "- READEME.md\n",
    "- requirements.txt\n",
    "- runtests.py\n",
    "- setup.cfg\n",
    "- setup.py\n",
    "- tox.ini"
   ]
  },
  {
   "cell_type": "markdown",
   "metadata": {},
   "source": [
    "下面开始主要拆解主目录的结构和内容。"
   ]
  },
  {
   "cell_type": "markdown",
   "metadata": {},
   "source": [
    "### 1. \\__init__.py文件的解码"
   ]
  },
  {
   "cell_type": "code",
   "execution_count": null,
   "metadata": {},
   "outputs": [],
   "source": [
    "\"\"\"\n",
    "ChatterBot is a machine learning, conversational dialog engine.\n",
    "\"\"\"\n",
    "\n",
    "from .chatterbot import ChatBot  # 引入主程序\n",
    "\n",
    "__version__ = '0.8.7' # 版本号\n",
    "__author__ = 'Gunther Cox ' # 作者\n",
    "__email__ = 'gunthercx@gmail.com' # 邮件地址\n",
    "__url__ = 'https://github.com/gunthercox/ChatterBot' # url\n",
    "\n",
    "__all__ = ('ChatBot',)"
   ]
  },
  {
   "cell_type": "markdown",
   "metadata": {},
   "source": [
    "一般来说新建的一个包下，必然会有一个\\__init__文件？那么这个文件到底邮有和作用呢?\n",
    "\n",
    "总结几点如下： \n",
    "\n",
    "  1.\\__init__文件在包下，其中定义了包的属性，方法；必须要有这个文件，如果没有的话，这个包就只是一个目录（不信你删除试试）;\n",
    "\n",
    "  2.其内容可以为空，但是必须存在，当你引包中的模块是，实际上引的是\\__init__文件；\n",
    "\n",
    "  3.\\__init__.py 控制着包的导入行为。假如 __init__.py 为空，那么仅仅导入包是什么都做不了的。\n",
    "\n",
    "  4.\\__init__.py 中有个\\__all__的属性，可以在其中加入模块名，然后在导入，相当于from pacakage import *\n",
    " "
   ]
  },
  {
   "cell_type": "code",
   "execution_count": 9,
   "metadata": {},
   "outputs": [],
   "source": [
    "# 导入真实的chatterbot模块内容\n",
    "from chatterbot import ChatBot\n",
    "from chatterbot import *"
   ]
  },
  {
   "cell_type": "code",
   "execution_count": 10,
   "metadata": {},
   "outputs": [
    {
     "ename": "ModuleNotFoundError",
     "evalue": "No module named 'chatterbot_r.chatterbot'",
     "output_type": "error",
     "traceback": [
      "\u001b[0;31m---------------------------------------------------------------------------\u001b[0m",
      "\u001b[0;31mModuleNotFoundError\u001b[0m                       Traceback (most recent call last)",
      "\u001b[0;32m<ipython-input-10-0c75e5652427>\u001b[0m in \u001b[0;36m<module>\u001b[0;34m()\u001b[0m\n\u001b[1;32m      1\u001b[0m \u001b[0;31m# 导入rebuild的模块信息\u001b[0m\u001b[0;34m\u001b[0m\u001b[0;34m\u001b[0m\u001b[0m\n\u001b[0;32m----> 2\u001b[0;31m \u001b[0;32mfrom\u001b[0m \u001b[0mchatterbot_r\u001b[0m \u001b[0;32mimport\u001b[0m \u001b[0;34m*\u001b[0m\u001b[0;34m\u001b[0m\u001b[0m\n\u001b[0m",
      "\u001b[0;32m~/Documents/GitHub/July-NLP/ChatBot/Lec 03 用基础机器学习方法制作聊天机器人/chatterbot_rebuild/chatterbot_r/__init__.py\u001b[0m in \u001b[0;36m<module>\u001b[0;34m()\u001b[0m\n\u001b[1;32m      3\u001b[0m \"\"\"\n\u001b[1;32m      4\u001b[0m \u001b[0;34m\u001b[0m\u001b[0m\n\u001b[0;32m----> 5\u001b[0;31m \u001b[0;32mfrom\u001b[0m \u001b[0;34m.\u001b[0m\u001b[0mchatterbot\u001b[0m \u001b[0;32mimport\u001b[0m \u001b[0mChatterBot\u001b[0m\u001b[0;34m\u001b[0m\u001b[0m\n\u001b[0m\u001b[1;32m      6\u001b[0m \u001b[0;34m\u001b[0m\u001b[0m\n\u001b[1;32m      7\u001b[0m \u001b[0m__version__\u001b[0m \u001b[0;34m=\u001b[0m \u001b[0;34m'0.8.7'\u001b[0m\u001b[0;34m\u001b[0m\u001b[0m\n",
      "\u001b[0;31mModuleNotFoundError\u001b[0m: No module named 'chatterbot_r.chatterbot'"
     ]
    }
   ],
   "source": [
    "# 导入rebuild的模块信息\n",
    "from chatterbot_r import *"
   ]
  },
  {
   "cell_type": "markdown",
   "metadata": {},
   "source": [
    "由于chatterbot_r.chatterbot文件不存在，所以转向chatterbot文件的源码解析，并且存储的名称后面加上'_r'。"
   ]
  },
  {
   "cell_type": "markdown",
   "metadata": {},
   "source": [
    "### 2.chatterbot.chatterbot.py文件解析"
   ]
  },
  {
   "cell_type": "markdown",
   "metadata": {},
   "source": [
    "chatterbot.chatterbot.ChatBot类\n",
    "\n",
    "ChatBot类初始化时，需要生成指定的（默认的）的Storage, Input, Output Adapter类，用于指定不同的服务。\n",
    "\n",
    "MultiLogicAdapter用于调整\n",
    "\n",
    "utils.validate_adapter_class用于检测验证Adapter类的有效性\n",
    "\n",
    "filters\n",
    "\n",
    "preprocessors 预处理\n",
    "\n",
    "trainer 训练\n",
    "\n",
    "logger\n",
    "\n",
    "read_only 是否只读模式，如果不是，则接受用户的query，存储，再学习。\n",
    "\n"
   ]
  },
  {
   "cell_type": "markdown",
   "metadata": {},
   "source": [
    "chatterbot.chatterbot.ChatBot类的方法\n",
    "- initialze()\n",
    "- get_response(input_item, conversation_id=None) 根据输入，返回输出\n",
    "- generate_response(input_statement, conversation_id)\n",
    "- set_trainer(training_class, **kwargs)\n",
    "- tain()"
   ]
  },
  {
   "cell_type": "markdown",
   "metadata": {},
   "source": [
    "### 3. 解析storage adapter的源码"
   ]
  },
  {
   "cell_type": "markdown",
   "metadata": {},
   "source": [
    "\\__init__.py文件"
   ]
  },
  {
   "cell_type": "code",
   "execution_count": null,
   "metadata": {},
   "outputs": [],
   "source": [
    "from .storage_adapter import StorageAdapter\n",
    "from .django_storage import DjangoStorageAdapter\n",
    "from .mongodb import MongoDatabaseAdapter\n",
    "from .sql_storage import SQLStorageAdapter\n",
    "\n",
    "\n",
    "__all__ = (\n",
    "    'StorageAdapter',\n",
    "    'DjangoStorageAdapter',\n",
    "    'MongoDatabaseAdapter',\n",
    "    'SQLStorageAdapter',\n",
    ")"
   ]
  },
  {
   "cell_type": "code",
   "execution_count": null,
   "metadata": {},
   "outputs": [],
   "source": [
    "chatterbot.chatterbot.storage目录下，主要有四个文件，每个文件一个类\n",
    "\n",
    "chatterbot.chatterbot.storage.storage_adapter.StorageAdapter\n",
    "chatterbot.chatterbot"
   ]
  }
 ],
 "metadata": {
  "kernelspec": {
   "display_name": "Python 3",
   "language": "python",
   "name": "python3"
  },
  "language_info": {
   "codemirror_mode": {
    "name": "ipython",
    "version": 3
   },
   "file_extension": ".py",
   "mimetype": "text/x-python",
   "name": "python",
   "nbconvert_exporter": "python",
   "pygments_lexer": "ipython3",
   "version": "3.6.5"
  }
 },
 "nbformat": 4,
 "nbformat_minor": 2
}
