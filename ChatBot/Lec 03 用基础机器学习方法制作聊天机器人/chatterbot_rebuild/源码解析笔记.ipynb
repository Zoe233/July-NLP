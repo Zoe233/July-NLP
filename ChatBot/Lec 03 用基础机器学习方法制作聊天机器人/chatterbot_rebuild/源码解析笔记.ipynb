{
 "cells": [
  {
   "cell_type": "markdown",
   "metadata": {},
   "source": [
    "# chatterbot源码解析"
   ]
  },
  {
   "cell_type": "markdown",
   "metadata": {},
   "source": [
    "## 第一步：目录结构"
   ]
  },
  {
   "cell_type": "markdown",
   "metadata": {},
   "source": [
    "### 文件夹\n",
    "- chatterbot 主程序\n",
    "    - ext\n",
    "    - input\n",
    "    - output\n",
    "    - storage\n",
    "    \n",
    "    - \\__init__.py\n",
    "    - \\__main__.py\n",
    "    - adapters.py\n",
    "    - chatterbot.py\n",
    "    - comparisons.py\n",
    "    - constants.py\n",
    "    - conversation.py\n",
    "    - corpus.py\n",
    "    - filters.py\n",
    "    - parsing.py\n",
    "    - preprocessors.py\n",
    "    - response_selection.py\n",
    "    - trainers.py\n",
    "    - utils.py\n",
    "- docs 各类文档说明\n",
    "- examples 示例\n",
    "- graphics 图像\n",
    "- tests 测试\n",
    "- tests_django django测试\n",
    "\n",
    "### 文件\n",
    "- .codeclimate.yml\n",
    "- .gitignore\n",
    "- .travis.yml\n",
    "- LICENSE \n",
    "- READEME.md\n",
    "- requirements.txt\n",
    "- runtests.py\n",
    "- setup.cfg\n",
    "- setup.py\n",
    "- tox.ini"
   ]
  },
  {
   "cell_type": "markdown",
   "metadata": {},
   "source": [
    "下面开始主要拆解主目录的结构和内容。"
   ]
  },
  {
   "cell_type": "code",
   "execution_count": null,
   "metadata": {},
   "outputs": [],
   "source": []
  }
 ],
 "metadata": {
  "kernelspec": {
   "display_name": "Python 3",
   "language": "python",
   "name": "python3"
  },
  "language_info": {
   "codemirror_mode": {
    "name": "ipython",
    "version": 3
   },
   "file_extension": ".py",
   "mimetype": "text/x-python",
   "name": "python",
   "nbconvert_exporter": "python",
   "pygments_lexer": "ipython3",
   "version": "3.6.5"
  }
 },
 "nbformat": 4,
 "nbformat_minor": 2
}
