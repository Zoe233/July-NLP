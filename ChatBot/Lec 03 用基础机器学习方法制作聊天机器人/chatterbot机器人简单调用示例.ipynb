{
 "cells": [
  {
   "cell_type": "markdown",
   "metadata": {},
   "source": [
    "# chatterbot聊天机器人\n",
    "简单实用方法介绍。\n",
    "\n",
    "官方文档：https://chatterbot.readthedocs.io/en/stable/"
   ]
  },
  {
   "cell_type": "markdown",
   "metadata": {},
   "source": [
    "chatterbot是一款python接口的，基于一系列规则和机器学习算法完成的聊天机器人。\n",
    "\n",
    "具有结构清晰，可扩展性好，简单实用的特点。"
   ]
  },
  {
   "cell_type": "markdown",
   "metadata": {},
   "source": [
    "ChatterBot是Python中构建的基于机器学习的对话对话引擎，它使基于已知会话集合生成响应成为可能。聊天机器人的语言独立设计允许它被训练说任何语言。"
   ]
  },
  {
   "cell_type": "markdown",
   "metadata": {},
   "source": [
    "一个未经训练的聊天机器人实例chatbot开始时不知道如何沟通。每次用户输入语句时，库都会保存他们输入的文本和语句响应的文本。当聊天机器人接收到更多的输入时，它能够回答的响应数量和每个响应相对于输入语句的准确性都会增加。程序通过搜索与输入匹配的最接近的匹配已知语句来选择最接近的匹配响应，然后根据机器人与之通信的人发出每个响应的频率，返回该语句最可能的响应。"
   ]
  },
  {
   "cell_type": "markdown",
   "metadata": {},
   "source": [
    "## Basic Usage:"
   ]
  },
  {
   "cell_type": "code",
   "execution_count": 9,
   "metadata": {},
   "outputs": [
    {
     "name": "stdout",
     "output_type": "stream",
     "text": [
      "ai.yml Training: [####################] 100%\n",
      "botprofile.yml Training: [####################] 100%\n",
      "computers.yml Training: [####################] 100%\n",
      "conversations.yml Training: [####################] 100%\n",
      "emotion.yml Training: [####################] 100%\n",
      "food.yml Training: [####################] 100%\n",
      "gossip.yml Training: [####################] 100%\n",
      "greetings.yml Training: [####################] 100%\n",
      "history.yml Training: [####################] 100%\n",
      "humor.yml Training: [####################] 100%\n",
      "literature.yml Training: [####################] 100%\n",
      "money.yml Training: [####################] 100%\n",
      "movies.yml Training: [####################] 100%\n",
      "politics.yml Training: [####################] 100%\n",
      "psychology.yml Training: [####################] 100%\n",
      "science.yml Training: [####################] 100%\n",
      "sports.yml Training: [####################] 100%\n",
      "trivia.yml Training: [####################] 100%\n"
     ]
    },
    {
     "data": {
      "text/plain": [
       "<Statement text:I am doing well.>"
      ]
     },
     "execution_count": 9,
     "metadata": {},
     "output_type": "execute_result"
    }
   ],
   "source": [
    "from chatterbot import ChatBot\n",
    "\n",
    "chatbot = ChatBot('Ron Obvious',\n",
    "                 trainer='chatterbot.trainers.ChatterBotCorpusTrainer')\n",
    "\n",
    "# Train based on the english corpus\n",
    "chatbot.train('chatterbot.corpus.english')\n",
    "\n",
    "# Get a response to an input statement\n",
    "chatbot.get_response('Hello, how are you today?')"
   ]
  },
  {
   "cell_type": "markdown",
   "metadata": {},
   "source": [
    "## 安装：\n",
    "> pip install chatterbot"
   ]
  },
  {
   "cell_type": "markdown",
   "metadata": {},
   "source": [
    "## Training:"
   ]
  },
  {
   "cell_type": "markdown",
   "metadata": {},
   "source": [
    "ChatterBot附带了一个数据实用程序模块，可以用来训练聊天机器人。本模块目前有英语、西班牙语和葡萄牙语三种语言的培训数据。非常感谢提供其他语文的额外培训数据或培训数据。如果您对贡献感兴趣，请查看chatterbot-corpus包中的数据文件。"
   ]
  },
  {
   "cell_type": "code",
   "execution_count": 10,
   "metadata": {},
   "outputs": [
    {
     "name": "stdout",
     "output_type": "stream",
     "text": [
      "ai.yml Training: [####################] 100%\n",
      "botprofile.yml Training: [####################] 100%\n",
      "computers.yml Training: [####################] 100%\n",
      "conversations.yml Training: [####################] 100%\n",
      "emotion.yml Training: [####################] 100%\n",
      "food.yml Training: [####################] 100%\n",
      "gossip.yml Training: [####################] 100%\n",
      "greetings.yml Training: [####################] 100%\n",
      "history.yml Training: [####################] 100%\n",
      "humor.yml Training: [####################] 100%\n",
      "literature.yml Training: [####################] 100%\n",
      "money.yml Training: [####################] 100%\n",
      "movies.yml Training: [####################] 100%\n",
      "politics.yml Training: [####################] 100%\n",
      "psychology.yml Training: [####################] 100%\n",
      "science.yml Training: [####################] 100%\n",
      "sports.yml Training: [####################] 100%\n",
      "trivia.yml Training: [####################] 100%\n",
      "greetings.yml Training: [####################] 100%\n",
      "conversations.yml Training: [####################] 100%\n"
     ]
    }
   ],
   "source": [
    "# Trainn based on the english corpus\n",
    "chatbot.train('chatterbot.corpus.english')\n",
    "\n",
    "# Train based on english greetings corpus\n",
    "chatbot.train('chatterbot.corpus.english.greetings')\n",
    "\n",
    "# Train based on the english conversations corpus\n",
    "chatbot.train('chatterbot.corpus.english.conversations')"
   ]
  },
  {
   "cell_type": "markdown",
   "metadata": {},
   "source": [
    "## Examples:"
   ]
  },
  {
   "cell_type": "markdown",
   "metadata": {},
   "source": [
    "For examples, see the <a href='https://github.com/gunthercox/ChatterBot/tree/master/examples'>examples</a> directory in this project's git repository.\n",
    "\n",
    "There is also an example Django project using ChatterBot, as well as an example Flask project using ChatterBot."
   ]
  },
  {
   "cell_type": "markdown",
   "metadata": {},
   "source": [
    "## 各式各样的Adapter:\n",
    "大家已经知道chatterbot的聊天逻辑和输入输出以及存储，是由各种adapter来限定的，我们先看看流程图，一会再一起看点例子，看看怎么用。\n"
   ]
  },
  {
   "cell_type": "markdown",
   "metadata": {},
   "source": [
    "<img src='./images/workflow.png' width='70%'/>\n"
   ]
  },
  {
   "cell_type": "markdown",
   "metadata": {},
   "source": [
    "### 创建一个新的聊天机器人:"
   ]
  },
  {
   "cell_type": "code",
   "execution_count": 11,
   "metadata": {},
   "outputs": [],
   "source": [
    "# -*- coding:utf-8 -*-\n",
    "from chatterbot import ChatBot\n",
    "\n",
    "chatbot = ChatBot('Ron Obvious')"
   ]
  },
  {
   "cell_type": "markdown",
   "metadata": {},
   "source": [
    "ChatBot唯一必需的参数是名称。这可以是你想要的任何东西。"
   ]
  },
  {
   "cell_type": "markdown",
   "metadata": {},
   "source": [
    "### 训练你的聊天机器人:\n",
    "在创建新的ChatterBot实例后，还可以训练机器人。\n",
    "\n",
    "train是确保机器人从具体响应知识开始的好方法。当前的训练方法采用代表对话的语句列表。有关培训的其他说明可在培训文档中找到。"
   ]
  },
  {
   "cell_type": "code",
   "execution_count": 12,
   "metadata": {},
   "outputs": [
    {
     "name": "stdout",
     "output_type": "stream",
     "text": [
      "List Trainer: [####################] 100%\n"
     ]
    }
   ],
   "source": [
    "from chatterbot.trainers import ListTrainer\n",
    "\n",
    "conversation = [\n",
    "    'Hello',\n",
    "    'Hi there!',\n",
    "    'How are you doing?',\n",
    "    'I\\'m doing great.',\n",
    "    'That is good to hear.',\n",
    "    'Thank you.',\n",
    "    'You\\'re welcome.'\n",
    "]\n",
    "\n",
    "chatbot.set_trainer(ListTrainer)\n",
    "chatbot.train(conversation)"
   ]
  },
  {
   "cell_type": "markdown",
   "metadata": {},
   "source": [
    "### 得到回应："
   ]
  },
  {
   "cell_type": "code",
   "execution_count": 13,
   "metadata": {},
   "outputs": [
    {
     "name": "stdout",
     "output_type": "stream",
     "text": [
      "I am doing well, how about you?\n"
     ]
    }
   ],
   "source": [
    "response = chatbot.get_response('Good morning!')\n",
    "print(response)"
   ]
  },
  {
   "cell_type": "code",
   "execution_count": null,
   "metadata": {},
   "outputs": [],
   "source": []
  }
 ],
 "metadata": {
  "kernelspec": {
   "display_name": "Python 3",
   "language": "python",
   "name": "python3"
  }
 },
 "nbformat": 4,
 "nbformat_minor": 2
}
