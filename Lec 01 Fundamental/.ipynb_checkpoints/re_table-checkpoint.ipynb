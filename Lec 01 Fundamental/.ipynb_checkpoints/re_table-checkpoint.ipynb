{
 "cells": [
  {
   "cell_type": "markdown",
   "metadata": {},
   "source": [
    "# 正则表达式对照表及练习"
   ]
  },
  {
   "cell_type": "markdown",
   "metadata": {},
   "source": [
    "正则比倒是就是用一个“字符串”来描述一个特征，然后去验证另一个“字符串”是否符合这个特征。\n",
    "\n",
    "比如：   \n",
    "表达式\"ab+\"：描述的特征就是“一个‘a’和任意个‘b’”，那么，'ab','abb','abbbb'都符合这个特征。"
   ]
  },
  {
   "cell_type": "code",
   "execution_count": 6,
   "metadata": {},
   "outputs": [
    {
     "name": "stdout",
     "output_type": "stream",
     "text": [
      "<_sre.SRE_Match object; span=(0, 6), match='abbbbb'>\n",
      "<_sre.SRE_Match object; span=(0, 3), match='abb'>\n",
      "cd\n"
     ]
    }
   ],
   "source": [
    "import re\n",
    "pattern1 = re.compile(r'ab+')\n",
    "print(pattern1.search('abbbbb'))\n",
    "print(pattern1.match('abb'))\n",
    "print(pattern1.sub('','abbbcd'))"
   ]
  },
  {
   "cell_type": "markdown",
   "metadata": {},
   "source": [
    "正则表达式可以用来：\n",
    "- 验证字符串是否符合指定特征，比如：验证是否是合法的邮件地址\n",
    "- 用来查找字符串，从一个长的文本中查找符合指定特征的字符串，比如查找固定字符串更加灵活方便。\n",
    "- 用来替换，比普通的替换更强大。"
   ]
  },
  {
   "cell_type": "markdown",
   "metadata": {},
   "source": [
    "正则表达式学习起来其实很简单的，不多的几个较为抽象的概念也很容易理解。\n",
    "\n",
    "之所以很多人感觉正则表达式比较复杂，\n",
    "- 一方面是因为大多数的文档没有做到由浅入深地讲解，概念上没有注意先后顺序，给读者的理解带来困难；\n",
    "- 另一方，各种引擎自带的文档一般都要介绍它特有的功能，然后这部分特有的功能并不是我们首先要理解的。\n"
   ]
  },
  {
   "cell_type": "markdown",
   "metadata": {},
   "source": [
    "## 1.正则表达式规则"
   ]
  },
  {
   "cell_type": "markdown",
   "metadata": {},
   "source": [
    "### 1.1 普通字符\n",
    "字母、数字、汉字、下划线、以及后面章节中没有特殊定义的标点符号，都是“普通字符”。\n",
    "\n",
    "表达式中的普通字符，在匹配一个字符串的时候，匹配与之相同的一个字符。"
   ]
  },
  {
   "cell_type": "markdown",
   "metadata": {},
   "source": [
    "#### 例1：\n",
    "表达式“c”，在匹配字符串“abcde”时，   \n",
    "匹配结果是：成功；  \n",
    "匹配到的内容是：\"c\"；     \n",
    "匹配到的位置时：开始于2，结束于2。（注：下标从0开始还是从1开始，因当前编程语言的不同而可能不同）"
   ]
  },
  {
   "cell_type": "code",
   "execution_count": 14,
   "metadata": {},
   "outputs": [
    {
     "name": "stdout",
     "output_type": "stream",
     "text": [
      "<_sre.SRE_Match object; span=(8, 9), match='c'>\n",
      "None\n",
      "gaojgag++++\n"
     ]
    }
   ],
   "source": [
    "import re \n",
    "pattern2 = re.compile(r'c')\n",
    "print(pattern2.search('aigjiangc'))\n",
    "print(pattern2.match('agjaigac'))\n",
    "print(pattern2.sub('++++','gaojgagc'))"
   ]
  },
  {
   "cell_type": "markdown",
   "metadata": {},
   "source": [
    "#### 例2：\n",
    "表达式 \"bcd\"，在匹配字符串 \"abcde\" 时，    \n",
    "匹配结果是：成功；    \n",
    "匹配到的内容是：\"bcd\"；   \n",
    "匹配到的位置是：开始于1，结束于4  "
   ]
  },
  {
   "cell_type": "code",
   "execution_count": 15,
   "metadata": {},
   "outputs": [
    {
     "name": "stdout",
     "output_type": "stream",
     "text": [
      "<_sre.SRE_Match object; span=(1, 4), match='bcd'>\n",
      "None\n",
      "a_+++e\n"
     ]
    }
   ],
   "source": [
    "import re\n",
    "pattern3 = re.compile(r'bcd')\n",
    "print(pattern3.search('abcde'))\n",
    "print(pattern3.match('abcde'))\n",
    "print(pattern3.sub('_+++','abcde'))"
   ]
  },
  {
   "cell_type": "code",
   "execution_count": 19,
   "metadata": {},
   "outputs": [
    {
     "data": {
      "text/plain": [
       "'\\n\\n\\t;aaijgangaingiagia中文\\n'"
      ]
     },
     "execution_count": 19,
     "metadata": {},
     "output_type": "execute_result"
    }
   ],
   "source": [
    "pattern4 = re.compile(r'\\\\t')\n",
    "pattern4.sub('...','\\n\\n\\t;aaijgangaingiagia中文\\n')"
   ]
  },
  {
   "cell_type": "code",
   "execution_count": null,
   "metadata": {},
   "outputs": [],
   "source": []
  }
 ],
 "metadata": {
  "kernelspec": {
   "display_name": "Python 3",
   "language": "python",
   "name": "python3"
  },
  "language_info": {
   "codemirror_mode": {
    "name": "ipython",
    "version": 3
   },
   "file_extension": ".py",
   "mimetype": "text/x-python",
   "name": "python",
   "nbconvert_exporter": "python",
   "pygments_lexer": "ipython3",
   "version": "3.6.5"
  }
 },
 "nbformat": 4,
 "nbformat_minor": 2
}
