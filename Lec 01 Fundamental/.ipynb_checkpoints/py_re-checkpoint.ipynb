{
 "cells": [
  {
   "cell_type": "markdown",
   "metadata": {},
   "source": [
    "# Python 正则表达式"
   ]
  },
  {
   "cell_type": "markdown",
   "metadata": {},
   "source": [
    "正则表达式时**处理字符串**的强大工具，拥有独特的语法和独立的处理引擎。 \n",
    "\n",
    "我们在大文本中匹配字符串时，有些情况用str自带的函数（比如find，in）可能可以完成，有些情况稍稍复杂一些（比如说找出所有“像邮箱”的字符串，电话号码等），这个时候我们需要一个某种模式的工具，这个时候**正则表达式**就派上用场了。"
   ]
  },
  {
   "cell_type": "markdown",
   "metadata": {},
   "source": [
    "效率上：  \n",
    "- 正则表达式可能比不上str自带的方法\n",
    "\n",
    "功能上：\n",
    "- 但功能上，正则表达式比自带的str，实在强大太多。"
   ]
  },
  {
   "cell_type": "markdown",
   "metadata": {},
   "source": [
    "## 1. 语法"
   ]
  },
  {
   "cell_type": "markdown",
   "metadata": {},
   "source": [
    "当要匹配**一个/多个/任意个  数字/字母/非数字/非字母/某几个字符/任意字符**，想要**贪婪/非贪婪** 匹配，想要捕获匹配出来的**第一个/所有**内容能够的时候。\n",
    "可以参看下面的手册。"
   ]
  },
  {
   "cell_type": "markdown",
   "metadata": {},
   "source": [
    "<img src='./images/re_notes.jpg'/>"
   ]
  },
  {
   "cell_type": "markdown",
   "metadata": {},
   "source": [
    "## 2.验证工具\n",
    "推荐正则表达式在线验证工具：http://regexr.com/"
   ]
  },
  {
   "cell_type": "markdown",
   "metadata": {},
   "source": [
    "## 3.挑战与提升\n",
    "<a href=\"https://alf.nu/RegexGolf\">正则表达式进阶练习</a>"
   ]
  },
  {
   "cell_type": "markdown",
   "metadata": {},
   "source": [
    "<a href='http://jimliu.net/2014/01/04/regex-golf/'>参考答案</a>"
   ]
  },
  {
   "cell_type": "markdown",
   "metadata": {},
   "source": [
    "## 4.Python案例"
   ]
  },
  {
   "cell_type": "markdown",
   "metadata": {},
   "source": [
    "### re模块\n",
    "Python通过re模块提供对正则表达式的支持。  \n",
    "\n",
    "使用re的一般步骤是：\n",
    "1. 将正则表达式的字符串形式编译为Pattern实例\n",
    "2. 使用Pattern实例处理文本并获得匹配结果（一个Match实例）\n",
    "3. 使用Match实例获得信息，进行其他的操作。"
   ]
  },
  {
   "cell_type": "markdown",
   "metadata": {},
   "source": []
  },
  {
   "cell_type": "markdown",
   "metadata": {},
   "source": []
  },
  {
   "cell_type": "markdown",
   "metadata": {},
   "source": []
  }
 ],
 "metadata": {
  "kernelspec": {
   "display_name": "Python 3",
   "language": "python",
   "name": "python3"
  },
  "language_info": {
   "codemirror_mode": {
    "name": "ipython",
    "version": 3
   },
   "file_extension": ".py",
   "mimetype": "text/x-python",
   "name": "python",
   "nbconvert_exporter": "python",
   "pygments_lexer": "ipython3",
   "version": "3.6.5"
  }
 },
 "nbformat": 4,
 "nbformat_minor": 2
}
