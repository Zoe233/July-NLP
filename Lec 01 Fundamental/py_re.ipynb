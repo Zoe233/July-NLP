{
 "cells": [
  {
   "cell_type": "markdown",
   "metadata": {},
   "source": [
    "# Python 正则表达式"
   ]
  },
  {
   "cell_type": "markdown",
   "metadata": {},
   "source": [
    "正则表达式时**处理字符串**的强大工具，拥有独特的语法和独立的处理引擎。 \n",
    "\n",
    "我们在大文本中匹配字符串时，有些情况用str自带的函数（比如find，in）可能可以完成，有些情况稍稍复杂一些（比如说找出所有“像邮箱”的字符串，电话号码等），这个时候我们需要一个某种模式的工具，这个时候**正则表达式**就派上用场了。"
   ]
  },
  {
   "cell_type": "markdown",
   "metadata": {},
   "source": [
    "效率上：  \n",
    "- 正则表达式可能比不上str自带的方法\n",
    "\n",
    "功能上：\n",
    "- 但功能上，正则表达式比自带的str，实在强大太多。"
   ]
  },
  {
   "cell_type": "markdown",
   "metadata": {},
   "source": [
    "## 1. 语法"
   ]
  },
  {
   "cell_type": "markdown",
   "metadata": {},
   "source": [
    "当要匹配**一个/多个/任意个  数字/字母/非数字/非字母/某几个字符/任意字符**，想要**贪婪/非贪婪** 匹配，想要捕获匹配出来的**第一个/所有**内容能够的时候。\n",
    "可以参看下面的手册。"
   ]
  },
  {
   "cell_type": "markdown",
   "metadata": {},
   "source": [
    "<img src='./images/re_notes.jpg'/>"
   ]
  },
  {
   "cell_type": "markdown",
   "metadata": {},
   "source": [
    "## 2.验证工具\n",
    "推荐正则表达式在线验证工具：http://regexr.com/"
   ]
  },
  {
   "cell_type": "markdown",
   "metadata": {},
   "source": [
    "## 3.挑战与提升\n",
    "<a href=\"https://alf.nu/RegexGolf\">正则表达式进阶练习</a>"
   ]
  },
  {
   "cell_type": "markdown",
   "metadata": {},
   "source": [
    "<a href='http://jimliu.net/2014/01/04/regex-golf/'>参考答案</a>"
   ]
  },
  {
   "cell_type": "markdown",
   "metadata": {},
   "source": [
    "## 4.Python案例"
   ]
  },
  {
   "cell_type": "markdown",
   "metadata": {},
   "source": [
    "### re模块\n",
    "Python通过re模块提供对正则表达式的支持。  \n",
    "\n",
    "使用re的一般步骤是：\n",
    "1. 将正则表达式的字符串形式编译为Pattern实例\n",
    "2. 使用Pattern实例处理文本并获得匹配结果（一个Match实例）\n",
    "3. 使用Match实例获得信息，进行其他的操作。"
   ]
  },
  {
   "cell_type": "code",
   "execution_count": 1,
   "metadata": {},
   "outputs": [
    {
     "name": "stdout",
     "output_type": "stream",
     "text": [
      "hello, hanxiaoyang!\n"
     ]
    }
   ],
   "source": [
    "# encoding: UTF-8\n",
    "import re\n",
    "\n",
    "# 1. 将正则表达式编译成Pattern对象\n",
    "pattern = re.compile(r'hello.*\\!')\n",
    "\n",
    "# 2. 使用patter匹配文本，获得匹配结果，无法匹配时将返回None\n",
    "match = pattern.match('hello, hanxiaoyang! How are you?')\n",
    "\n",
    "if match:\n",
    "    print(match.group())"
   ]
  },
  {
   "cell_type": "markdown",
   "metadata": {},
   "source": [
    "### re.compile(strPattern[,flag]):\n",
    "这个方法是Pattern类的工厂方法，用于将字符串形式的正则表达式编译为Pattern对象。  \n",
    "\n",
    "第二个参数flag是匹配模式，取值可以使用按位或运算符'|'表示同时生效，比如re.I|re.M。 \n",
    "\n",
    "当然，你也可以在regex字符串中指定模式，比如：re.compile('pattern',re.I|re.M)等价于re.compile('(?im)pattern')。  \n",
    "\n",
    "flag可选值有：\n",
    "- re.I(re.IGNORECASE)：忽略大小写（括号内是完整写法）\n",
    "- re.M(MULTILINE)：多行模式，改变'^'和'$'的行为\n",
    "- re.S(DOTALL)：点任意匹配模式，改变'.'的行为\n",
    "- re.L(LOCALE)：使预定字符类 \\w \\W \\b \\B \\s \\S 取决于当前区域设定\n",
    "- re.U(UNICODE)：使预定字符类 \\w \\W \\b \\B \\s \\S \\d \\D 取决于unicode定义的字符属性\n",
    "- re.X(VERBOSE)：详细模式。 这个模式下正则表达式可以是多行，忽略空白字符，并可以加入注释。"
   ]
  },
  {
   "cell_type": "code",
   "execution_count": 2,
   "metadata": {},
   "outputs": [],
   "source": [
    "# 下面两个正则表达式是等价的。\n",
    "regex_1 = re.compile(r\"\"\"\\d+\n",
    "                                   \\. \n",
    "                                    \\d *\"\"\", re.X)\n",
    "regex_2 = re.compile(r'\\d+\\.\\d*')"
   ]
  },
  {
   "cell_type": "code",
   "execution_count": 5,
   "metadata": {},
   "outputs": [
    {
     "name": "stdout",
     "output_type": "stream",
     "text": [
      "12332.56\n",
      "12332.56\n"
     ]
    }
   ],
   "source": [
    "print(regex_1.match('12332.56!').group())\n",
    "print(regex_2.match('12332.56?').group())"
   ]
  },
  {
   "cell_type": "markdown",
   "metadata": {},
   "source": [
    "### Match\n",
    "Match对象是一次匹配的结果，包含了很多关于此次匹配的信息，可以使用Match提供的可读属性或方法来获取这些信息。  "
   ]
  },
  {
   "cell_type": "markdown",
   "metadata": {},
   "source": [
    "#### match属性：\n",
    "- string: 匹配时使用的文本\n",
    "- re: 匹配时使用的Pattern对象\n",
    "- pos: 文本中正则表达式开始搜索的索引。值与Pattern.match()和Pattern.search()方法的同名参数相同。\n",
    "- endpos: 文本中正则表达式结束搜索的索引。 值与Pattern.match()和Pattern.search()方法的同名参数相同。 \n",
    "- lastindex: 最后一个被捕获的分组在文本中的索引。如果没有被捕获的分组，将为None.\n",
    "- lastgroup: 最后一个被捕获的分组的别名。如果这个分组没有别名或者没有被捕获的分组，将为None。\n"
   ]
  },
  {
   "cell_type": "code",
   "execution_count": 9,
   "metadata": {},
   "outputs": [
    {
     "name": "stdout",
     "output_type": "stream",
     "text": [
      "match.string: hello zoe!\n",
      "match.re: re.compile('(\\\\w+) (\\\\w+)(?P<sign>.*)')\n",
      "match.pos: 0\n",
      "match.endpos: 10\n",
      "match.lastindex: 3\n",
      "match.lastgroup: sign\n"
     ]
    }
   ],
   "source": [
    "import re\n",
    "m = re.match(r'(\\w+) (\\w+)(?P<sign>.*)', 'hello zoe!')\n",
    "\n",
    "print('match.string:', m.string)\n",
    "print('match.re:', m.re)\n",
    "print('match.pos:', m.pos)\n",
    "print('match.endpos:', m.endpos)\n",
    "print('match.lastindex:', m.lastindex)\n",
    "print('match.lastgroup:', m.lastgroup)"
   ]
  },
  {
   "cell_type": "markdown",
   "metadata": {},
   "source": [
    "#### 方法：\n",
    "- group([group1,...]):\n",
    "    - 获得一个或多个分组截获的字符串；指定多个参数时将以元组形式返回。  \n",
    "    - group1可以使用编号也可以使用别名；编号0代表整个匹配的子串；不填写参数时，返回group(0)； 没有截获字符串的组返回None；截获了多次的组返回最后一次截获的子串。\n",
    "    \n",
    "- groups([default]): \n",
    "    - 以元组形式返回全部分组截获的字符串。相当于调用group(1,2,…last)。default表示没有截获字符串的组以这个值替代，默认为None。\n",
    "\n",
    "- groupdict([default]): \n",
    "    - 返回以有别名的组的别名为键、以该组截获的子串为值的字典，没有别名的组不包含在内。default含义同上。\n",
    "\n",
    "- start([group]): \n",
    "    - 返回指定的组截获的子串在string中的起始索引（子串第一个字符的索引）。group默认值为0。\n",
    "- end([group]): \n",
    "    - 返回指定的组截获的子串在string中的结束索引（子串最后一个字符的索引+1）。group默认值为0。\n",
    "- span([group]): \n",
    "    - 返回(start(group), end(group))。\n",
    "- expand(template): \n",
    "    - 将匹配到的分组代入template中然后返回。template中可以使用\\id或\\g、\\g引用分组，但不能使用编号0。\\id与\\g是等价的；但\\10将被认为是第10个分组，如果你想表达\\1之后是字符'0'，只能使用\\g<1>0。"
   ]
  },
  {
   "cell_type": "code",
   "execution_count": 27,
   "metadata": {},
   "outputs": [
    {
     "name": "stdout",
     "output_type": "stream",
     "text": [
      "match.group(1,2): ('hello', 'zoe')\n",
      "match.groups(): ('hello', 'zoe', '!')\n",
      "match.groupdict(): {'sign': '!'}\n",
      "match.start(2): 6\n",
      "match.end(2): 9\n",
      "match.span(2): (6, 9)\n",
      "match.expand(r'\\2 \\1\\3'): zoe hello!\n"
     ]
    }
   ],
   "source": [
    "import re\n",
    "m = re.match(r'(\\w+) (\\w+)(?P<sign>.*)', 'hello zoe!')\n",
    "\n",
    "print('match.group(1,2):', m.group(1,2))\n",
    "print('match.groups():', m.groups())\n",
    "print('match.groupdict():', m.groupdict())\n",
    "print('match.start(2):', m.start(2))\n",
    "print('match.end(2):', m.end(2))\n",
    "print('match.span(2):', m.span(2))\n",
    "print(r\"match.expand(r'\\2 \\1\\3'):\", m.expand(r'\\2 \\1\\3'))"
   ]
  },
  {
   "cell_type": "markdown",
   "metadata": {},
   "source": [
    "### Pattern\n",
    "Pattern对象是一个编译好的正则表达式，通过Pattern提供的一系列方法可以对文本进行匹配查找。 \n",
    "\n",
    "Pattern不能直接实例化，必须使用re.compile()进行构造。 \n",
    "\n",
    "Pattern提供了几个可读属性用于获取表达式的相关信息：\n",
    "- pattern: 编译时用的表达式字符串。\n",
    "- flags: 编译时用的匹配模式。数字形式。\n",
    "- groups: 表达式中分组的数量。 \n",
    "- groupindex: 以表达式中有别名的组的别名为键、以该组对应的编号为值的字典，没有别名的组不包含在内。"
   ]
  },
  {
   "cell_type": "code",
   "execution_count": 31,
   "metadata": {},
   "outputs": [
    {
     "name": "stdout",
     "output_type": "stream",
     "text": [
      "p.pattern: (\\w+) (\\w+)(?P<sign>.*)\n",
      "p.flags: 48\n",
      "p.groups: 3\n",
      "p.groupindex: {'sign': 3}\n"
     ]
    }
   ],
   "source": [
    "import re\n",
    "# re.S(DOTALL)：点任意匹配模式，改变'.'的行为\n",
    "p =  re.compile(r'(\\w+) (\\w+)(?P<sign>.*)', re.DOTALL)  \n",
    "\n",
    "print('p.pattern:', p.pattern)\n",
    "print('p.flags:', p.flags)\n",
    "print('p.groups:', p.groups)\n",
    "print('p.groupindex:', p.groupindex)"
   ]
  },
  {
   "cell_type": "markdown",
   "metadata": {},
   "source": [
    "#### 使用Pattern\n",
    "- match(string[,pos[,endpos]]) | re.match(pattern, string[,flags]):    \n",
    "这个方法将从string的pos下标处起尝试匹配pattern： \n",
    "    - 如果pattern结束时仍可匹配，则返回一个Match对象\n",
    "    - 如果匹配过程中pattern无法匹配，或者匹配未结束就已达到endpos，则返回None.\n",
    "    - pos和endpos的默认值分别为0和len(string)。 \n",
    "    \n",
    "    注意：这个方法并不是完全匹配。当pattern结束时若string还有剩余字符，仍然视为成功。想要完全匹配，可以在表达式末尾加上边界匹配符\\$。\n",
    "    \n",
    "    \n",
    "    \n",
    "- search(string[,pos[,endpos]]) | re.search(pattern, string[,flags]):    \n",
    "这个方法从string的pos下标处起尝试匹配pattern\n",
    "    - 如果pattern结束时仍可匹配，则返回一个Match对象\n",
    "    - 若无法匹配，则将pos加1后重新尝试匹配，直到pos=endpos时仍无法匹配则返回None。\n",
    "    - pos和endpos的默认值分别为0和len(string))"
   ]
  },
  {
   "cell_type": "code",
   "execution_count": 49,
   "metadata": {},
   "outputs": [
    {
     "name": "stdout",
     "output_type": "stream",
     "text": [
      "None\n",
      "Chinese!\n"
     ]
    }
   ],
   "source": [
    "import re\n",
    "\n",
    "pattern = re.compile(r'C.*!')\n",
    "\n",
    "# 使用search()查找匹配的子串，不存在能匹配的子串时将返回None\n",
    "# 这个例子中使用match()无法成功匹配\n",
    "m = pattern.match('We are Chinese!')\n",
    "print(m)\n",
    "\n",
    "s = pattern.search('We are Chinese!')\n",
    "print(s.group())"
   ]
  },
  {
   "cell_type": "code",
   "execution_count": 48,
   "metadata": {},
   "outputs": [
    {
     "name": "stdout",
     "output_type": "stream",
     "text": [
      "Hanxiaoyang\n",
      "None\n"
     ]
    }
   ],
   "source": [
    "import re \n",
    " \n",
    "# 将正则表达式编译成Pattern对象 \n",
    "pattern = re.compile(r'H.*g') \n",
    " \n",
    "# 使用search()查找匹配的子串，不存在能匹配的子串时将返回None \n",
    "# 这个例子中使用match()无法成功匹配\n",
    "match = pattern.search('hello Hanxiaoyang!') \n",
    "m = pattern.match('hello Hanxiaoyang!')\n",
    "\n",
    "if match: \n",
    "    # 使用Match获得分组信息 \n",
    "    print(match.group() )\n",
    "    \n",
    "print(m)"
   ]
  },
  {
   "cell_type": "markdown",
   "metadata": {},
   "source": []
  },
  {
   "cell_type": "markdown",
   "metadata": {},
   "source": []
  },
  {
   "cell_type": "markdown",
   "metadata": {},
   "source": []
  },
  {
   "cell_type": "markdown",
   "metadata": {},
   "source": []
  },
  {
   "cell_type": "markdown",
   "metadata": {},
   "source": []
  },
  {
   "cell_type": "markdown",
   "metadata": {},
   "source": []
  },
  {
   "cell_type": "markdown",
   "metadata": {},
   "source": []
  },
  {
   "cell_type": "markdown",
   "metadata": {},
   "source": []
  },
  {
   "cell_type": "markdown",
   "metadata": {},
   "source": []
  },
  {
   "cell_type": "markdown",
   "metadata": {},
   "source": []
  },
  {
   "cell_type": "markdown",
   "metadata": {},
   "source": []
  },
  {
   "cell_type": "markdown",
   "metadata": {},
   "source": []
  },
  {
   "cell_type": "markdown",
   "metadata": {},
   "source": []
  }
 ],
 "metadata": {
  "kernelspec": {
   "display_name": "Python 3",
   "language": "python",
   "name": "python3"
  },
  "language_info": {
   "codemirror_mode": {
    "name": "ipython",
    "version": 3
   },
   "file_extension": ".py",
   "mimetype": "text/x-python",
   "name": "python",
   "nbconvert_exporter": "python",
   "pygments_lexer": "ipython3",
   "version": "3.6.5"
  }
 },
 "nbformat": 4,
 "nbformat_minor": 2
}
