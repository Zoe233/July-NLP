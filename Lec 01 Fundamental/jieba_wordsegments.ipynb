{
 "cells": [
  {
   "cell_type": "markdown",
   "metadata": {},
   "source": [
    "# jieba中文处理"
   ]
  },
  {
   "cell_type": "markdown",
   "metadata": {},
   "source": [
    "和拉丁语系不同，亚洲语言是不用空格分开每个有意义的词的。而当我们进行自然语言处理的时候，大部分情况下，词汇是我们对句子和文章理解的基础，因此需要一个工具去把完整的文本中分解成粒度更细的词。   \n",
    "\n",
    "jieba就是这样一个非常好用的中文工具，是以分词起家的，但是功能比分词要强大很多。"
   ]
  },
  {
   "cell_type": "markdown",
   "metadata": {},
   "source": [
    "## 1.基本分词函数与用法"
   ]
  },
  {
   "cell_type": "markdown",
   "metadata": {},
   "source": [
    "jieba.cut 以及 jieba.cut_for_search 返回的结构都是一个可迭代的 generator，可以使用 for 循环来获得分词后得到的每一个词语(unicode)"
   ]
  },
  {
   "cell_type": "markdown",
   "metadata": {},
   "source": [
    "jieba.cut 方法接受三个输入参数:\n",
    "- 需要分词的字符串\n",
    "- cut_all 参数用来控制是否采用全模式\n",
    "- HMM 参数用来控制是否使用 HMM 模型"
   ]
  },
  {
   "cell_type": "markdown",
   "metadata": {},
   "source": [
    "jieba.cut_for_search 方法接受两个参数\n",
    "- 需要分词的字符串\n",
    "- 是否使用 HMM 模型。\n",
    "\n",
    "该方法适合用于搜索引擎构建倒排索引的分词，粒度比较细"
   ]
  },
  {
   "cell_type": "code",
   "execution_count": 9,
   "metadata": {},
   "outputs": [
    {
     "name": "stderr",
     "output_type": "stream",
     "text": [
      "Building prefix dict from the default dictionary ...\n",
      "Loading model from cache /var/folders/w2/qnnfb62x2g760j3nkh9q4ptr0000gn/T/jieba.cache\n"
     ]
    },
    {
     "name": "stdout",
     "output_type": "stream",
     "text": [
      "<generator object Tokenizer.cut at 0x10882d0f8>\n"
     ]
    },
    {
     "name": "stderr",
     "output_type": "stream",
     "text": [
      "Loading model cost 0.664 seconds.\n",
      "Prefix dict has been built succesfully.\n"
     ]
    },
    {
     "name": "stdout",
     "output_type": "stream",
     "text": [
      "Full Mode:我/在/学习/自然/自然语言/语言/处理\n"
     ]
    }
   ],
   "source": [
    "import jieba\n",
    "\n",
    "# 全模式\n",
    "seg_list = jieba.cut('我在学习自然语言处理', cut_all = True)\n",
    "print(seg_list)\n",
    "print('Full Mode:' + '/'.join(seg_list))"
   ]
  },
  {
   "cell_type": "code",
   "execution_count": 10,
   "metadata": {},
   "outputs": [
    {
     "name": "stdout",
     "output_type": "stream",
     "text": [
      "Default Mode:我/在/学习/自然语言/处理\n"
     ]
    }
   ],
   "source": [
    "# 精确模式\n",
    "seg_list = jieba.cut('我在学习自然语言处理', cut_all = False)\n",
    "print('Default Mode:' + '/'.join(seg_list))"
   ]
  },
  {
   "cell_type": "code",
   "execution_count": 11,
   "metadata": {},
   "outputs": [
    {
     "name": "stdout",
     "output_type": "stream",
     "text": [
      "他,毕业,于,上海交通大学,，,在,百度,深度,学习,研究院,进行,研究\n"
     ]
    }
   ],
   "source": [
    "# 默认是精确模式\n",
    "seg_list = jieba.cut('他毕业于上海交通大学，在百度深度学习研究院进行研究') \n",
    "print(','.join(seg_list))"
   ]
  },
  {
   "cell_type": "code",
   "execution_count": 12,
   "metadata": {},
   "outputs": [
    {
     "name": "stdout",
     "output_type": "stream",
     "text": [
      "小明,硕士,毕业,于,中国,科学,学院,科学院,中国科学院,计算,计算所,，,后,在,哈佛,大学,哈佛大学,深造\n"
     ]
    }
   ],
   "source": [
    "# 搜索引擎模式\n",
    "seg_list = jieba.cut_for_search('小明硕士毕业于中国科学院计算所，后在哈佛大学深造')\n",
    "print(','.join(seg_list))"
   ]
  },
  {
   "cell_type": "markdown",
   "metadata": {},
   "source": [
    "### jie.cut以及jieba.cut_for_search直接返回list"
   ]
  },
  {
   "cell_type": "code",
   "execution_count": 13,
   "metadata": {},
   "outputs": [
    {
     "name": "stdout",
     "output_type": "stream",
     "text": [
      "['小明', '硕士', '毕业', '于', '中国科学院', '计算所', '，', '后', '在', '哈佛大学', '深造']\n",
      "\n",
      "小明 硕士 毕业 于 中国科学院 计算所 ， 后 在 哈佛大学 深造\n",
      "小明 硕士 毕业 于 中国 科学 学院 科学院 中国科学院 计算 计算所 ， 后 在 哈佛 大学 哈佛大学 深造\n"
     ]
    }
   ],
   "source": [
    "result_lcut = jieba.lcut('小明硕士毕业于中国科学院计算所，后在哈佛大学深造')\n",
    "print(result_lcut)\n",
    "print()\n",
    "print(' '.join(result_lcut))\n",
    "print(' '.join(jieba.lcut_for_search('小明硕士毕业于中国科学院计算所，后在哈佛大学深造')))"
   ]
  },
  {
   "cell_type": "markdown",
   "metadata": {},
   "source": [
    "### 添加用户自定义词典"
   ]
  },
  {
   "cell_type": "markdown",
   "metadata": {},
   "source": [
    "很多时候我们需要针对自己的场景进行分词，会有一些领域内的专有词汇。\n",
    "- 1.可以用jieba.load_userdict(file_name)加载用户字典\n",
    "- 2.少量的词汇可以自己用下面方法手动添加：\n",
    "    - 用 add_word(word, freq=None, tag=None) 和 del_word(word) 在程序中动态修改词典\n",
    "    - 用 suggest_freq(segment, tune=True) 可调节单个词语的词频，使其能（或不能）被分出来。"
   ]
  },
  {
   "cell_type": "code",
   "execution_count": 14,
   "metadata": {},
   "outputs": [
    {
     "name": "stdout",
     "output_type": "stream",
     "text": [
      "如果/放在/旧/字典/中将/出错/。\n"
     ]
    }
   ],
   "source": [
    "# 如果是动态添加词频，HMM一定要设置为False\n",
    "print('/'.join(jieba.cut('如果放在旧字典中将出错。', HMM=False)))"
   ]
  },
  {
   "cell_type": "code",
   "execution_count": 15,
   "metadata": {},
   "outputs": [
    {
     "data": {
      "text/plain": [
       "494"
      ]
     },
     "execution_count": 15,
     "metadata": {},
     "output_type": "execute_result"
    }
   ],
   "source": [
    "jieba.suggest_freq(('中','将'), True)"
   ]
  },
  {
   "cell_type": "code",
   "execution_count": 16,
   "metadata": {},
   "outputs": [
    {
     "name": "stdout",
     "output_type": "stream",
     "text": [
      "如果/放到/旧/字典/中/将/出错/。\n"
     ]
    }
   ],
   "source": [
    "print('/'.join(jieba.cut('如果放到旧字典中将出错。', HMM=False)))"
   ]
  },
  {
   "cell_type": "markdown",
   "metadata": {},
   "source": [
    "### 关键词提取"
   ]
  },
  {
   "cell_type": "markdown",
   "metadata": {},
   "source": [
    "#### 基于 TF-IDF 算法的关键词抽取\n",
    "import jieba.analyse\n",
    "- jieba.analyse.extract_tags(sentence, topK=20, withWeight=False, allowPOS=())\n",
    "    - sentence 为待提取的文本\n",
    "    - topK 为返回几个 TF/IDF 权重最大的关键词，默认值为 20\n",
    "    - withWeight 为是否一并返回关键词权重值，默认值为 False\n",
    "    - allowPOS 仅包括指定词性的词，默认值为空，即不筛选"
   ]
  },
  {
   "cell_type": "code",
   "execution_count": 17,
   "metadata": {},
   "outputs": [
    {
     "name": "stdout",
     "output_type": "stream",
     "text": [
      "韦少 杜兰特 全明星 全明星赛 MVP 威少 正赛 科尔 投篮 勇士 球员 斯布鲁克 更衣柜 NBA 三连庄 张卫平 西部 指导 雷霆 明星队\n"
     ]
    }
   ],
   "source": [
    "import jieba.analyse as analyse\n",
    "\n",
    "lines = open('./files/NBA.txt').read()\n",
    "\n",
    "print(\" \".join(analyse.extract_tags(lines, topK=20, withWeight=False, allowPOS=())))"
   ]
  },
  {
   "cell_type": "code",
   "execution_count": 18,
   "metadata": {},
   "outputs": [
    {
     "name": "stdout",
     "output_type": "stream",
     "text": [
      "('韦少', 0.40006111722303145)\n",
      "('杜兰特', 0.3557260029055118)\n",
      "('全明星', 0.30987389050216535)\n",
      "('全明星赛', 0.28603743738661414)\n",
      "('MVP', 0.28239608274566924)\n",
      "('威少', 0.2588630758501968)\n",
      "('正赛', 0.14119804137283462)\n",
      "('科尔', 0.11543555039681103)\n",
      "('投篮', 0.10367501793307088)\n",
      "('勇士', 0.1036619725106693)\n"
     ]
    }
   ],
   "source": [
    "for word_weight in analyse.extract_tags(lines, topK=10, withWeight=True, allowPOS=()):\n",
    "    print(word_weight)"
   ]
  },
  {
   "cell_type": "code",
   "execution_count": null,
   "metadata": {},
   "outputs": [],
   "source": [
    "with open('./files/西游记.txt', 'r',encoding='gbk') as f:\n",
    "    lines = ''\n",
    "    while True:\n",
    "        try:\n",
    "            lines += f.readline()\n",
    "        except:\n",
    "            pass\n",
    "    \n",
    "    print(' '.join(analyse.extract_tags(lines, topK=20, withWeight=False, allowPOS=())))"
   ]
  },
  {
   "cell_type": "markdown",
   "metadata": {},
   "source": [
    "#### 关于TF-IDF 算法的关键词抽取补充\n",
    "- 关键词提取所使用逆向文件频率（IDF）文本语料库可以切换成自定义语料库的路径\n",
    "    - 用法： jieba.analyse.set_idf_path(file_name) # file_name为自定义语料库的路径\n",
    "        - 自定义语料库示例见<a href=\"https://github.com/fxsjy/jieba/blob/master/extra_dict/idf.txt.big\">这里</a>\n",
    "        - 用法示例见<a href=\"https://github.com/fxsjy/jieba/blob/master/test/extract_tags_idfpath.py\">这里</a>\n",
    "    - 关键词提取所使用停止词（Stop Words）文本语料库可以切换成自定义语料库的路径\n",
    "        - 用法： jieba.analyse.set_stop_words(file_name) # file_name为自定义语料库的路径\n",
    "        - 自定义语料库示例见<a href=\"https://github.com/fxsjy/jieba/blob/master/extra_dict/stop_words.txt\">这里</a>\n",
    "        - 用法示例见<a href=\"https://github.com/fxsjy/jieba/blob/master/test/extract_tags_stop_words.py\">这里</a>\n",
    "- 关键词一并返回关键词权重值示例\n",
    "    - 用法示例见<a href=\"https://github.com/fxsjy/jieba/blob/master/test/extract_tags_with_weight.py\">这里</a>"
   ]
  },
  {
   "cell_type": "markdown",
   "metadata": {},
   "source": [
    "##### 自定义IDF语料库和停止词语料库添加用法示例"
   ]
  },
  {
   "cell_type": "code",
   "execution_count": 4,
   "metadata": {},
   "outputs": [
    {
     "name": "stderr",
     "output_type": "stream",
     "text": [
      "Building prefix dict from the default dictionary ...\n",
      "Loading model from cache /var/folders/w2/qnnfb62x2g760j3nkh9q4ptr0000gn/T/jieba.cache\n",
      "Loading model cost 0.693 seconds.\n",
      "Prefix dict has been built succesfully.\n"
     ]
    },
    {
     "name": "stdout",
     "output_type": "stream",
     "text": [
      "韦少 全明星 杜兰特 MVP 全明星赛 威少 正赛 球员 勇士 自己 一个 指导 科尔 投篮 但是 斯布鲁克 就是 成为 NBA 加入\n"
     ]
    }
   ],
   "source": [
    "import jieba\n",
    "import jieba.analyse \n",
    "\n",
    "file_name = './files/NBA.txt'\n",
    "content = open(file_name, 'r').read()\n",
    "\n",
    "jieba.analyse.set_stop_words(\"./extra_dict/stop_words.txt\")\n",
    "jieba.analyse.set_idf_path('./extra_dict/idf.txt.big')\n",
    "\n",
    "tags = jieba.analyse.extract_tags(content, topK=20)\n",
    "\n",
    "print(' '.join(tags))"
   ]
  },
  {
   "cell_type": "markdown",
   "metadata": {},
   "source": [
    "##### 关键词一并返回关键词权重值示例"
   ]
  },
  {
   "cell_type": "code",
   "execution_count": 8,
   "metadata": {},
   "outputs": [
    {
     "name": "stdout",
     "output_type": "stream",
     "text": [
      "tag: 韦少\t\t weight: 0.400061\n",
      "tag: 全明星\t\t weight: 0.309874\n",
      "tag: 杜兰特\t\t weight: 0.305929\n",
      "tag: MVP\t\t weight: 0.282396\n",
      "tag: 全明星赛\t\t weight: 0.282396\n",
      "tag: 威少\t\t weight: 0.258863\n",
      "tag: 正赛\t\t weight: 0.141198\n",
      "tag: 球员\t\t weight: 0.141198\n",
      "tag: 勇士\t\t weight: 0.141198\n",
      "tag: 自己\t\t weight: 0.141198\n",
      "tag: 一个\t\t weight: 0.117665\n",
      "tag: 指导\t\t weight: 0.117665\n",
      "tag: 科尔\t\t weight: 0.115436\n",
      "tag: 投篮\t\t weight: 0.103675\n",
      "tag: 但是\t\t weight: 0.094132\n",
      "tag: 斯布鲁克\t\t weight: 0.094132\n",
      "tag: 就是\t\t weight: 0.094132\n",
      "tag: 成为\t\t weight: 0.094132\n",
      "tag: NBA\t\t weight: 0.070599\n",
      "tag: 加入\t\t weight: 0.070599\n"
     ]
    }
   ],
   "source": [
    "import jieba \n",
    "import jieba.analyse\n",
    "\n",
    "file_name = './files/NBA.txt'\n",
    "content = open(file_name, 'r').read()\n",
    "\n",
    "tags = jieba.analyse.extract_tags(content, topK=20, withWeight=True, allowPOS=())\n",
    "\n",
    "for tag in tags:\n",
    "    print(\"tag: %s\\t\\t weight: %f\" % (tag[0],tag[1]))"
   ]
  },
  {
   "cell_type": "markdown",
   "metadata": {},
   "source": []
  },
  {
   "cell_type": "code",
   "execution_count": null,
   "metadata": {},
   "outputs": [],
   "source": []
  },
  {
   "cell_type": "code",
   "execution_count": null,
   "metadata": {},
   "outputs": [],
   "source": []
  },
  {
   "cell_type": "code",
   "execution_count": null,
   "metadata": {},
   "outputs": [],
   "source": []
  },
  {
   "cell_type": "code",
   "execution_count": null,
   "metadata": {},
   "outputs": [],
   "source": []
  },
  {
   "cell_type": "code",
   "execution_count": null,
   "metadata": {},
   "outputs": [],
   "source": []
  },
  {
   "cell_type": "code",
   "execution_count": null,
   "metadata": {},
   "outputs": [],
   "source": []
  },
  {
   "cell_type": "code",
   "execution_count": null,
   "metadata": {},
   "outputs": [],
   "source": []
  },
  {
   "cell_type": "code",
   "execution_count": null,
   "metadata": {},
   "outputs": [],
   "source": []
  }
 ],
 "metadata": {
  "kernelspec": {
   "display_name": "Python 3",
   "language": "python",
   "name": "python3"
  }
 },
 "nbformat": 4,
 "nbformat_minor": 2
}
