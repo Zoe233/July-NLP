{
 "cells": [
  {
   "cell_type": "markdown",
   "metadata": {},
   "source": [
    "# jieba中文处理"
   ]
  },
  {
   "cell_type": "markdown",
   "metadata": {},
   "source": [
    "和拉丁语系不同，亚洲语言是不用空格分开每个有意义的词的。而当我们进行自然语言处理的时候，大部分情况下，词汇是我们对句子和文章理解的基础，因此需要一个工具去把完整的文本中分解成粒度更细的词。   \n",
    "\n",
    "jieba就是这样一个非常好用的中文工具，是以分词起家的，但是功能比分词要强大很多。"
   ]
  },
  {
   "cell_type": "markdown",
   "metadata": {},
   "source": [
    "## 1.基本分词函数与用法"
   ]
  },
  {
   "cell_type": "markdown",
   "metadata": {},
   "source": [
    "jieba.cut 以及 jieba.cut_for_search 返回的结构都是一个可迭代的 generator，可以使用 for 循环来获得分词后得到的每一个词语(unicode)"
   ]
  },
  {
   "cell_type": "markdown",
   "metadata": {},
   "source": [
    "jieba.cut 方法接受三个输入参数:\n",
    "- 需要分词的字符串\n",
    "- cut_all 参数用来控制是否采用全模式\n",
    "- HMM 参数用来控制是否使用 HMM 模型"
   ]
  },
  {
   "cell_type": "markdown",
   "metadata": {},
   "source": [
    "jieba.cut_for_search 方法接受两个参数\n",
    "- 需要分词的字符串\n",
    "- 是否使用 HMM 模型。\n",
    "\n",
    "该方法适合用于搜索引擎构建倒排索引的分词，粒度比较细"
   ]
  },
  {
   "cell_type": "code",
   "execution_count": 1,
   "metadata": {},
   "outputs": [
    {
     "name": "stderr",
     "output_type": "stream",
     "text": [
      "Building prefix dict from the default dictionary ...\n",
      "Loading model from cache /var/folders/w2/qnnfb62x2g760j3nkh9q4ptr0000gn/T/jieba.cache\n"
     ]
    },
    {
     "name": "stdout",
     "output_type": "stream",
     "text": [
      "<generator object Tokenizer.cut at 0x10fffc620>\n"
     ]
    },
    {
     "name": "stderr",
     "output_type": "stream",
     "text": [
      "Loading model cost 0.702 seconds.\n",
      "Prefix dict has been built succesfully.\n"
     ]
    },
    {
     "name": "stdout",
     "output_type": "stream",
     "text": [
      "Full Mode:我/在/学习/自然/自然语言/语言/处理\n"
     ]
    }
   ],
   "source": [
    "import jieba\n",
    "\n",
    "# 全模式\n",
    "seg_list = jieba.cut('我在学习自然语言处理', cut_all = True)\n",
    "print(seg_list)\n",
    "print('Full Mode:' + '/'.join(seg_list))"
   ]
  },
  {
   "cell_type": "code",
   "execution_count": 2,
   "metadata": {},
   "outputs": [
    {
     "name": "stdout",
     "output_type": "stream",
     "text": [
      "Default Mode:我/在/学习/自然语言/处理\n"
     ]
    }
   ],
   "source": [
    "# 精确模式\n",
    "seg_list = jieba.cut('我在学习自然语言处理', cut_all = False)\n",
    "print('Default Mode:' + '/'.join(seg_list))"
   ]
  },
  {
   "cell_type": "code",
   "execution_count": 3,
   "metadata": {},
   "outputs": [
    {
     "name": "stdout",
     "output_type": "stream",
     "text": [
      "他,毕业,于,上海交通大学,，,在,百度,深度,学习,研究院,进行,研究\n"
     ]
    }
   ],
   "source": [
    "# 默认是精确模式\n",
    "seg_list = jieba.cut('他毕业于上海交通大学，在百度深度学习研究院进行研究') \n",
    "print(','.join(seg_list))"
   ]
  },
  {
   "cell_type": "code",
   "execution_count": 4,
   "metadata": {},
   "outputs": [
    {
     "name": "stdout",
     "output_type": "stream",
     "text": [
      "小明,硕士,毕业,于,中国,科学,学院,科学院,中国科学院,计算,计算所,，,后,在,哈佛,大学,哈佛大学,深造\n"
     ]
    }
   ],
   "source": [
    "# 搜索引擎模式\n",
    "seg_list = jieba.cut_for_search('小明硕士毕业于中国科学院计算所，后在哈佛大学深造')\n",
    "print(','.join(seg_list))"
   ]
  },
  {
   "cell_type": "markdown",
   "metadata": {},
   "source": [
    "### jie.cut以及jieba.cut_for_search直接返回list"
   ]
  },
  {
   "cell_type": "code",
   "execution_count": 5,
   "metadata": {},
   "outputs": [
    {
     "name": "stdout",
     "output_type": "stream",
     "text": [
      "['小明', '硕士', '毕业', '于', '中国科学院', '计算所', '，', '后', '在', '哈佛大学', '深造']\n",
      "\n",
      "小明 硕士 毕业 于 中国科学院 计算所 ， 后 在 哈佛大学 深造\n",
      "小明 硕士 毕业 于 中国 科学 学院 科学院 中国科学院 计算 计算所 ， 后 在 哈佛 大学 哈佛大学 深造\n"
     ]
    }
   ],
   "source": [
    "result_lcut = jieba.lcut('小明硕士毕业于中国科学院计算所，后在哈佛大学深造')\n",
    "print(result_lcut)\n",
    "print()\n",
    "print(' '.join(result_lcut))\n",
    "print(' '.join(jieba.lcut_for_search('小明硕士毕业于中国科学院计算所，后在哈佛大学深造')))"
   ]
  },
  {
   "cell_type": "markdown",
   "metadata": {},
   "source": [
    "### 添加用户自定义词典"
   ]
  },
  {
   "cell_type": "markdown",
   "metadata": {},
   "source": [
    "很多时候我们需要针对自己的场景进行分词，会有一些领域内的专有词汇。\n",
    "- 1.可以用jieba.load_userdict(file_name)加载用户字典\n",
    "- 2.少量的词汇可以自己用下面方法手动添加：\n",
    "    - 用 add_word(word, freq=None, tag=None) 和 del_word(word) 在程序中动态修改词典\n",
    "    - 用 suggest_freq(segment, tune=True) 可调节单个词语的词频，使其能（或不能）被分出来。"
   ]
  },
  {
   "cell_type": "code",
   "execution_count": 6,
   "metadata": {},
   "outputs": [
    {
     "name": "stdout",
     "output_type": "stream",
     "text": [
      "如果/放在/旧/字典/中将/出错/。\n"
     ]
    }
   ],
   "source": [
    "# 如果是动态添加词频，HMM一定要设置为False\n",
    "print('/'.join(jieba.cut('如果放在旧字典中将出错。', HMM=False)))"
   ]
  },
  {
   "cell_type": "code",
   "execution_count": 7,
   "metadata": {},
   "outputs": [
    {
     "data": {
      "text/plain": [
       "494"
      ]
     },
     "execution_count": 7,
     "metadata": {},
     "output_type": "execute_result"
    }
   ],
   "source": [
    "jieba.suggest_freq(('中','将'), True)"
   ]
  },
  {
   "cell_type": "code",
   "execution_count": 8,
   "metadata": {},
   "outputs": [
    {
     "name": "stdout",
     "output_type": "stream",
     "text": [
      "如果/放到/旧/字典/中/将/出错/。\n"
     ]
    }
   ],
   "source": [
    "print('/'.join(jieba.cut('如果放到旧字典中将出错。', HMM=False)))"
   ]
  },
  {
   "cell_type": "markdown",
   "metadata": {},
   "source": [
    "### 关键词提取"
   ]
  },
  {
   "cell_type": "markdown",
   "metadata": {},
   "source": [
    "#### 基于 TF-IDF 算法的关键词抽取\n",
    "import jieba.analyse\n",
    "- jieba.analyse.extract_tags(sentence, topK=20, withWeight=False, allowPOS=())\n",
    "    - sentence 为待提取的文本\n",
    "    - topK 为返回几个 TF/IDF 权重最大的关键词，默认值为 20\n",
    "    - withWeight 为是否一并返回关键词权重值，默认值为 False\n",
    "    - allowPOS 仅包括指定词性的词，默认值为空，即不筛选"
   ]
  },
  {
   "cell_type": "code",
   "execution_count": 9,
   "metadata": {},
   "outputs": [
    {
     "name": "stdout",
     "output_type": "stream",
     "text": [
      "韦少 杜兰特 全明星 全明星赛 MVP 威少 正赛 科尔 投篮 勇士 球员 斯布鲁克 更衣柜 NBA 三连庄 张卫平 西部 指导 雷霆 明星队\n"
     ]
    }
   ],
   "source": [
    "import jieba.analyse as analyse\n",
    "\n",
    "lines = open('./files/NBA.txt').read()\n",
    "\n",
    "print(\" \".join(analyse.extract_tags(lines, topK=20, withWeight=False, allowPOS=())))"
   ]
  },
  {
   "cell_type": "code",
   "execution_count": 10,
   "metadata": {},
   "outputs": [
    {
     "name": "stdout",
     "output_type": "stream",
     "text": [
      "('韦少', 0.40006111722303145)\n",
      "('杜兰特', 0.3557260029055118)\n",
      "('全明星', 0.30987389050216535)\n",
      "('全明星赛', 0.28603743738661414)\n",
      "('MVP', 0.28239608274566924)\n",
      "('威少', 0.2588630758501968)\n",
      "('正赛', 0.14119804137283462)\n",
      "('科尔', 0.11543555039681103)\n",
      "('投篮', 0.10367501793307088)\n",
      "('勇士', 0.1036619725106693)\n"
     ]
    }
   ],
   "source": [
    "for word_weight in analyse.extract_tags(lines, topK=10, withWeight=True, allowPOS=()):\n",
    "    print(word_weight)"
   ]
  },
  {
   "cell_type": "code",
   "execution_count": 11,
   "metadata": {},
   "outputs": [
    {
     "name": "stdout",
     "output_type": "stream",
     "text": [
      "行者 八戒 师父 三藏 唐僧 大圣 沙僧 妖精 菩萨 和尚 那怪 那里 长老 呆子 徒弟 怎么 不知 老孙 国王 一个\n"
     ]
    }
   ],
   "source": [
    "lines = open('./files/西游记.txt').read()\n",
    "    \n",
    "print(' '.join(analyse.extract_tags(lines, topK=20, withWeight=False, allowPOS=())))"
   ]
  },
  {
   "cell_type": "markdown",
   "metadata": {},
   "source": [
    "#### 关于TF-IDF 算法的关键词抽取补充\n",
    "- 关键词提取所使用逆向文件频率（IDF）文本语料库可以切换成自定义语料库的路径\n",
    "    - 用法： jieba.analyse.set_idf_path(file_name) # file_name为自定义语料库的路径\n",
    "        - 自定义语料库示例见<a href=\"https://github.com/fxsjy/jieba/blob/master/extra_dict/idf.txt.big\">这里</a>\n",
    "        - 用法示例见<a href=\"https://github.com/fxsjy/jieba/blob/master/test/extract_tags_idfpath.py\">这里</a>\n",
    "    - 关键词提取所使用停止词（Stop Words）文本语料库可以切换成自定义语料库的路径\n",
    "        - 用法： jieba.analyse.set_stop_words(file_name) # file_name为自定义语料库的路径\n",
    "        - 自定义语料库示例见<a href=\"https://github.com/fxsjy/jieba/blob/master/extra_dict/stop_words.txt\">这里</a>\n",
    "        - 用法示例见<a href=\"https://github.com/fxsjy/jieba/blob/master/test/extract_tags_stop_words.py\">这里</a>\n",
    "- 关键词一并返回关键词权重值示例\n",
    "    - 用法示例见<a href=\"https://github.com/fxsjy/jieba/blob/master/test/extract_tags_with_weight.py\">这里</a>"
   ]
  },
  {
   "cell_type": "markdown",
   "metadata": {},
   "source": [
    "##### 自定义IDF语料库和停止词语料库添加用法示例"
   ]
  },
  {
   "cell_type": "code",
   "execution_count": 12,
   "metadata": {},
   "outputs": [
    {
     "name": "stdout",
     "output_type": "stream",
     "text": [
      "韦少 全明星 杜兰特 MVP 全明星赛 威少 正赛 球员 勇士 自己 一个 指导 科尔 投篮 但是 斯布鲁克 就是 成为 NBA 加入\n"
     ]
    }
   ],
   "source": [
    "import jieba\n",
    "import jieba.analyse \n",
    "\n",
    "file_name = './files/NBA.txt'\n",
    "content = open(file_name, 'r').read()\n",
    "\n",
    "jieba.analyse.set_stop_words(\"./extra_dict/stop_words.txt\")\n",
    "jieba.analyse.set_idf_path('./extra_dict/idf.txt.big')\n",
    "\n",
    "tags = jieba.analyse.extract_tags(content, topK=20)\n",
    "\n",
    "print(' '.join(tags))"
   ]
  },
  {
   "cell_type": "markdown",
   "metadata": {},
   "source": [
    "##### 关键词一并返回关键词权重值示例"
   ]
  },
  {
   "cell_type": "code",
   "execution_count": 13,
   "metadata": {},
   "outputs": [
    {
     "name": "stdout",
     "output_type": "stream",
     "text": [
      "tag: 韦少\t\t weight: 0.400061\n",
      "tag: 全明星\t\t weight: 0.309874\n",
      "tag: 杜兰特\t\t weight: 0.305929\n",
      "tag: MVP\t\t weight: 0.282396\n",
      "tag: 全明星赛\t\t weight: 0.282396\n",
      "tag: 威少\t\t weight: 0.258863\n",
      "tag: 正赛\t\t weight: 0.141198\n",
      "tag: 球员\t\t weight: 0.141198\n",
      "tag: 勇士\t\t weight: 0.141198\n",
      "tag: 自己\t\t weight: 0.141198\n",
      "tag: 一个\t\t weight: 0.117665\n",
      "tag: 指导\t\t weight: 0.117665\n",
      "tag: 科尔\t\t weight: 0.115436\n",
      "tag: 投篮\t\t weight: 0.103675\n",
      "tag: 但是\t\t weight: 0.094132\n",
      "tag: 斯布鲁克\t\t weight: 0.094132\n",
      "tag: 就是\t\t weight: 0.094132\n",
      "tag: 成为\t\t weight: 0.094132\n",
      "tag: NBA\t\t weight: 0.070599\n",
      "tag: 加入\t\t weight: 0.070599\n"
     ]
    }
   ],
   "source": [
    "import jieba \n",
    "import jieba.analyse\n",
    "\n",
    "file_name = './files/NBA.txt'\n",
    "content = open(file_name, 'r').read()\n",
    "\n",
    "tags = jieba.analyse.extract_tags(content, topK=20, withWeight=True, allowPOS=())\n",
    "\n",
    "for tag in tags:\n",
    "    print(\"tag: %s\\t\\t weight: %f\" % (tag[0],tag[1]))"
   ]
  },
  {
   "cell_type": "markdown",
   "metadata": {},
   "source": [
    "#### 基于TextRank算法的关键词抽取"
   ]
  },
  {
   "cell_type": "markdown",
   "metadata": {},
   "source": [
    "- jieba.analyse.textrank(sentence, topK=20, withWeight=False, allowPOS=('ns', 'n', 'vn', 'v')) 直接使用，接口相同，注意默认过滤词性。\n",
    "- jieba.analyse.TextRank() 新建自定义 TextRank 实例"
   ]
  },
  {
   "cell_type": "markdown",
   "metadata": {},
   "source": [
    "<p>算法论文： <a href=\"http://web.eecs.umich.edu/~mihalcea/papers/mihalcea.emnlp04.pdf\">TextRank: Bringing Order into Texts</a></p>"
   ]
  },
  {
   "cell_type": "markdown",
   "metadata": {},
   "source": [
    "<p>基本思想:</p>\n",
    "<ul>\n",
    "<li>将待抽取关键词的文本进行分词</li>\n",
    "<li>以固定窗口大小(默认为5，通过span属性调整)，词之间的共现关系，构建图</li>\n",
    "<li>计算图中节点的PageRank，注意是无向带权图</li>\n",
    "</ul>"
   ]
  },
  {
   "cell_type": "code",
   "execution_count": 14,
   "metadata": {},
   "outputs": [
    {
     "name": "stdout",
     "output_type": "stream",
     "text": [
      "全明星赛 勇士 正赛 指导 对方 投篮 球员 没有 出现 时间 威少 认为 看来 结果 相隔 助攻 现场 三连庄 介绍 嘉宾\n"
     ]
    }
   ],
   "source": [
    "import jieba.analyse as analyse\n",
    "\n",
    "lines = open('./files/NBA.txt').read()\n",
    "print(' '.join(analyse.textrank(lines, topK=20, withWeight=False, allowPOS=('ns', 'n', 'vn', 'v'))))\n"
   ]
  },
  {
   "cell_type": "code",
   "execution_count": 15,
   "metadata": {},
   "outputs": [
    {
     "name": "stdout",
     "output_type": "stream",
     "text": [
      "勇士 正赛 全明星赛 指导 投篮 玩命 时间 对方 现场 结果 球员 嘉宾 时候 全队 主持人 照片 全程 目标 快船队 肥皂剧\n"
     ]
    }
   ],
   "source": [
    "print(' '.join(analyse.textrank(lines, topK=20, withWeight=False, allowPOS=('ns', 'n'))))"
   ]
  },
  {
   "cell_type": "markdown",
   "metadata": {},
   "source": [
    "### 词性标注"
   ]
  },
  {
   "cell_type": "markdown",
   "metadata": {},
   "source": [
    "<ul>\n",
    "<li>jieba.posseg.POSTokenizer(tokenizer=None) 新建自定义分词器，tokenizer 参数可指定内部使用的 jieba.Tokenizer 分词器。jieba.posseg.dt 为默认词性标注分词器。</li>\n",
    "<li>标注句子分词后每个词的词性，采用和 ictclas 兼容的标记法。</li>\n",
    "<li>具体的词性对照表参见<a href=\"http://ictclas.nlpir.org/nlpir/html/readme.htm\">计算所汉语词性标记集</a></li>\n",
    "</ul>"
   ]
  },
  {
   "cell_type": "code",
   "execution_count": 16,
   "metadata": {},
   "outputs": [
    {
     "name": "stdout",
     "output_type": "stream",
     "text": [
      "我 r\n",
      "爱 v\n",
      "自然语言 l\n",
      "处理 v\n"
     ]
    }
   ],
   "source": [
    "import jieba.posseg as pseg\n",
    "\n",
    "words = pseg.cut('我爱自然语言处理')\n",
    "for word, flag in words:\n",
    "    print('%s %s'%(word, flag))"
   ]
  },
  {
   "cell_type": "markdown",
   "metadata": {},
   "source": [
    "### 并行分词"
   ]
  },
  {
   "cell_type": "markdown",
   "metadata": {},
   "source": [
    "\n",
    "<div class=\"inner_cell\">\n",
    "<div class=\"text_cell_render border-box-sizing rendered_html\">\n",
    "<p>原理：将目标文本按行分隔后，把各行文本分配到多个 Python 进程并行分词，然后归并结果，从而获得分词速度的可观提升\n",
    "基于 python 自带的 multiprocessing 模块，目前暂不支持 Windows</p>\n",
    "<p>用法：</p>\n",
    "\n",
    "<pre><code>jieba.enable_parallel(4) # 开启并行分词模式，参数为并行进程数\n",
    "jieba.disable_parallel() # 关闭并行分词模式</code></pre>\n",
    "<p>实验结果：在 4 核 3.4GHz Linux 机器上，对金庸全集进行精确分词，获得了 1MB/s 的速度，是单进程版的 3.3 倍。</p>\n",
    "<p>注意：并行分词仅支持默认分词器 jieba.dt 和 jieba.posseg.dt。</p>\n",
    "\n",
    "</div>"
   ]
  },
  {
   "cell_type": "code",
   "execution_count": 17,
   "metadata": {},
   "outputs": [
    {
     "name": "stdout",
     "output_type": "stream",
     "text": [
      "并行分词速度为495127.4120383644 bytes/second\n"
     ]
    }
   ],
   "source": [
    "import sys\n",
    "import time\n",
    "import jieba\n",
    "\n",
    "# 开启并行分词模式\n",
    "jieba.enable_parallel()  \n",
    "\n",
    "content = open('./files/glory.txt','r',encoding='utf-8').read()\n",
    "\n",
    "t1 = time.time()\n",
    "\n",
    "words = '/'.join(jieba.cut(content))\n",
    "\n",
    "t2 = time.time()\n",
    "tm_cost = t2-t1\n",
    "print('并行分词速度为%s bytes/second'%(len(content)/tm_cost))"
   ]
  },
  {
   "cell_type": "code",
   "execution_count": 18,
   "metadata": {},
   "outputs": [
    {
     "name": "stdout",
     "output_type": "stream",
     "text": [
      "非并行分词速度为171561.29903306984 bytes/second\n"
     ]
    }
   ],
   "source": [
    "jieba.disable_parallel()\n",
    "\n",
    "content = open('./files/glory.txt','r',encoding='utf-8').read()\n",
    "\n",
    "t1 = time.time()\n",
    "\n",
    "words = '/'.join(jieba.cut(content))\n",
    "\n",
    "t2 = time.time()\n",
    "tm_cost = t2-t1\n",
    "print('非并行分词速度为%s bytes/second'% ( len(content)/tm_cost))"
   ]
  },
  {
   "cell_type": "markdown",
   "metadata": {},
   "source": [
    "### Tokenize：返回词语在原文的起止位置\n",
    "注意，输入参数只接受unicode"
   ]
  },
  {
   "cell_type": "code",
   "execution_count": 22,
   "metadata": {},
   "outputs": [
    {
     "name": "stdout",
     "output_type": "stream",
     "text": [
      "这是默认模式的Tokenize\n",
      "<generator object Tokenizer.tokenize at 0x110ccd830>\n",
      "自然语言 \t \t start: 0 \t\t end:4\n",
      "处理 \t \t start: 4 \t\t end:6\n",
      "非常 \t \t start: 6 \t\t end:8\n",
      "有用 \t \t start: 8 \t\t end:10\n"
     ]
    }
   ],
   "source": [
    "print('这是默认模式的Tokenize')\n",
    "\n",
    "result = jieba.tokenize('自然语言处理非常有用')\n",
    "\n",
    "print(result)\n",
    "\n",
    "for tk in result:\n",
    "    print('%s \\t \\t start: %d \\t\\t end:%d' % (tk[0], tk[1], tk[2]))\n",
    "\n"
   ]
  },
  {
   "cell_type": "code",
   "execution_count": 23,
   "metadata": {},
   "outputs": [
    {
     "name": "stdout",
     "output_type": "stream",
     "text": [
      "这是搜索模式的Tokenize\n",
      "<generator object Tokenizer.tokenize at 0x110ccd3b8>\n",
      "自然 \t \t  start: 0 \t \t end: 2\n",
      "语言 \t \t  start: 2 \t \t end: 4\n",
      "自然语言 \t \t  start: 0 \t \t end: 4\n",
      "处理 \t \t  start: 4 \t \t end: 6\n",
      "非常 \t \t  start: 6 \t \t end: 8\n",
      "有用 \t \t  start: 8 \t \t end: 10\n"
     ]
    }
   ],
   "source": [
    "print('这是搜索模式的Tokenize')\n",
    "\n",
    "result = jieba.tokenize('自然语言处理非常有用', mode='search')\n",
    "\n",
    "print(result)\n",
    "\n",
    "for tk in result:\n",
    "    print('%s \\t \\t  start: %d \\t \\t end: %d' % (tk[0], tk[1], tk[2]))"
   ]
  },
  {
   "cell_type": "code",
   "execution_count": null,
   "metadata": {},
   "outputs": [],
   "source": []
  }
 ],
 "metadata": {
  "kernelspec": {
   "display_name": "Python 3",
   "language": "python",
   "name": "python3"
  },
  "language_info": {
   "codemirror_mode": {
    "name": "ipython",
    "version": 3
   },
   "file_extension": ".py",
   "mimetype": "text/x-python",
   "name": "python",
   "nbconvert_exporter": "python",
   "pygments_lexer": "ipython3",
   "version": "3.6.5"
  }
 },
 "nbformat": 4,
 "nbformat_minor": 2
}
