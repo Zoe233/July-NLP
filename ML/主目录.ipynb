{
 "cells": [
  {
   "cell_type": "markdown",
   "metadata": {},
   "source": [
    "# 主要目录："
   ]
  },
  {
   "cell_type": "markdown",
   "metadata": {},
   "source": [
    "- <a href='./模型参数学习方法总结.ipynb'>模型参数学习方法总结</a>\n",
    "    - 梯度下降法\n",
    "    - 最小二乘法\n",
    "    - 牛顿法\n",
    "    - 拟牛顿法"
   ]
  },
  {
   "cell_type": "markdown",
   "metadata": {},
   "source": [
    "- <a href='./算法评估准则总结.ipynb'>算法评估准则总结</a>\n",
    "    - 交叉验证Cross Validation\n",
    "    - 精确率与召回率，RoC曲线与PR曲线"
   ]
  },
  {
   "cell_type": "code",
   "execution_count": null,
   "metadata": {},
   "outputs": [],
   "source": []
  }
 ],
 "metadata": {
  "kernelspec": {
   "display_name": "Python 3",
   "language": "python",
   "name": "python3"
  },
  "language_info": {
   "codemirror_mode": {
    "name": "ipython",
    "version": 3
   },
   "file_extension": ".py",
   "mimetype": "text/x-python",
   "name": "python",
   "nbconvert_exporter": "python",
   "pygments_lexer": "ipython3",
   "version": "3.6.5"
  }
 },
 "nbformat": 4,
 "nbformat_minor": 2
}
