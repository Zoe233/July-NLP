{
 "cells": [
  {
   "cell_type": "markdown",
   "metadata": {},
   "source": [
    "# Lec 01 从语言模型到朴素贝叶斯"
   ]
  },
  {
   "cell_type": "markdown",
   "metadata": {},
   "source": [
    "## 大纲：\n",
    "- <a href='../Lec%2002%20Naive%20Bayes/Naive%20Bayes.ipynb'>朴素贝叶斯</a>\n",
    "- <a href='../Lec%2001%20Fundamental/py_re.ipynb'>正则表达式</a>\n",
    "- <a href='../Lec%2001%20Fundamental/jieba_wordsegments.ipynb'>中文处理库：jieba</a>"
   ]
  },
  {
   "cell_type": "markdown",
   "metadata": {},
   "source": [
    "## Lec 02 文件目录结构\n",
    "- extra_dict jieba的自定义stopwords和tf-idf文库自定义加载文件实例。\n",
    "- files jieba分词示例读取的txt文件\n",
    "- images 笔记中的图片\n",
    "- tmp jieba和whoosh的文本搜索范例生成的倒排索引等文件内容。"
   ]
  },
  {
   "cell_type": "code",
   "execution_count": null,
   "metadata": {},
   "outputs": [],
   "source": []
  }
 ],
 "metadata": {
  "kernelspec": {
   "display_name": "Python 3",
   "language": "python",
   "name": "python3"
  },
  "language_info": {
   "codemirror_mode": {
    "name": "ipython",
    "version": 3
   },
   "file_extension": ".py",
   "mimetype": "text/x-python",
   "name": "python",
   "nbconvert_exporter": "python",
   "pygments_lexer": "ipython3",
   "version": "3.6.5"
  }
 },
 "nbformat": 4,
 "nbformat_minor": 2
}
