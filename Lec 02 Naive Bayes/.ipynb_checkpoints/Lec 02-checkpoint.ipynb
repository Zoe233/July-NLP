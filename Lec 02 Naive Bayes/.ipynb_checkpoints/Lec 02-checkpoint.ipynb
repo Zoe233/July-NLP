{
 "cells": [
  {
   "cell_type": "markdown",
   "metadata": {},
   "source": [
    "# Lec 01 从语言模型到朴素贝叶斯"
   ]
  },
  {
   "cell_type": "markdown",
   "metadata": {},
   "source": [
    "## 大纲：\n",
    "- <a href='../Lec%2002%20Naive%20Bayes/Naive%20Bayes.ipynb'>朴素贝叶斯</a>\n",
    "- <a href='../Lec%2002%20Naive%20Bayes/Naive_Bayes_Applications.ipynb'>朴素贝叶斯与应用</a>\n",
    "- <a href='../Lec%2001%20Fundamental/jieba_wordsegments.ipynb'>中文处理库：jieba</a>"
   ]
  },
  {
   "cell_type": "markdown",
   "metadata": {},
   "source": [
    "## Lec 02 文件目录结构\n",
    "- Naive Bayes.ipynb 朴素贝叶斯的介绍，详细\n",
    "- Naive_Bayes_Applications.ipynb  朴素贝叶斯简要介绍和应用【新闻分类】\n",
    "- images 笔记中的图片\n",
    "- files 【新闻分类】应用中所需的中止词\n",
    "- Database 【新闻分类】语料库"
   ]
  },
  {
   "cell_type": "code",
   "execution_count": null,
   "metadata": {},
   "outputs": [],
   "source": []
  }
 ],
 "metadata": {
  "kernelspec": {
   "display_name": "Python 3",
   "language": "python",
   "name": "python3"
  },
  "language_info": {
   "codemirror_mode": {
    "name": "ipython",
    "version": 3
   },
   "file_extension": ".py",
   "mimetype": "text/x-python",
   "name": "python",
   "nbconvert_exporter": "python",
   "pygments_lexer": "ipython3",
   "version": "3.6.5"
  }
 },
 "nbformat": 4,
 "nbformat_minor": 2
}
