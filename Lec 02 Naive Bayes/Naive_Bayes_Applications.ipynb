{
 "cells": [
  {
   "cell_type": "markdown",
   "metadata": {},
   "source": [
    "# 朴素贝叶斯与应用"
   ]
  },
  {
   "cell_type": "markdown",
   "metadata": {},
   "source": [
    "## 1.贝叶斯理论简单回顾"
   ]
  },
  {
   "cell_type": "markdown",
   "metadata": {},
   "source": [
    "在我们有一大堆样本（包含**特征**和**类别**）的时候，我们非常容易通过统计得到$p(特征|类别)$。"
   ]
  },
  {
   "cell_type": "markdown",
   "metadata": {},
   "source": [
    "$$p(x)p(y|x) = p(y)p(x|y)$$"
   ]
  },
  {
   "cell_type": "markdown",
   "metadata": {},
   "source": [
    "变化公式得到：\n",
    "$$p(特征)p(类别|特征) = p(类别)p(特征|类别)$$$$p(类别|特征) = \\frac{p(类别)p(特征|类别)}{p(特征)}$$"
   ]
  },
  {
   "cell_type": "markdown",
   "metadata": {},
   "source": [
    "## 2.独立假设"
   ]
  },
  {
   "cell_type": "markdown",
   "metadata": {},
   "source": [
    "<p>看起来很简单，但实际上，你的特征可能是很多维的</p>\n",
    "$$p(features|class) = p({f_0, f_1, \\ldots ,f_n}|c)$$<p>就算是2个维度吧，可以简单写成</p>\n",
    "$$p({f_0, f_1}|c) = p(f_1|c, f_0)p(f_0|c)$$<p>这时候我们加一个特别牛逼的假设：特征之间是独立的。这样就得到了</p>\n",
    "$$p({f_0, f_1}|c) = p(f_1|c)p(f_0|c)$$<p>其实也就是：</p>\n",
    "$$p({f_0, f_1, \\ldots, f_n}|c) = \\Pi^n_i p(f_i|c)$$"
   ]
  },
  {
   "cell_type": "markdown",
   "metadata": {},
   "source": [
    "## 3.贝叶斯分类器"
   ]
  },
  {
   "cell_type": "markdown",
   "metadata": {},
   "source": [
    "<p>OK，回到机器学习，其实我们就是对每个类别计算一个概率$p(c_i)$，然后再计算所有特征的条件概率$p(f_j|c_i)$，那么分类的时候我们就是依据贝叶斯找一个最可能的类别：</p>\n",
    "$$p(class_i|{f_0, f_1, \\ldots, f_n})= \\frac{p(class_i)}{p({f_0, f_1, \\ldots, f_n})} \\Pi^n_j p(f_j|c_i)$$"
   ]
  },
  {
   "cell_type": "markdown",
   "metadata": {},
   "source": [
    "## 4. 文本分类问题"
   ]
  },
  {
   "cell_type": "markdown",
   "metadata": {},
   "source": [
    "下面我们来看一个文本分类问题，经典的新闻主题分类，用朴素贝叶斯怎么做。"
   ]
  },
  {
   "cell_type": "code",
   "execution_count": 3,
   "metadata": {},
   "outputs": [],
   "source": [
    "# coding:utf-8\n",
    "import os\n",
    "import time\n",
    "import random\n",
    "import jieba\n",
    "import nltk\n",
    "import sklearn\n",
    "from sklearn.naive_bayes import MultinomialNB\n",
    "import numpy as np\n",
    "import pylab as pl\n",
    "import matplotlib.pyplot as plt"
   ]
  },
  {
   "cell_type": "code",
   "execution_count": null,
   "metadata": {},
   "outputs": [],
   "source": [
    "def make_word_set(words_file):\n",
    "    '''\n",
    "    \n",
    "    '''\n",
    "    words_set = set()\n",
    "    with open(words_file, 'r') as fp:\n",
    "        for line in fp.readlines():\n",
    "            "
   ]
  },
  {
   "cell_type": "code",
   "execution_count": null,
   "metadata": {},
   "outputs": [],
   "source": []
  },
  {
   "cell_type": "markdown",
   "metadata": {},
   "source": []
  },
  {
   "cell_type": "markdown",
   "metadata": {},
   "source": []
  },
  {
   "cell_type": "markdown",
   "metadata": {},
   "source": []
  }
 ],
 "metadata": {
  "kernelspec": {
   "display_name": "Python 3",
   "language": "python",
   "name": "python3"
  },
  "language_info": {
   "codemirror_mode": {
    "name": "ipython",
    "version": 3
   },
   "file_extension": ".py",
   "mimetype": "text/x-python",
   "name": "python",
   "nbconvert_exporter": "python",
   "pygments_lexer": "ipython3",
   "version": "3.6.5"
  }
 },
 "nbformat": 4,
 "nbformat_minor": 2
}
