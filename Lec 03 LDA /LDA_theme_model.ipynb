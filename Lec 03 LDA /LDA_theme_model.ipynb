{
 "cells": [
  {
   "cell_type": "markdown",
   "metadata": {},
   "source": [
    "# LDA主题模型"
   ]
  },
  {
   "cell_type": "markdown",
   "metadata": {},
   "source": [
    "主题模型是一个我们在自然语言处理中比较火的话题。"
   ]
  },
  {
   "cell_type": "markdown",
   "metadata": {},
   "source": [
    "## 主要内容：\n",
    "- 主题模型理论\n",
    "    - 直观版（直觉）\n",
    "    - 标准版（伪代码）\n",
    "    - 公式版（公式及所有概念）\n",
    "   \n",
    "- 实战\n",
    "    - 项目【一眼看穿\"希拉里邮件门\"】"
   ]
  },
  {
   "cell_type": "markdown",
   "metadata": {},
   "source": [
    "---"
   ]
  },
  {
   "cell_type": "markdown",
   "metadata": {},
   "source": [
    "## 1. 什么是主题模型？"
   ]
  },
  {
   "cell_type": "markdown",
   "metadata": {},
   "source": [
    "文章的文本主题分类：\n",
    "<img src='./images/theme01.png' width='50%'/>"
   ]
  },
  {
   "cell_type": "markdown",
   "metadata": {},
   "source": [
    "### 理论解释：\n",
    "理解整个过程，涉及到比较复杂的数学推导。\n",
    "一般来说，从公式1一直推导到公式100，大部分同学会在公式10的时候就卡住。\n",
    "\n",
    "所以，针对主题模型，本节内容用3个不同的形式讲解，从简单到复杂。"
   ]
  },
  {
   "cell_type": "markdown",
   "metadata": {},
   "source": [
    "### 1.直观版\n",
    "假设某企业想要招聘一个工程师，他们收到了一大把的简历，他们想直接通过简历来看谁是大牛，谁是菜逼？\n"
   ]
  },
  {
   "cell_type": "markdown",
   "metadata": {},
   "source": [
    "<img src='./images/resume.png' width='70%'/>"
   ]
  },
  {
   "cell_type": "markdown",
   "metadata": {},
   "source": [
    "这三个要素，构成了这家企业的人力总监判断的基础：\n",
    "\n",
    "<img src='./images/3elements.png' width='20%'/>"
   ]
  },
  {
   "cell_type": "markdown",
   "metadata": {},
   "source": [
    "这位⼈人⼒力力总监要做的事是：\n",
    "\n",
    "拿出⼀一份份简历，  \n",
    "记录下每份简历包含的特征，  \n",
    "然⽽而，他并不不知道，这⼀一切代表着什什么。  \n",
    "于是他开始猜，  \n",
    "拿起⼀份简历A，  \n",
    "他看到⾥里里⾯面说A参加过七⽉月课程，  \n",
    "他就猜这位童鞋的⽔水平应该很⾼高，⼋八成应该是个好⼯工程师。   \n",
    "但是他⼜又看到A的学历只是⼩小学毕业，⼼心⾥里里⼜又有了了两成的担忧。   \n",
    "他⼜又看到B，...   \n",
    "⼜又看到C, ...  \n",
    "等等...  "
   ]
  },
  {
   "cell_type": "markdown",
   "metadata": {},
   "source": [
    "LDA的过程，符合人类的认知过程，都是不断地尝试。"
   ]
  },
  {
   "cell_type": "markdown",
   "metadata": {},
   "source": [
    "<img src='./images/skirt.png' width='90%'/>"
   ]
  },
  {
   "cell_type": "markdown",
   "metadata": {},
   "source": [
    "久经沙场之后，老司机人力总监掌握了如下信息：\n",
    "\n",
    "对于是不是优秀程序员的分类，它通过人头统计大概有了数。\n",
    "\n",
    "这让他在以后看到新简历的时候，一眼就知道他是不是个优秀程序员。\n",
    "\n",
    "**对于每个特征C，他也能说出大概百分之多少的人拥有特征C可以说明他们是优秀的程序员。**\n",
    "\n"
   ]
  },
  {
   "cell_type": "markdown",
   "metadata": {},
   "source": [
    "总结成公式就是：\n",
    "\n",
    "<img src='./images/formula01.png' width='70%'/>"
   ]
  },
  {
   "cell_type": "markdown",
   "metadata": {},
   "source": [
    "#### 例子与理论的关系：\n",
    "\n",
    "<img src='./images/theme02.png' width='70%'/>"
   ]
  },
  {
   "cell_type": "markdown",
   "metadata": {},
   "source": [
    "#### 什么是LDA?\n",
    "LDA(Latent Dirichlet Allocation)：   \n",
    "\n",
    "是一种**无监督的贝叶斯模型**。\n",
    "\n",
    "是一种**主题模型**，它可以将文档集中每篇文档的主题按照概率分布的形式给出。\n",
    "\n",
    "同时，它是一种**无监督学习算法**，在训练时不需要手工标注的训练集，需要的仅仅是文档集以及制定主题的数量k即可。\n",
    "\n",
    "此外，LDA的另一个优点则是，**对于每一个主题均可找出一些词语来描述它。**\n",
    "\n",
    "是一种**典型的词袋模型**，即它认为一篇文档是由一组词构成的一个集合，词与词之间没有顺序以及先后的关系。  \n",
    "\n",
    "一篇文档可以**包含多个主题**，文档中每一个词都由其中的一个主题生成。"
   ]
  },
  {
   "cell_type": "markdown",
   "metadata": {},
   "source": [
    "#### 什么是贝叶斯模型？\n",
    "理论：\n",
    "$$P(\\theta, y) = P(\\theta)P(y|\\theta)$$\n"
   ]
  },
  {
   "cell_type": "markdown",
   "metadata": {},
   "source": [
    "$$p(\\theta | y) =\\frac{P(\\theta, y)}{P(y)} =\\frac{P(y|\\theta)P(\\theta)}{P(y)}$$"
   ]
  },
  {
   "cell_type": "markdown",
   "metadata": {},
   "source": [
    "模型：\n",
    "- 用概率作为【可信度】\n",
    "- 每次看到新数据，就更新【可信度】\n",
    "- 需要一个模型来解释数据的生成"
   ]
  },
  {
   "cell_type": "markdown",
   "metadata": {},
   "source": []
  },
  {
   "cell_type": "markdown",
   "metadata": {},
   "source": []
  },
  {
   "cell_type": "markdown",
   "metadata": {},
   "source": []
  },
  {
   "cell_type": "markdown",
   "metadata": {},
   "source": []
  },
  {
   "cell_type": "markdown",
   "metadata": {},
   "source": []
  },
  {
   "cell_type": "markdown",
   "metadata": {},
   "source": []
  },
  {
   "cell_type": "markdown",
   "metadata": {},
   "source": []
  },
  {
   "cell_type": "markdown",
   "metadata": {},
   "source": []
  },
  {
   "cell_type": "markdown",
   "metadata": {},
   "source": []
  },
  {
   "cell_type": "markdown",
   "metadata": {},
   "source": []
  },
  {
   "cell_type": "markdown",
   "metadata": {},
   "source": []
  },
  {
   "cell_type": "markdown",
   "metadata": {},
   "source": []
  },
  {
   "cell_type": "markdown",
   "metadata": {},
   "source": []
  },
  {
   "cell_type": "markdown",
   "metadata": {},
   "source": []
  },
  {
   "cell_type": "markdown",
   "metadata": {},
   "source": []
  },
  {
   "cell_type": "markdown",
   "metadata": {},
   "source": []
  },
  {
   "cell_type": "markdown",
   "metadata": {},
   "source": []
  },
  {
   "cell_type": "markdown",
   "metadata": {},
   "source": []
  },
  {
   "cell_type": "markdown",
   "metadata": {},
   "source": []
  },
  {
   "cell_type": "markdown",
   "metadata": {},
   "source": []
  },
  {
   "cell_type": "markdown",
   "metadata": {},
   "source": []
  },
  {
   "cell_type": "markdown",
   "metadata": {},
   "source": []
  },
  {
   "cell_type": "markdown",
   "metadata": {},
   "source": []
  },
  {
   "cell_type": "markdown",
   "metadata": {},
   "source": []
  },
  {
   "cell_type": "markdown",
   "metadata": {},
   "source": []
  },
  {
   "cell_type": "markdown",
   "metadata": {},
   "source": []
  }
 ],
 "metadata": {
  "kernelspec": {
   "display_name": "Python 3",
   "language": "python",
   "name": "python3"
  },
  "language_info": {
   "codemirror_mode": {
    "name": "ipython",
    "version": 3
   },
   "file_extension": ".py",
   "mimetype": "text/x-python",
   "name": "python",
   "nbconvert_exporter": "python",
   "pygments_lexer": "ipython3",
   "version": "3.6.5"
  }
 },
 "nbformat": 4,
 "nbformat_minor": 2
}
